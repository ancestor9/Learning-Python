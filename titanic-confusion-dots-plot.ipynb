{
 "cells": [
  {
   "cell_type": "markdown",
   "metadata": {},
   "source": [
    "## Titanic with the Confusion-Dots plot\n",
    "(https://www.kaggle.com/dan3dewey/titanic-confusion-dots-plot)\n",
    "\n",
    "Try some of the SciKit classifier models on the Titanic data.<br>\n",
    "Demonstrate the **Confusion Dots plot** which is essentially a visual confusion matrix;<br>\n",
    "the confusion-dots routine, `y_yhat_plots()`, was taken from the file chirp_roc_lib.py in the github repo at:<br> \n",
    "https://github.com/dan3dewey/chirp-to-ROC"
   ]
  },
  {
   "cell_type": "markdown",
   "metadata": {},
   "source": [
    "## <a id=\"Index\">Index</a>\n",
    "Diary<br>\n",
    "<a href=\"#DataProcessing\">Reading and Processing csv Data Files</a><br>\n",
    "<a href=\"#NameFeats\">Features from Name</a><br>\n",
    "<a href=\"#FeatureSummary\">Summary of the Features</a><br>\n",
    "<br>\n",
    "<a href=\"#MachineLearning\">Machine Learning</a><br>\n",
    "<a href=\"#SetupData\">Select Features and get X,y Data</a><br>\n",
    "<br>\n",
    "<a href=\"#DefineModels\">Define the Models and Parameters</a><br>\n",
    "<br>\n",
    "<a href=\"#HyperSearch\">Do the Hyper-Parameter Search</a><br>\n",
    "<a href=\"#CVResults\">Grid Search CV Results</a><br>\n",
    "<br>\n",
    "<a href=\"#FeatureImportance\">Feature Importance</a><br>\n",
    "<a href=\"#EvaluateBest\">Evaluate Best Model</a><br>\n",
    "<b><a href=\"#ConfusionDots\">Confusion Dots and ROC plots</a></b><br>\n",
    "<br>\n",
    "<a href=\"#OutputKaggle\">Output Kaggle Predictions</a><br>\n",
    "<a href=\"#TheEnd\">The End</a><br>\n",
    "<br>"
   ]
  },
  {
   "cell_type": "markdown",
   "metadata": {},
   "source": [
    "## Diary\n",
    "(v1) LB=0.7655 Training=0.7867  Using the gender_submission file.<br>\n",
    "(v2) LB=0.7608 Training=0.7935  Using Logistic Regression. <br>\n",
    "(v3) LB=0.7703 Training=0.8002  LGR without Age and Fare. <br>\n",
    "Create 'one hot' versions of Sex: Sex_M and Sex_F (LR uses similar coef.s anyway); create a Fare_0 flag and set a Pclass-based nominal Fare for these; include Fare_log back in fit. LR C=10 is over-fit direction, C=0.1 underfit.<br>\n",
    "(v4) LB=0.7512 Training=0.7901  LGR: with Fare_0, Fare_log, Sex_M/F, no Age, C=1.0. <br>\n",
    "(v5) LB=0.7608 Training=0.7935  LGR: with Fare_0, Fare_log, Sex_M/F, no Age, change to C=0.1. <br>\n",
    "Add Age_log and Age_young, Age_old...<br>\n",
    "(v6) LB=0.7703 Training=0.8080  LGR: with Age_log,young,old, Fare_0, Fare_log, Sex_M/F; C=0.07 . <br>\n",
    "Adjust the ReLU levels for Age_young,old and add one-hot values of Embarked. Kind of the end for Logistic Regression, try different C values (in C order):<br>\n",
    "(v11) LB=0.7608 Training=0.8148  LGR: with Age_log,young,old, Fare_0,log, Sex_M/F, Embark_C,Q,S; C=2.0 .<br>\n",
    "(v7) LB=0.7608 Training=0.8137  LGR: with Age_log,young,old, Fare_0,log, Sex_M/F, Embark_C,Q,S; C=0.30 .<br>\n",
    "(v8) LB=0.7655 Training=0.8126  LGR: with Age_log,young,old, Fare_0,log, Sex_M/F, Embark_C,Q,S; C=0.07 .<br>\n",
    "(v9) LB=0.7655 Training=0.8159  LGR: with Age_log,young,old, Fare_0,log, Sex_M/F, Embark_C,Q,S; C=0.02 .<br>\n",
    "(v10) LB=0.7368 Training=0.7867  LGR: with Age_log,young,old, Fare_0,log, Sex_M/F, Embark_C,Q,S; C=0.010 .<br>\n",
    "Add in the Decision Tree Classifier and try some parameters for it:<br>\n",
    "(v12) LB=0.7655 Training=0.8373  **DTC**: with max_depth 5, min_samples_leaf 10, min_impurity_decrease 0.001.<br>\n",
    "Now with many hyper parameters, need to do Grid Search CV'ing to find the best hyper-parameters for the chosen model...<br>\n",
    "Borrow GSCV code from [my simple PetFinder kernel](https://www.kaggle.com/dan3dewey/simple-scikit-models-and-stacking)\n",
    " . <br>\n",
    "Find best Logistic Regression C parameter:<br>\n",
    "(v13) LB=0.7608 Training=0.8204, max-CV=0.8138(10-fold)  **LRG**: use 10 folds and find C ~ 0.04 gives best CV. <br>\n",
    "Find the best Random Forest Classifier parameters: <br>\n",
    "(v14) LB=0.7799 Training=0.8272,8383,8462, 75%-CV=0.8208,8230,8191(10-fold)  **RFC**: use 10 folds; depth=5, min_samp=2 seems best. <br>\n",
    "18 Apr 2019: Scale X (and Xkag) so that the X features have mean=0, std=1 (shouldn't affect the previous results, doing it toward trying SVC and MLP.) Replace Pclass with Pclass_1,2,3; limit Parch and SibSp to a max of 3. Make lists of FPs and FNs. v15A.<br>\n",
    "Include and find good parameters for the Gradient Boosting Classifier:<br>\n",
    "(v15) LB=0.7560 Training ~ 0.910, 75%-CV ~ 0.830(10-fold)  **GBC**: params 0.003-5-10-0.80 <br>\n",
    "(v16) LB=0.7847 Training ~ 0.847, 75%-CV ~ 0.820(10-fold)  **RFC**: params 5-0.001-2 <br>\n",
    "Reduce max_depth to 4 for the GBC and use larger min values:<br>\n",
    "(v17) LB=0.7895 Training ~ 0.844, 75%-CV ~ 0.826(10-fold)  **GBC**: max_depth=4, 0.003-20-85-0.80 <br>\n",
    "19 Apr 2019: Remove the Fare_log feature from v17: Train reduced a bit, but GSCV Test and Train are closer: <br>\n",
    "(v18) LB=0.7895 Training ~ 0.841, 75%-CV ~ 0.830(10-fold)  **GBC**: No Fare, max_depth=4, 0.003-20-85-0.80 <br>\n",
    "Use the average of the (k-1)/k split fit predictions:<br>\n",
    "(v19) LB=0.7847 Training ~ 0.845, 75%-CV ~ 0.826(10-fold)  **GBC**: Split-ave, No Fare, depth=4, 0.003-20-85-0.80 <br>\n",
    "Put the Fare_log back:<br>\n",
    "(v20) LB=0.7895 Training ~ 0.855, 75%-CV ~ 0.826(10-fold)  **GBC**: Split-ave, w/Fare_log, depth=4, 0.003-20-85-0.80 <br>\n",
    "Try SVC models too<br>\n",
    "(v21) LB=0.7703 Training ~ 0.840, 75%-CV ~ 0.831(10-fold) **SVC**: Split-ave, w/Fare_log, poly(3),2.5, 0.030<br>\n",
    "(v22) LB=0.7655 Training ~ 0.826, 75%-CV ~ 0.813(10-fold) **SVC**: Split-ave, w/Fare_log, rbf,  C=3.5, 0.025<br>\n",
    "And try MLP models...<br>\n",
    "(v23) LB=0.7560 Training ~ 0.836, 75%-CV ~ 0.821(10-fold) **MLP**: no Fare, (14,10,8) alpha,rate,momen.: 0.60-0.09-0.50 <br>\n",
    "OK, roll the dice one more time...<br>\n",
    "(v24) LB=0.7799 Training ~ 0.843, 75%-CV ~ 0.826(10-fold)  **GBC**: No Fare, max_depth=4, 0.003-20-85-0.80 <br>\n",
    "(v25) LB=0.7799 Training ~ 0.848, 75%-CV ~ 0.829(10-fold)  **GBC**: No Fare, max_depth=**5**, 0.003-20-85-0.80 <br>\n",
    "OK, only thing left to do is to see if the Name field can provide any useful 'signal'... Put that on back burner ;-) <br>\n",
    "(v26) LB=0.7799 Training ~ 0.86.5, 75%-CV ~ 0.83.2(10-fold)  **GBC**: with Fare, max_depth=**5**, 0.003-20-85-0.80 <br>\n",
    "Try to re-do v20:<br>\n",
    "(v27) LB=0.7847 Training ~ 0.862, 75%-CV ~ 0.829(10-fold)  **GBC**: Split-ave, w/Fare_log, depth=4, 0.003-20-85-0.80 <br>\n",
    "21 Apr 2019: Added \"violin plots\" for survival vs Age (or Fare_log) and Pclass; changed the NaN age from median to random in range 18 to 40 and/but set a \"NoAge\" flag for these - very low feature importance.<br>\n",
    "See if I can get something out of the Name field: Mr Master Mrs or Miss ?<br>\n",
    "Added one-hot features: Sex_Mr,Mrs,Miss,Master; redo v27 with these in place of Sex_M,F:<br>\n",
    "(v28) **LB=0.7942** Training ~ 0.864, 75%-CV ~ 0.829(10-fold)  **GBC**: Split-ave, w/Fare_log, depth=4, 0.003-20-85-0.80 <br>\n",
    "See how the MLP is doing:<br>\n",
    "(v29) LB=0.7703 Training ~ 0.848, 75%-CV ~ 0.827(10-fold)  **MLP**: Split-ave, w/Fare_log, (14,10,8) alpha,rate,momen.: 0.60-0.09-0.50 <br>\n",
    "24 Apr 2019: Add/use two simple LastName-based features: the number of characters and the fraction of vowels in the last name...<br>\n",
    "(v30) LB=0.7895 Training ~ 0.861, 75%-CV ~ 0.829(10-fold)  **GBC**: Split-ave, w/Fare_log, depth=4, 0.003-20-85-0.80 <br>\n",
    "(v31) LB=0.7416 Training ~ 0.852, 75%-CV ~ 0.828(10-fold)  **MLP**: Split-ave, w/Fare_log, (14,10,8) alpha,rate,momen.: 0.60-0.09-0.50 <br>\n",
    "Add XGBClassifier to the models... Similar to GBC?<br>\n",
    "(v32) LB=0.7656 Training ~ 0.909, 75%-CV ~ 0.833(10-fold)  **XGB**: Split-ave, w/Fare_log, depth=8, lrn-rate=0.08, etc.<br> \n",
    "Use lower depth:<br>\n",
    "(v33) LB=0.7560 Training ~ 0.866, 75%-CV ~ 0.827(10-fold)  **XGB**: Split-ave, w/Fare_log, depth=4, lrn-rate=0.08, etc.<br>\n",
    "Fix params and use only n_estimators=75:<br>\n",
    "(v34) LB=0.79425 Training ~ 0.863, 75%-CV ~ 0.828(10-fold)  **XGB**: Split-ave, w/Fare_log, depth=4, lrn-rate=0.08, etc.<br>\n",
    "The 75 in v34 was chosen by looking at the error vs n_estimators and picking a value where the performance starts to plateau. <br>\n",
    "There is a lot more to learn about using XGB, e.g., see: [Avoid Overfitting ... XGBoost ...](https://machinelearningmastery.com/avoid-overfitting-by-early-stopping-with-xgboost-in-python/) .<br>\n",
    "For fun and a nice plot, re-run v34 with several values of learning_rate and many in n_estimators.\n",
    "Since the runs are random (the random seed is not fixed) not sure which learning_rate will be the best, let's see:<br>\n",
    "(v35) LB=0.---- Training ~ 0.864, 75%-CV ~ 0.828(10-fold)  **XGB**: Split-ave, w/Fare_log, depth=4, lrn-rate=0.01,0.03,0.08, etc.<br>\n"
   ]
  },
  {
   "cell_type": "markdown",
   "metadata": {},
   "source": [
    "## <a id=\"DataProcessing\">Reading and Processing csv Data Files</a>\n",
    "Back to <a href=\"#Index\">Index</a>"
   ]
  },
  {
   "cell_type": "code",
   "execution_count": 99,
   "metadata": {},
   "outputs": [],
   "source": [
    "from IPython.core.interactiveshell import InteractiveShell\n",
    "InteractiveShell.ast_node_interactivity = 'all'"
   ]
  },
  {
   "cell_type": "code",
   "execution_count": 100,
   "metadata": {},
   "outputs": [],
   "source": [
    "LOCATION_KAGGLE = True\n",
    "verbose_max = 1  # limit verbosity\n",
    "#\n",
    "out_dir = \".\"\n",
    "version_str = \"v34\"\n",
    "SHOW_EDA = True\n",
    "USE_SPLIT_AVE = True"
   ]
  },
  {
   "cell_type": "code",
   "execution_count": 101,
   "metadata": {},
   "outputs": [],
   "source": [
    "from IPython.core.interactiveshell import InteractiveShell\n",
    "InteractiveShell.ast_node_interactivity = 'all'"
   ]
  },
  {
   "cell_type": "code",
   "execution_count": 109,
   "metadata": {
    "_cell_guid": "b1076dfc-b9ad-4769-8c92-a6c4dae69d19",
    "_kg_hide-input": false,
    "_uuid": "8f2839f25d086af736a60e9eeb907d3b93b6e0e5"
   },
   "outputs": [],
   "source": [
    "import numpy as np\n",
    "import pandas as pd\n",
    "import time\n",
    "import matplotlib.pyplot as plt\n",
    "\n",
    "import os\n",
    "##print(os.listdir(\"../input\"))\n",
    "\n",
    "from time import time\n",
    "from time import strftime"
   ]
  },
  {
   "cell_type": "code",
   "execution_count": 110,
   "metadata": {
    "_cell_guid": "79c7e3d0-c299-4dcb-8224-4455121ee9b0",
    "_uuid": "d629ff2d2480ee46fbb7e2d37f6b5fab8052498a"
   },
   "outputs": [],
   "source": [
    "# Read in the training and test data\n",
    "df_train = pd.read_csv(\"C:/Users/NFSI291/1A1A/data/train.csv\")\n",
    "df_test = pd.read_csv(\"C:/Users/NFSI291/1A1A/data/test.csv\")\n",
    "\n",
    "# df_train = pd.read_csv(\"D:/Python/Python for data analysis-book/datasets/titanic/train.csv\")\n",
    "# df_test = pd.read_csv(\"D:/Python/Python for data analysis-book/datasets/titanic/test.csv\")\n"
   ]
  },
  {
   "cell_type": "markdown",
   "metadata": {},
   "source": [
    "## 변수(feature, variable)\t정의\t설명\t타입\n",
    "- survival\t생존여부\ttarget label 임. 1, 0 으로 표현됨\tinteger\n",
    "- Pclass\t티켓의 클래스\t1 = 1st, 2 = 2nd, 3 = 3rd 클래스로 나뉘며 categorical feature\tinteger\n",
    "- sex\t성별\tmale, female 로 구분되며 binary\tstring\n",
    "- Age\t나이\tcontinuous\tinteger\n",
    "- sibSp\t함께 탑승한 형제와 배우자의 수\tquantitative\tinteger\n",
    "- parch\t함께 탑승한 부모, 아이의 수\tquantitative\tinteger\n",
    "- ticket\t티켓 번호\talphabat + integer\tstring\n",
    "- fare\t탑승료\tcontinuous\tfloat\n",
    "- cabin\t객실 번호\talphabat + integer\tstring\n",
    "- embared\t탑승 항구\tC = Cherbourg, Q = Queenstown, S = Southampton\tstring"
   ]
  },
  {
   "cell_type": "code",
   "execution_count": 111,
   "metadata": {},
   "outputs": [
    {
     "data": {
      "text/html": [
       "<div>\n",
       "<style scoped>\n",
       "    .dataframe tbody tr th:only-of-type {\n",
       "        vertical-align: middle;\n",
       "    }\n",
       "\n",
       "    .dataframe tbody tr th {\n",
       "        vertical-align: top;\n",
       "    }\n",
       "\n",
       "    .dataframe thead th {\n",
       "        text-align: right;\n",
       "    }\n",
       "</style>\n",
       "<table border=\"1\" class=\"dataframe\">\n",
       "  <thead>\n",
       "    <tr style=\"text-align: right;\">\n",
       "      <th></th>\n",
       "      <th>PassengerId</th>\n",
       "      <th>Survived</th>\n",
       "      <th>Pclass</th>\n",
       "      <th>Age</th>\n",
       "      <th>SibSp</th>\n",
       "      <th>Parch</th>\n",
       "      <th>Fare</th>\n",
       "    </tr>\n",
       "  </thead>\n",
       "  <tbody>\n",
       "    <tr>\n",
       "      <td>count</td>\n",
       "      <td>891.000000</td>\n",
       "      <td>891.000000</td>\n",
       "      <td>891.000000</td>\n",
       "      <td>714.000000</td>\n",
       "      <td>891.000000</td>\n",
       "      <td>891.000000</td>\n",
       "      <td>891.000000</td>\n",
       "    </tr>\n",
       "    <tr>\n",
       "      <td>mean</td>\n",
       "      <td>446.000000</td>\n",
       "      <td>0.383838</td>\n",
       "      <td>2.308642</td>\n",
       "      <td>29.699118</td>\n",
       "      <td>0.523008</td>\n",
       "      <td>0.381594</td>\n",
       "      <td>32.204208</td>\n",
       "    </tr>\n",
       "    <tr>\n",
       "      <td>std</td>\n",
       "      <td>257.353842</td>\n",
       "      <td>0.486592</td>\n",
       "      <td>0.836071</td>\n",
       "      <td>14.526497</td>\n",
       "      <td>1.102743</td>\n",
       "      <td>0.806057</td>\n",
       "      <td>49.693429</td>\n",
       "    </tr>\n",
       "    <tr>\n",
       "      <td>min</td>\n",
       "      <td>1.000000</td>\n",
       "      <td>0.000000</td>\n",
       "      <td>1.000000</td>\n",
       "      <td>0.420000</td>\n",
       "      <td>0.000000</td>\n",
       "      <td>0.000000</td>\n",
       "      <td>0.000000</td>\n",
       "    </tr>\n",
       "    <tr>\n",
       "      <td>25%</td>\n",
       "      <td>223.500000</td>\n",
       "      <td>0.000000</td>\n",
       "      <td>2.000000</td>\n",
       "      <td>20.125000</td>\n",
       "      <td>0.000000</td>\n",
       "      <td>0.000000</td>\n",
       "      <td>7.910400</td>\n",
       "    </tr>\n",
       "    <tr>\n",
       "      <td>50%</td>\n",
       "      <td>446.000000</td>\n",
       "      <td>0.000000</td>\n",
       "      <td>3.000000</td>\n",
       "      <td>28.000000</td>\n",
       "      <td>0.000000</td>\n",
       "      <td>0.000000</td>\n",
       "      <td>14.454200</td>\n",
       "    </tr>\n",
       "    <tr>\n",
       "      <td>75%</td>\n",
       "      <td>668.500000</td>\n",
       "      <td>1.000000</td>\n",
       "      <td>3.000000</td>\n",
       "      <td>38.000000</td>\n",
       "      <td>1.000000</td>\n",
       "      <td>0.000000</td>\n",
       "      <td>31.000000</td>\n",
       "    </tr>\n",
       "    <tr>\n",
       "      <td>max</td>\n",
       "      <td>891.000000</td>\n",
       "      <td>1.000000</td>\n",
       "      <td>3.000000</td>\n",
       "      <td>80.000000</td>\n",
       "      <td>8.000000</td>\n",
       "      <td>6.000000</td>\n",
       "      <td>512.329200</td>\n",
       "    </tr>\n",
       "  </tbody>\n",
       "</table>\n",
       "</div>"
      ],
      "text/plain": [
       "       PassengerId    Survived      Pclass         Age       SibSp  \\\n",
       "count   891.000000  891.000000  891.000000  714.000000  891.000000   \n",
       "mean    446.000000    0.383838    2.308642   29.699118    0.523008   \n",
       "std     257.353842    0.486592    0.836071   14.526497    1.102743   \n",
       "min       1.000000    0.000000    1.000000    0.420000    0.000000   \n",
       "25%     223.500000    0.000000    2.000000   20.125000    0.000000   \n",
       "50%     446.000000    0.000000    3.000000   28.000000    0.000000   \n",
       "75%     668.500000    1.000000    3.000000   38.000000    1.000000   \n",
       "max     891.000000    1.000000    3.000000   80.000000    8.000000   \n",
       "\n",
       "            Parch        Fare  \n",
       "count  891.000000  891.000000  \n",
       "mean     0.381594   32.204208  \n",
       "std      0.806057   49.693429  \n",
       "min      0.000000    0.000000  \n",
       "25%      0.000000    7.910400  \n",
       "50%      0.000000   14.454200  \n",
       "75%      0.000000   31.000000  \n",
       "max      6.000000  512.329200  "
      ]
     },
     "execution_count": 111,
     "metadata": {},
     "output_type": "execute_result"
    },
    {
     "data": {
      "text/plain": [
       "((891, 12), (418, 11))"
      ]
     },
     "execution_count": 111,
     "metadata": {},
     "output_type": "execute_result"
    },
    {
     "data": {
      "text/html": [
       "<div>\n",
       "<style scoped>\n",
       "    .dataframe tbody tr th:only-of-type {\n",
       "        vertical-align: middle;\n",
       "    }\n",
       "\n",
       "    .dataframe tbody tr th {\n",
       "        vertical-align: top;\n",
       "    }\n",
       "\n",
       "    .dataframe thead th {\n",
       "        text-align: right;\n",
       "    }\n",
       "</style>\n",
       "<table border=\"1\" class=\"dataframe\">\n",
       "  <thead>\n",
       "    <tr style=\"text-align: right;\">\n",
       "      <th></th>\n",
       "      <th>PassengerId</th>\n",
       "      <th>Pclass</th>\n",
       "      <th>Name</th>\n",
       "      <th>Sex</th>\n",
       "      <th>Age</th>\n",
       "      <th>SibSp</th>\n",
       "      <th>Parch</th>\n",
       "      <th>Ticket</th>\n",
       "      <th>Fare</th>\n",
       "      <th>Cabin</th>\n",
       "      <th>Embarked</th>\n",
       "    </tr>\n",
       "  </thead>\n",
       "  <tbody>\n",
       "    <tr>\n",
       "      <td>0</td>\n",
       "      <td>892</td>\n",
       "      <td>3</td>\n",
       "      <td>Kelly, Mr. James</td>\n",
       "      <td>male</td>\n",
       "      <td>34.5</td>\n",
       "      <td>0</td>\n",
       "      <td>0</td>\n",
       "      <td>330911</td>\n",
       "      <td>7.8292</td>\n",
       "      <td>NaN</td>\n",
       "      <td>Q</td>\n",
       "    </tr>\n",
       "    <tr>\n",
       "      <td>1</td>\n",
       "      <td>893</td>\n",
       "      <td>3</td>\n",
       "      <td>Wilkes, Mrs. James (Ellen Needs)</td>\n",
       "      <td>female</td>\n",
       "      <td>47.0</td>\n",
       "      <td>1</td>\n",
       "      <td>0</td>\n",
       "      <td>363272</td>\n",
       "      <td>7.0000</td>\n",
       "      <td>NaN</td>\n",
       "      <td>S</td>\n",
       "    </tr>\n",
       "    <tr>\n",
       "      <td>2</td>\n",
       "      <td>894</td>\n",
       "      <td>2</td>\n",
       "      <td>Myles, Mr. Thomas Francis</td>\n",
       "      <td>male</td>\n",
       "      <td>62.0</td>\n",
       "      <td>0</td>\n",
       "      <td>0</td>\n",
       "      <td>240276</td>\n",
       "      <td>9.6875</td>\n",
       "      <td>NaN</td>\n",
       "      <td>Q</td>\n",
       "    </tr>\n",
       "  </tbody>\n",
       "</table>\n",
       "</div>"
      ],
      "text/plain": [
       "   PassengerId  Pclass                              Name     Sex   Age  SibSp  \\\n",
       "0          892       3                  Kelly, Mr. James    male  34.5      0   \n",
       "1          893       3  Wilkes, Mrs. James (Ellen Needs)  female  47.0      1   \n",
       "2          894       2         Myles, Mr. Thomas Francis    male  62.0      0   \n",
       "\n",
       "   Parch  Ticket    Fare Cabin Embarked  \n",
       "0      0  330911  7.8292   NaN        Q  \n",
       "1      0  363272  7.0000   NaN        S  \n",
       "2      0  240276  9.6875   NaN        Q  "
      ]
     },
     "execution_count": 111,
     "metadata": {},
     "output_type": "execute_result"
    },
    {
     "data": {
      "text/html": [
       "<div>\n",
       "<style scoped>\n",
       "    .dataframe tbody tr th:only-of-type {\n",
       "        vertical-align: middle;\n",
       "    }\n",
       "\n",
       "    .dataframe tbody tr th {\n",
       "        vertical-align: top;\n",
       "    }\n",
       "\n",
       "    .dataframe thead th {\n",
       "        text-align: right;\n",
       "    }\n",
       "</style>\n",
       "<table border=\"1\" class=\"dataframe\">\n",
       "  <thead>\n",
       "    <tr style=\"text-align: right;\">\n",
       "      <th></th>\n",
       "      <th>PassengerId</th>\n",
       "      <th>Survived</th>\n",
       "      <th>Pclass</th>\n",
       "      <th>Name</th>\n",
       "      <th>Sex</th>\n",
       "      <th>Age</th>\n",
       "      <th>SibSp</th>\n",
       "      <th>Parch</th>\n",
       "      <th>Ticket</th>\n",
       "      <th>Fare</th>\n",
       "      <th>Cabin</th>\n",
       "      <th>Embarked</th>\n",
       "    </tr>\n",
       "  </thead>\n",
       "  <tbody>\n",
       "    <tr>\n",
       "      <td>0</td>\n",
       "      <td>1</td>\n",
       "      <td>0</td>\n",
       "      <td>3</td>\n",
       "      <td>Braund, Mr. Owen Harris</td>\n",
       "      <td>male</td>\n",
       "      <td>22.0</td>\n",
       "      <td>1</td>\n",
       "      <td>0</td>\n",
       "      <td>A/5 21171</td>\n",
       "      <td>7.2500</td>\n",
       "      <td>NaN</td>\n",
       "      <td>S</td>\n",
       "    </tr>\n",
       "    <tr>\n",
       "      <td>1</td>\n",
       "      <td>2</td>\n",
       "      <td>1</td>\n",
       "      <td>1</td>\n",
       "      <td>Cumings, Mrs. John Bradley (Florence Briggs Th...</td>\n",
       "      <td>female</td>\n",
       "      <td>38.0</td>\n",
       "      <td>1</td>\n",
       "      <td>0</td>\n",
       "      <td>PC 17599</td>\n",
       "      <td>71.2833</td>\n",
       "      <td>C85</td>\n",
       "      <td>C</td>\n",
       "    </tr>\n",
       "    <tr>\n",
       "      <td>2</td>\n",
       "      <td>3</td>\n",
       "      <td>1</td>\n",
       "      <td>3</td>\n",
       "      <td>Heikkinen, Miss. Laina</td>\n",
       "      <td>female</td>\n",
       "      <td>26.0</td>\n",
       "      <td>0</td>\n",
       "      <td>0</td>\n",
       "      <td>STON/O2. 3101282</td>\n",
       "      <td>7.9250</td>\n",
       "      <td>NaN</td>\n",
       "      <td>S</td>\n",
       "    </tr>\n",
       "  </tbody>\n",
       "</table>\n",
       "</div>"
      ],
      "text/plain": [
       "   PassengerId  Survived  Pclass  \\\n",
       "0            1         0       3   \n",
       "1            2         1       1   \n",
       "2            3         1       3   \n",
       "\n",
       "                                                Name     Sex   Age  SibSp  \\\n",
       "0                            Braund, Mr. Owen Harris    male  22.0      1   \n",
       "1  Cumings, Mrs. John Bradley (Florence Briggs Th...  female  38.0      1   \n",
       "2                             Heikkinen, Miss. Laina  female  26.0      0   \n",
       "\n",
       "   Parch            Ticket     Fare Cabin Embarked  \n",
       "0      0         A/5 21171   7.2500   NaN        S  \n",
       "1      0          PC 17599  71.2833   C85        C  \n",
       "2      0  STON/O2. 3101282   7.9250   NaN        S  "
      ]
     },
     "execution_count": 111,
     "metadata": {},
     "output_type": "execute_result"
    },
    {
     "data": {
      "text/plain": [
       "Index(['PassengerId', 'Survived', 'Pclass', 'Name', 'Sex', 'Age', 'SibSp',\n",
       "       'Parch', 'Ticket', 'Fare', 'Cabin', 'Embarked'],\n",
       "      dtype='object')"
      ]
     },
     "execution_count": 111,
     "metadata": {},
     "output_type": "execute_result"
    }
   ],
   "source": [
    "df_train.describe()\n",
    "df_train.shape, df_test.shape\n",
    "df_test.head(3)\n",
    "df_train.head(3)\n",
    "df_train.columns"
   ]
  },
  {
   "cell_type": "code",
   "execution_count": 114,
   "metadata": {},
   "outputs": [],
   "source": [
    "def Notnull_null_unique(df) :\n",
    "    df_notnull = pd.notnull(df).sum()\n",
    "    df_null = pd.isnull(df).sum()\n",
    "    df_unique = df.nunique()\n",
    "    tf = pd.concat([pd.concat([df_notnull, df_null], axis=1), df_unique], axis=1).reset_index()\n",
    "    tf = pd.DataFrame(tf.values, columns=['Feature_Name','Notnull','Null','Unique'])\n",
    "    tf = tf.sort_values('Notnull', ascending = False)\n",
    "    \n",
    "    return tf"
   ]
  },
  {
   "cell_type": "code",
   "execution_count": 115,
   "metadata": {},
   "outputs": [
    {
     "data": {
      "text/html": [
       "<div>\n",
       "<style scoped>\n",
       "    .dataframe tbody tr th:only-of-type {\n",
       "        vertical-align: middle;\n",
       "    }\n",
       "\n",
       "    .dataframe tbody tr th {\n",
       "        vertical-align: top;\n",
       "    }\n",
       "\n",
       "    .dataframe thead th {\n",
       "        text-align: right;\n",
       "    }\n",
       "</style>\n",
       "<table border=\"1\" class=\"dataframe\">\n",
       "  <thead>\n",
       "    <tr style=\"text-align: right;\">\n",
       "      <th></th>\n",
       "      <th>Feature_Name</th>\n",
       "      <th>Notnull</th>\n",
       "      <th>Null</th>\n",
       "      <th>Unique</th>\n",
       "    </tr>\n",
       "  </thead>\n",
       "  <tbody>\n",
       "    <tr>\n",
       "      <td>0</td>\n",
       "      <td>PassengerId</td>\n",
       "      <td>891</td>\n",
       "      <td>0</td>\n",
       "      <td>891</td>\n",
       "    </tr>\n",
       "    <tr>\n",
       "      <td>1</td>\n",
       "      <td>Survived</td>\n",
       "      <td>891</td>\n",
       "      <td>0</td>\n",
       "      <td>2</td>\n",
       "    </tr>\n",
       "    <tr>\n",
       "      <td>2</td>\n",
       "      <td>Pclass</td>\n",
       "      <td>891</td>\n",
       "      <td>0</td>\n",
       "      <td>3</td>\n",
       "    </tr>\n",
       "    <tr>\n",
       "      <td>3</td>\n",
       "      <td>Name</td>\n",
       "      <td>891</td>\n",
       "      <td>0</td>\n",
       "      <td>891</td>\n",
       "    </tr>\n",
       "    <tr>\n",
       "      <td>4</td>\n",
       "      <td>Sex</td>\n",
       "      <td>891</td>\n",
       "      <td>0</td>\n",
       "      <td>2</td>\n",
       "    </tr>\n",
       "    <tr>\n",
       "      <td>6</td>\n",
       "      <td>SibSp</td>\n",
       "      <td>891</td>\n",
       "      <td>0</td>\n",
       "      <td>7</td>\n",
       "    </tr>\n",
       "    <tr>\n",
       "      <td>7</td>\n",
       "      <td>Parch</td>\n",
       "      <td>891</td>\n",
       "      <td>0</td>\n",
       "      <td>7</td>\n",
       "    </tr>\n",
       "    <tr>\n",
       "      <td>8</td>\n",
       "      <td>Ticket</td>\n",
       "      <td>891</td>\n",
       "      <td>0</td>\n",
       "      <td>681</td>\n",
       "    </tr>\n",
       "    <tr>\n",
       "      <td>9</td>\n",
       "      <td>Fare</td>\n",
       "      <td>891</td>\n",
       "      <td>0</td>\n",
       "      <td>248</td>\n",
       "    </tr>\n",
       "    <tr>\n",
       "      <td>11</td>\n",
       "      <td>Embarked</td>\n",
       "      <td>889</td>\n",
       "      <td>2</td>\n",
       "      <td>3</td>\n",
       "    </tr>\n",
       "    <tr>\n",
       "      <td>5</td>\n",
       "      <td>Age</td>\n",
       "      <td>714</td>\n",
       "      <td>177</td>\n",
       "      <td>88</td>\n",
       "    </tr>\n",
       "    <tr>\n",
       "      <td>10</td>\n",
       "      <td>Cabin</td>\n",
       "      <td>204</td>\n",
       "      <td>687</td>\n",
       "      <td>147</td>\n",
       "    </tr>\n",
       "  </tbody>\n",
       "</table>\n",
       "</div>"
      ],
      "text/plain": [
       "   Feature_Name Notnull Null Unique\n",
       "0   PassengerId     891    0    891\n",
       "1      Survived     891    0      2\n",
       "2        Pclass     891    0      3\n",
       "3          Name     891    0    891\n",
       "4           Sex     891    0      2\n",
       "6         SibSp     891    0      7\n",
       "7         Parch     891    0      7\n",
       "8        Ticket     891    0    681\n",
       "9          Fare     891    0    248\n",
       "11     Embarked     889    2      3\n",
       "5           Age     714  177     88\n",
       "10        Cabin     204  687    147"
      ]
     },
     "execution_count": 115,
     "metadata": {},
     "output_type": "execute_result"
    }
   ],
   "source": [
    "Notnull_null_unique(df_train)"
   ]
  },
  {
   "cell_type": "markdown",
   "metadata": {},
   "source": [
    "# Change/Adjust/Make-new feature columns..."
   ]
  },
  {
   "cell_type": "markdown",
   "metadata": {},
   "source": [
    "# --- Pclass:"
   ]
  },
  {
   "cell_type": "code",
   "execution_count": 116,
   "metadata": {
    "_cell_guid": "79c7e3d0-c299-4dcb-8224-4455121ee9b0",
    "_uuid": "d629ff2d2480ee46fbb7e2d37f6b5fab8052498a"
   },
   "outputs": [],
   "source": [
    "# --- PassengerId: sequential number - ignore.\n",
    "# --- Survived:  the \"target\" values\n",
    "# Add a Survived column to the test df for uniformity:\n",
    "df_test['Survived'] = -1\n",
    "\n",
    "# Make one-hot versions\n",
    "for iclass in [1,2,3]:\n",
    "    df_train['Pclass_'+str(iclass)] = (df_train['Pclass'] == iclass).astype(int)\n",
    "    df_test['Pclass_'+str(iclass)] = (df_test['Pclass'] == iclass).astype(int)\n",
    "    \n",
    "# --- Name: will be processed in next cells."
   ]
  },
  {
   "cell_type": "markdown",
   "metadata": {},
   "source": [
    "# --- Sex: "
   ]
  },
  {
   "cell_type": "code",
   "execution_count": 117,
   "metadata": {
    "_cell_guid": "79c7e3d0-c299-4dcb-8224-4455121ee9b0",
    "_uuid": "d629ff2d2480ee46fbb7e2d37f6b5fab8052498a"
   },
   "outputs": [],
   "source": [
    "# from male/female to 1/0:\n",
    "##df_train['Sex'] = (df_train['Sex'] == \"male\").astype(int)\n",
    "##df_test['Sex'] = (df_test['Sex'] == \"male\").astype(int)\n",
    "# From male/female to \"one hot\" Sex_M, Sex_F:\n",
    "\n",
    "df_train['Sex_M'] = (df_train['Sex'] == \"male\").astype(int)\n",
    "df_train['Sex_F'] = (df_train['Sex'] == \"female\").astype(int)\n",
    "\n",
    "# --- Age: initially about 20% have NaN for age.\n",
    "#"
   ]
  },
  {
   "cell_type": "markdown",
   "metadata": {},
   "source": [
    "# --- Age: "
   ]
  },
  {
   "cell_type": "code",
   "execution_count": 118,
   "metadata": {},
   "outputs": [
    {
     "data": {
      "text/plain": [
       "<matplotlib.axes._subplots.AxesSubplot at 0x1afc4d70788>"
      ]
     },
     "execution_count": 118,
     "metadata": {},
     "output_type": "execute_result"
    },
    {
     "data": {
      "image/png": "[encoded data removed]",
      "text/plain": [
       "<Figure size 1440x216 with 1 Axes>"
      ]
     },
     "metadata": {
      "needs_background": "light"
     },
     "output_type": "display_data"
    }
   ],
   "source": [
    "df_train['Age'].value_counts(dropna=False).plot.bar(title='Age with Nan', grid=True, figsize=(20, 3))"
   ]
  },
  {
   "cell_type": "code",
   "execution_count": 119,
   "metadata": {},
   "outputs": [
    {
     "data": {
      "text/plain": [
       "<matplotlib.axes._subplots.AxesSubplot at 0x1afb8b8fc08>"
      ]
     },
     "execution_count": 119,
     "metadata": {},
     "output_type": "execute_result"
    },
    {
     "data": {
      "image/png": "[encoded data removed]",
      "text/plain": [
       "<Figure size 1440x216 with 1 Axes>"
      ]
     },
     "metadata": {
      "needs_background": "light"
     },
     "output_type": "display_data"
    }
   ],
   "source": [
    "df_train['Age'].sort_values().hist(figsize=(20, 3))"
   ]
  },
  {
   "cell_type": "code",
   "execution_count": 120,
   "metadata": {
    "_cell_guid": "79c7e3d0-c299-4dcb-8224-4455121ee9b0",
    "_uuid": "d629ff2d2480ee46fbb7e2d37f6b5fab8052498a"
   },
   "outputs": [],
   "source": [
    "# Do a little research:\n",
    "# Get a df of just the ones with NaN for Age\n",
    "##df_NaNage = df_train[~(df_train['Age'] == df_train['Age'])]\n",
    "# Average survival for these:\n",
    "##df_NaNage['Survived'].mean()\n",
    "# This gives survival rate of 0.2937 for the age = NaNs,\n",
    "# compared to 0.38 for all train samples.\n",
    "# Could use Name information (Mr, Mrs, Miss, Master) to assign an age...\n",
    "# Or flag the NaN ages by setting age to something like 99:\n",
    "\n",
    "df_train['Age'].fillna(99.0, inplace=True)\n",
    "df_test['Age'].fillna(99.0, inplace=True)\n",
    "\n",
    "# Add a new numeric column flagging that no age was given:\n",
    "\n",
    "df_train['NoAge'] = 1.0*(df_train['Age'] > 95.0)\n",
    "df_test['NoAge'] = 1.0*(df_test['Age'] > 95.0)"
   ]
  },
  {
   "cell_type": "code",
   "execution_count": 121,
   "metadata": {},
   "outputs": [
    {
     "data": {
      "text/html": [
       "<div>\n",
       "<style scoped>\n",
       "    .dataframe tbody tr th:only-of-type {\n",
       "        vertical-align: middle;\n",
       "    }\n",
       "\n",
       "    .dataframe tbody tr th {\n",
       "        vertical-align: top;\n",
       "    }\n",
       "\n",
       "    .dataframe thead th {\n",
       "        text-align: right;\n",
       "    }\n",
       "</style>\n",
       "<table border=\"1\" class=\"dataframe\">\n",
       "  <thead>\n",
       "    <tr style=\"text-align: right;\">\n",
       "      <th></th>\n",
       "      <th>Age</th>\n",
       "      <th>NoAge</th>\n",
       "    </tr>\n",
       "  </thead>\n",
       "  <tbody>\n",
       "    <tr>\n",
       "      <td>4</td>\n",
       "      <td>35.0</td>\n",
       "      <td>0.0</td>\n",
       "    </tr>\n",
       "    <tr>\n",
       "      <td>5</td>\n",
       "      <td>99.0</td>\n",
       "      <td>1.0</td>\n",
       "    </tr>\n",
       "    <tr>\n",
       "      <td>6</td>\n",
       "      <td>54.0</td>\n",
       "      <td>0.0</td>\n",
       "    </tr>\n",
       "  </tbody>\n",
       "</table>\n",
       "</div>"
      ],
      "text/plain": [
       "    Age  NoAge\n",
       "4  35.0    0.0\n",
       "5  99.0    1.0\n",
       "6  54.0    0.0"
      ]
     },
     "execution_count": 121,
     "metadata": {},
     "output_type": "execute_result"
    }
   ],
   "source": [
    "df_train[['Age', 'NoAge']][4:7].head(10)"
   ]
  },
  {
   "cell_type": "code",
   "execution_count": 122,
   "metadata": {},
   "outputs": [
    {
     "data": {
      "text/plain": [
       "Index(['PassengerId', 'Survived', 'Pclass', 'Name', 'Sex', 'Age', 'SibSp',\n",
       "       'Parch', 'Ticket', 'Fare', 'Cabin', 'Embarked', 'Pclass_1', 'Pclass_2',\n",
       "       'Pclass_3', 'Sex_M', 'Sex_F', 'NoAge'],\n",
       "      dtype='object')"
      ]
     },
     "execution_count": 122,
     "metadata": {},
     "output_type": "execute_result"
    }
   ],
   "source": [
    "df_train.columns"
   ]
  },
  {
   "cell_type": "code",
   "execution_count": 123,
   "metadata": {},
   "outputs": [
    {
     "data": {
      "text/html": [
       "<div>\n",
       "<style scoped>\n",
       "    .dataframe tbody tr th:only-of-type {\n",
       "        vertical-align: middle;\n",
       "    }\n",
       "\n",
       "    .dataframe tbody tr th {\n",
       "        vertical-align: top;\n",
       "    }\n",
       "\n",
       "    .dataframe thead th {\n",
       "        text-align: right;\n",
       "    }\n",
       "</style>\n",
       "<table border=\"1\" class=\"dataframe\">\n",
       "  <thead>\n",
       "    <tr style=\"text-align: right;\">\n",
       "      <th></th>\n",
       "      <th>PassengerId</th>\n",
       "      <th>Survived</th>\n",
       "      <th>Pclass</th>\n",
       "      <th>Name</th>\n",
       "      <th>Sex</th>\n",
       "      <th>Age</th>\n",
       "      <th>SibSp</th>\n",
       "      <th>Parch</th>\n",
       "      <th>Ticket</th>\n",
       "      <th>Fare</th>\n",
       "      <th>Cabin</th>\n",
       "      <th>Embarked</th>\n",
       "      <th>Pclass_1</th>\n",
       "      <th>Pclass_2</th>\n",
       "      <th>Pclass_3</th>\n",
       "      <th>Sex_M</th>\n",
       "      <th>Sex_F</th>\n",
       "      <th>NoAge</th>\n",
       "    </tr>\n",
       "  </thead>\n",
       "  <tbody>\n",
       "    <tr>\n",
       "      <td>0</td>\n",
       "      <td>1</td>\n",
       "      <td>0</td>\n",
       "      <td>3</td>\n",
       "      <td>Braund, Mr. Owen Harris</td>\n",
       "      <td>male</td>\n",
       "      <td>22.0</td>\n",
       "      <td>1</td>\n",
       "      <td>0</td>\n",
       "      <td>A/5 21171</td>\n",
       "      <td>7.2500</td>\n",
       "      <td>NaN</td>\n",
       "      <td>S</td>\n",
       "      <td>0</td>\n",
       "      <td>0</td>\n",
       "      <td>1</td>\n",
       "      <td>1</td>\n",
       "      <td>0</td>\n",
       "      <td>0.0</td>\n",
       "    </tr>\n",
       "    <tr>\n",
       "      <td>1</td>\n",
       "      <td>2</td>\n",
       "      <td>1</td>\n",
       "      <td>1</td>\n",
       "      <td>Cumings, Mrs. John Bradley (Florence Briggs Th...</td>\n",
       "      <td>female</td>\n",
       "      <td>38.0</td>\n",
       "      <td>1</td>\n",
       "      <td>0</td>\n",
       "      <td>PC 17599</td>\n",
       "      <td>71.2833</td>\n",
       "      <td>C85</td>\n",
       "      <td>C</td>\n",
       "      <td>1</td>\n",
       "      <td>0</td>\n",
       "      <td>0</td>\n",
       "      <td>0</td>\n",
       "      <td>1</td>\n",
       "      <td>0.0</td>\n",
       "    </tr>\n",
       "    <tr>\n",
       "      <td>2</td>\n",
       "      <td>3</td>\n",
       "      <td>1</td>\n",
       "      <td>3</td>\n",
       "      <td>Heikkinen, Miss. Laina</td>\n",
       "      <td>female</td>\n",
       "      <td>26.0</td>\n",
       "      <td>0</td>\n",
       "      <td>0</td>\n",
       "      <td>STON/O2. 3101282</td>\n",
       "      <td>7.9250</td>\n",
       "      <td>NaN</td>\n",
       "      <td>S</td>\n",
       "      <td>0</td>\n",
       "      <td>0</td>\n",
       "      <td>1</td>\n",
       "      <td>0</td>\n",
       "      <td>1</td>\n",
       "      <td>0.0</td>\n",
       "    </tr>\n",
       "  </tbody>\n",
       "</table>\n",
       "</div>"
      ],
      "text/plain": [
       "   PassengerId  Survived  Pclass  \\\n",
       "0            1         0       3   \n",
       "1            2         1       1   \n",
       "2            3         1       3   \n",
       "\n",
       "                                                Name     Sex   Age  SibSp  \\\n",
       "0                            Braund, Mr. Owen Harris    male  22.0      1   \n",
       "1  Cumings, Mrs. John Bradley (Florence Briggs Th...  female  38.0      1   \n",
       "2                             Heikkinen, Miss. Laina  female  26.0      0   \n",
       "\n",
       "   Parch            Ticket     Fare Cabin Embarked  Pclass_1  Pclass_2  \\\n",
       "0      0         A/5 21171   7.2500   NaN        S         0         0   \n",
       "1      0          PC 17599  71.2833   C85        C         1         0   \n",
       "2      0  STON/O2. 3101282   7.9250   NaN        S         0         0   \n",
       "\n",
       "   Pclass_3  Sex_M  Sex_F  NoAge  \n",
       "0         1      1      0    0.0  \n",
       "1         0      0      1    0.0  \n",
       "2         1      0      1    0.0  "
      ]
     },
     "execution_count": 123,
     "metadata": {},
     "output_type": "execute_result"
    }
   ],
   "source": [
    "df_train.head(3)"
   ]
  },
  {
   "cell_type": "code",
   "execution_count": 124,
   "metadata": {},
   "outputs": [
    {
     "data": {
      "text/html": [
       "<div>\n",
       "<style scoped>\n",
       "    .dataframe tbody tr th:only-of-type {\n",
       "        vertical-align: middle;\n",
       "    }\n",
       "\n",
       "    .dataframe tbody tr th {\n",
       "        vertical-align: top;\n",
       "    }\n",
       "\n",
       "    .dataframe thead th {\n",
       "        text-align: right;\n",
       "    }\n",
       "</style>\n",
       "<table border=\"1\" class=\"dataframe\">\n",
       "  <thead>\n",
       "    <tr style=\"text-align: right;\">\n",
       "      <th></th>\n",
       "      <th>PassengerId</th>\n",
       "      <th>Survived</th>\n",
       "      <th>Pclass</th>\n",
       "      <th>Name</th>\n",
       "      <th>Sex</th>\n",
       "      <th>Age</th>\n",
       "      <th>SibSp</th>\n",
       "      <th>Parch</th>\n",
       "      <th>Ticket</th>\n",
       "      <th>Fare</th>\n",
       "      <th>Cabin</th>\n",
       "      <th>Embarked</th>\n",
       "      <th>Pclass_1</th>\n",
       "      <th>Pclass_2</th>\n",
       "      <th>Pclass_3</th>\n",
       "      <th>Sex_M</th>\n",
       "      <th>Sex_F</th>\n",
       "      <th>NoAge</th>\n",
       "    </tr>\n",
       "  </thead>\n",
       "  <tbody>\n",
       "    <tr>\n",
       "      <td>2</td>\n",
       "      <td>3</td>\n",
       "      <td>1</td>\n",
       "      <td>3</td>\n",
       "      <td>Heikkinen, Miss. Laina</td>\n",
       "      <td>female</td>\n",
       "      <td>26.0</td>\n",
       "      <td>0</td>\n",
       "      <td>0</td>\n",
       "      <td>STON/O2. 3101282</td>\n",
       "      <td>7.925</td>\n",
       "      <td>NaN</td>\n",
       "      <td>S</td>\n",
       "      <td>0</td>\n",
       "      <td>0</td>\n",
       "      <td>1</td>\n",
       "      <td>0</td>\n",
       "      <td>1</td>\n",
       "      <td>0.0</td>\n",
       "    </tr>\n",
       "    <tr>\n",
       "      <td>3</td>\n",
       "      <td>4</td>\n",
       "      <td>1</td>\n",
       "      <td>1</td>\n",
       "      <td>Futrelle, Mrs. Jacques Heath (Lily May Peel)</td>\n",
       "      <td>female</td>\n",
       "      <td>35.0</td>\n",
       "      <td>1</td>\n",
       "      <td>0</td>\n",
       "      <td>113803</td>\n",
       "      <td>53.100</td>\n",
       "      <td>C123</td>\n",
       "      <td>S</td>\n",
       "      <td>1</td>\n",
       "      <td>0</td>\n",
       "      <td>0</td>\n",
       "      <td>0</td>\n",
       "      <td>1</td>\n",
       "      <td>0.0</td>\n",
       "    </tr>\n",
       "  </tbody>\n",
       "</table>\n",
       "</div>"
      ],
      "text/plain": [
       "   PassengerId  Survived  Pclass  \\\n",
       "2            3         1       3   \n",
       "3            4         1       1   \n",
       "\n",
       "                                           Name     Sex   Age  SibSp  Parch  \\\n",
       "2                        Heikkinen, Miss. Laina  female  26.0      0      0   \n",
       "3  Futrelle, Mrs. Jacques Heath (Lily May Peel)  female  35.0      1      0   \n",
       "\n",
       "             Ticket    Fare Cabin Embarked  Pclass_1  Pclass_2  Pclass_3  \\\n",
       "2  STON/O2. 3101282   7.925   NaN        S         0         0         1   \n",
       "3            113803  53.100  C123        S         1         0         0   \n",
       "\n",
       "   Sex_M  Sex_F  NoAge  \n",
       "2      0      1    0.0  \n",
       "3      0      1    0.0  "
      ]
     },
     "execution_count": 124,
     "metadata": {},
     "output_type": "execute_result"
    },
    {
     "data": {
      "text/html": [
       "<div>\n",
       "<style scoped>\n",
       "    .dataframe tbody tr th:only-of-type {\n",
       "        vertical-align: middle;\n",
       "    }\n",
       "\n",
       "    .dataframe tbody tr th {\n",
       "        vertical-align: top;\n",
       "    }\n",
       "\n",
       "    .dataframe thead th {\n",
       "        text-align: right;\n",
       "    }\n",
       "</style>\n",
       "<table border=\"1\" class=\"dataframe\">\n",
       "  <thead>\n",
       "    <tr style=\"text-align: right;\">\n",
       "      <th></th>\n",
       "      <th>Sex</th>\n",
       "      <th>Age</th>\n",
       "      <th>SibSp</th>\n",
       "      <th>Parch</th>\n",
       "      <th>Ticket</th>\n",
       "    </tr>\n",
       "  </thead>\n",
       "  <tbody>\n",
       "    <tr>\n",
       "      <td>2</td>\n",
       "      <td>female</td>\n",
       "      <td>26.0</td>\n",
       "      <td>0</td>\n",
       "      <td>0</td>\n",
       "      <td>STON/O2. 3101282</td>\n",
       "    </tr>\n",
       "    <tr>\n",
       "      <td>3</td>\n",
       "      <td>female</td>\n",
       "      <td>35.0</td>\n",
       "      <td>1</td>\n",
       "      <td>0</td>\n",
       "      <td>113803</td>\n",
       "    </tr>\n",
       "  </tbody>\n",
       "</table>\n",
       "</div>"
      ],
      "text/plain": [
       "      Sex   Age  SibSp  Parch            Ticket\n",
       "2  female  26.0      0      0  STON/O2. 3101282\n",
       "3  female  35.0      1      0            113803"
      ]
     },
     "execution_count": 124,
     "metadata": {},
     "output_type": "execute_result"
    },
    {
     "data": {
      "text/plain": [
       "26.0"
      ]
     },
     "execution_count": 124,
     "metadata": {},
     "output_type": "execute_result"
    }
   ],
   "source": [
    "df_train.loc[2:3, :]\n",
    "df_train.loc[2:3, 'Sex':'Ticket']\n",
    "df_train.loc[2, 'Age']"
   ]
  },
  {
   "cell_type": "code",
   "execution_count": 125,
   "metadata": {
    "_cell_guid": "79c7e3d0-c299-4dcb-8224-4455121ee9b0",
    "_uuid": "d629ff2d2480ee46fbb7e2d37f6b5fab8052498a"
   },
   "outputs": [],
   "source": [
    "# but for Logistic Regression better to set to the trains median value(?)\n",
    "##age_median = df_train['Age'].median()\n",
    "##df_train['Age'].fillna(age_median, inplace=True)\n",
    "##df_test['Age'].fillna(age_median, inplace=True)\n",
    "# Or randomly set the NoAge ones in the range 18 to 40:\n",
    "\n",
    "for inoage in df_train[df_train['NoAge'] == 1.0].index:\n",
    "    df_train.loc[inoage,'Age'] = int(18.0+(40.0-18.0)*np.random.rand())\n",
    "for inoage in df_test[df_test['NoAge'] == 1.0].index:\n",
    "    df_test.loc[inoage,'Age'] = int(18.0+(40.0-18.0)*np.random.rand())"
   ]
  },
  {
   "cell_type": "code",
   "execution_count": 126,
   "metadata": {},
   "outputs": [
    {
     "data": {
      "text/plain": [
       "<matplotlib.axes._subplots.AxesSubplot at 0x1afb441a908>"
      ]
     },
     "execution_count": 126,
     "metadata": {},
     "output_type": "execute_result"
    },
    {
     "data": {
      "image/png": "[encoded data removed]",
      "text/plain": [
       "<Figure size 1440x216 with 1 Axes>"
      ]
     },
     "metadata": {
      "needs_background": "light"
     },
     "output_type": "display_data"
    }
   ],
   "source": [
    "df_train['Age'].value_counts(dropna=False).plot.bar(title='Age with Nan', grid=True, figsize=(20, 3))"
   ]
  },
  {
   "cell_type": "code",
   "execution_count": 127,
   "metadata": {},
   "outputs": [
    {
     "data": {
      "text/plain": [
       "<matplotlib.axes._subplots.AxesSubplot at 0x1afc4fb2608>"
      ]
     },
     "execution_count": 127,
     "metadata": {},
     "output_type": "execute_result"
    },
    {
     "data": {
      "image/png": "[encoded data removed]",
      "text/plain": [
       "<Figure size 1440x216 with 1 Axes>"
      ]
     },
     "metadata": {
      "needs_background": "light"
     },
     "output_type": "display_data"
    }
   ],
   "source": [
    "df_train['Age'].sort_values(ascending=True).hist()"
   ]
  },
  {
   "cell_type": "markdown",
   "metadata": {},
   "source": [
    "### np.log(1.0+df_train['Age'])에서 1을 더하는 이유는 원자료값이 1이하인 값이 음수가 되는 것을 방지 0.92-> np.log취하면 -0.0833음수가 됨"
   ]
  },
  {
   "cell_type": "code",
   "execution_count": 128,
   "metadata": {
    "_cell_guid": "79c7e3d0-c299-4dcb-8224-4455121ee9b0",
    "_uuid": "d629ff2d2480ee46fbb7e2d37f6b5fab8052498a"
   },
   "outputs": [],
   "source": [
    "# OK, the Age NaNs are taken care of...\n",
    "\n",
    "# Make a log(Age): 지수함수의 역함수인 로그함수는 밑이 자연상수 e, 혹은 10, 또는 2 이냐에 따라서 np.log(x), np.log10(x), np.log2(x) 를 구분해서 사용합니다.\n",
    "df_train['Age_log'] = np.log(1.0+df_train['Age'])\n",
    "df_test['Age_log'] = np.log(1.0+df_test['Age'])"
   ]
  },
  {
   "cell_type": "code",
   "execution_count": 129,
   "metadata": {},
   "outputs": [
    {
     "data": {
      "text/plain": [
       "<matplotlib.axes._subplots.AxesSubplot at 0x1afc50048c8>"
      ]
     },
     "execution_count": 129,
     "metadata": {},
     "output_type": "execute_result"
    },
    {
     "data": {
      "image/png": "[encoded data removed]",
      "text/plain": [
       "<Figure size 1440x216 with 1 Axes>"
      ]
     },
     "metadata": {
      "needs_background": "light"
     },
     "output_type": "display_data"
    }
   ],
   "source": [
    "df_train['Age_log'].sort_values(ascending=True).hist()"
   ]
  },
  {
   "cell_type": "code",
   "execution_count": 130,
   "metadata": {},
   "outputs": [
    {
     "data": {
      "text/plain": [
       "<matplotlib.collections.PathCollection at 0x1afc50bdcc8>"
      ]
     },
     "execution_count": 130,
     "metadata": {},
     "output_type": "execute_result"
    },
    {
     "data": {
      "image/png": "[encoded data removed]",
      "text/plain": [
       "<Figure size 1440x216 with 1 Axes>"
      ]
     },
     "metadata": {
      "needs_background": "light"
     },
     "output_type": "display_data"
    }
   ],
   "source": [
    "plt.rcParams[\"figure.figsize\"] = (20,3)\n",
    "plt.scatter(df_train['Age'].index, df_train['Age'].sort_values(ascending=True), color='r', marker='o')"
   ]
  },
  {
   "cell_type": "code",
   "execution_count": 131,
   "metadata": {},
   "outputs": [
    {
     "data": {
      "text/plain": [
       "<matplotlib.collections.PathCollection at 0x1afc51a1308>"
      ]
     },
     "execution_count": 131,
     "metadata": {},
     "output_type": "execute_result"
    },
    {
     "data": {
      "image/png": "[encoded data removed]",
      "text/plain": [
       "<Figure size 1440x216 with 1 Axes>"
      ]
     },
     "metadata": {
      "needs_background": "light"
     },
     "output_type": "display_data"
    }
   ],
   "source": [
    "plt.scatter(df_train['Age_log'].index, df_train['Age_log'].sort_values(ascending=True), color='g', marker='o')"
   ]
  },
  {
   "cell_type": "markdown",
   "metadata": {},
   "source": [
    "## 19살 이하가 'Age_young' np.log값이 3이하이며 "
   ]
  },
  {
   "cell_type": "code",
   "execution_count": 132,
   "metadata": {},
   "outputs": [
    {
     "data": {
      "text/plain": [
       "<matplotlib.axes._subplots.AxesSubplot at 0x1afc5316e08>"
      ]
     },
     "execution_count": 132,
     "metadata": {},
     "output_type": "execute_result"
    },
    {
     "data": {
      "image/png": "[encoded data removed]",
      "text/plain": [
       "<Figure size 1440x216 with 1 Axes>"
      ]
     },
     "metadata": {
      "needs_background": "light"
     },
     "output_type": "display_data"
    }
   ],
   "source": [
    "(3.0 - df_train['Age_log']).hist()"
   ]
  },
  {
   "cell_type": "code",
   "execution_count": 133,
   "metadata": {
    "_cell_guid": "79c7e3d0-c299-4dcb-8224-4455121ee9b0",
    "_uuid": "d629ff2d2480ee46fbb7e2d37f6b5fab8052498a"
   },
   "outputs": [],
   "source": [
    "# Make Age_young, Age_old: a ReLU-ish on ends of age\n",
    "df_train['Age_young'] = (3.0 - df_train['Age_log'])\n",
    "df_train.loc[df_train['Age_young'] < 0.0, 'Age_young'] = 0.0\n",
    "df_train['Age_old'] = (df_train['Age_log'] - 3.8)\n",
    "df_train.loc[df_train['Age_old'] < 0.0, 'Age_old'] = 0.0\n",
    "\n",
    "# and for test\n",
    "df_test['Age_young'] = (3.0 - df_test['Age_log'])\n",
    "df_test.loc[df_test['Age_young'] < 0.0, 'Age_young'] = 0.0\n",
    "df_test['Age_old'] = (df_test['Age_log'] - 3.8)\n",
    "df_test.loc[df_test['Age_old'] < 0.0, 'Age_old'] = 0.0"
   ]
  },
  {
   "cell_type": "markdown",
   "metadata": {},
   "source": [
    "# --- SibSp and Parch :"
   ]
  },
  {
   "cell_type": "code",
   "execution_count": 134,
   "metadata": {},
   "outputs": [
    {
     "data": {
      "text/plain": [
       "(0    608\n",
       " 1    209\n",
       " 2     28\n",
       " 4     18\n",
       " 3     16\n",
       " 8      7\n",
       " 5      5\n",
       " Name: SibSp, dtype: int64, 0    678\n",
       " 1    118\n",
       " 2     80\n",
       " 5      5\n",
       " 3      5\n",
       " 4      4\n",
       " 6      1\n",
       " Name: Parch, dtype: int64)"
      ]
     },
     "execution_count": 134,
     "metadata": {},
     "output_type": "execute_result"
    }
   ],
   "source": [
    "df_train['SibSp'].value_counts(dropna=False), df_train['Parch'].value_counts(dropna=False)"
   ]
  },
  {
   "cell_type": "code",
   "execution_count": 135,
   "metadata": {
    "_cell_guid": "79c7e3d0-c299-4dcb-8224-4455121ee9b0",
    "_uuid": "d629ff2d2480ee46fbb7e2d37f6b5fab8052498a"
   },
   "outputs": [],
   "source": [
    "# Try limiting these to just 0, 1, 2, 3, 4 :\n",
    "cols = ['SibSp','Parch']\n",
    "for col in cols:\n",
    "    df_train.loc[(df_train[col] > 4), col] = 4"
   ]
  },
  {
   "cell_type": "code",
   "execution_count": 136,
   "metadata": {},
   "outputs": [
    {
     "data": {
      "text/plain": [
       "(0    608\n",
       " 1    209\n",
       " 4     30\n",
       " 2     28\n",
       " 3     16\n",
       " Name: SibSp, dtype: int64, 0    678\n",
       " 1    118\n",
       " 2     80\n",
       " 4     10\n",
       " 3      5\n",
       " Name: Parch, dtype: int64)"
      ]
     },
     "execution_count": 136,
     "metadata": {},
     "output_type": "execute_result"
    }
   ],
   "source": [
    "df_train['SibSp'].value_counts(dropna=False), df_train['Parch'].value_counts(dropna=False)"
   ]
  },
  {
   "cell_type": "markdown",
   "metadata": {},
   "source": [
    "# --- Fare:"
   ]
  },
  {
   "cell_type": "code",
   "execution_count": 137,
   "metadata": {},
   "outputs": [
    {
     "data": {
      "text/plain": [
       "8.0500     43\n",
       "13.0000    42\n",
       "7.8958     38\n",
       "7.7500     34\n",
       "26.0000    31\n",
       "           ..\n",
       "8.4583      1\n",
       "9.8375      1\n",
       "8.3625      1\n",
       "14.1083     1\n",
       "17.4000     1\n",
       "Name: Fare, Length: 248, dtype: int64"
      ]
     },
     "execution_count": 137,
     "metadata": {},
     "output_type": "execute_result"
    },
    {
     "data": {
      "text/plain": [
       "<matplotlib.axes._subplots.AxesSubplot at 0x1afc53125c8>"
      ]
     },
     "execution_count": 137,
     "metadata": {},
     "output_type": "execute_result"
    },
    {
     "data": {
      "image/png": "[encoded data removed]",
      "text/plain": [
       "<Figure size 1440x216 with 1 Axes>"
      ]
     },
     "metadata": {
      "needs_background": "light"
     },
     "output_type": "display_data"
    }
   ],
   "source": [
    "df_train['Fare'].value_counts()\n",
    "df_train['Fare'].value_counts().hist()"
   ]
  },
  {
   "cell_type": "markdown",
   "metadata": {},
   "source": [
    "## Add Fare_zero flag for very low fares:"
   ]
  },
  {
   "cell_type": "code",
   "execution_count": 138,
   "metadata": {
    "_cell_guid": "79c7e3d0-c299-4dcb-8224-4455121ee9b0",
    "_uuid": "d629ff2d2480ee46fbb7e2d37f6b5fab8052498a"
   },
   "outputs": [],
   "source": [
    "# --- Ticket: complex string, ignore.\n",
    "\n",
    "# One of the Test cases has NaN for the Fare:\n",
    "# 152\t1044\t3\tStorey, Mr. Thomas\t1\t60.5\t0\t0\t3701\tNaN\tooo\tS\n",
    "# Look at similar ones in test \n",
    "##df_test[(df_test['Pclass'] == 3) & (df_test['Embarked'] == 'S')].head(20)\n",
    "# Set it to 9.2250 based on another 4-digit ticket:\n",
    "# 5\t897\t3\tSvensson, Mr. Johan Cervin\t1\t14.0\t0\t0\t7538\t9.2250\tooo\tS\n",
    "df_test.loc[152,'Fare'] = 9.2250\n",
    "\n",
    "#\n",
    "# Add Fare_zero flag for very low fares:\n",
    "df_train['Fare_0'] = (df_train['Fare'] < 6.0).astype(int)\n",
    "df_test['Fare_0'] = (df_test['Fare'] < 6.0).astype(int)"
   ]
  },
  {
   "cell_type": "code",
   "execution_count": 139,
   "metadata": {},
   "outputs": [
    {
     "data": {
      "text/plain": [
       "0    874\n",
       "1     17\n",
       "Name: Fare_0, dtype: int64"
      ]
     },
     "execution_count": 139,
     "metadata": {},
     "output_type": "execute_result"
    }
   ],
   "source": [
    "df_train['Fare_0'].value_counts() # 6보다 적은 값을 가진 드문 경우는 True로 인식하여 1로 만듬"
   ]
  },
  {
   "cell_type": "markdown",
   "metadata": {},
   "source": [
    "### Set a nominal Fare for the Fare_0 ones, based on the Pclass:"
   ]
  },
  {
   "cell_type": "code",
   "execution_count": 140,
   "metadata": {},
   "outputs": [
    {
     "data": {
      "text/plain": [
       "<matplotlib.axes._subplots.AxesSubplot at 0x1afc52b3e88>"
      ]
     },
     "execution_count": 140,
     "metadata": {},
     "output_type": "execute_result"
    },
    {
     "data": {
      "image/png": "[encoded data removed]",
      "text/plain": [
       "<Figure size 1440x216 with 1 Axes>"
      ]
     },
     "metadata": {
      "needs_background": "light"
     },
     "output_type": "display_data"
    }
   ],
   "source": [
    "df_train['Fare'].value_counts().hist()"
   ]
  },
  {
   "cell_type": "code",
   "execution_count": 141,
   "metadata": {},
   "outputs": [
    {
     "data": {
      "text/plain": [
       "array([ 7.3890561 , 11.02317638, 27.11263892])"
      ]
     },
     "execution_count": 141,
     "metadata": {},
     "output_type": "execute_result"
    },
    {
     "data": {
      "text/plain": [
       "[7.38905609893065, 11.023176380641601, 27.112638920657883]"
      ]
     },
     "execution_count": 141,
     "metadata": {},
     "output_type": "execute_result"
    }
   ],
   "source": [
    "fare_class = np.exp([2.0, 2.4, 3.3])\n",
    "fare_class\n",
    "[fare_class[pclass-1] for pclass in [1,2,3]]\n",
    "    "
   ]
  },
  {
   "cell_type": "code",
   "execution_count": 142,
   "metadata": {},
   "outputs": [
    {
     "data": {
      "text/html": [
       "<div>\n",
       "<style scoped>\n",
       "    .dataframe tbody tr th:only-of-type {\n",
       "        vertical-align: middle;\n",
       "    }\n",
       "\n",
       "    .dataframe tbody tr th {\n",
       "        vertical-align: top;\n",
       "    }\n",
       "\n",
       "    .dataframe thead th {\n",
       "        text-align: right;\n",
       "    }\n",
       "</style>\n",
       "<table border=\"1\" class=\"dataframe\">\n",
       "  <thead>\n",
       "    <tr style=\"text-align: right;\">\n",
       "      <th></th>\n",
       "      <th>Fare</th>\n",
       "      <th>Pclass</th>\n",
       "      <th>Fare_0</th>\n",
       "    </tr>\n",
       "  </thead>\n",
       "  <tbody>\n",
       "    <tr>\n",
       "      <td>179</td>\n",
       "      <td>0.0000</td>\n",
       "      <td>3</td>\n",
       "      <td>1</td>\n",
       "    </tr>\n",
       "    <tr>\n",
       "      <td>263</td>\n",
       "      <td>0.0000</td>\n",
       "      <td>1</td>\n",
       "      <td>1</td>\n",
       "    </tr>\n",
       "    <tr>\n",
       "      <td>271</td>\n",
       "      <td>0.0000</td>\n",
       "      <td>3</td>\n",
       "      <td>1</td>\n",
       "    </tr>\n",
       "    <tr>\n",
       "      <td>277</td>\n",
       "      <td>0.0000</td>\n",
       "      <td>2</td>\n",
       "      <td>1</td>\n",
       "    </tr>\n",
       "    <tr>\n",
       "      <td>302</td>\n",
       "      <td>0.0000</td>\n",
       "      <td>3</td>\n",
       "      <td>1</td>\n",
       "    </tr>\n",
       "    <tr>\n",
       "      <td>378</td>\n",
       "      <td>4.0125</td>\n",
       "      <td>3</td>\n",
       "      <td>1</td>\n",
       "    </tr>\n",
       "    <tr>\n",
       "      <td>413</td>\n",
       "      <td>0.0000</td>\n",
       "      <td>2</td>\n",
       "      <td>1</td>\n",
       "    </tr>\n",
       "    <tr>\n",
       "      <td>466</td>\n",
       "      <td>0.0000</td>\n",
       "      <td>2</td>\n",
       "      <td>1</td>\n",
       "    </tr>\n",
       "    <tr>\n",
       "      <td>481</td>\n",
       "      <td>0.0000</td>\n",
       "      <td>2</td>\n",
       "      <td>1</td>\n",
       "    </tr>\n",
       "    <tr>\n",
       "      <td>597</td>\n",
       "      <td>0.0000</td>\n",
       "      <td>3</td>\n",
       "      <td>1</td>\n",
       "    </tr>\n",
       "    <tr>\n",
       "      <td>633</td>\n",
       "      <td>0.0000</td>\n",
       "      <td>1</td>\n",
       "      <td>1</td>\n",
       "    </tr>\n",
       "    <tr>\n",
       "      <td>674</td>\n",
       "      <td>0.0000</td>\n",
       "      <td>2</td>\n",
       "      <td>1</td>\n",
       "    </tr>\n",
       "    <tr>\n",
       "      <td>732</td>\n",
       "      <td>0.0000</td>\n",
       "      <td>2</td>\n",
       "      <td>1</td>\n",
       "    </tr>\n",
       "    <tr>\n",
       "      <td>806</td>\n",
       "      <td>0.0000</td>\n",
       "      <td>1</td>\n",
       "      <td>1</td>\n",
       "    </tr>\n",
       "    <tr>\n",
       "      <td>815</td>\n",
       "      <td>0.0000</td>\n",
       "      <td>1</td>\n",
       "      <td>1</td>\n",
       "    </tr>\n",
       "    <tr>\n",
       "      <td>822</td>\n",
       "      <td>0.0000</td>\n",
       "      <td>1</td>\n",
       "      <td>1</td>\n",
       "    </tr>\n",
       "    <tr>\n",
       "      <td>872</td>\n",
       "      <td>5.0000</td>\n",
       "      <td>1</td>\n",
       "      <td>1</td>\n",
       "    </tr>\n",
       "  </tbody>\n",
       "</table>\n",
       "</div>"
      ],
      "text/plain": [
       "       Fare  Pclass  Fare_0\n",
       "179  0.0000       3       1\n",
       "263  0.0000       1       1\n",
       "271  0.0000       3       1\n",
       "277  0.0000       2       1\n",
       "302  0.0000       3       1\n",
       "378  4.0125       3       1\n",
       "413  0.0000       2       1\n",
       "466  0.0000       2       1\n",
       "481  0.0000       2       1\n",
       "597  0.0000       3       1\n",
       "633  0.0000       1       1\n",
       "674  0.0000       2       1\n",
       "732  0.0000       2       1\n",
       "806  0.0000       1       1\n",
       "815  0.0000       1       1\n",
       "822  0.0000       1       1\n",
       "872  5.0000       1       1"
      ]
     },
     "execution_count": 142,
     "metadata": {},
     "output_type": "execute_result"
    }
   ],
   "source": [
    "df_train[['Fare', 'Pclass', 'Fare_0']][df_train['Fare_0'] == 1]"
   ]
  },
  {
   "cell_type": "code",
   "execution_count": 143,
   "metadata": {
    "_cell_guid": "79c7e3d0-c299-4dcb-8224-4455121ee9b0",
    "_uuid": "d629ff2d2480ee46fbb7e2d37f6b5fab8052498a"
   },
   "outputs": [],
   "source": [
    "# Set a nominal Fare for the Fare_0 ones, based on the Pclass:\n",
    "fare_class = np.exp([2.0, 2.4, 3.3])\n",
    "for pclass in [1,2,3]:\n",
    "    df_train.loc[(df_train['Pclass'] == pclass) & \\\n",
    "                 (df_train['Fare_0'] == 1), 'Fare'] = fare_class[pclass-1]\n",
    "    df_test.loc[(df_test['Pclass'] == pclass) & \\\n",
    "                (df_test['Fare_0'] == 1), 'Fare'] = fare_class[pclass-1]"
   ]
  },
  {
   "cell_type": "code",
   "execution_count": 144,
   "metadata": {
    "_cell_guid": "79c7e3d0-c299-4dcb-8224-4455121ee9b0",
    "_uuid": "d629ff2d2480ee46fbb7e2d37f6b5fab8052498a"
   },
   "outputs": [],
   "source": [
    "# and make log(Fare):\n",
    "df_train['Fare_log'] = np.log(df_train['Fare'])\n",
    "df_test['Fare_log'] = np.log(df_test['Fare'])"
   ]
  },
  {
   "cell_type": "code",
   "execution_count": 145,
   "metadata": {},
   "outputs": [
    {
     "data": {
      "text/plain": [
       "<matplotlib.collections.PathCollection at 0x1afc54bc6c8>"
      ]
     },
     "execution_count": 145,
     "metadata": {},
     "output_type": "execute_result"
    },
    {
     "data": {
      "image/png": "[encoded data removed]",
      "text/plain": [
       "<Figure size 1440x216 with 1 Axes>"
      ]
     },
     "metadata": {
      "needs_background": "light"
     },
     "output_type": "display_data"
    }
   ],
   "source": [
    "plt.rcParams[\"figure.figsize\"] = (20,3)\n",
    "plt.scatter(df_train['Fare'].index, df_train['Fare'].sort_values(ascending=True), color='r', marker='o')"
   ]
  },
  {
   "cell_type": "code",
   "execution_count": 146,
   "metadata": {},
   "outputs": [
    {
     "data": {
      "text/plain": [
       "<matplotlib.collections.PathCollection at 0x1afc5351b08>"
      ]
     },
     "execution_count": 146,
     "metadata": {},
     "output_type": "execute_result"
    },
    {
     "data": {
      "image/png": "[encoded data removed]",
      "text/plain": [
       "<Figure size 1440x216 with 1 Axes>"
      ]
     },
     "metadata": {
      "needs_background": "light"
     },
     "output_type": "display_data"
    }
   ],
   "source": [
    "plt.scatter(df_train['Fare_log'].index, df_train['Fare_log'].sort_values(ascending=True), color='r', marker='o')"
   ]
  },
  {
   "cell_type": "markdown",
   "metadata": {},
   "source": [
    "# --- Cabin: replace NaNs with \"ooo\""
   ]
  },
  {
   "cell_type": "code",
   "execution_count": 147,
   "metadata": {},
   "outputs": [
    {
     "data": {
      "text/plain": [
       "NaN            687\n",
       "B96 B98          4\n",
       "G6               4\n",
       "C23 C25 C27      4\n",
       "D                3\n",
       "              ... \n",
       "A31              1\n",
       "A36              1\n",
       "D6               1\n",
       "C99              1\n",
       "B19              1\n",
       "Name: Cabin, Length: 148, dtype: int64"
      ]
     },
     "execution_count": 147,
     "metadata": {},
     "output_type": "execute_result"
    }
   ],
   "source": [
    "df_train['Cabin'].value_counts(dropna=False)"
   ]
  },
  {
   "cell_type": "code",
   "execution_count": 148,
   "metadata": {
    "_cell_guid": "79c7e3d0-c299-4dcb-8224-4455121ee9b0",
    "_uuid": "d629ff2d2480ee46fbb7e2d37f6b5fab8052498a"
   },
   "outputs": [],
   "source": [
    "#\n",
    "df_train['Cabin'].fillna(\"ooo\", inplace=True)\n",
    "df_test['Cabin'].fillna(\"ooo\", inplace=True)\n",
    "\n",
    "# add a new numeric column flagging no cabin:\n",
    "df_train['NoCabin'] = 1.0*(df_train['Cabin'] == \"ooo\")\n",
    "df_test['NoCabin'] = 1.0*(df_test['Cabin'] == \"ooo\")"
   ]
  },
  {
   "cell_type": "code",
   "execution_count": 149,
   "metadata": {},
   "outputs": [
    {
     "data": {
      "text/plain": [
       "ooo            687\n",
       "G6               4\n",
       "C23 C25 C27      4\n",
       "B96 B98          4\n",
       "F33              3\n",
       "              ... \n",
       "A31              1\n",
       "A36              1\n",
       "D6               1\n",
       "C99              1\n",
       "B78              1\n",
       "Name: Cabin, Length: 148, dtype: int64"
      ]
     },
     "execution_count": 149,
     "metadata": {},
     "output_type": "execute_result"
    }
   ],
   "source": [
    "df_train['Cabin'].value_counts(dropna=False)"
   ]
  },
  {
   "cell_type": "markdown",
   "metadata": {},
   "source": [
    "# --- Embarked:"
   ]
  },
  {
   "cell_type": "code",
   "execution_count": 150,
   "metadata": {},
   "outputs": [
    {
     "data": {
      "text/plain": [
       "S      644\n",
       "C      168\n",
       "Q       77\n",
       "NaN      2\n",
       "Name: Embarked, dtype: int64"
      ]
     },
     "execution_count": 150,
     "metadata": {},
     "output_type": "execute_result"
    },
    {
     "data": {
      "text/html": [
       "<div>\n",
       "<style scoped>\n",
       "    .dataframe tbody tr th:only-of-type {\n",
       "        vertical-align: middle;\n",
       "    }\n",
       "\n",
       "    .dataframe tbody tr th {\n",
       "        vertical-align: top;\n",
       "    }\n",
       "\n",
       "    .dataframe thead th {\n",
       "        text-align: right;\n",
       "    }\n",
       "</style>\n",
       "<table border=\"1\" class=\"dataframe\">\n",
       "  <thead>\n",
       "    <tr style=\"text-align: right;\">\n",
       "      <th></th>\n",
       "      <th>PassengerId</th>\n",
       "      <th>Survived</th>\n",
       "      <th>Pclass</th>\n",
       "      <th>Name</th>\n",
       "      <th>Sex</th>\n",
       "      <th>Age</th>\n",
       "      <th>SibSp</th>\n",
       "      <th>Parch</th>\n",
       "      <th>Ticket</th>\n",
       "      <th>Fare</th>\n",
       "      <th>...</th>\n",
       "      <th>Pclass_3</th>\n",
       "      <th>Sex_M</th>\n",
       "      <th>Sex_F</th>\n",
       "      <th>NoAge</th>\n",
       "      <th>Age_log</th>\n",
       "      <th>Age_young</th>\n",
       "      <th>Age_old</th>\n",
       "      <th>Fare_0</th>\n",
       "      <th>Fare_log</th>\n",
       "      <th>NoCabin</th>\n",
       "    </tr>\n",
       "  </thead>\n",
       "  <tbody>\n",
       "    <tr>\n",
       "      <td>61</td>\n",
       "      <td>62</td>\n",
       "      <td>1</td>\n",
       "      <td>1</td>\n",
       "      <td>Icard, Miss. Amelie</td>\n",
       "      <td>female</td>\n",
       "      <td>38.0</td>\n",
       "      <td>0</td>\n",
       "      <td>0</td>\n",
       "      <td>113572</td>\n",
       "      <td>80.0</td>\n",
       "      <td>...</td>\n",
       "      <td>0</td>\n",
       "      <td>0</td>\n",
       "      <td>1</td>\n",
       "      <td>0.0</td>\n",
       "      <td>3.663562</td>\n",
       "      <td>0.0</td>\n",
       "      <td>0.000000</td>\n",
       "      <td>0</td>\n",
       "      <td>4.382027</td>\n",
       "      <td>0.0</td>\n",
       "    </tr>\n",
       "    <tr>\n",
       "      <td>829</td>\n",
       "      <td>830</td>\n",
       "      <td>1</td>\n",
       "      <td>1</td>\n",
       "      <td>Stone, Mrs. George Nelson (Martha Evelyn)</td>\n",
       "      <td>female</td>\n",
       "      <td>62.0</td>\n",
       "      <td>0</td>\n",
       "      <td>0</td>\n",
       "      <td>113572</td>\n",
       "      <td>80.0</td>\n",
       "      <td>...</td>\n",
       "      <td>0</td>\n",
       "      <td>0</td>\n",
       "      <td>1</td>\n",
       "      <td>0.0</td>\n",
       "      <td>4.143135</td>\n",
       "      <td>0.0</td>\n",
       "      <td>0.343135</td>\n",
       "      <td>0</td>\n",
       "      <td>4.382027</td>\n",
       "      <td>0.0</td>\n",
       "    </tr>\n",
       "  </tbody>\n",
       "</table>\n",
       "<p>2 rows × 24 columns</p>\n",
       "</div>"
      ],
      "text/plain": [
       "     PassengerId  Survived  Pclass                                       Name  \\\n",
       "61            62         1       1                        Icard, Miss. Amelie   \n",
       "829          830         1       1  Stone, Mrs. George Nelson (Martha Evelyn)   \n",
       "\n",
       "        Sex   Age  SibSp  Parch  Ticket  Fare  ... Pclass_3 Sex_M  Sex_F  \\\n",
       "61   female  38.0      0      0  113572  80.0  ...        0     0      1   \n",
       "829  female  62.0      0      0  113572  80.0  ...        0     0      1   \n",
       "\n",
       "     NoAge   Age_log  Age_young   Age_old  Fare_0  Fare_log  NoCabin  \n",
       "61     0.0  3.663562        0.0  0.000000       0  4.382027      0.0  \n",
       "829    0.0  4.143135        0.0  0.343135       0  4.382027      0.0  \n",
       "\n",
       "[2 rows x 24 columns]"
      ]
     },
     "execution_count": 150,
     "metadata": {},
     "output_type": "execute_result"
    }
   ],
   "source": [
    "df_train['Embarked'].value_counts(dropna=False)\n",
    "df_train[df_train['Embarked'].isnull()]"
   ]
  },
  {
   "cell_type": "code",
   "execution_count": 151,
   "metadata": {
    "_cell_guid": "79c7e3d0-c299-4dcb-8224-4455121ee9b0",
    "_uuid": "d629ff2d2480ee46fbb7e2d37f6b5fab8052498a"
   },
   "outputs": [],
   "source": [
    "# Two of the train rows have NaN for Embarked - set them to S:\n",
    "df_train.loc[61,'Embarked'] = 'S'\n",
    "df_train.loc[829,'Embarked'] = 'S'\n",
    "\n",
    "#\n",
    "# Create one-hot versions of Embarked:\n",
    "df_train['Embark_C'] = (df_train['Embarked'] == \"C\").astype(int)\n",
    "df_train['Embark_Q'] = (df_train['Embarked'] == \"Q\").astype(int)\n",
    "df_train['Embark_S'] = (df_train['Embarked'] == \"S\").astype(int)\n",
    "#\n",
    "df_test['Embark_C'] = (df_test['Embarked'] == \"C\").astype(int)\n",
    "df_test['Embark_Q'] = (df_test['Embarked'] == \"Q\").astype(int)\n",
    "df_test['Embark_S'] = (df_test['Embarked'] == \"S\").astype(int)\n",
    "\n",
    "\n",
    "# Done with basic features."
   ]
  },
  {
   "cell_type": "markdown",
   "metadata": {},
   "source": [
    "## <a id=\"NameFeats\">Features from Name</a>\n",
    "Back to <a href=\"#Index\">Index</a>"
   ]
  },
  {
   "cell_type": "code",
   "execution_count": 152,
   "metadata": {
    "scrolled": false
   },
   "outputs": [
    {
     "data": {
      "text/plain": [
       "Index(['Moran, Mr. James', 'Barah, Mr. Hanna Assi',\n",
       "       'Minahan, Dr. William Edward', 'Reed, Mr. James George',\n",
       "       'Vovk, Mr. Janko', 'Butt, Major. Archibald Willingham',\n",
       "       'Lindblom, Miss. Augusta Charlotta', 'Dean, Master. Bertram Vere',\n",
       "       'Hays, Mrs. Charles Melville (Clara Jennings Gregg)',\n",
       "       'Doling, Mrs. John T (Ada Julia Bone)',\n",
       "       ...\n",
       "       'Lefebre, Miss. Ida',\n",
       "       'Backstrom, Mrs. Karl Alfred (Maria Mathilda Gustafsson)',\n",
       "       'Nankoff, Mr. Minko', 'Youseff, Mr. Gerious',\n",
       "       'Banfield, Mr. Frederick James', 'Niskanen, Mr. Juha',\n",
       "       'Porter, Mr. Walter Chamberlain', 'Dahlberg, Miss. Gerda Ulrika',\n",
       "       'Drazenoic, Mr. Jozef', 'Pears, Mrs. Thomas (Edith Wearne)'],\n",
       "      dtype='object', length=891)"
      ]
     },
     "execution_count": 152,
     "metadata": {},
     "output_type": "execute_result"
    }
   ],
   "source": [
    "# Look at the Name column... all unique names it seems.\n",
    "df_train['Name'].value_counts().index"
   ]
  },
  {
   "cell_type": "markdown",
   "metadata": {
    "scrolled": true
   },
   "source": [
    "# Extract the last name from the Name column\n",
    "### apply 변환\n",
    "행이나 열 단위로 더 복잡한 처리를 하고 싶을 때는 apply 메서드를 사용한다. 인수로 행 또는 열을 받는 함수를 apply 메서드의 인수로 넣으면 <font color='red'>각 열(또는 행)을 반복하여 그 함수에 적용시킨다."
   ]
  },
  {
   "cell_type": "code",
   "execution_count": 153,
   "metadata": {},
   "outputs": [
    {
     "data": {
      "text/plain": [
       "0                              Braund, Mr. Owen Harris\n",
       "1    Cumings, Mrs. John Bradley (Florence Briggs Th...\n",
       "2                               Heikkinen, Miss. Laina\n",
       "3         Futrelle, Mrs. Jacques Heath (Lily May Peel)\n",
       "4                             Allen, Mr. William Henry\n",
       "Name: Name, dtype: object"
      ]
     },
     "execution_count": 153,
     "metadata": {},
     "output_type": "execute_result"
    },
    {
     "data": {
      "text/plain": [
       "'Braund'"
      ]
     },
     "execution_count": 153,
     "metadata": {},
     "output_type": "execute_result"
    },
    {
     "data": {
      "text/plain": [
       "'Cumings'"
      ]
     },
     "execution_count": 153,
     "metadata": {},
     "output_type": "execute_result"
    },
    {
     "data": {
      "text/plain": [
       "'Braund'"
      ]
     },
     "execution_count": 153,
     "metadata": {},
     "output_type": "execute_result"
    }
   ],
   "source": [
    "df_train['Name'].head()\n",
    "df_train['Name'][0].split(',')[0]\n",
    "df_train['Name'][1].split(',')[0]\n",
    "# df_train['Name'].split(',')[0] # AttributeError: 'Series' object has no attribute 'split'\n",
    "\n",
    "'Bra---und, Mr. Owen Harris'.split(',')[0].replace('---',\"\")\n",
    "#'Bra---und, Mr. Owen Harris'.split(',').replace('---',\"\") # AttributeError: 'list' object has no attribute 'replace'"
   ]
  },
  {
   "cell_type": "code",
   "execution_count": 154,
   "metadata": {},
   "outputs": [],
   "source": [
    "def extract_last(row_in):\n",
    "    lastname = row_in['Name'].split(',')[0] # string type\n",
    "    # replace \"'\", \" \", and \"-\" with nothing (for now)\n",
    "    ignores = [\"'\",\" \",\"-\"]\n",
    "    for iggy in ignores:\n",
    "        lastname = lastname.replace(iggy,\"\")\n",
    "    return lastname\n",
    "\n",
    "# Put the last names in LastName\n",
    "df_train['LastName'] = df_train.apply(extract_last, axis=1)\n",
    "df_test['LastName'] = df_test.apply(extract_last, axis=1)"
   ]
  },
  {
   "cell_type": "code",
   "execution_count": 155,
   "metadata": {},
   "outputs": [
    {
     "data": {
      "text/plain": [
       "0       Braund\n",
       "1      Cumings\n",
       "2    Heikkinen\n",
       "Name: LastName, dtype: object"
      ]
     },
     "execution_count": 155,
     "metadata": {},
     "output_type": "execute_result"
    }
   ],
   "source": [
    "df_train['LastName'].head(3)"
   ]
  },
  {
   "cell_type": "code",
   "execution_count": 156,
   "metadata": {},
   "outputs": [],
   "source": [
    "# Look at the LastName column... 9 Andersson the most.\n",
    "##df_train['LastName'].value_counts()"
   ]
  },
  {
   "cell_type": "code",
   "execution_count": 157,
   "metadata": {},
   "outputs": [],
   "source": [
    "# Extract Mr, Mrs, Miss, Master from the Name column\n",
    "def extract_MMMM(row_in):\n",
    "    # first take from the Comma+Space on\n",
    "    prefix = row_in['Name'].split(', ')[1]\n",
    "    # then take before the \".\":\n",
    "    prefix = prefix.split(\".\")[0]\n",
    "    # modify ones that are not Mr Mrs Miss Master:\n",
    "    if not(prefix in [\"Mr\",\"Mrs\",\"Miss\",\"Master\"]):\n",
    "        if prefix in [\"Rev\", \"Col\", \"Major\", \"Sir\", \"Jonkheer\", \"Don\", \"Capt\"]:\n",
    "            prefix = \"Mr\"\n",
    "        elif prefix in [\"Ms\", \"Mme\", \"the Countess\", \"Lady\", \"Dona\"]:\n",
    "            prefix = \"Mrs\"\n",
    "        elif prefix in [\"Mlle\"]:\n",
    "            prefix = \"Miss\"\n",
    "        elif prefix in [\"Dr\"]:\n",
    "            # can be a female Dr:\n",
    "            if row_in['Sex'] == 'female':\n",
    "                prefix = \"Mrs\"\n",
    "            else:\n",
    "                prefix = \"Mr\"\n",
    "    ##print(\"prefix is -->\"+prefix+\"<--\")\n",
    "    return prefix\n",
    "\n",
    "# Put the prefix in a column\n",
    "df_train['MMMM'] = df_train.apply(extract_MMMM, axis=1)\n",
    "df_test['MMMM'] = df_test.apply(extract_MMMM, axis=1)"
   ]
  },
  {
   "cell_type": "code",
   "execution_count": 158,
   "metadata": {},
   "outputs": [
    {
     "name": "stdout",
     "output_type": "stream",
     "text": [
      "\n",
      "Train:\n",
      "\n",
      "Mr        537\n",
      "Miss      184\n",
      "Mrs       130\n",
      "Master     40\n",
      "Name: MMMM, dtype: int64\n",
      "\n",
      "TEST:\n",
      "\n",
      "Mr        245\n",
      "Miss       78\n",
      "Mrs        74\n",
      "Master     21\n",
      "Name: MMMM, dtype: int64\n"
     ]
    }
   ],
   "source": [
    "# Look at the MMMM counts\n",
    "# ( Without any corrections implemented in extract_MMMM,\n",
    "#   use value_counts to identify prefixs other than Mr Mrs Miss and Master:\n",
    "#   Alternatives found:\n",
    "#   Master: (no other versions)\n",
    "#      Mrs: Ms, Mme, the Countess, Lady, Dona\n",
    "#     Miss: Mlle\n",
    "#       Mr: Dr, Rev, Col, Major, Sir, Jonkheer, Don, Capt \n",
    "#   incorporate these in extract_MMMM above.)\n",
    "\n",
    "print(\"\\nTrain:\\n\")\n",
    "print(df_train['MMMM'].value_counts())\n",
    "print(\"\\nTEST:\\n\")\n",
    "print(df_test['MMMM'].value_counts())"
   ]
  },
  {
   "cell_type": "code",
   "execution_count": 159,
   "metadata": {},
   "outputs": [
    {
     "data": {
      "text/html": [
       "<div>\n",
       "<style scoped>\n",
       "    .dataframe tbody tr th:only-of-type {\n",
       "        vertical-align: middle;\n",
       "    }\n",
       "\n",
       "    .dataframe tbody tr th {\n",
       "        vertical-align: top;\n",
       "    }\n",
       "\n",
       "    .dataframe thead th {\n",
       "        text-align: right;\n",
       "    }\n",
       "</style>\n",
       "<table border=\"1\" class=\"dataframe\">\n",
       "  <thead>\n",
       "    <tr style=\"text-align: right;\">\n",
       "      <th></th>\n",
       "      <th>Survived</th>\n",
       "    </tr>\n",
       "    <tr>\n",
       "      <th>MMMM</th>\n",
       "      <th></th>\n",
       "    </tr>\n",
       "  </thead>\n",
       "  <tbody>\n",
       "    <tr>\n",
       "      <td>Master</td>\n",
       "      <td>0.575000</td>\n",
       "    </tr>\n",
       "    <tr>\n",
       "      <td>Miss</td>\n",
       "      <td>0.701087</td>\n",
       "    </tr>\n",
       "    <tr>\n",
       "      <td>Mr</td>\n",
       "      <td>0.160149</td>\n",
       "    </tr>\n",
       "    <tr>\n",
       "      <td>Mrs</td>\n",
       "      <td>0.800000</td>\n",
       "    </tr>\n",
       "  </tbody>\n",
       "</table>\n",
       "</div>"
      ],
      "text/plain": [
       "        Survived\n",
       "MMMM            \n",
       "Master  0.575000\n",
       "Miss    0.701087\n",
       "Mr      0.160149\n",
       "Mrs     0.800000"
      ]
     },
     "execution_count": 159,
     "metadata": {},
     "output_type": "execute_result"
    }
   ],
   "source": [
    "# Look at the survival of these different prefixes:\n",
    "df_train[['Survived','MMMM']].groupby('MMMM').mean()"
   ]
  },
  {
   "cell_type": "markdown",
   "metadata": {},
   "source": [
    "## self-study"
   ]
  },
  {
   "cell_type": "code",
   "execution_count": 160,
   "metadata": {},
   "outputs": [
    {
     "data": {
      "text/plain": [
       "0      Mr\n",
       "1     Mrs\n",
       "2    Miss\n",
       "3     Mrs\n",
       "4      Mr\n",
       "Name: MMMM, dtype: object"
      ]
     },
     "execution_count": 160,
     "metadata": {},
     "output_type": "execute_result"
    },
    {
     "data": {
      "text/plain": [
       "Mr        537\n",
       "Miss      184\n",
       "Mrs       130\n",
       "Master     40\n",
       "Name: MMMM, dtype: int64"
      ]
     },
     "execution_count": 160,
     "metadata": {},
     "output_type": "execute_result"
    },
    {
     "data": {
      "text/plain": [
       "0       True\n",
       "1      False\n",
       "2      False\n",
       "3      False\n",
       "4       True\n",
       "       ...  \n",
       "886     True\n",
       "887    False\n",
       "888    False\n",
       "889     True\n",
       "890     True\n",
       "Name: MMMM, Length: 891, dtype: bool"
      ]
     },
     "execution_count": 160,
     "metadata": {},
     "output_type": "execute_result"
    },
    {
     "data": {
      "text/plain": [
       "0      1\n",
       "1      0\n",
       "2      0\n",
       "3      0\n",
       "4      1\n",
       "      ..\n",
       "886    1\n",
       "887    0\n",
       "888    0\n",
       "889    1\n",
       "890    1\n",
       "Name: MMMM, Length: 891, dtype: int32"
      ]
     },
     "execution_count": 160,
     "metadata": {},
     "output_type": "execute_result"
    },
    {
     "data": {
      "text/plain": [
       "array([[0., 0., 1., 0.],\n",
       "       [0., 0., 0., 1.],\n",
       "       [0., 1., 0., 0.],\n",
       "       ...,\n",
       "       [0., 1., 0., 0.],\n",
       "       [0., 0., 1., 0.],\n",
       "       [0., 0., 1., 0.]])"
      ]
     },
     "execution_count": 160,
     "metadata": {},
     "output_type": "execute_result"
    },
    {
     "data": {
      "text/plain": [
       "array([[0., 0., 1., 0.],\n",
       "       [0., 0., 0., 1.],\n",
       "       [0., 1., 0., 0.],\n",
       "       [0., 0., 0., 1.],\n",
       "       [0., 0., 1., 0.],\n",
       "       [0., 0., 1., 0.],\n",
       "       [0., 0., 1., 0.],\n",
       "       [1., 0., 0., 0.],\n",
       "       [0., 0., 0., 1.],\n",
       "       [0., 0., 0., 1.]])"
      ]
     },
     "execution_count": 160,
     "metadata": {},
     "output_type": "execute_result"
    }
   ],
   "source": [
    "df_train['MMMM'].head()\n",
    "\n",
    "df_train['MMMM'].value_counts()\n",
    "df_train['MMMM'] == \"Mr\"\n",
    "(df_train['MMMM'] == \"Mr\").astype(int) # True가 '1'이니까\n",
    "\n",
    "# binary encode\n",
    "from sklearn.preprocessing import OneHotEncoder\n",
    "onehot_encoder = OneHotEncoder(sparse=False)\n",
    "onehot_encoder.fit_transform(df_train['MMMM'].values.reshape(-1, 1))\n",
    "onehot_encoder.fit_transform(df_train['MMMM'].values.reshape(-1, 1))[0:10, :]"
   ]
  },
  {
   "cell_type": "code",
   "execution_count": 161,
   "metadata": {},
   "outputs": [],
   "source": [
    "# Create one-hot versions of the prefixes:\n",
    "for prefix in [\"Mr\",\"Master\",\"Mrs\",\"Miss\"]:\n",
    "    df_train['Sex_'+prefix] = (df_train['MMMM'] == prefix).astype(int)\n",
    "    df_test['Sex_'+prefix] = (df_test['MMMM'] == prefix).astype(int)"
   ]
  },
  {
   "cell_type": "code",
   "execution_count": 162,
   "metadata": {},
   "outputs": [
    {
     "data": {
      "text/html": [
       "<div>\n",
       "<style scoped>\n",
       "    .dataframe tbody tr th:only-of-type {\n",
       "        vertical-align: middle;\n",
       "    }\n",
       "\n",
       "    .dataframe tbody tr th {\n",
       "        vertical-align: top;\n",
       "    }\n",
       "\n",
       "    .dataframe thead th {\n",
       "        text-align: right;\n",
       "    }\n",
       "</style>\n",
       "<table border=\"1\" class=\"dataframe\">\n",
       "  <thead>\n",
       "    <tr style=\"text-align: right;\">\n",
       "      <th></th>\n",
       "      <th>MMMM</th>\n",
       "      <th>Sex_Mr</th>\n",
       "      <th>Sex_Master</th>\n",
       "      <th>Sex_Mrs</th>\n",
       "      <th>Sex_Miss</th>\n",
       "    </tr>\n",
       "  </thead>\n",
       "  <tbody>\n",
       "    <tr>\n",
       "      <td>0</td>\n",
       "      <td>Mr</td>\n",
       "      <td>1</td>\n",
       "      <td>0</td>\n",
       "      <td>0</td>\n",
       "      <td>0</td>\n",
       "    </tr>\n",
       "    <tr>\n",
       "      <td>1</td>\n",
       "      <td>Mrs</td>\n",
       "      <td>0</td>\n",
       "      <td>0</td>\n",
       "      <td>1</td>\n",
       "      <td>0</td>\n",
       "    </tr>\n",
       "    <tr>\n",
       "      <td>2</td>\n",
       "      <td>Miss</td>\n",
       "      <td>0</td>\n",
       "      <td>0</td>\n",
       "      <td>0</td>\n",
       "      <td>1</td>\n",
       "    </tr>\n",
       "    <tr>\n",
       "      <td>3</td>\n",
       "      <td>Mrs</td>\n",
       "      <td>0</td>\n",
       "      <td>0</td>\n",
       "      <td>1</td>\n",
       "      <td>0</td>\n",
       "    </tr>\n",
       "    <tr>\n",
       "      <td>4</td>\n",
       "      <td>Mr</td>\n",
       "      <td>1</td>\n",
       "      <td>0</td>\n",
       "      <td>0</td>\n",
       "      <td>0</td>\n",
       "    </tr>\n",
       "    <tr>\n",
       "      <td>5</td>\n",
       "      <td>Mr</td>\n",
       "      <td>1</td>\n",
       "      <td>0</td>\n",
       "      <td>0</td>\n",
       "      <td>0</td>\n",
       "    </tr>\n",
       "    <tr>\n",
       "      <td>6</td>\n",
       "      <td>Mr</td>\n",
       "      <td>1</td>\n",
       "      <td>0</td>\n",
       "      <td>0</td>\n",
       "      <td>0</td>\n",
       "    </tr>\n",
       "    <tr>\n",
       "      <td>7</td>\n",
       "      <td>Master</td>\n",
       "      <td>0</td>\n",
       "      <td>1</td>\n",
       "      <td>0</td>\n",
       "      <td>0</td>\n",
       "    </tr>\n",
       "    <tr>\n",
       "      <td>8</td>\n",
       "      <td>Mrs</td>\n",
       "      <td>0</td>\n",
       "      <td>0</td>\n",
       "      <td>1</td>\n",
       "      <td>0</td>\n",
       "    </tr>\n",
       "    <tr>\n",
       "      <td>9</td>\n",
       "      <td>Mrs</td>\n",
       "      <td>0</td>\n",
       "      <td>0</td>\n",
       "      <td>1</td>\n",
       "      <td>0</td>\n",
       "    </tr>\n",
       "  </tbody>\n",
       "</table>\n",
       "</div>"
      ],
      "text/plain": [
       "     MMMM  Sex_Mr  Sex_Master  Sex_Mrs  Sex_Miss\n",
       "0      Mr       1           0        0         0\n",
       "1     Mrs       0           0        1         0\n",
       "2    Miss       0           0        0         1\n",
       "3     Mrs       0           0        1         0\n",
       "4      Mr       1           0        0         0\n",
       "5      Mr       1           0        0         0\n",
       "6      Mr       1           0        0         0\n",
       "7  Master       0           1        0         0\n",
       "8     Mrs       0           0        1         0\n",
       "9     Mrs       0           0        1         0"
      ]
     },
     "execution_count": 162,
     "metadata": {},
     "output_type": "execute_result"
    }
   ],
   "source": [
    "df_train[['MMMM', 'Sex_Mr', 'Sex_Master', 'Sex_Mrs', 'Sex_Miss']].head(10)"
   ]
  },
  {
   "cell_type": "code",
   "execution_count": 163,
   "metadata": {},
   "outputs": [],
   "source": [
    "# Create some features from the LastName\n",
    "\n",
    "# Get the length of the LastName\n",
    "def extract_ln_length(row_in):\n",
    "    lastname = row_in['LastName']\n",
    "    return len(lastname)\n",
    "\n",
    "# Count the vowels in LastName\n",
    "def extract_ln_vowels(row_in):\n",
    "    lastname = row_in['LastName']\n",
    "    num_vs = 0\n",
    "    vowels_list = [\"a\",\"e\",\"i\",\"o\",\"u\",\"y\"]\n",
    "    for char in lastname.lower():\n",
    "        if char in vowels_list:\n",
    "            num_vs += 1\n",
    "    return num_vs\n",
    "\n",
    "# Put the last name lengths and vowels in LN_Length, LN_Vowels\n",
    "df_train['LN_Length'] = df_train.apply(extract_ln_length, axis=1)\n",
    "df_test['LN_Length'] = df_test.apply(extract_ln_length, axis=1)\n",
    "df_train['LN_Vowels'] = df_train.apply(extract_ln_vowels, axis=1)\n",
    "df_test['LN_Vowels'] = df_test.apply(extract_ln_vowels, axis=1)\n",
    "# And the ratio\n",
    "df_train['LN_Vfrac'] = df_train['LN_Vowels']/df_train['LN_Length']\n",
    "df_test['LN_Vfrac'] = df_test['LN_Vowels']/df_test['LN_Length']"
   ]
  },
  {
   "cell_type": "code",
   "execution_count": 164,
   "metadata": {},
   "outputs": [
    {
     "data": {
      "text/html": [
       "<div>\n",
       "<style scoped>\n",
       "    .dataframe tbody tr th:only-of-type {\n",
       "        vertical-align: middle;\n",
       "    }\n",
       "\n",
       "    .dataframe tbody tr th {\n",
       "        vertical-align: top;\n",
       "    }\n",
       "\n",
       "    .dataframe thead th {\n",
       "        text-align: right;\n",
       "    }\n",
       "</style>\n",
       "<table border=\"1\" class=\"dataframe\">\n",
       "  <thead>\n",
       "    <tr style=\"text-align: right;\">\n",
       "      <th></th>\n",
       "      <th>Name</th>\n",
       "      <th>LN_Length</th>\n",
       "      <th>LastName</th>\n",
       "      <th>Sex_Mr</th>\n",
       "      <th>Sex_Master</th>\n",
       "      <th>Sex_Mrs</th>\n",
       "      <th>Sex_Miss</th>\n",
       "      <th>MMMM</th>\n",
       "      <th>LN_Vowels</th>\n",
       "      <th>LN_Vfrac</th>\n",
       "    </tr>\n",
       "  </thead>\n",
       "  <tbody>\n",
       "    <tr>\n",
       "      <td>0</td>\n",
       "      <td>Braund, Mr. Owen Harris</td>\n",
       "      <td>6</td>\n",
       "      <td>Braund</td>\n",
       "      <td>1</td>\n",
       "      <td>0</td>\n",
       "      <td>0</td>\n",
       "      <td>0</td>\n",
       "      <td>Mr</td>\n",
       "      <td>2</td>\n",
       "      <td>0.333333</td>\n",
       "    </tr>\n",
       "    <tr>\n",
       "      <td>1</td>\n",
       "      <td>Cumings, Mrs. John Bradley (Florence Briggs Th...</td>\n",
       "      <td>7</td>\n",
       "      <td>Cumings</td>\n",
       "      <td>0</td>\n",
       "      <td>0</td>\n",
       "      <td>1</td>\n",
       "      <td>0</td>\n",
       "      <td>Mrs</td>\n",
       "      <td>2</td>\n",
       "      <td>0.285714</td>\n",
       "    </tr>\n",
       "    <tr>\n",
       "      <td>2</td>\n",
       "      <td>Heikkinen, Miss. Laina</td>\n",
       "      <td>9</td>\n",
       "      <td>Heikkinen</td>\n",
       "      <td>0</td>\n",
       "      <td>0</td>\n",
       "      <td>0</td>\n",
       "      <td>1</td>\n",
       "      <td>Miss</td>\n",
       "      <td>4</td>\n",
       "      <td>0.444444</td>\n",
       "    </tr>\n",
       "    <tr>\n",
       "      <td>3</td>\n",
       "      <td>Futrelle, Mrs. Jacques Heath (Lily May Peel)</td>\n",
       "      <td>8</td>\n",
       "      <td>Futrelle</td>\n",
       "      <td>0</td>\n",
       "      <td>0</td>\n",
       "      <td>1</td>\n",
       "      <td>0</td>\n",
       "      <td>Mrs</td>\n",
       "      <td>3</td>\n",
       "      <td>0.375000</td>\n",
       "    </tr>\n",
       "    <tr>\n",
       "      <td>4</td>\n",
       "      <td>Allen, Mr. William Henry</td>\n",
       "      <td>5</td>\n",
       "      <td>Allen</td>\n",
       "      <td>1</td>\n",
       "      <td>0</td>\n",
       "      <td>0</td>\n",
       "      <td>0</td>\n",
       "      <td>Mr</td>\n",
       "      <td>2</td>\n",
       "      <td>0.400000</td>\n",
       "    </tr>\n",
       "    <tr>\n",
       "      <td>5</td>\n",
       "      <td>Moran, Mr. James</td>\n",
       "      <td>5</td>\n",
       "      <td>Moran</td>\n",
       "      <td>1</td>\n",
       "      <td>0</td>\n",
       "      <td>0</td>\n",
       "      <td>0</td>\n",
       "      <td>Mr</td>\n",
       "      <td>2</td>\n",
       "      <td>0.400000</td>\n",
       "    </tr>\n",
       "    <tr>\n",
       "      <td>6</td>\n",
       "      <td>McCarthy, Mr. Timothy J</td>\n",
       "      <td>8</td>\n",
       "      <td>McCarthy</td>\n",
       "      <td>1</td>\n",
       "      <td>0</td>\n",
       "      <td>0</td>\n",
       "      <td>0</td>\n",
       "      <td>Mr</td>\n",
       "      <td>2</td>\n",
       "      <td>0.250000</td>\n",
       "    </tr>\n",
       "    <tr>\n",
       "      <td>7</td>\n",
       "      <td>Palsson, Master. Gosta Leonard</td>\n",
       "      <td>7</td>\n",
       "      <td>Palsson</td>\n",
       "      <td>0</td>\n",
       "      <td>1</td>\n",
       "      <td>0</td>\n",
       "      <td>0</td>\n",
       "      <td>Master</td>\n",
       "      <td>2</td>\n",
       "      <td>0.285714</td>\n",
       "    </tr>\n",
       "    <tr>\n",
       "      <td>8</td>\n",
       "      <td>Johnson, Mrs. Oscar W (Elisabeth Vilhelmina Berg)</td>\n",
       "      <td>7</td>\n",
       "      <td>Johnson</td>\n",
       "      <td>0</td>\n",
       "      <td>0</td>\n",
       "      <td>1</td>\n",
       "      <td>0</td>\n",
       "      <td>Mrs</td>\n",
       "      <td>2</td>\n",
       "      <td>0.285714</td>\n",
       "    </tr>\n",
       "    <tr>\n",
       "      <td>9</td>\n",
       "      <td>Nasser, Mrs. Nicholas (Adele Achem)</td>\n",
       "      <td>6</td>\n",
       "      <td>Nasser</td>\n",
       "      <td>0</td>\n",
       "      <td>0</td>\n",
       "      <td>1</td>\n",
       "      <td>0</td>\n",
       "      <td>Mrs</td>\n",
       "      <td>2</td>\n",
       "      <td>0.333333</td>\n",
       "    </tr>\n",
       "  </tbody>\n",
       "</table>\n",
       "</div>"
      ],
      "text/plain": [
       "                                                Name  LN_Length   LastName  \\\n",
       "0                            Braund, Mr. Owen Harris          6     Braund   \n",
       "1  Cumings, Mrs. John Bradley (Florence Briggs Th...          7    Cumings   \n",
       "2                             Heikkinen, Miss. Laina          9  Heikkinen   \n",
       "3       Futrelle, Mrs. Jacques Heath (Lily May Peel)          8   Futrelle   \n",
       "4                           Allen, Mr. William Henry          5      Allen   \n",
       "5                                   Moran, Mr. James          5      Moran   \n",
       "6                            McCarthy, Mr. Timothy J          8   McCarthy   \n",
       "7                     Palsson, Master. Gosta Leonard          7    Palsson   \n",
       "8  Johnson, Mrs. Oscar W (Elisabeth Vilhelmina Berg)          7    Johnson   \n",
       "9                Nasser, Mrs. Nicholas (Adele Achem)          6     Nasser   \n",
       "\n",
       "   Sex_Mr  Sex_Master  Sex_Mrs  Sex_Miss    MMMM  LN_Vowels  LN_Vfrac  \n",
       "0       1           0        0         0      Mr          2  0.333333  \n",
       "1       0           0        1         0     Mrs          2  0.285714  \n",
       "2       0           0        0         1    Miss          4  0.444444  \n",
       "3       0           0        1         0     Mrs          3  0.375000  \n",
       "4       1           0        0         0      Mr          2  0.400000  \n",
       "5       1           0        0         0      Mr          2  0.400000  \n",
       "6       1           0        0         0      Mr          2  0.250000  \n",
       "7       0           1        0         0  Master          2  0.285714  \n",
       "8       0           0        1         0     Mrs          2  0.285714  \n",
       "9       0           0        1         0     Mrs          2  0.333333  "
      ]
     },
     "execution_count": 164,
     "metadata": {},
     "output_type": "execute_result"
    }
   ],
   "source": [
    "df_train[['Name', 'LN_Length', 'LastName', 'Sex_Mr', 'Sex_Master', 'Sex_Mrs', 'Sex_Miss', 'MMMM', 'LN_Vowels', 'LN_Vfrac']].head(10)"
   ]
  },
  {
   "cell_type": "markdown",
   "metadata": {},
   "source": [
    "### Check for any NaNs in the Train,Test data"
   ]
  },
  {
   "cell_type": "code",
   "execution_count": 165,
   "metadata": {},
   "outputs": [
    {
     "name": "stdout",
     "output_type": "stream",
     "text": [
      "\n",
      "Checking for NaNs:\n",
      "\n",
      "   All OK - no NaNs found.\n",
      "\n"
     ]
    }
   ],
   "source": [
    "# Check for NaN's in the data sets\n",
    "# Go through the columns one at a time\n",
    "# For Titanic the Age is the most NaN'ed column...\n",
    "\n",
    "n_train = len(df_train)\n",
    "n_test = len(df_test)\n",
    "print(\"\\nChecking for NaNs:\\n\")\n",
    "all_ok = True\n",
    "for col in df_test.columns:\n",
    "    nona_train = len(df_train[col].dropna(axis=0))\n",
    "    nanpc_train = 100.0*(n_train-nona_train)/n_train\n",
    "    nona_test = len(df_test[col].dropna(axis=0))\n",
    "    nanpc_test = 100.0*(n_test-nona_test)/n_test\n",
    "    # Only show it if there are NaNs:\n",
    "    if (nanpc_train + nanpc_test > 0.0):\n",
    "        print(\"{:.3f}%  {} OK out of {}\".format(nanpc_train, nona_train, n_train), \"  \"+col)\n",
    "        print(\"{:.3f}%  {} OK out of {}\".format(nanpc_test, nona_test, n_test), \"  \"+col)\n",
    "        all_ok = False\n",
    "if all_ok:\n",
    "    print(\"   All OK - no NaNs found.\\n\")"
   ]
  },
  {
   "cell_type": "markdown",
   "metadata": {},
   "source": [
    "### Finished making features"
   ]
  },
  {
   "cell_type": "code",
   "execution_count": 166,
   "metadata": {},
   "outputs": [
    {
     "data": {
      "text/html": [
       "<div>\n",
       "<style scoped>\n",
       "    .dataframe tbody tr th:only-of-type {\n",
       "        vertical-align: middle;\n",
       "    }\n",
       "\n",
       "    .dataframe tbody tr th {\n",
       "        vertical-align: top;\n",
       "    }\n",
       "\n",
       "    .dataframe thead th {\n",
       "        text-align: right;\n",
       "    }\n",
       "</style>\n",
       "<table border=\"1\" class=\"dataframe\">\n",
       "  <thead>\n",
       "    <tr style=\"text-align: right;\">\n",
       "      <th></th>\n",
       "      <th>PassengerId</th>\n",
       "      <th>Survived</th>\n",
       "      <th>Pclass</th>\n",
       "      <th>Name</th>\n",
       "      <th>Sex</th>\n",
       "      <th>Age</th>\n",
       "      <th>SibSp</th>\n",
       "      <th>Parch</th>\n",
       "      <th>Ticket</th>\n",
       "      <th>Fare</th>\n",
       "      <th>...</th>\n",
       "      <th>Embark_S</th>\n",
       "      <th>LastName</th>\n",
       "      <th>MMMM</th>\n",
       "      <th>Sex_Mr</th>\n",
       "      <th>Sex_Master</th>\n",
       "      <th>Sex_Mrs</th>\n",
       "      <th>Sex_Miss</th>\n",
       "      <th>LN_Length</th>\n",
       "      <th>LN_Vowels</th>\n",
       "      <th>LN_Vfrac</th>\n",
       "    </tr>\n",
       "  </thead>\n",
       "  <tbody>\n",
       "    <tr>\n",
       "      <td>0</td>\n",
       "      <td>1</td>\n",
       "      <td>0</td>\n",
       "      <td>3</td>\n",
       "      <td>Braund, Mr. Owen Harris</td>\n",
       "      <td>male</td>\n",
       "      <td>22.0</td>\n",
       "      <td>1</td>\n",
       "      <td>0</td>\n",
       "      <td>A/5 21171</td>\n",
       "      <td>7.2500</td>\n",
       "      <td>...</td>\n",
       "      <td>1</td>\n",
       "      <td>Braund</td>\n",
       "      <td>Mr</td>\n",
       "      <td>1</td>\n",
       "      <td>0</td>\n",
       "      <td>0</td>\n",
       "      <td>0</td>\n",
       "      <td>6</td>\n",
       "      <td>2</td>\n",
       "      <td>0.333333</td>\n",
       "    </tr>\n",
       "    <tr>\n",
       "      <td>1</td>\n",
       "      <td>2</td>\n",
       "      <td>1</td>\n",
       "      <td>1</td>\n",
       "      <td>Cumings, Mrs. John Bradley (Florence Briggs Th...</td>\n",
       "      <td>female</td>\n",
       "      <td>38.0</td>\n",
       "      <td>1</td>\n",
       "      <td>0</td>\n",
       "      <td>PC 17599</td>\n",
       "      <td>71.2833</td>\n",
       "      <td>...</td>\n",
       "      <td>0</td>\n",
       "      <td>Cumings</td>\n",
       "      <td>Mrs</td>\n",
       "      <td>0</td>\n",
       "      <td>0</td>\n",
       "      <td>1</td>\n",
       "      <td>0</td>\n",
       "      <td>7</td>\n",
       "      <td>2</td>\n",
       "      <td>0.285714</td>\n",
       "    </tr>\n",
       "    <tr>\n",
       "      <td>2</td>\n",
       "      <td>3</td>\n",
       "      <td>1</td>\n",
       "      <td>3</td>\n",
       "      <td>Heikkinen, Miss. Laina</td>\n",
       "      <td>female</td>\n",
       "      <td>26.0</td>\n",
       "      <td>0</td>\n",
       "      <td>0</td>\n",
       "      <td>STON/O2. 3101282</td>\n",
       "      <td>7.9250</td>\n",
       "      <td>...</td>\n",
       "      <td>1</td>\n",
       "      <td>Heikkinen</td>\n",
       "      <td>Miss</td>\n",
       "      <td>0</td>\n",
       "      <td>0</td>\n",
       "      <td>0</td>\n",
       "      <td>1</td>\n",
       "      <td>9</td>\n",
       "      <td>4</td>\n",
       "      <td>0.444444</td>\n",
       "    </tr>\n",
       "    <tr>\n",
       "      <td>3</td>\n",
       "      <td>4</td>\n",
       "      <td>1</td>\n",
       "      <td>1</td>\n",
       "      <td>Futrelle, Mrs. Jacques Heath (Lily May Peel)</td>\n",
       "      <td>female</td>\n",
       "      <td>35.0</td>\n",
       "      <td>1</td>\n",
       "      <td>0</td>\n",
       "      <td>113803</td>\n",
       "      <td>53.1000</td>\n",
       "      <td>...</td>\n",
       "      <td>1</td>\n",
       "      <td>Futrelle</td>\n",
       "      <td>Mrs</td>\n",
       "      <td>0</td>\n",
       "      <td>0</td>\n",
       "      <td>1</td>\n",
       "      <td>0</td>\n",
       "      <td>8</td>\n",
       "      <td>3</td>\n",
       "      <td>0.375000</td>\n",
       "    </tr>\n",
       "    <tr>\n",
       "      <td>4</td>\n",
       "      <td>5</td>\n",
       "      <td>0</td>\n",
       "      <td>3</td>\n",
       "      <td>Allen, Mr. William Henry</td>\n",
       "      <td>male</td>\n",
       "      <td>35.0</td>\n",
       "      <td>0</td>\n",
       "      <td>0</td>\n",
       "      <td>373450</td>\n",
       "      <td>8.0500</td>\n",
       "      <td>...</td>\n",
       "      <td>1</td>\n",
       "      <td>Allen</td>\n",
       "      <td>Mr</td>\n",
       "      <td>1</td>\n",
       "      <td>0</td>\n",
       "      <td>0</td>\n",
       "      <td>0</td>\n",
       "      <td>5</td>\n",
       "      <td>2</td>\n",
       "      <td>0.400000</td>\n",
       "    </tr>\n",
       "    <tr>\n",
       "      <td>5</td>\n",
       "      <td>6</td>\n",
       "      <td>0</td>\n",
       "      <td>3</td>\n",
       "      <td>Moran, Mr. James</td>\n",
       "      <td>male</td>\n",
       "      <td>23.0</td>\n",
       "      <td>0</td>\n",
       "      <td>0</td>\n",
       "      <td>330877</td>\n",
       "      <td>8.4583</td>\n",
       "      <td>...</td>\n",
       "      <td>0</td>\n",
       "      <td>Moran</td>\n",
       "      <td>Mr</td>\n",
       "      <td>1</td>\n",
       "      <td>0</td>\n",
       "      <td>0</td>\n",
       "      <td>0</td>\n",
       "      <td>5</td>\n",
       "      <td>2</td>\n",
       "      <td>0.400000</td>\n",
       "    </tr>\n",
       "  </tbody>\n",
       "</table>\n",
       "<p>6 rows × 36 columns</p>\n",
       "</div>"
      ],
      "text/plain": [
       "   PassengerId  Survived  Pclass  \\\n",
       "0            1         0       3   \n",
       "1            2         1       1   \n",
       "2            3         1       3   \n",
       "3            4         1       1   \n",
       "4            5         0       3   \n",
       "5            6         0       3   \n",
       "\n",
       "                                                Name     Sex   Age  SibSp  \\\n",
       "0                            Braund, Mr. Owen Harris    male  22.0      1   \n",
       "1  Cumings, Mrs. John Bradley (Florence Briggs Th...  female  38.0      1   \n",
       "2                             Heikkinen, Miss. Laina  female  26.0      0   \n",
       "3       Futrelle, Mrs. Jacques Heath (Lily May Peel)  female  35.0      1   \n",
       "4                           Allen, Mr. William Henry    male  35.0      0   \n",
       "5                                   Moran, Mr. James    male  23.0      0   \n",
       "\n",
       "   Parch            Ticket     Fare  ... Embark_S   LastName  MMMM  Sex_Mr  \\\n",
       "0      0         A/5 21171   7.2500  ...        1     Braund    Mr       1   \n",
       "1      0          PC 17599  71.2833  ...        0    Cumings   Mrs       0   \n",
       "2      0  STON/O2. 3101282   7.9250  ...        1  Heikkinen  Miss       0   \n",
       "3      0            113803  53.1000  ...        1   Futrelle   Mrs       0   \n",
       "4      0            373450   8.0500  ...        1      Allen    Mr       1   \n",
       "5      0            330877   8.4583  ...        0      Moran    Mr       1   \n",
       "\n",
       "   Sex_Master  Sex_Mrs  Sex_Miss  LN_Length  LN_Vowels  LN_Vfrac  \n",
       "0           0        0         0          6          2  0.333333  \n",
       "1           0        1         0          7          2  0.285714  \n",
       "2           0        0         1          9          4  0.444444  \n",
       "3           0        1         0          8          3  0.375000  \n",
       "4           0        0         0          5          2  0.400000  \n",
       "5           0        0         0          5          2  0.400000  \n",
       "\n",
       "[6 rows x 36 columns]"
      ]
     },
     "execution_count": 166,
     "metadata": {},
     "output_type": "execute_result"
    }
   ],
   "source": [
    "# Look at the data now...\n",
    "df_train.head(6)"
   ]
  },
  {
   "cell_type": "code",
   "execution_count": 167,
   "metadata": {},
   "outputs": [
    {
     "data": {
      "text/html": [
       "<div>\n",
       "<style scoped>\n",
       "    .dataframe tbody tr th:only-of-type {\n",
       "        vertical-align: middle;\n",
       "    }\n",
       "\n",
       "    .dataframe tbody tr th {\n",
       "        vertical-align: top;\n",
       "    }\n",
       "\n",
       "    .dataframe thead th {\n",
       "        text-align: right;\n",
       "    }\n",
       "</style>\n",
       "<table border=\"1\" class=\"dataframe\">\n",
       "  <thead>\n",
       "    <tr style=\"text-align: right;\">\n",
       "      <th></th>\n",
       "      <th>PassengerId</th>\n",
       "      <th>Pclass</th>\n",
       "      <th>Name</th>\n",
       "      <th>Sex</th>\n",
       "      <th>Age</th>\n",
       "      <th>SibSp</th>\n",
       "      <th>Parch</th>\n",
       "      <th>Ticket</th>\n",
       "      <th>Fare</th>\n",
       "      <th>Cabin</th>\n",
       "      <th>...</th>\n",
       "      <th>Embark_S</th>\n",
       "      <th>LastName</th>\n",
       "      <th>MMMM</th>\n",
       "      <th>Sex_Mr</th>\n",
       "      <th>Sex_Master</th>\n",
       "      <th>Sex_Mrs</th>\n",
       "      <th>Sex_Miss</th>\n",
       "      <th>LN_Length</th>\n",
       "      <th>LN_Vowels</th>\n",
       "      <th>LN_Vfrac</th>\n",
       "    </tr>\n",
       "  </thead>\n",
       "  <tbody>\n",
       "    <tr>\n",
       "      <td>0</td>\n",
       "      <td>892</td>\n",
       "      <td>3</td>\n",
       "      <td>Kelly, Mr. James</td>\n",
       "      <td>male</td>\n",
       "      <td>34.5</td>\n",
       "      <td>0</td>\n",
       "      <td>0</td>\n",
       "      <td>330911</td>\n",
       "      <td>7.8292</td>\n",
       "      <td>ooo</td>\n",
       "      <td>...</td>\n",
       "      <td>0</td>\n",
       "      <td>Kelly</td>\n",
       "      <td>Mr</td>\n",
       "      <td>1</td>\n",
       "      <td>0</td>\n",
       "      <td>0</td>\n",
       "      <td>0</td>\n",
       "      <td>5</td>\n",
       "      <td>2</td>\n",
       "      <td>0.400000</td>\n",
       "    </tr>\n",
       "    <tr>\n",
       "      <td>1</td>\n",
       "      <td>893</td>\n",
       "      <td>3</td>\n",
       "      <td>Wilkes, Mrs. James (Ellen Needs)</td>\n",
       "      <td>female</td>\n",
       "      <td>47.0</td>\n",
       "      <td>1</td>\n",
       "      <td>0</td>\n",
       "      <td>363272</td>\n",
       "      <td>7.0000</td>\n",
       "      <td>ooo</td>\n",
       "      <td>...</td>\n",
       "      <td>1</td>\n",
       "      <td>Wilkes</td>\n",
       "      <td>Mrs</td>\n",
       "      <td>0</td>\n",
       "      <td>0</td>\n",
       "      <td>1</td>\n",
       "      <td>0</td>\n",
       "      <td>6</td>\n",
       "      <td>2</td>\n",
       "      <td>0.333333</td>\n",
       "    </tr>\n",
       "    <tr>\n",
       "      <td>2</td>\n",
       "      <td>894</td>\n",
       "      <td>2</td>\n",
       "      <td>Myles, Mr. Thomas Francis</td>\n",
       "      <td>male</td>\n",
       "      <td>62.0</td>\n",
       "      <td>0</td>\n",
       "      <td>0</td>\n",
       "      <td>240276</td>\n",
       "      <td>9.6875</td>\n",
       "      <td>ooo</td>\n",
       "      <td>...</td>\n",
       "      <td>0</td>\n",
       "      <td>Myles</td>\n",
       "      <td>Mr</td>\n",
       "      <td>1</td>\n",
       "      <td>0</td>\n",
       "      <td>0</td>\n",
       "      <td>0</td>\n",
       "      <td>5</td>\n",
       "      <td>2</td>\n",
       "      <td>0.400000</td>\n",
       "    </tr>\n",
       "    <tr>\n",
       "      <td>3</td>\n",
       "      <td>895</td>\n",
       "      <td>3</td>\n",
       "      <td>Wirz, Mr. Albert</td>\n",
       "      <td>male</td>\n",
       "      <td>27.0</td>\n",
       "      <td>0</td>\n",
       "      <td>0</td>\n",
       "      <td>315154</td>\n",
       "      <td>8.6625</td>\n",
       "      <td>ooo</td>\n",
       "      <td>...</td>\n",
       "      <td>1</td>\n",
       "      <td>Wirz</td>\n",
       "      <td>Mr</td>\n",
       "      <td>1</td>\n",
       "      <td>0</td>\n",
       "      <td>0</td>\n",
       "      <td>0</td>\n",
       "      <td>4</td>\n",
       "      <td>1</td>\n",
       "      <td>0.250000</td>\n",
       "    </tr>\n",
       "    <tr>\n",
       "      <td>4</td>\n",
       "      <td>896</td>\n",
       "      <td>3</td>\n",
       "      <td>Hirvonen, Mrs. Alexander (Helga E Lindqvist)</td>\n",
       "      <td>female</td>\n",
       "      <td>22.0</td>\n",
       "      <td>1</td>\n",
       "      <td>1</td>\n",
       "      <td>3101298</td>\n",
       "      <td>12.2875</td>\n",
       "      <td>ooo</td>\n",
       "      <td>...</td>\n",
       "      <td>1</td>\n",
       "      <td>Hirvonen</td>\n",
       "      <td>Mrs</td>\n",
       "      <td>0</td>\n",
       "      <td>0</td>\n",
       "      <td>1</td>\n",
       "      <td>0</td>\n",
       "      <td>8</td>\n",
       "      <td>3</td>\n",
       "      <td>0.375000</td>\n",
       "    </tr>\n",
       "    <tr>\n",
       "      <td>5</td>\n",
       "      <td>897</td>\n",
       "      <td>3</td>\n",
       "      <td>Svensson, Mr. Johan Cervin</td>\n",
       "      <td>male</td>\n",
       "      <td>14.0</td>\n",
       "      <td>0</td>\n",
       "      <td>0</td>\n",
       "      <td>7538</td>\n",
       "      <td>9.2250</td>\n",
       "      <td>ooo</td>\n",
       "      <td>...</td>\n",
       "      <td>1</td>\n",
       "      <td>Svensson</td>\n",
       "      <td>Mr</td>\n",
       "      <td>1</td>\n",
       "      <td>0</td>\n",
       "      <td>0</td>\n",
       "      <td>0</td>\n",
       "      <td>8</td>\n",
       "      <td>2</td>\n",
       "      <td>0.250000</td>\n",
       "    </tr>\n",
       "  </tbody>\n",
       "</table>\n",
       "<p>6 rows × 34 columns</p>\n",
       "</div>"
      ],
      "text/plain": [
       "   PassengerId  Pclass                                          Name     Sex  \\\n",
       "0          892       3                              Kelly, Mr. James    male   \n",
       "1          893       3              Wilkes, Mrs. James (Ellen Needs)  female   \n",
       "2          894       2                     Myles, Mr. Thomas Francis    male   \n",
       "3          895       3                              Wirz, Mr. Albert    male   \n",
       "4          896       3  Hirvonen, Mrs. Alexander (Helga E Lindqvist)  female   \n",
       "5          897       3                    Svensson, Mr. Johan Cervin    male   \n",
       "\n",
       "    Age  SibSp  Parch   Ticket     Fare Cabin  ... Embark_S  LastName  MMMM  \\\n",
       "0  34.5      0      0   330911   7.8292   ooo  ...        0     Kelly    Mr   \n",
       "1  47.0      1      0   363272   7.0000   ooo  ...        1    Wilkes   Mrs   \n",
       "2  62.0      0      0   240276   9.6875   ooo  ...        0     Myles    Mr   \n",
       "3  27.0      0      0   315154   8.6625   ooo  ...        1      Wirz    Mr   \n",
       "4  22.0      1      1  3101298  12.2875   ooo  ...        1  Hirvonen   Mrs   \n",
       "5  14.0      0      0     7538   9.2250   ooo  ...        1  Svensson    Mr   \n",
       "\n",
       "   Sex_Mr  Sex_Master  Sex_Mrs  Sex_Miss  LN_Length  LN_Vowels  LN_Vfrac  \n",
       "0       1           0        0         0          5          2  0.400000  \n",
       "1       0           0        1         0          6          2  0.333333  \n",
       "2       1           0        0         0          5          2  0.400000  \n",
       "3       1           0        0         0          4          1  0.250000  \n",
       "4       0           0        1         0          8          3  0.375000  \n",
       "5       1           0        0         0          8          2  0.250000  \n",
       "\n",
       "[6 rows x 34 columns]"
      ]
     },
     "execution_count": 167,
     "metadata": {},
     "output_type": "execute_result"
    }
   ],
   "source": [
    "# and the Test data\n",
    "df_test.head(6)"
   ]
  },
  {
   "cell_type": "markdown",
   "metadata": {},
   "source": [
    "## <a id=\"FeatureSummary\">Summary of the Features</a>\n",
    "Back to <a href=\"#Index\">Index</a>"
   ]
  },
  {
   "cell_type": "markdown",
   "metadata": {},
   "source": [
    "### Compare Train and Test Averages"
   ]
  },
  {
   "cell_type": "code",
   "execution_count": 168,
   "metadata": {},
   "outputs": [
    {
     "name": "stdout",
     "output_type": "stream",
     "text": [
      "     --column--    z-score      Test Mean     Train Mean\n",
      "    PassengerId    42.8979      1100.5000       446.0000\n",
      "         Pclass    -0.8694         2.2656         2.3086\n",
      "            Age     0.6030        30.0323        29.5569\n",
      "          SibSp    -0.7167         0.4474         0.4860\n",
      "          Parch     0.4112         0.3923         0.3737\n",
      "           Fare     1.0842        35.6567        32.4702\n",
      "       Survived   -47.9708        -1.0000         0.3838\n",
      "       Pclass_1     0.5333         0.2560         0.2424\n",
      "       Pclass_2     0.6654         0.2225         0.2065\n",
      "       Pclass_3    -1.0011         0.5215         0.5511\n",
      "          NoAge     0.2995         0.2057         0.1987\n",
      "        Age_log     0.8686         3.3146         3.2826\n",
      "      Age_young    -1.0574         0.0959         0.1224\n",
      "        Age_old     0.3372         0.0266         0.0250\n",
      "         Fare_0    -1.4667         0.0072         0.0191\n",
      "       Fare_log     0.3753         2.9593         2.9386\n",
      "        NoCabin     0.4515         0.7823         0.7710\n",
      "       Embark_C     2.3906         0.2440         0.1886\n",
      "       Embark_Q     1.4176         0.1100         0.0864\n",
      "       Embark_S    -2.9864         0.6459         0.7250\n",
      "         Sex_Mr    -0.5708         0.5861         0.6027\n",
      "     Sex_Master     0.4352         0.0502         0.0449\n",
      "        Sex_Mrs     1.4866         0.1770         0.1459\n",
      "       Sex_Miss    -0.8290         0.1866         0.2065\n",
      "      LN_Length    -0.1456         6.7703         6.7890\n",
      "      LN_Vowels     0.0099         2.5000         2.4994\n",
      "       LN_Vfrac    -0.1135         0.3721         0.3728\n"
     ]
    }
   ],
   "source": [
    "# Compare Train and Test averages\n",
    "# Using a z-score with standard error based on the number of samples\n",
    "descr_train = df_train.describe()\n",
    "descr_test = df_test.describe()\n",
    "# Number of samples in the test set\n",
    "n_test = descr_test.loc[\"count\",\"Age\"]\n",
    "n_train = descr_train.loc[\"count\",\"Age\"]\n",
    "if SHOW_EDA:\n",
    "    print(\"     --column--    z-score      Test Mean     Train Mean\")\n",
    "for col in descr_test.columns:\n",
    "    ave_test = descr_test.loc[\"mean\",col]\n",
    "    ave_train = descr_train.loc[\"mean\",col]\n",
    "    std_train = descr_train.loc[\"std\",col]\n",
    "    if SHOW_EDA:\n",
    "        print(col.rjust(15), \n",
    "            '{:.4f}'.format((ave_test - ave_train)/\n",
    "                               (std_train*np.sqrt(1.0/n_test+1.0/n_train))).rjust(10),\n",
    "            '{:.4f}'.format(ave_test).rjust(14),\n",
    "            '{:.4f}'.format(ave_train).rjust(14))"
   ]
  },
  {
   "cell_type": "markdown",
   "metadata": {},
   "source": [
    "### Show scatter plots of some values"
   ]
  },
  {
   "cell_type": "code",
   "execution_count": 169,
   "metadata": {},
   "outputs": [
    {
     "data": {
      "text/plain": [
       "<matplotlib.axes._subplots.AxesSubplot at 0x1afc53c4d08>"
      ]
     },
     "execution_count": 169,
     "metadata": {},
     "output_type": "execute_result"
    },
    {
     "data": {
      "text/plain": [
       "Text(0.5, 1.0, 'Showing All  (red=Perished)')"
      ]
     },
     "execution_count": 169,
     "metadata": {},
     "output_type": "execute_result"
    },
    {
     "data": {
      "image/png": "[encoded data removed]",
      "text/plain": [
       "<Figure size 576x360 with 1 Axes>"
      ]
     },
     "metadata": {
      "needs_background": "light"
     },
     "output_type": "display_data"
    },
    {
     "data": {
      "text/plain": [
       "<matplotlib.axes._subplots.AxesSubplot at 0x1afc542a048>"
      ]
     },
     "execution_count": 169,
     "metadata": {},
     "output_type": "execute_result"
    },
    {
     "data": {
      "text/plain": [
       "Text(0.5, 1.0, 'Showing only Mrs  (red=Perished)')"
      ]
     },
     "execution_count": 169,
     "metadata": {},
     "output_type": "execute_result"
    },
    {
     "data": {
      "image/png": "[encoded data removed]",
      "text/plain": [
       "<Figure size 576x360 with 1 Axes>"
      ]
     },
     "metadata": {
      "needs_background": "light"
     },
     "output_type": "display_data"
    }
   ],
   "source": [
    "df_train.plot.scatter(\"Age\",\"Fare_log\",\n",
    "                        figsize=(8,5),c='Survived',alpha=0.6,colormap=\"Set1\",colorbar=False)\n",
    "plt.title(\"Showing All  (red=Perished)\")\n",
    "plt.show()\n",
    "prefix = \"Mrs\"\n",
    "df_train[df_train['MMMM'] == prefix].plot.scatter(\"Age\",\"Fare_log\",\n",
    "                        figsize=(8,5),c='Survived',alpha=0.6,colormap=\"Set1\",colorbar=False)\n",
    "plt.title(\"Showing only \"+prefix+\"  (red=Perished)\")\n",
    "plt.show()"
   ]
  },
  {
   "cell_type": "code",
   "execution_count": 170,
   "metadata": {},
   "outputs": [
    {
     "data": {
      "text/plain": [
       "<matplotlib.axes._subplots.AxesSubplot at 0x1afc650ab88>"
      ]
     },
     "execution_count": 170,
     "metadata": {},
     "output_type": "execute_result"
    },
    {
     "data": {
      "text/plain": [
       "Text(0.5, 1.0, 'Showing All  (red=Perished)')"
      ]
     },
     "execution_count": 170,
     "metadata": {},
     "output_type": "execute_result"
    },
    {
     "data": {
      "image/png": "[encoded data removed]",
      "text/plain": [
       "<Figure size 576x360 with 1 Axes>"
      ]
     },
     "metadata": {
      "needs_background": "light"
     },
     "output_type": "display_data"
    },
    {
     "data": {
      "text/plain": [
       "<matplotlib.axes._subplots.AxesSubplot at 0x1afc6578508>"
      ]
     },
     "execution_count": 170,
     "metadata": {},
     "output_type": "execute_result"
    },
    {
     "data": {
      "text/plain": [
       "Text(0.5, 1.0, 'Showing All  (red=Perished)')"
      ]
     },
     "execution_count": 170,
     "metadata": {},
     "output_type": "execute_result"
    },
    {
     "data": {
      "image/png": "[encoded data removed]",
      "text/plain": [
       "<Figure size 576x360 with 1 Axes>"
      ]
     },
     "metadata": {
      "needs_background": "light"
     },
     "output_type": "display_data"
    }
   ],
   "source": [
    "df_train.plot.scatter(\"LN_Length\",\"LN_Vowels\",\n",
    "                        figsize=(8,5),c='Survived',alpha=0.6,colormap=\"Set1\",colorbar=False)\n",
    "plt.title(\"Showing All  (red=Perished)\")\n",
    "plt.show()\n",
    "\n",
    "df_train.plot.scatter(\"LN_Length\",\"LN_Vfrac\",\n",
    "                        figsize=(8,5),c='Survived',alpha=0.3,colormap=\"Set1\",colorbar=False)\n",
    "plt.title(\"Showing All  (red=Perished)\")\n",
    "plt.show()"
   ]
  },
  {
   "cell_type": "code",
   "execution_count": 171,
   "metadata": {},
   "outputs": [
    {
     "data": {
      "text/plain": [
       "<matplotlib.axes._subplots.AxesSubplot at 0x1afc65d1848>"
      ]
     },
     "execution_count": 171,
     "metadata": {},
     "output_type": "execute_result"
    },
    {
     "data": {
      "text/plain": [
       "Text(1.8, 0.5, 'Females')"
      ]
     },
     "execution_count": 171,
     "metadata": {},
     "output_type": "execute_result"
    },
    {
     "data": {
      "image/png": "[encoded data removed]",
      "text/plain": [
       "<Figure size 1440x216 with 1 Axes>"
      ]
     },
     "metadata": {
      "needs_background": "light"
     },
     "output_type": "display_data"
    },
    {
     "data": {
      "text/plain": [
       "<matplotlib.axes._subplots.AxesSubplot at 0x1afc6643c48>"
      ]
     },
     "execution_count": 171,
     "metadata": {},
     "output_type": "execute_result"
    },
    {
     "data": {
      "text/plain": [
       "Text(1.9, 0.5, 'Males')"
      ]
     },
     "execution_count": 171,
     "metadata": {},
     "output_type": "execute_result"
    },
    {
     "data": {
      "image/png": "[encoded data removed]",
      "text/plain": [
       "<Figure size 1440x216 with 1 Axes>"
      ]
     },
     "metadata": {
      "needs_background": "light"
     },
     "output_type": "display_data"
    }
   ],
   "source": [
    "# Survival vs Age for Females, Males\n",
    "df_train[df_train['Sex_F'] == 1].plot.scatter('Age_log','Survived')\n",
    "plt.text(1.8, 0.5,\"Females\")\n",
    "plt.show()\n",
    "df_train[df_train['Sex_M'] == 1].plot.scatter('Age_log','Survived')\n",
    "plt.text(1.9, 0.5,\"Males\")\n",
    "plt.show()"
   ]
  },
  {
   "cell_type": "code",
   "execution_count": 172,
   "metadata": {},
   "outputs": [
    {
     "data": {
      "text/plain": [
       "{'bodies': [<matplotlib.collections.PolyCollection at 0x1afc66bfa88>,\n",
       "  <matplotlib.collections.PolyCollection at 0x1afc66bff08>],\n",
       " 'cmedians': <matplotlib.collections.LineCollection at 0x1afc66b3b48>}"
      ]
     },
     "execution_count": 172,
     "metadata": {},
     "output_type": "execute_result"
    },
    {
     "data": {
      "text/plain": [
       "Text(0.5, 1.0, 'Survived           Selection: All            Perished')"
      ]
     },
     "execution_count": 172,
     "metadata": {},
     "output_type": "execute_result"
    },
    {
     "data": {
      "text/plain": [
       "Text(0.5, 0, '')"
      ]
     },
     "execution_count": 172,
     "metadata": {},
     "output_type": "execute_result"
    },
    {
     "data": {
      "text/plain": [
       "Text(0, 0.5, 'Age')"
      ]
     },
     "execution_count": 172,
     "metadata": {},
     "output_type": "execute_result"
    },
    {
     "data": {
      "image/png": "[encoded data removed]",
      "text/plain": [
       "<Figure size 576x360 with 1 Axes>"
      ]
     },
     "metadata": {
      "needs_background": "light"
     },
     "output_type": "display_data"
    },
    {
     "data": {
      "text/plain": [
       "{'bodies': [<matplotlib.collections.PolyCollection at 0x1afc6731f48>,\n",
       "  <matplotlib.collections.PolyCollection at 0x1afc6739588>],\n",
       " 'cmedians': <matplotlib.collections.LineCollection at 0x1afc6727a88>}"
      ]
     },
     "execution_count": 172,
     "metadata": {},
     "output_type": "execute_result"
    },
    {
     "data": {
      "text/plain": [
       "Text(0.5, 1.0, 'Survived           Selection: Male            Perished')"
      ]
     },
     "execution_count": 172,
     "metadata": {},
     "output_type": "execute_result"
    },
    {
     "data": {
      "text/plain": [
       "Text(0.5, 0, '')"
      ]
     },
     "execution_count": 172,
     "metadata": {},
     "output_type": "execute_result"
    },
    {
     "data": {
      "text/plain": [
       "Text(0, 0.5, 'Age')"
      ]
     },
     "execution_count": 172,
     "metadata": {},
     "output_type": "execute_result"
    },
    {
     "data": {
      "image/png": "[encoded data removed]",
      "text/plain": [
       "<Figure size 576x360 with 1 Axes>"
      ]
     },
     "metadata": {
      "needs_background": "light"
     },
     "output_type": "display_data"
    },
    {
     "data": {
      "text/plain": [
       "{'bodies': [<matplotlib.collections.PolyCollection at 0x1afc67ea808>,\n",
       "  <matplotlib.collections.PolyCollection at 0x1afc67eae08>],\n",
       " 'cmedians': <matplotlib.collections.LineCollection at 0x1afc67df348>}"
      ]
     },
     "execution_count": 172,
     "metadata": {},
     "output_type": "execute_result"
    },
    {
     "data": {
      "text/plain": [
       "Text(0.5, 1.0, 'Survived           Selection: Female            Perished')"
      ]
     },
     "execution_count": 172,
     "metadata": {},
     "output_type": "execute_result"
    },
    {
     "data": {
      "text/plain": [
       "Text(0.5, 0, '')"
      ]
     },
     "execution_count": 172,
     "metadata": {},
     "output_type": "execute_result"
    },
    {
     "data": {
      "text/plain": [
       "Text(0, 0.5, 'Age')"
      ]
     },
     "execution_count": 172,
     "metadata": {},
     "output_type": "execute_result"
    },
    {
     "data": {
      "image/png": "[encoded data removed]",
      "text/plain": [
       "<Figure size 576x360 with 1 Axes>"
      ]
     },
     "metadata": {
      "needs_background": "light"
     },
     "output_type": "display_data"
    }
   ],
   "source": [
    "# Try the violin plot - Male, Female categories\n",
    "# choose a numerical column:\n",
    "vpcol = \"Age\" #  or can use \"Fare_log\"\n",
    "\n",
    "# Simple histogram as a check\n",
    "##df_train['Age'].plot.hist(figsize=(8,5), bins=50)\n",
    "\n",
    "df = df_train\n",
    "status_str = 'All'\n",
    "\n",
    "fig, axes = plt.subplots(figsize=(8,5))\n",
    "\n",
    "axes.violinplot(dataset = [df[df.Survived == 1][vpcol].values,\n",
    "                           df[df.Survived == 0][vpcol].values],\n",
    "               positions=[1.0,1.5],\n",
    "               widths=0.4,\n",
    "               showmeans=False, showmedians=True, showextrema=False,\n",
    "               points=1000,\n",
    "               bw_method=0.1,  # 'scott', 'silverman', or a scalar \n",
    "               vert=True)\n",
    "\n",
    "axes.set_title(\"Survived           Selection: \"+status_str+\"            Perished\")\n",
    "axes.yaxis.grid(True)\n",
    "axes.set_xlabel('')\n",
    "axes.set_ylabel(vpcol)\n",
    "\n",
    "plt.show()\n",
    "\n",
    "\n",
    "df = df_train[df_train['Sex'] == 'male']\n",
    "status_str = 'Male'\n",
    "\n",
    "fig, axes = plt.subplots(figsize=(8,5))\n",
    "\n",
    "axes.violinplot(dataset = [df[df.Survived == 1][vpcol].values,\n",
    "                           df[df.Survived == 0][vpcol].values],\n",
    "               positions=[1.0,1.5],\n",
    "               widths=0.4,\n",
    "               showmeans=False, showmedians=True, showextrema=False,\n",
    "               points=1000,\n",
    "               bw_method=0.1,  # 'scott', 'silverman', or a scalar \n",
    "               vert=True)\n",
    "\n",
    "axes.set_title(\"Survived           Selection: \"+status_str+\"            Perished\")\n",
    "axes.yaxis.grid(True)\n",
    "axes.set_xlabel('')\n",
    "axes.set_ylabel(vpcol)\n",
    "\n",
    "plt.show()\n",
    "\n",
    "\n",
    "df = df_train[df_train['Sex'] == 'female']\n",
    "status_str = 'Female'\n",
    "\n",
    "fig, axes = plt.subplots(figsize=(8,5))\n",
    "\n",
    "axes.violinplot(dataset = [df[df.Survived == 1][vpcol].values,\n",
    "                           df[df.Survived == 0][vpcol].values],\n",
    "               positions=[1.0,1.5],\n",
    "               widths=0.4,\n",
    "               showmeans=False, showmedians=True, showextrema=False,\n",
    "               points=1000,\n",
    "               bw_method=0.1,  # 'scott', 'silverman', or a scalar \n",
    "               vert=True)\n",
    "\n",
    "axes.set_title(\"Survived           Selection: \"+status_str+\"            Perished\")\n",
    "axes.yaxis.grid(True)\n",
    "axes.set_xlabel('')\n",
    "axes.set_ylabel(vpcol)\n",
    "\n",
    "plt.show()\n"
   ]
  },
  {
   "cell_type": "code",
   "execution_count": 173,
   "metadata": {},
   "outputs": [],
   "source": [
    "# How do Age and Fare depend on Pclass\n",
    "\n",
    "##df_train.plot.scatter('Age_log','Pclass')\n",
    "##plt.show()\n",
    "##df_train.plot.scatter('Fare_log','Pclass')\n",
    "##plt.show()"
   ]
  },
  {
   "cell_type": "code",
   "execution_count": 174,
   "metadata": {},
   "outputs": [
    {
     "data": {
      "text/plain": [
       "{'bodies': [<matplotlib.collections.PolyCollection at 0x1afc6859988>,\n",
       "  <matplotlib.collections.PolyCollection at 0x1afc6859f88>,\n",
       "  <matplotlib.collections.PolyCollection at 0x1afc685f508>,\n",
       "  <matplotlib.collections.PolyCollection at 0x1afc685fa48>,\n",
       "  <matplotlib.collections.PolyCollection at 0x1afc685ff88>,\n",
       "  <matplotlib.collections.PolyCollection at 0x1afc6864688>],\n",
       " 'cmedians': <matplotlib.collections.LineCollection at 0x1afc6851dc8>}"
      ]
     },
     "execution_count": 174,
     "metadata": {},
     "output_type": "execute_result"
    },
    {
     "data": {
      "text/plain": [
       "Text(0.5, 1.0, 'Perish/Survival for Pclasses, vs Age')"
      ]
     },
     "execution_count": 174,
     "metadata": {},
     "output_type": "execute_result"
    },
    {
     "data": {
      "text/plain": [
       "Text(0.5, 0, 'Perish                Survive                              Perish                Survive                              Perish                Survive')"
      ]
     },
     "execution_count": 174,
     "metadata": {},
     "output_type": "execute_result"
    },
    {
     "data": {
      "text/plain": [
       "Text(0, 0.5, 'Age')"
      ]
     },
     "execution_count": 174,
     "metadata": {},
     "output_type": "execute_result"
    },
    {
     "data": {
      "image/png": "[encoded data removed]",
      "text/plain": [
       "<Figure size 864x360 with 1 Axes>"
      ]
     },
     "metadata": {
      "needs_background": "light"
     },
     "output_type": "display_data"
    }
   ],
   "source": [
    "# Try the violin plot - Pclass categories\n",
    "# choose a numerical column:\n",
    "vpcol = \"Age\" #\"Fare_log\" # or can use \"Age\"\n",
    "\n",
    "\n",
    "# Select survival status\n",
    "dfs = df_train[df_train['Survived'] == 1].copy()\n",
    "dfp = df_train[df_train['Survived'] == 0].copy()\n",
    "\n",
    "fig, axes = plt.subplots(figsize=(12,5))\n",
    "axes.violinplot(dataset = [dfs[dfs.Pclass == 1][vpcol].values,\n",
    "                           dfs[dfs.Pclass == 2][vpcol].values,\n",
    "                           dfs[dfs.Pclass == 3][vpcol].values,\n",
    "                        dfp[dfp.Pclass == 1][vpcol].values,\n",
    "                        dfp[dfp.Pclass == 2][vpcol].values,\n",
    "                        dfp[dfp.Pclass == 3][vpcol].values],\n",
    "               positions=[1.5,2.5,3.5,1.0,2.0,3.0],\n",
    "               widths=0.4,\n",
    "               showmeans=False, showmedians=True, showextrema=False,\n",
    "               points=1000,\n",
    "               bw_method=0.1,  # 'scott', 'silverman', or a scalar \n",
    "               vert=True)\n",
    "\n",
    "axes.set_title(\"Perish/Survival for Pclasses, vs \"+vpcol)\n",
    "axes.yaxis.grid(False)\n",
    "persur_str = \"Perish                Survive\"\n",
    "axes.set_xlabel(persur_str + 30*\" \" + persur_str + 30*\" \" + persur_str)\n",
    "axes.set_ylabel(vpcol)\n",
    "\n",
    "plt.show()"
   ]
  },
  {
   "cell_type": "code",
   "execution_count": 175,
   "metadata": {},
   "outputs": [
    {
     "data": {
      "text/plain": [
       "{'bodies': [<matplotlib.collections.PolyCollection at 0x1afc6896488>,\n",
       "  <matplotlib.collections.PolyCollection at 0x1afc6896a88>,\n",
       "  <matplotlib.collections.PolyCollection at 0x1afc6896fc8>,\n",
       "  <matplotlib.collections.PolyCollection at 0x1afc689c548>,\n",
       "  <matplotlib.collections.PolyCollection at 0x1afc689ca88>,\n",
       "  <matplotlib.collections.PolyCollection at 0x1afc68a2188>],\n",
       " 'cmedians': <matplotlib.collections.LineCollection at 0x1afc6896448>}"
      ]
     },
     "execution_count": 175,
     "metadata": {},
     "output_type": "execute_result"
    },
    {
     "data": {
      "text/plain": [
       "Text(0.5, 1.0, 'Perish/Survival for Pclasses, vs Fare_log')"
      ]
     },
     "execution_count": 175,
     "metadata": {},
     "output_type": "execute_result"
    },
    {
     "data": {
      "text/plain": [
       "Text(0.5, 0, 'Perish                Survive                              Perish                Survive                              Perish                Survive')"
      ]
     },
     "execution_count": 175,
     "metadata": {},
     "output_type": "execute_result"
    },
    {
     "data": {
      "text/plain": [
       "Text(0, 0.5, 'Fare_log')"
      ]
     },
     "execution_count": 175,
     "metadata": {},
     "output_type": "execute_result"
    },
    {
     "data": {
      "image/png": "[encoded data removed]",
      "text/plain": [
       "<Figure size 864x360 with 1 Axes>"
      ]
     },
     "metadata": {
      "needs_background": "light"
     },
     "output_type": "display_data"
    }
   ],
   "source": [
    "# Try the violin plot - Pclass categories\n",
    "# choose a numerical column:\n",
    "vpcol = \"Fare_log\" #\"Fare_log\" # or can use \"Age\"\n",
    "\n",
    "\n",
    "# Select survival status\n",
    "dfs = df_train[df_train['Survived'] == 1].copy()\n",
    "dfp = df_train[df_train['Survived'] == 0].copy()\n",
    "\n",
    "fig, axes = plt.subplots(figsize=(12,5))\n",
    "axes.violinplot(dataset = [dfs[dfs.Pclass == 1][vpcol].values,\n",
    "                           dfs[dfs.Pclass == 2][vpcol].values,\n",
    "                           dfs[dfs.Pclass == 3][vpcol].values,\n",
    "                        dfp[dfp.Pclass == 1][vpcol].values,\n",
    "                        dfp[dfp.Pclass == 2][vpcol].values,\n",
    "                        dfp[dfp.Pclass == 3][vpcol].values],\n",
    "               positions=[1.5,2.5,3.5,1.0,2.0,3.0],\n",
    "               widths=0.4,\n",
    "               showmeans=False, showmedians=True, showextrema=False,\n",
    "               points=1000,\n",
    "               bw_method=0.1,  # 'scott', 'silverman', or a scalar \n",
    "               vert=True)\n",
    "\n",
    "axes.set_title(\"Perish/Survival for Pclasses, vs \"+vpcol)\n",
    "axes.yaxis.grid(False)\n",
    "persur_str = \"Perish                Survive\"\n",
    "axes.set_xlabel(persur_str + 30*\" \" + persur_str + 30*\" \" + persur_str)\n",
    "axes.set_ylabel(vpcol)\n",
    "\n",
    "plt.show()"
   ]
  },
  {
   "cell_type": "code",
   "execution_count": 176,
   "metadata": {},
   "outputs": [
    {
     "data": {
      "text/plain": [
       "<matplotlib.axes._subplots.AxesSubplot at 0x1afc688d848>"
      ]
     },
     "execution_count": 176,
     "metadata": {},
     "output_type": "execute_result"
    },
    {
     "data": {
      "image/png": "[encoded data removed]",
      "text/plain": [
       "<Figure size 1440x216 with 1 Axes>"
      ]
     },
     "metadata": {
      "needs_background": "light"
     },
     "output_type": "display_data"
    },
    {
     "data": {
      "text/plain": [
       "<matplotlib.axes._subplots.AxesSubplot at 0x1afc69052c8>"
      ]
     },
     "execution_count": 176,
     "metadata": {},
     "output_type": "execute_result"
    },
    {
     "data": {
      "image/png": "[encoded data removed]",
      "text/plain": [
       "<Figure size 1440x216 with 1 Axes>"
      ]
     },
     "metadata": {
      "needs_background": "light"
     },
     "output_type": "display_data"
    }
   ],
   "source": [
    "# These two Age-based features 'signal' low and high ages,\n",
    "# probably most useful for simple Logisitic Rgression.\n",
    "df_train.plot.scatter('Age_log','Age_young')\n",
    "plt.show()\n",
    "df_train.plot.scatter('Age_log','Age_old')\n",
    "plt.show()\n"
   ]
  },
  {
   "cell_type": "markdown",
   "metadata": {},
   "source": [
    "## Correlation with Survived"
   ]
  },
  {
   "cell_type": "code",
   "execution_count": 177,
   "metadata": {},
   "outputs": [
    {
     "name": "stdout",
     "output_type": "stream",
     "text": [
      "PassengerId   -0.005007\n",
      "Survived       1.000000\n",
      "Pclass        -0.338481\n",
      "Age           -0.072194\n",
      "SibSp         -0.010680\n",
      "Parch          0.091304\n",
      "Fare           0.254957\n",
      "Pclass_1       0.285904\n",
      "Pclass_2       0.093349\n",
      "Pclass_3      -0.322308\n",
      "Sex_M         -0.543351\n",
      "Sex_F          0.543351\n",
      "NoAge         -0.092197\n",
      "Age_log       -0.119163\n",
      "Age_young      0.147075\n",
      "Age_old       -0.025035\n",
      "Fare_0        -0.093207\n",
      "Fare_log       0.327730\n",
      "NoCabin       -0.316912\n",
      "Embark_C       0.168240\n",
      "Embark_Q       0.003650\n",
      "Embark_S      -0.149683\n",
      "Sex_Mr        -0.566512\n",
      "Sex_Master     0.085221\n",
      "Sex_Mrs        0.353688\n",
      "Sex_Miss       0.332795\n",
      "LN_Length      0.030062\n",
      "LN_Vowels      0.015017\n",
      "LN_Vfrac      -0.022787\n",
      "Name: Survived, dtype: float64\n"
     ]
    }
   ],
   "source": [
    "# Look at the correlation between the numerical values\n",
    "corr_df = df_train.corr()\n",
    "# In particular the correlations with Survived:\n",
    "print(corr_df.Survived)\n",
    "\n",
    "# There are a bunch with abs(corr) at/above 0.2:\n",
    "# [Pclass], [Fare], Pclass_1, Pclass_3, Fare_log, Sex_M,F, NoCabin\n",
    "# (ones in [ ]s are not used as features since others duplicate them.)"
   ]
  },
  {
   "cell_type": "code",
   "execution_count": 178,
   "metadata": {},
   "outputs": [
    {
     "name": "stdout",
     "output_type": "stream",
     "text": [
      "34 All features:\n",
      "Index(['Pclass', 'Name', 'Sex', 'Age', 'SibSp', 'Parch', 'Ticket', 'Fare',\n",
      "       'Cabin', 'Embarked', 'Pclass_1', 'Pclass_2', 'Pclass_3', 'Sex_M',\n",
      "       'Sex_F', 'NoAge', 'Age_log', 'Age_young', 'Age_old', 'Fare_0',\n",
      "       'Fare_log', 'NoCabin', 'Embark_C', 'Embark_Q', 'Embark_S', 'LastName',\n",
      "       'MMMM', 'Sex_Mr', 'Sex_Master', 'Sex_Mrs', 'Sex_Miss', 'LN_Length',\n",
      "       'LN_Vowels', 'LN_Vfrac'],\n",
      "      dtype='object')\n"
     ]
    }
   ],
   "source": [
    "# All Features... the training numeric columns:\n",
    "all_features = df_train.columns\n",
    "\n",
    "# Remove the 'answer' column:\n",
    "all_features = all_features.drop('Survived')\n",
    "# and the PassengerId:\n",
    "all_features = all_features.drop('PassengerId')\n",
    "\n",
    "# List all of these potential features\n",
    "print(len(all_features),\"All features:\")\n",
    "print(all_features)"
   ]
  },
  {
   "cell_type": "code",
   "execution_count": 179,
   "metadata": {},
   "outputs": [
    {
     "data": {
      "text/plain": [
       "Index(['Pclass', 'Name', 'Sex', 'Age', 'SibSp', 'Parch', 'Ticket', 'Fare',\n",
       "       'Cabin', 'Embarked', 'Pclass_1', 'Pclass_2', 'Pclass_3', 'Sex_M',\n",
       "       'Sex_F', 'NoAge', 'Age_log', 'Age_young', 'Age_old', 'Fare_0',\n",
       "       'Fare_log', 'NoCabin', 'Embark_C', 'Embark_Q', 'Embark_S', 'LastName',\n",
       "       'MMMM', 'Sex_Mr', 'Sex_Master', 'Sex_Mrs', 'Sex_Miss', 'LN_Length',\n",
       "       'LN_Vowels', 'LN_Vfrac'],\n",
       "      dtype='object')"
      ]
     },
     "execution_count": 179,
     "metadata": {},
     "output_type": "execute_result"
    },
    {
     "data": {
      "text/plain": [
       "3    491\n",
       "1    216\n",
       "2    184\n",
       "Name: Pclass, dtype: int64"
      ]
     },
     "execution_count": 179,
     "metadata": {},
     "output_type": "execute_result"
    }
   ],
   "source": [
    "df_train[all_features].columns\n",
    "\n",
    "df_train[all_features].Pclass.value_counts()"
   ]
  },
  {
   "cell_type": "code",
   "execution_count": 180,
   "metadata": {},
   "outputs": [
    {
     "data": {
      "text/plain": [
       "3    491\n",
       "1    216\n",
       "2    184\n",
       "Name: Pclass, dtype: int64"
      ]
     },
     "execution_count": 180,
     "metadata": {},
     "output_type": "execute_result"
    }
   ],
   "source": [
    "# Can look at the value counts of a feature column ...\n",
    "featnum=0\n",
    "df_train[all_features[featnum]].value_counts()"
   ]
  },
  {
   "cell_type": "markdown",
   "metadata": {},
   "source": [
    "## <a id=\"MachineLearning\">Machine Learning</a>\n",
    "Back to <a href=\"#Index\">Index</a>"
   ]
  },
  {
   "cell_type": "markdown",
   "metadata": {},
   "source": [
    "### Some routines"
   ]
  },
  {
   "cell_type": "code",
   "execution_count": 181,
   "metadata": {},
   "outputs": [],
   "source": [
    "from sklearn.linear_model import LogisticRegression\n",
    "from sklearn.tree import DecisionTreeClassifier\n",
    "from sklearn.ensemble import RandomForestClassifier\n",
    "from sklearn.ensemble import GradientBoostingClassifier\n",
    "\n",
    "from sklearn.metrics import accuracy_score\n",
    "from sklearn.metrics import make_scorer\n",
    "\n",
    "from sklearn.model_selection import StratifiedKFold\n",
    "from sklearn.model_selection import GridSearchCV\n",
    "\n",
    "from sklearn.svm import SVC\n",
    "\n",
    "from sklearn.neural_network import MLPClassifier"
   ]
  },
  {
   "cell_type": "code",
   "execution_count": 182,
   "metadata": {},
   "outputs": [],
   "source": [
    "# Use this routine to shown how the prediction is doing.\n",
    "# This routine is taken from the file chirp_roc_lib.py in the github repo at: \n",
    "#   https://github.com/dan3dewey/chirp-to-ROC\n",
    "# Some small modifications have been made here.\n",
    "\n",
    "def y_yhat_plots(y, yh, title=\"y and y_score\", y_thresh=0.5,\n",
    "                     ROC=True, plots_prefix=None):\n",
    "    \"\"\"Output plots showing how y and y_hat are related:\n",
    "    the \"confusion dots\" plot is analogous to the confusion table,\n",
    "    and the standard ROC plot with its AOC value.\n",
    "    The yp=1 threshold can be changed with the y_thresh parameter.\n",
    "    y and yh are numpy arrays (not series or dataframe.)\n",
    "    \"\"\"\n",
    "    # The predicted y value with threshold = y_thresh\n",
    "    y_pred = 1.0 * (yh > y_thresh)\n",
    "\n",
    "    # Show table of actual and predicted counts\n",
    "    crosstab = pd.crosstab(y, y_pred, rownames=[\n",
    "                           'Actual'], colnames=['  Predicted'])\n",
    "    print(\"\\nConfusion matrix (y_thresh={:.3f}):\\n\\n\".format(y_thresh),\n",
    "        crosstab)\n",
    "\n",
    "    # Calculate the various metrics and rates\n",
    "    tn = crosstab[0][0]\n",
    "    fp = crosstab[1][0]\n",
    "    fn = crosstab[0][1]\n",
    "    tp = crosstab[1][1]\n",
    "\n",
    "    ##print(\" tn =\",tn)\n",
    "    ##print(\" fp =\",fp)\n",
    "    ##print(\" fn =\",fn)\n",
    "    ##print(\" tp =\",tp)\n",
    "\n",
    "    this_fpr = fp / (fp + tn)\n",
    "    this_fnr = fn / (fn + tp)\n",
    "\n",
    "    this_recall = tp / (tp + fn)\n",
    "    this_precision = tp / (tp + fp)\n",
    "    this_accur = (tp + tn) / (tp + fn + fp + tn)\n",
    "\n",
    "    this_posfrac = (tp + fn) / (tp + fn + fp + tn)\n",
    "\n",
    "    print(\"\\nResults:\\n\")\n",
    "    print(\" False Pos = \", 100.0 * this_fpr, \"%\")\n",
    "    print(\" False Neg = \", 100.0 * this_fnr, \"%\")\n",
    "    print(\"    Recall = \", 100.0 * this_recall, \"%\")\n",
    "    print(\" Precision = \", 100.0 * this_precision, \"%\")\n",
    "    print(\"\\n    Accuracy = \", 100.0 * this_accur, \"%\")\n",
    "    print(\" Pos. fract. = \", 100.0 * this_posfrac, \"%\")\n",
    "\n",
    "    # Put them in a dataframe for plots and ROC\n",
    "    # Reduce the number if very large:\n",
    "    if len(y) > 100000:\n",
    "        reduce_by = int(0.5+len(y)/60000)\n",
    "        print(\"\\nUsing 1/{} of the points for dots and ROC plots.\".format(reduce_by))\n",
    "        ysframe = pd.DataFrame([y[0: :reduce_by], yh[0: :reduce_by], \n",
    "                                y_pred[0: :reduce_by]], index=[\n",
    "                           'y', 'y-hat', 'y-pred']).transpose()\n",
    "        plot_alpha = 0.3\n",
    "    else:\n",
    "        ysframe = pd.DataFrame([y, yh, y_pred], index=[\n",
    "                           'y', 'y-hat', 'y-pred']).transpose()\n",
    "        plot_alpha = 0.7\n",
    "\n",
    "    # If the yh is discrete (0 and 1s only) then blur it a bit\n",
    "    # for a better visual dots plot\n",
    "    if min(abs(yh - 0.5)) > 0.49:\n",
    "        ysframe[\"y-hat\"] = (0.51 * ysframe[\"y-hat\"]\n",
    "                            + 0.49 * np.random.rand(len(yh)))\n",
    "\n",
    "    # Make a \"confusion dots\" plot\n",
    "    # Add a blurred y column\n",
    "    ysframe['y (blurred)'] = ysframe['y'] + 0.1 * np.random.randn(len(ysframe))\n",
    "\n",
    "    # Plot the real y (blurred) vs the predicted probability\n",
    "    # Note the flipped ylim values.\n",
    "    ysframe.plot.scatter('y-hat', 'y (blurred)', figsize=(12, 5),\n",
    "                         s=2, xlim=(0.0, 1.0), ylim=(1.8, -0.8), alpha=plot_alpha)\n",
    "    # show the \"correct\" locations on the plot\n",
    "    plt.plot([0.0, y_thresh], [0.0, 0.0], '-',\n",
    "        color='green', linewidth=5)\n",
    "    plt.plot([y_thresh, y_thresh], [0.0, 1.0], '-',\n",
    "        color='gray', linewidth=2)\n",
    "    plt.plot([y_thresh, 1.0], [1.0, 1.0], '-',\n",
    "        color='green', linewidth=5)\n",
    "    plt.title(\"Confusion-dots Plot: \" + title, fontsize=16)\n",
    "    # some labels\n",
    "    ythr2 = y_thresh/2.0\n",
    "    plt.text(ythr2 - 0.03, 1.52, \"FN\", fontsize=16, color='red')\n",
    "    plt.text(ythr2 + 0.5 - 0.03, 1.52, \"TP\", fontsize=16, color='green')\n",
    "    plt.text(ythr2 - 0.03, -0.50, \"TN\", fontsize=16, color='green')\n",
    "    plt.text(ythr2 + 0.5 - 0.03, -0.50, \"FP\", fontsize=16, color='red')\n",
    "\n",
    "    if plots_prefix != None:\n",
    "        plt.savefig(plots_prefix+\"_dots.png\")\n",
    "    plt.show()\n",
    "\n",
    "    # Go on to calculate and plot the ROC?\n",
    "    if ROC == False:\n",
    "        return 0\n",
    "\n",
    "\n",
    "    # Make the ROC curve\n",
    "    #\n",
    "    # Set the y-hat as the index and sort on it\n",
    "    ysframe = ysframe.set_index('y-hat').sort_index()\n",
    "    # Put y-hat back as a column (but the sorting remains)\n",
    "    ysframe = ysframe.reset_index()\n",
    "\n",
    "    # Initialize the counts for threshold = 0\n",
    "    p_thresh = 0\n",
    "    FN = 0\n",
    "    TN = 0\n",
    "    TP = sum(ysframe['y'])\n",
    "    FP = len(ysframe) - TP\n",
    "\n",
    "    # Assemble the fpr and recall values\n",
    "    recall = []\n",
    "    fpr = []\n",
    "    # Go through each sample in y-hat order,\n",
    "    # advancing the threshold and adjusting the counts\n",
    "    for iprob in range(len(ysframe['y-hat'])):\n",
    "        p_thresh = ysframe.iloc[iprob]['y-hat']\n",
    "        if ysframe.iloc[iprob]['y'] == 0:\n",
    "            FP -= 1\n",
    "            TN += 1\n",
    "        else:\n",
    "            TP -= 1\n",
    "            FN += 1\n",
    "        # Recall and FPR:\n",
    "        recall.append(TP / (TP + FN))\n",
    "        fpr.append(FP / (FP + TN))\n",
    "\n",
    "    # Put recall and fpr in the dataframe\n",
    "    ysframe['Recall'] = recall\n",
    "    ysframe['FPR'] = fpr\n",
    "\n",
    "    # - - - ROC - - - could be separate routine\n",
    "    zoom_in = False\n",
    "\n",
    "    # Calculate the area under the ROC\n",
    "    roc_area = 0.0\n",
    "    for ifpr in range(1, len(fpr)):\n",
    "        # add on the bit of area (note sign change, going from high fpr to low)\n",
    "        roc_area += 0.5 * (recall[ifpr] + recall[ifpr - 1]\n",
    "                           ) * (fpr[ifpr - 1] - fpr[ifpr])\n",
    "\n",
    "    plt.figure(figsize=(8, 8))\n",
    "    plt.title(\"ROC: \" + title, size=16)\n",
    "    plt.plot(fpr, recall, '-b')\n",
    "    # Set the scales\n",
    "    if zoom_in:\n",
    "        plt.xlim(0.0, 0.10)\n",
    "        plt.ylim(0.0, 0.50)\n",
    "    else:\n",
    "        # full range:\n",
    "        plt.xlim(0.0, 1.0)\n",
    "        plt.ylim(0.0, 1.0)\n",
    "\n",
    "    # The reference line\n",
    "    plt.plot([0., 1.], [0., 1.], '--', color='orange')\n",
    "\n",
    "    # The point at the y_hat = y_tresh threshold\n",
    "    if True:\n",
    "        plt.plot([this_fpr], [this_recall], 'o', c='blue', markersize=15)\n",
    "        plt.xlabel('False Postive Rate', size=16)\n",
    "        plt.ylabel('Recall', size=16)\n",
    "        plt.annotate('y_hat = {:.2f}'.format(y_thresh),\n",
    "                            xy=(this_fpr+0.01 + 0.015,\n",
    "                            this_recall), size=14, color='blue')\n",
    "        plt.annotate(' Pos.Fraction = ' +\n",
    "                        '  {:.0f}%'.format(100 * this_posfrac),\n",
    "                        xy=(this_fpr + 0.03, this_recall - 0.045),\n",
    "                        size=14, color='blue')\n",
    "\n",
    "    # Show the ROC area (shows on zoomed-out plot)\n",
    "    plt.annotate('ROC Area = ' + str(roc_area)\n",
    "                 [:5], xy=(0.4, 0.1), size=16, color='blue')\n",
    "\n",
    "    # Show the plot\n",
    "    if plots_prefix != None:\n",
    "        plt.savefig(plots_prefix+\"_ROC.png\")\n",
    "    plt.show()\n",
    "\n",
    "    return roc_area  # or ysframe"
   ]
  },
  {
   "cell_type": "code",
   "execution_count": 229,
   "metadata": {},
   "outputs": [],
   "source": [
    "# Get X,y from dataframe\n",
    "def get_Xy_values(df_in, features):\n",
    "    # Extract and return the features, X dataframe, and target values, y (np.array).\n",
    "\n",
    "    X = df_in[features].copy()\n",
    "    y = df_in.Survived.values\n",
    "\n",
    "    print(\"\\nThe y target has {} values.\\n\".format(len(y)))\n",
    "    return X, y"
   ]
  },
  {
   "cell_type": "markdown",
   "metadata": {},
   "source": [
    "## <a id=\"SetupData\">Features and the X,y Data</a>\n",
    "Back to <a href=\"#Index\">Index</a>"
   ]
  },
  {
   "cell_type": "markdown",
   "metadata": {},
   "source": [
    "### Select the Features to use"
   ]
  },
  {
   "cell_type": "code",
   "execution_count": 184,
   "metadata": {},
   "outputs": [],
   "source": [
    "##all_features"
   ]
  },
  {
   "cell_type": "code",
   "execution_count": 185,
   "metadata": {},
   "outputs": [],
   "source": [
    "# Select which ones to use from all available:\n",
    "# ['Pclass', 'Age', 'SibSp', 'Parch', 'Fare', 'Pclass_1', 'Pclass_2',\n",
    "#       'Pclass_3', 'Sex_M', 'Sex_F', 'NoAge', 'Age_log', 'Age_young',\n",
    "#       'Age_old', 'Fare_0', 'Fare_log', 'NoCabin', 'Embark_C', 'Embark_Q',\n",
    "#       'Embark_S', 'Sex_Mr', 'Sex_Master', 'Sex_Mrs', 'Sex_Miss',\n",
    "#       'LN_Length', 'LN_Vowels', 'LN_Vfrac']\n",
    "\n",
    "# - Exclude Pclass, Fare and Age (but include other versions of them).\n",
    "# - Use Sex_Mr,etc instead of Sex_M,F.\n",
    "# - Add LN_Length,Vfrac   (Leave out LN_Vowels)\n",
    "# - Include Fare_log ? or not ?\n",
    "features = [        'SibSp', 'Parch',          \\\n",
    "            'Pclass_1', 'Pclass_2', 'Pclass_3','NoCabin', \\\n",
    "            ##'NoAge', 'Age_log', 'Age_young', 'Age_old', 'Fare_0', \\\n",
    "            'NoAge', 'Age_log', 'Age_young', 'Age_old', 'Fare_0', 'Fare_log', \\\n",
    "            'Embark_C', 'Embark_Q', 'Embark_S', #'Sex_M', 'Sex_F']\n",
    "            'Sex_Mr', 'Sex_Master', 'Sex_Mrs', 'Sex_Miss',\n",
    "            'LN_Length', 'LN_Vfrac']\n"
   ]
  },
  {
   "cell_type": "code",
   "execution_count": 186,
   "metadata": {},
   "outputs": [
    {
     "name": "stdout",
     "output_type": "stream",
     "text": [
      "21 Selected features:\n",
      "['SibSp', 'Parch', 'Pclass_1', 'Pclass_2', 'Pclass_3', 'NoCabin', 'NoAge', 'Age_log', 'Age_young', 'Age_old', 'Fare_0', 'Fare_log', 'Embark_C', 'Embark_Q', 'Embark_S', 'Sex_Mr', 'Sex_Master', 'Sex_Mrs', 'Sex_Miss', 'LN_Length', 'LN_Vfrac']\n"
     ]
    }
   ],
   "source": [
    "# List the selected features\n",
    "print(len(features),\"Selected features:\")\n",
    "print(features)"
   ]
  },
  {
   "cell_type": "markdown",
   "metadata": {},
   "source": [
    "### Get the X,y data"
   ]
  },
  {
   "cell_type": "code",
   "execution_count": 245,
   "metadata": {},
   "outputs": [],
   "source": [
    "def Notnull_null_unique_types (df) :\n",
    "    df_notnull = pd.notnull(df).sum()\n",
    "    df_null = pd.isnull(df).sum()\n",
    "    df_unique = df.nunique()\n",
    "    df_type = df.dtypes\n",
    "    tf = pd.concat([pd.concat([df_notnull, df_null, df_unique], axis=1), df_type], axis=1).reset_index()\n",
    "    tf = pd.DataFrame(tf.values, columns=['Feature_Name','Notnull','Null','Unique', 'Types'])\n",
    "    tf = tf.sort_values('Notnull', ascending = False)\n",
    "    \n",
    "    return tf  "
   ]
  },
  {
   "cell_type": "code",
   "execution_count": 246,
   "metadata": {},
   "outputs": [
    {
     "name": "stdout",
     "output_type": "stream",
     "text": [
      "Training:\n",
      "\n",
      "The y target has 891 values.\n",
      "\n",
      "Kaggle Test:\n",
      "\n",
      "The y target has 418 values.\n",
      "\n"
     ]
    },
    {
     "data": {
      "text/html": [
       "<div>\n",
       "<style scoped>\n",
       "    .dataframe tbody tr th:only-of-type {\n",
       "        vertical-align: middle;\n",
       "    }\n",
       "\n",
       "    .dataframe tbody tr th {\n",
       "        vertical-align: top;\n",
       "    }\n",
       "\n",
       "    .dataframe thead th {\n",
       "        text-align: right;\n",
       "    }\n",
       "</style>\n",
       "<table border=\"1\" class=\"dataframe\">\n",
       "  <thead>\n",
       "    <tr style=\"text-align: right;\">\n",
       "      <th></th>\n",
       "      <th>SibSp</th>\n",
       "      <th>Parch</th>\n",
       "      <th>Pclass_1</th>\n",
       "      <th>Pclass_2</th>\n",
       "      <th>Pclass_3</th>\n",
       "      <th>NoCabin</th>\n",
       "      <th>NoAge</th>\n",
       "      <th>Age_log</th>\n",
       "      <th>Age_young</th>\n",
       "      <th>Age_old</th>\n",
       "      <th>...</th>\n",
       "      <th>Fare_log</th>\n",
       "      <th>Embark_C</th>\n",
       "      <th>Embark_Q</th>\n",
       "      <th>Embark_S</th>\n",
       "      <th>Sex_Mr</th>\n",
       "      <th>Sex_Master</th>\n",
       "      <th>Sex_Mrs</th>\n",
       "      <th>Sex_Miss</th>\n",
       "      <th>LN_Length</th>\n",
       "      <th>LN_Vfrac</th>\n",
       "    </tr>\n",
       "  </thead>\n",
       "  <tbody>\n",
       "    <tr>\n",
       "      <td>0</td>\n",
       "      <td>1</td>\n",
       "      <td>0</td>\n",
       "      <td>0</td>\n",
       "      <td>0</td>\n",
       "      <td>1</td>\n",
       "      <td>1.0</td>\n",
       "      <td>0.0</td>\n",
       "      <td>3.135494</td>\n",
       "      <td>0.0</td>\n",
       "      <td>0.0</td>\n",
       "      <td>...</td>\n",
       "      <td>1.981001</td>\n",
       "      <td>0</td>\n",
       "      <td>0</td>\n",
       "      <td>1</td>\n",
       "      <td>1</td>\n",
       "      <td>0</td>\n",
       "      <td>0</td>\n",
       "      <td>0</td>\n",
       "      <td>6</td>\n",
       "      <td>0.333333</td>\n",
       "    </tr>\n",
       "    <tr>\n",
       "      <td>1</td>\n",
       "      <td>1</td>\n",
       "      <td>0</td>\n",
       "      <td>1</td>\n",
       "      <td>0</td>\n",
       "      <td>0</td>\n",
       "      <td>0.0</td>\n",
       "      <td>0.0</td>\n",
       "      <td>3.663562</td>\n",
       "      <td>0.0</td>\n",
       "      <td>0.0</td>\n",
       "      <td>...</td>\n",
       "      <td>4.266662</td>\n",
       "      <td>1</td>\n",
       "      <td>0</td>\n",
       "      <td>0</td>\n",
       "      <td>0</td>\n",
       "      <td>0</td>\n",
       "      <td>1</td>\n",
       "      <td>0</td>\n",
       "      <td>7</td>\n",
       "      <td>0.285714</td>\n",
       "    </tr>\n",
       "    <tr>\n",
       "      <td>2</td>\n",
       "      <td>0</td>\n",
       "      <td>0</td>\n",
       "      <td>0</td>\n",
       "      <td>0</td>\n",
       "      <td>1</td>\n",
       "      <td>1.0</td>\n",
       "      <td>0.0</td>\n",
       "      <td>3.295837</td>\n",
       "      <td>0.0</td>\n",
       "      <td>0.0</td>\n",
       "      <td>...</td>\n",
       "      <td>2.070022</td>\n",
       "      <td>0</td>\n",
       "      <td>0</td>\n",
       "      <td>1</td>\n",
       "      <td>0</td>\n",
       "      <td>0</td>\n",
       "      <td>0</td>\n",
       "      <td>1</td>\n",
       "      <td>9</td>\n",
       "      <td>0.444444</td>\n",
       "    </tr>\n",
       "    <tr>\n",
       "      <td>3</td>\n",
       "      <td>1</td>\n",
       "      <td>0</td>\n",
       "      <td>1</td>\n",
       "      <td>0</td>\n",
       "      <td>0</td>\n",
       "      <td>0.0</td>\n",
       "      <td>0.0</td>\n",
       "      <td>3.583519</td>\n",
       "      <td>0.0</td>\n",
       "      <td>0.0</td>\n",
       "      <td>...</td>\n",
       "      <td>3.972177</td>\n",
       "      <td>0</td>\n",
       "      <td>0</td>\n",
       "      <td>1</td>\n",
       "      <td>0</td>\n",
       "      <td>0</td>\n",
       "      <td>1</td>\n",
       "      <td>0</td>\n",
       "      <td>8</td>\n",
       "      <td>0.375000</td>\n",
       "    </tr>\n",
       "    <tr>\n",
       "      <td>4</td>\n",
       "      <td>0</td>\n",
       "      <td>0</td>\n",
       "      <td>0</td>\n",
       "      <td>0</td>\n",
       "      <td>1</td>\n",
       "      <td>1.0</td>\n",
       "      <td>0.0</td>\n",
       "      <td>3.583519</td>\n",
       "      <td>0.0</td>\n",
       "      <td>0.0</td>\n",
       "      <td>...</td>\n",
       "      <td>2.085672</td>\n",
       "      <td>0</td>\n",
       "      <td>0</td>\n",
       "      <td>1</td>\n",
       "      <td>1</td>\n",
       "      <td>0</td>\n",
       "      <td>0</td>\n",
       "      <td>0</td>\n",
       "      <td>5</td>\n",
       "      <td>0.400000</td>\n",
       "    </tr>\n",
       "  </tbody>\n",
       "</table>\n",
       "<p>5 rows × 21 columns</p>\n",
       "</div>"
      ],
      "text/plain": [
       "   SibSp  Parch  Pclass_1  Pclass_2  Pclass_3  NoCabin  NoAge   Age_log  \\\n",
       "0      1      0         0         0         1      1.0    0.0  3.135494   \n",
       "1      1      0         1         0         0      0.0    0.0  3.663562   \n",
       "2      0      0         0         0         1      1.0    0.0  3.295837   \n",
       "3      1      0         1         0         0      0.0    0.0  3.583519   \n",
       "4      0      0         0         0         1      1.0    0.0  3.583519   \n",
       "\n",
       "   Age_young  Age_old  ...  Fare_log  Embark_C  Embark_Q  Embark_S  Sex_Mr  \\\n",
       "0        0.0      0.0  ...  1.981001         0         0         1       1   \n",
       "1        0.0      0.0  ...  4.266662         1         0         0       0   \n",
       "2        0.0      0.0  ...  2.070022         0         0         1       0   \n",
       "3        0.0      0.0  ...  3.972177         0         0         1       0   \n",
       "4        0.0      0.0  ...  2.085672         0         0         1       1   \n",
       "\n",
       "   Sex_Master  Sex_Mrs  Sex_Miss  LN_Length  LN_Vfrac  \n",
       "0           0        0         0          6  0.333333  \n",
       "1           0        1         0          7  0.285714  \n",
       "2           0        0         1          9  0.444444  \n",
       "3           0        1         0          8  0.375000  \n",
       "4           0        0         0          5  0.400000  \n",
       "\n",
       "[5 rows x 21 columns]"
      ]
     },
     "execution_count": 246,
     "metadata": {},
     "output_type": "execute_result"
    },
    {
     "data": {
      "text/html": [
       "<div>\n",
       "<style scoped>\n",
       "    .dataframe tbody tr th:only-of-type {\n",
       "        vertical-align: middle;\n",
       "    }\n",
       "\n",
       "    .dataframe tbody tr th {\n",
       "        vertical-align: top;\n",
       "    }\n",
       "\n",
       "    .dataframe thead th {\n",
       "        text-align: right;\n",
       "    }\n",
       "</style>\n",
       "<table border=\"1\" class=\"dataframe\">\n",
       "  <thead>\n",
       "    <tr style=\"text-align: right;\">\n",
       "      <th></th>\n",
       "      <th>SibSp</th>\n",
       "      <th>Parch</th>\n",
       "      <th>Pclass_1</th>\n",
       "      <th>Pclass_2</th>\n",
       "      <th>Pclass_3</th>\n",
       "      <th>NoCabin</th>\n",
       "      <th>NoAge</th>\n",
       "      <th>Age_log</th>\n",
       "      <th>Age_young</th>\n",
       "      <th>Age_old</th>\n",
       "      <th>...</th>\n",
       "      <th>Fare_log</th>\n",
       "      <th>Embark_C</th>\n",
       "      <th>Embark_Q</th>\n",
       "      <th>Embark_S</th>\n",
       "      <th>Sex_Mr</th>\n",
       "      <th>Sex_Master</th>\n",
       "      <th>Sex_Mrs</th>\n",
       "      <th>Sex_Miss</th>\n",
       "      <th>LN_Length</th>\n",
       "      <th>LN_Vfrac</th>\n",
       "    </tr>\n",
       "  </thead>\n",
       "  <tbody>\n",
       "    <tr>\n",
       "      <td>0</td>\n",
       "      <td>0</td>\n",
       "      <td>0</td>\n",
       "      <td>0</td>\n",
       "      <td>0</td>\n",
       "      <td>1</td>\n",
       "      <td>1.0</td>\n",
       "      <td>0.0</td>\n",
       "      <td>3.569533</td>\n",
       "      <td>0.0</td>\n",
       "      <td>0.000000</td>\n",
       "      <td>...</td>\n",
       "      <td>2.057860</td>\n",
       "      <td>0</td>\n",
       "      <td>1</td>\n",
       "      <td>0</td>\n",
       "      <td>1</td>\n",
       "      <td>0</td>\n",
       "      <td>0</td>\n",
       "      <td>0</td>\n",
       "      <td>5</td>\n",
       "      <td>0.400000</td>\n",
       "    </tr>\n",
       "    <tr>\n",
       "      <td>1</td>\n",
       "      <td>1</td>\n",
       "      <td>0</td>\n",
       "      <td>0</td>\n",
       "      <td>0</td>\n",
       "      <td>1</td>\n",
       "      <td>1.0</td>\n",
       "      <td>0.0</td>\n",
       "      <td>3.871201</td>\n",
       "      <td>0.0</td>\n",
       "      <td>0.071201</td>\n",
       "      <td>...</td>\n",
       "      <td>1.945910</td>\n",
       "      <td>0</td>\n",
       "      <td>0</td>\n",
       "      <td>1</td>\n",
       "      <td>0</td>\n",
       "      <td>0</td>\n",
       "      <td>1</td>\n",
       "      <td>0</td>\n",
       "      <td>6</td>\n",
       "      <td>0.333333</td>\n",
       "    </tr>\n",
       "    <tr>\n",
       "      <td>2</td>\n",
       "      <td>0</td>\n",
       "      <td>0</td>\n",
       "      <td>0</td>\n",
       "      <td>1</td>\n",
       "      <td>0</td>\n",
       "      <td>1.0</td>\n",
       "      <td>0.0</td>\n",
       "      <td>4.143135</td>\n",
       "      <td>0.0</td>\n",
       "      <td>0.343135</td>\n",
       "      <td>...</td>\n",
       "      <td>2.270836</td>\n",
       "      <td>0</td>\n",
       "      <td>1</td>\n",
       "      <td>0</td>\n",
       "      <td>1</td>\n",
       "      <td>0</td>\n",
       "      <td>0</td>\n",
       "      <td>0</td>\n",
       "      <td>5</td>\n",
       "      <td>0.400000</td>\n",
       "    </tr>\n",
       "    <tr>\n",
       "      <td>3</td>\n",
       "      <td>0</td>\n",
       "      <td>0</td>\n",
       "      <td>0</td>\n",
       "      <td>0</td>\n",
       "      <td>1</td>\n",
       "      <td>1.0</td>\n",
       "      <td>0.0</td>\n",
       "      <td>3.332205</td>\n",
       "      <td>0.0</td>\n",
       "      <td>0.000000</td>\n",
       "      <td>...</td>\n",
       "      <td>2.159003</td>\n",
       "      <td>0</td>\n",
       "      <td>0</td>\n",
       "      <td>1</td>\n",
       "      <td>1</td>\n",
       "      <td>0</td>\n",
       "      <td>0</td>\n",
       "      <td>0</td>\n",
       "      <td>4</td>\n",
       "      <td>0.250000</td>\n",
       "    </tr>\n",
       "    <tr>\n",
       "      <td>4</td>\n",
       "      <td>1</td>\n",
       "      <td>1</td>\n",
       "      <td>0</td>\n",
       "      <td>0</td>\n",
       "      <td>1</td>\n",
       "      <td>1.0</td>\n",
       "      <td>0.0</td>\n",
       "      <td>3.135494</td>\n",
       "      <td>0.0</td>\n",
       "      <td>0.000000</td>\n",
       "      <td>...</td>\n",
       "      <td>2.508582</td>\n",
       "      <td>0</td>\n",
       "      <td>0</td>\n",
       "      <td>1</td>\n",
       "      <td>0</td>\n",
       "      <td>0</td>\n",
       "      <td>1</td>\n",
       "      <td>0</td>\n",
       "      <td>8</td>\n",
       "      <td>0.375000</td>\n",
       "    </tr>\n",
       "  </tbody>\n",
       "</table>\n",
       "<p>5 rows × 21 columns</p>\n",
       "</div>"
      ],
      "text/plain": [
       "   SibSp  Parch  Pclass_1  Pclass_2  Pclass_3  NoCabin  NoAge   Age_log  \\\n",
       "0      0      0         0         0         1      1.0    0.0  3.569533   \n",
       "1      1      0         0         0         1      1.0    0.0  3.871201   \n",
       "2      0      0         0         1         0      1.0    0.0  4.143135   \n",
       "3      0      0         0         0         1      1.0    0.0  3.332205   \n",
       "4      1      1         0         0         1      1.0    0.0  3.135494   \n",
       "\n",
       "   Age_young   Age_old  ...  Fare_log  Embark_C  Embark_Q  Embark_S  Sex_Mr  \\\n",
       "0        0.0  0.000000  ...  2.057860         0         1         0       1   \n",
       "1        0.0  0.071201  ...  1.945910         0         0         1       0   \n",
       "2        0.0  0.343135  ...  2.270836         0         1         0       1   \n",
       "3        0.0  0.000000  ...  2.159003         0         0         1       1   \n",
       "4        0.0  0.000000  ...  2.508582         0         0         1       0   \n",
       "\n",
       "   Sex_Master  Sex_Mrs  Sex_Miss  LN_Length  LN_Vfrac  \n",
       "0           0        0         0          5  0.400000  \n",
       "1           0        1         0          6  0.333333  \n",
       "2           0        0         0          5  0.400000  \n",
       "3           0        0         0          4  0.250000  \n",
       "4           0        1         0          8  0.375000  \n",
       "\n",
       "[5 rows x 21 columns]"
      ]
     },
     "execution_count": 246,
     "metadata": {},
     "output_type": "execute_result"
    }
   ],
   "source": [
    "print(\"Training:\")\n",
    "X, y = get_Xy_values(df_train, features)\n",
    "\n",
    "# Get the Kaggle test set (Note: y_kag is not valid)\n",
    "print(\"Kaggle Test:\")\n",
    "Xkag, y_kag = get_Xy_values(df_test, features)\n",
    "\n",
    "\n",
    "X.head()\n",
    "Xkag.head()"
   ]
  },
  {
   "cell_type": "code",
   "execution_count": 247,
   "metadata": {},
   "outputs": [
    {
     "data": {
      "text/html": [
       "<div>\n",
       "<style scoped>\n",
       "    .dataframe tbody tr th:only-of-type {\n",
       "        vertical-align: middle;\n",
       "    }\n",
       "\n",
       "    .dataframe tbody tr th {\n",
       "        vertical-align: top;\n",
       "    }\n",
       "\n",
       "    .dataframe thead th {\n",
       "        text-align: right;\n",
       "    }\n",
       "</style>\n",
       "<table border=\"1\" class=\"dataframe\">\n",
       "  <thead>\n",
       "    <tr style=\"text-align: right;\">\n",
       "      <th></th>\n",
       "      <th>Feature_Name</th>\n",
       "      <th>Notnull</th>\n",
       "      <th>Null</th>\n",
       "      <th>Unique</th>\n",
       "      <th>Types</th>\n",
       "    </tr>\n",
       "  </thead>\n",
       "  <tbody>\n",
       "    <tr>\n",
       "      <td>0</td>\n",
       "      <td>SibSp</td>\n",
       "      <td>891</td>\n",
       "      <td>0</td>\n",
       "      <td>5</td>\n",
       "      <td>int64</td>\n",
       "    </tr>\n",
       "    <tr>\n",
       "      <td>11</td>\n",
       "      <td>Fare_log</td>\n",
       "      <td>891</td>\n",
       "      <td>0</td>\n",
       "      <td>248</td>\n",
       "      <td>float64</td>\n",
       "    </tr>\n",
       "    <tr>\n",
       "      <td>19</td>\n",
       "      <td>LN_Length</td>\n",
       "      <td>891</td>\n",
       "      <td>0</td>\n",
       "      <td>15</td>\n",
       "      <td>int64</td>\n",
       "    </tr>\n",
       "    <tr>\n",
       "      <td>18</td>\n",
       "      <td>Sex_Miss</td>\n",
       "      <td>891</td>\n",
       "      <td>0</td>\n",
       "      <td>2</td>\n",
       "      <td>int32</td>\n",
       "    </tr>\n",
       "    <tr>\n",
       "      <td>17</td>\n",
       "      <td>Sex_Mrs</td>\n",
       "      <td>891</td>\n",
       "      <td>0</td>\n",
       "      <td>2</td>\n",
       "      <td>int32</td>\n",
       "    </tr>\n",
       "    <tr>\n",
       "      <td>16</td>\n",
       "      <td>Sex_Master</td>\n",
       "      <td>891</td>\n",
       "      <td>0</td>\n",
       "      <td>2</td>\n",
       "      <td>int32</td>\n",
       "    </tr>\n",
       "    <tr>\n",
       "      <td>15</td>\n",
       "      <td>Sex_Mr</td>\n",
       "      <td>891</td>\n",
       "      <td>0</td>\n",
       "      <td>2</td>\n",
       "      <td>int32</td>\n",
       "    </tr>\n",
       "    <tr>\n",
       "      <td>14</td>\n",
       "      <td>Embark_S</td>\n",
       "      <td>891</td>\n",
       "      <td>0</td>\n",
       "      <td>2</td>\n",
       "      <td>int32</td>\n",
       "    </tr>\n",
       "    <tr>\n",
       "      <td>13</td>\n",
       "      <td>Embark_Q</td>\n",
       "      <td>891</td>\n",
       "      <td>0</td>\n",
       "      <td>2</td>\n",
       "      <td>int32</td>\n",
       "    </tr>\n",
       "    <tr>\n",
       "      <td>12</td>\n",
       "      <td>Embark_C</td>\n",
       "      <td>891</td>\n",
       "      <td>0</td>\n",
       "      <td>2</td>\n",
       "      <td>int32</td>\n",
       "    </tr>\n",
       "    <tr>\n",
       "      <td>10</td>\n",
       "      <td>Fare_0</td>\n",
       "      <td>891</td>\n",
       "      <td>0</td>\n",
       "      <td>2</td>\n",
       "      <td>int32</td>\n",
       "    </tr>\n",
       "    <tr>\n",
       "      <td>1</td>\n",
       "      <td>Parch</td>\n",
       "      <td>891</td>\n",
       "      <td>0</td>\n",
       "      <td>5</td>\n",
       "      <td>int64</td>\n",
       "    </tr>\n",
       "    <tr>\n",
       "      <td>9</td>\n",
       "      <td>Age_old</td>\n",
       "      <td>891</td>\n",
       "      <td>0</td>\n",
       "      <td>31</td>\n",
       "      <td>float64</td>\n",
       "    </tr>\n",
       "    <tr>\n",
       "      <td>8</td>\n",
       "      <td>Age_young</td>\n",
       "      <td>891</td>\n",
       "      <td>0</td>\n",
       "      <td>26</td>\n",
       "      <td>float64</td>\n",
       "    </tr>\n",
       "    <tr>\n",
       "      <td>7</td>\n",
       "      <td>Age_log</td>\n",
       "      <td>891</td>\n",
       "      <td>0</td>\n",
       "      <td>88</td>\n",
       "      <td>float64</td>\n",
       "    </tr>\n",
       "    <tr>\n",
       "      <td>6</td>\n",
       "      <td>NoAge</td>\n",
       "      <td>891</td>\n",
       "      <td>0</td>\n",
       "      <td>2</td>\n",
       "      <td>float64</td>\n",
       "    </tr>\n",
       "    <tr>\n",
       "      <td>5</td>\n",
       "      <td>NoCabin</td>\n",
       "      <td>891</td>\n",
       "      <td>0</td>\n",
       "      <td>2</td>\n",
       "      <td>float64</td>\n",
       "    </tr>\n",
       "    <tr>\n",
       "      <td>4</td>\n",
       "      <td>Pclass_3</td>\n",
       "      <td>891</td>\n",
       "      <td>0</td>\n",
       "      <td>2</td>\n",
       "      <td>int32</td>\n",
       "    </tr>\n",
       "    <tr>\n",
       "      <td>3</td>\n",
       "      <td>Pclass_2</td>\n",
       "      <td>891</td>\n",
       "      <td>0</td>\n",
       "      <td>2</td>\n",
       "      <td>int32</td>\n",
       "    </tr>\n",
       "    <tr>\n",
       "      <td>2</td>\n",
       "      <td>Pclass_1</td>\n",
       "      <td>891</td>\n",
       "      <td>0</td>\n",
       "      <td>2</td>\n",
       "      <td>int32</td>\n",
       "    </tr>\n",
       "    <tr>\n",
       "      <td>20</td>\n",
       "      <td>LN_Vfrac</td>\n",
       "      <td>891</td>\n",
       "      <td>0</td>\n",
       "      <td>28</td>\n",
       "      <td>float64</td>\n",
       "    </tr>\n",
       "  </tbody>\n",
       "</table>\n",
       "</div>"
      ],
      "text/plain": [
       "   Feature_Name Notnull Null Unique    Types\n",
       "0         SibSp     891    0      5    int64\n",
       "11     Fare_log     891    0    248  float64\n",
       "19    LN_Length     891    0     15    int64\n",
       "18     Sex_Miss     891    0      2    int32\n",
       "17      Sex_Mrs     891    0      2    int32\n",
       "16   Sex_Master     891    0      2    int32\n",
       "15       Sex_Mr     891    0      2    int32\n",
       "14     Embark_S     891    0      2    int32\n",
       "13     Embark_Q     891    0      2    int32\n",
       "12     Embark_C     891    0      2    int32\n",
       "10       Fare_0     891    0      2    int32\n",
       "1         Parch     891    0      5    int64\n",
       "9       Age_old     891    0     31  float64\n",
       "8     Age_young     891    0     26  float64\n",
       "7       Age_log     891    0     88  float64\n",
       "6         NoAge     891    0      2  float64\n",
       "5       NoCabin     891    0      2  float64\n",
       "4      Pclass_3     891    0      2    int32\n",
       "3      Pclass_2     891    0      2    int32\n",
       "2      Pclass_1     891    0      2    int32\n",
       "20     LN_Vfrac     891    0     28  float64"
      ]
     },
     "execution_count": 247,
     "metadata": {},
     "output_type": "execute_result"
    },
    {
     "data": {
      "text/html": [
       "<div>\n",
       "<style scoped>\n",
       "    .dataframe tbody tr th:only-of-type {\n",
       "        vertical-align: middle;\n",
       "    }\n",
       "\n",
       "    .dataframe tbody tr th {\n",
       "        vertical-align: top;\n",
       "    }\n",
       "\n",
       "    .dataframe thead th {\n",
       "        text-align: right;\n",
       "    }\n",
       "</style>\n",
       "<table border=\"1\" class=\"dataframe\">\n",
       "  <thead>\n",
       "    <tr style=\"text-align: right;\">\n",
       "      <th></th>\n",
       "      <th>Feature_Name</th>\n",
       "      <th>Notnull</th>\n",
       "      <th>Null</th>\n",
       "      <th>Unique</th>\n",
       "      <th>Types</th>\n",
       "    </tr>\n",
       "  </thead>\n",
       "  <tbody>\n",
       "    <tr>\n",
       "      <td>0</td>\n",
       "      <td>SibSp</td>\n",
       "      <td>418</td>\n",
       "      <td>0</td>\n",
       "      <td>7</td>\n",
       "      <td>int64</td>\n",
       "    </tr>\n",
       "    <tr>\n",
       "      <td>11</td>\n",
       "      <td>Fare_log</td>\n",
       "      <td>418</td>\n",
       "      <td>0</td>\n",
       "      <td>169</td>\n",
       "      <td>float64</td>\n",
       "    </tr>\n",
       "    <tr>\n",
       "      <td>19</td>\n",
       "      <td>LN_Length</td>\n",
       "      <td>418</td>\n",
       "      <td>0</td>\n",
       "      <td>13</td>\n",
       "      <td>int64</td>\n",
       "    </tr>\n",
       "    <tr>\n",
       "      <td>18</td>\n",
       "      <td>Sex_Miss</td>\n",
       "      <td>418</td>\n",
       "      <td>0</td>\n",
       "      <td>2</td>\n",
       "      <td>int32</td>\n",
       "    </tr>\n",
       "    <tr>\n",
       "      <td>17</td>\n",
       "      <td>Sex_Mrs</td>\n",
       "      <td>418</td>\n",
       "      <td>0</td>\n",
       "      <td>2</td>\n",
       "      <td>int32</td>\n",
       "    </tr>\n",
       "    <tr>\n",
       "      <td>16</td>\n",
       "      <td>Sex_Master</td>\n",
       "      <td>418</td>\n",
       "      <td>0</td>\n",
       "      <td>2</td>\n",
       "      <td>int32</td>\n",
       "    </tr>\n",
       "    <tr>\n",
       "      <td>15</td>\n",
       "      <td>Sex_Mr</td>\n",
       "      <td>418</td>\n",
       "      <td>0</td>\n",
       "      <td>2</td>\n",
       "      <td>int32</td>\n",
       "    </tr>\n",
       "    <tr>\n",
       "      <td>14</td>\n",
       "      <td>Embark_S</td>\n",
       "      <td>418</td>\n",
       "      <td>0</td>\n",
       "      <td>2</td>\n",
       "      <td>int32</td>\n",
       "    </tr>\n",
       "    <tr>\n",
       "      <td>13</td>\n",
       "      <td>Embark_Q</td>\n",
       "      <td>418</td>\n",
       "      <td>0</td>\n",
       "      <td>2</td>\n",
       "      <td>int32</td>\n",
       "    </tr>\n",
       "    <tr>\n",
       "      <td>12</td>\n",
       "      <td>Embark_C</td>\n",
       "      <td>418</td>\n",
       "      <td>0</td>\n",
       "      <td>2</td>\n",
       "      <td>int32</td>\n",
       "    </tr>\n",
       "    <tr>\n",
       "      <td>10</td>\n",
       "      <td>Fare_0</td>\n",
       "      <td>418</td>\n",
       "      <td>0</td>\n",
       "      <td>2</td>\n",
       "      <td>int32</td>\n",
       "    </tr>\n",
       "    <tr>\n",
       "      <td>1</td>\n",
       "      <td>Parch</td>\n",
       "      <td>418</td>\n",
       "      <td>0</td>\n",
       "      <td>8</td>\n",
       "      <td>int64</td>\n",
       "    </tr>\n",
       "    <tr>\n",
       "      <td>9</td>\n",
       "      <td>Age_old</td>\n",
       "      <td>418</td>\n",
       "      <td>0</td>\n",
       "      <td>23</td>\n",
       "      <td>float64</td>\n",
       "    </tr>\n",
       "    <tr>\n",
       "      <td>8</td>\n",
       "      <td>Age_young</td>\n",
       "      <td>418</td>\n",
       "      <td>0</td>\n",
       "      <td>26</td>\n",
       "      <td>float64</td>\n",
       "    </tr>\n",
       "    <tr>\n",
       "      <td>7</td>\n",
       "      <td>Age_log</td>\n",
       "      <td>418</td>\n",
       "      <td>0</td>\n",
       "      <td>79</td>\n",
       "      <td>float64</td>\n",
       "    </tr>\n",
       "    <tr>\n",
       "      <td>6</td>\n",
       "      <td>NoAge</td>\n",
       "      <td>418</td>\n",
       "      <td>0</td>\n",
       "      <td>2</td>\n",
       "      <td>float64</td>\n",
       "    </tr>\n",
       "    <tr>\n",
       "      <td>5</td>\n",
       "      <td>NoCabin</td>\n",
       "      <td>418</td>\n",
       "      <td>0</td>\n",
       "      <td>2</td>\n",
       "      <td>float64</td>\n",
       "    </tr>\n",
       "    <tr>\n",
       "      <td>4</td>\n",
       "      <td>Pclass_3</td>\n",
       "      <td>418</td>\n",
       "      <td>0</td>\n",
       "      <td>2</td>\n",
       "      <td>int32</td>\n",
       "    </tr>\n",
       "    <tr>\n",
       "      <td>3</td>\n",
       "      <td>Pclass_2</td>\n",
       "      <td>418</td>\n",
       "      <td>0</td>\n",
       "      <td>2</td>\n",
       "      <td>int32</td>\n",
       "    </tr>\n",
       "    <tr>\n",
       "      <td>2</td>\n",
       "      <td>Pclass_1</td>\n",
       "      <td>418</td>\n",
       "      <td>0</td>\n",
       "      <td>2</td>\n",
       "      <td>int32</td>\n",
       "    </tr>\n",
       "    <tr>\n",
       "      <td>20</td>\n",
       "      <td>LN_Vfrac</td>\n",
       "      <td>418</td>\n",
       "      <td>0</td>\n",
       "      <td>25</td>\n",
       "      <td>float64</td>\n",
       "    </tr>\n",
       "  </tbody>\n",
       "</table>\n",
       "</div>"
      ],
      "text/plain": [
       "   Feature_Name Notnull Null Unique    Types\n",
       "0         SibSp     418    0      7    int64\n",
       "11     Fare_log     418    0    169  float64\n",
       "19    LN_Length     418    0     13    int64\n",
       "18     Sex_Miss     418    0      2    int32\n",
       "17      Sex_Mrs     418    0      2    int32\n",
       "16   Sex_Master     418    0      2    int32\n",
       "15       Sex_Mr     418    0      2    int32\n",
       "14     Embark_S     418    0      2    int32\n",
       "13     Embark_Q     418    0      2    int32\n",
       "12     Embark_C     418    0      2    int32\n",
       "10       Fare_0     418    0      2    int32\n",
       "1         Parch     418    0      8    int64\n",
       "9       Age_old     418    0     23  float64\n",
       "8     Age_young     418    0     26  float64\n",
       "7       Age_log     418    0     79  float64\n",
       "6         NoAge     418    0      2  float64\n",
       "5       NoCabin     418    0      2  float64\n",
       "4      Pclass_3     418    0      2    int32\n",
       "3      Pclass_2     418    0      2    int32\n",
       "2      Pclass_1     418    0      2    int32\n",
       "20     LN_Vfrac     418    0     25  float64"
      ]
     },
     "execution_count": 247,
     "metadata": {},
     "output_type": "execute_result"
    }
   ],
   "source": [
    "Notnull_null_unique_types(X)\n",
    "Notnull_null_unique_types(Xkag)"
   ]
  },
  {
   "cell_type": "code",
   "execution_count": 248,
   "metadata": {
    "scrolled": false
   },
   "outputs": [
    {
     "data": {
      "text/html": [
       "<div>\n",
       "<style scoped>\n",
       "    .dataframe tbody tr th:only-of-type {\n",
       "        vertical-align: middle;\n",
       "    }\n",
       "\n",
       "    .dataframe tbody tr th {\n",
       "        vertical-align: top;\n",
       "    }\n",
       "\n",
       "    .dataframe thead th {\n",
       "        text-align: right;\n",
       "    }\n",
       "</style>\n",
       "<table border=\"1\" class=\"dataframe\">\n",
       "  <thead>\n",
       "    <tr style=\"text-align: right;\">\n",
       "      <th></th>\n",
       "      <th>SibSp</th>\n",
       "      <th>Parch</th>\n",
       "      <th>Pclass_1</th>\n",
       "      <th>Pclass_2</th>\n",
       "      <th>Pclass_3</th>\n",
       "      <th>NoCabin</th>\n",
       "      <th>NoAge</th>\n",
       "      <th>Age_log</th>\n",
       "      <th>Age_young</th>\n",
       "      <th>Age_old</th>\n",
       "      <th>...</th>\n",
       "      <th>Fare_log</th>\n",
       "      <th>Embark_C</th>\n",
       "      <th>Embark_Q</th>\n",
       "      <th>Embark_S</th>\n",
       "      <th>Sex_Mr</th>\n",
       "      <th>Sex_Master</th>\n",
       "      <th>Sex_Mrs</th>\n",
       "      <th>Sex_Miss</th>\n",
       "      <th>LN_Length</th>\n",
       "      <th>LN_Vfrac</th>\n",
       "    </tr>\n",
       "  </thead>\n",
       "  <tbody>\n",
       "    <tr>\n",
       "      <td>0</td>\n",
       "      <td>0.565802</td>\n",
       "      <td>-0.48963</td>\n",
       "      <td>-0.565368</td>\n",
       "      <td>-0.509865</td>\n",
       "      <td>0.902081</td>\n",
       "      <td>0.544619</td>\n",
       "      <td>-0.497615</td>\n",
       "      <td>-0.236628</td>\n",
       "      <td>-0.28943</td>\n",
       "      <td>-0.31246</td>\n",
       "      <td>...</td>\n",
       "      <td>-1.028923</td>\n",
       "      <td>-0.481772</td>\n",
       "      <td>-0.30739</td>\n",
       "      <td>0.615493</td>\n",
       "      <td>0.811467</td>\n",
       "      <td>-0.216681</td>\n",
       "      <td>-0.413081</td>\n",
       "      <td>-0.509865</td>\n",
       "      <td>-0.364754</td>\n",
       "      <td>-0.390205</td>\n",
       "    </tr>\n",
       "    <tr>\n",
       "      <td>1</td>\n",
       "      <td>0.565802</td>\n",
       "      <td>-0.48963</td>\n",
       "      <td>1.766775</td>\n",
       "      <td>-0.509865</td>\n",
       "      <td>-1.107304</td>\n",
       "      <td>-1.834085</td>\n",
       "      <td>-0.497615</td>\n",
       "      <td>0.613008</td>\n",
       "      <td>-0.28943</td>\n",
       "      <td>-0.31246</td>\n",
       "      <td>...</td>\n",
       "      <td>1.426906</td>\n",
       "      <td>2.073341</td>\n",
       "      <td>-0.30739</td>\n",
       "      <td>-1.622891</td>\n",
       "      <td>-1.230954</td>\n",
       "      <td>-0.216681</td>\n",
       "      <td>2.418114</td>\n",
       "      <td>-0.509865</td>\n",
       "      <td>0.097544</td>\n",
       "      <td>-0.861140</td>\n",
       "    </tr>\n",
       "    <tr>\n",
       "      <td>2</td>\n",
       "      <td>-0.534918</td>\n",
       "      <td>-0.48963</td>\n",
       "      <td>-0.565368</td>\n",
       "      <td>-0.509865</td>\n",
       "      <td>0.902081</td>\n",
       "      <td>0.544619</td>\n",
       "      <td>-0.497615</td>\n",
       "      <td>0.021356</td>\n",
       "      <td>-0.28943</td>\n",
       "      <td>-0.31246</td>\n",
       "      <td>...</td>\n",
       "      <td>-0.933274</td>\n",
       "      <td>-0.481772</td>\n",
       "      <td>-0.30739</td>\n",
       "      <td>0.615493</td>\n",
       "      <td>-1.230954</td>\n",
       "      <td>-0.216681</td>\n",
       "      <td>-0.413081</td>\n",
       "      <td>1.959102</td>\n",
       "      <td>1.022141</td>\n",
       "      <td>0.708642</td>\n",
       "    </tr>\n",
       "    <tr>\n",
       "      <td>3</td>\n",
       "      <td>0.565802</td>\n",
       "      <td>-0.48963</td>\n",
       "      <td>1.766775</td>\n",
       "      <td>-0.509865</td>\n",
       "      <td>-1.107304</td>\n",
       "      <td>-1.834085</td>\n",
       "      <td>-0.497615</td>\n",
       "      <td>0.484223</td>\n",
       "      <td>-0.28943</td>\n",
       "      <td>-0.31246</td>\n",
       "      <td>...</td>\n",
       "      <td>1.110496</td>\n",
       "      <td>-0.481772</td>\n",
       "      <td>-0.30739</td>\n",
       "      <td>0.615493</td>\n",
       "      <td>-1.230954</td>\n",
       "      <td>-0.216681</td>\n",
       "      <td>2.418114</td>\n",
       "      <td>-0.509865</td>\n",
       "      <td>0.559843</td>\n",
       "      <td>0.021863</td>\n",
       "    </tr>\n",
       "    <tr>\n",
       "      <td>4</td>\n",
       "      <td>-0.534918</td>\n",
       "      <td>-0.48963</td>\n",
       "      <td>-0.565368</td>\n",
       "      <td>-0.509865</td>\n",
       "      <td>0.902081</td>\n",
       "      <td>0.544619</td>\n",
       "      <td>-0.497615</td>\n",
       "      <td>0.484223</td>\n",
       "      <td>-0.28943</td>\n",
       "      <td>-0.31246</td>\n",
       "      <td>...</td>\n",
       "      <td>-0.916459</td>\n",
       "      <td>-0.481772</td>\n",
       "      <td>-0.30739</td>\n",
       "      <td>0.615493</td>\n",
       "      <td>0.811467</td>\n",
       "      <td>-0.216681</td>\n",
       "      <td>-0.413081</td>\n",
       "      <td>-0.509865</td>\n",
       "      <td>-0.827052</td>\n",
       "      <td>0.269103</td>\n",
       "    </tr>\n",
       "  </tbody>\n",
       "</table>\n",
       "<p>5 rows × 21 columns</p>\n",
       "</div>"
      ],
      "text/plain": [
       "      SibSp    Parch  Pclass_1  Pclass_2  Pclass_3   NoCabin     NoAge  \\\n",
       "0  0.565802 -0.48963 -0.565368 -0.509865  0.902081  0.544619 -0.497615   \n",
       "1  0.565802 -0.48963  1.766775 -0.509865 -1.107304 -1.834085 -0.497615   \n",
       "2 -0.534918 -0.48963 -0.565368 -0.509865  0.902081  0.544619 -0.497615   \n",
       "3  0.565802 -0.48963  1.766775 -0.509865 -1.107304 -1.834085 -0.497615   \n",
       "4 -0.534918 -0.48963 -0.565368 -0.509865  0.902081  0.544619 -0.497615   \n",
       "\n",
       "    Age_log  Age_young  Age_old  ...  Fare_log  Embark_C  Embark_Q  Embark_S  \\\n",
       "0 -0.236628   -0.28943 -0.31246  ... -1.028923 -0.481772  -0.30739  0.615493   \n",
       "1  0.613008   -0.28943 -0.31246  ...  1.426906  2.073341  -0.30739 -1.622891   \n",
       "2  0.021356   -0.28943 -0.31246  ... -0.933274 -0.481772  -0.30739  0.615493   \n",
       "3  0.484223   -0.28943 -0.31246  ...  1.110496 -0.481772  -0.30739  0.615493   \n",
       "4  0.484223   -0.28943 -0.31246  ... -0.916459 -0.481772  -0.30739  0.615493   \n",
       "\n",
       "     Sex_Mr  Sex_Master   Sex_Mrs  Sex_Miss  LN_Length  LN_Vfrac  \n",
       "0  0.811467   -0.216681 -0.413081 -0.509865  -0.364754 -0.390205  \n",
       "1 -1.230954   -0.216681  2.418114 -0.509865   0.097544 -0.861140  \n",
       "2 -1.230954   -0.216681 -0.413081  1.959102   1.022141  0.708642  \n",
       "3 -1.230954   -0.216681  2.418114 -0.509865   0.559843  0.021863  \n",
       "4  0.811467   -0.216681 -0.413081 -0.509865  -0.827052  0.269103  \n",
       "\n",
       "[5 rows x 21 columns]"
      ]
     },
     "execution_count": 248,
     "metadata": {},
     "output_type": "execute_result"
    },
    {
     "data": {
      "text/html": [
       "<div>\n",
       "<style scoped>\n",
       "    .dataframe tbody tr th:only-of-type {\n",
       "        vertical-align: middle;\n",
       "    }\n",
       "\n",
       "    .dataframe tbody tr th {\n",
       "        vertical-align: top;\n",
       "    }\n",
       "\n",
       "    .dataframe thead th {\n",
       "        text-align: right;\n",
       "    }\n",
       "</style>\n",
       "<table border=\"1\" class=\"dataframe\">\n",
       "  <thead>\n",
       "    <tr style=\"text-align: right;\">\n",
       "      <th></th>\n",
       "      <th>SibSp</th>\n",
       "      <th>Parch</th>\n",
       "      <th>Pclass_1</th>\n",
       "      <th>Pclass_2</th>\n",
       "      <th>Pclass_3</th>\n",
       "      <th>NoCabin</th>\n",
       "      <th>NoAge</th>\n",
       "      <th>Age_log</th>\n",
       "      <th>Age_young</th>\n",
       "      <th>Age_old</th>\n",
       "      <th>...</th>\n",
       "      <th>Fare_log</th>\n",
       "      <th>Embark_C</th>\n",
       "      <th>Embark_Q</th>\n",
       "      <th>Embark_S</th>\n",
       "      <th>Sex_Mr</th>\n",
       "      <th>Sex_Master</th>\n",
       "      <th>Sex_Mrs</th>\n",
       "      <th>Sex_Miss</th>\n",
       "      <th>LN_Length</th>\n",
       "      <th>LN_Vfrac</th>\n",
       "    </tr>\n",
       "  </thead>\n",
       "  <tbody>\n",
       "    <tr>\n",
       "      <td>0</td>\n",
       "      <td>-0.534918</td>\n",
       "      <td>-0.489630</td>\n",
       "      <td>-0.565368</td>\n",
       "      <td>-0.509865</td>\n",
       "      <td>0.902081</td>\n",
       "      <td>0.544619</td>\n",
       "      <td>-0.497615</td>\n",
       "      <td>0.461720</td>\n",
       "      <td>-0.28943</td>\n",
       "      <td>-0.312460</td>\n",
       "      <td>...</td>\n",
       "      <td>-0.946342</td>\n",
       "      <td>-0.481772</td>\n",
       "      <td>3.249548</td>\n",
       "      <td>-1.622891</td>\n",
       "      <td>0.811467</td>\n",
       "      <td>-0.216681</td>\n",
       "      <td>-0.413081</td>\n",
       "      <td>-0.509865</td>\n",
       "      <td>-0.827052</td>\n",
       "      <td>0.269103</td>\n",
       "    </tr>\n",
       "    <tr>\n",
       "      <td>1</td>\n",
       "      <td>0.565802</td>\n",
       "      <td>-0.489630</td>\n",
       "      <td>-0.565368</td>\n",
       "      <td>-0.509865</td>\n",
       "      <td>0.902081</td>\n",
       "      <td>0.544619</td>\n",
       "      <td>-0.497615</td>\n",
       "      <td>0.947090</td>\n",
       "      <td>-0.28943</td>\n",
       "      <td>0.577595</td>\n",
       "      <td>...</td>\n",
       "      <td>-1.066627</td>\n",
       "      <td>-0.481772</td>\n",
       "      <td>-0.307390</td>\n",
       "      <td>0.615493</td>\n",
       "      <td>-1.230954</td>\n",
       "      <td>-0.216681</td>\n",
       "      <td>2.418114</td>\n",
       "      <td>-0.509865</td>\n",
       "      <td>-0.364754</td>\n",
       "      <td>-0.390205</td>\n",
       "    </tr>\n",
       "    <tr>\n",
       "      <td>2</td>\n",
       "      <td>-0.534918</td>\n",
       "      <td>-0.489630</td>\n",
       "      <td>-0.565368</td>\n",
       "      <td>1.959102</td>\n",
       "      <td>-1.107304</td>\n",
       "      <td>0.544619</td>\n",
       "      <td>-0.497615</td>\n",
       "      <td>1.384619</td>\n",
       "      <td>-0.28943</td>\n",
       "      <td>3.976926</td>\n",
       "      <td>...</td>\n",
       "      <td>-0.717510</td>\n",
       "      <td>-0.481772</td>\n",
       "      <td>3.249548</td>\n",
       "      <td>-1.622891</td>\n",
       "      <td>0.811467</td>\n",
       "      <td>-0.216681</td>\n",
       "      <td>-0.413081</td>\n",
       "      <td>-0.509865</td>\n",
       "      <td>-0.827052</td>\n",
       "      <td>0.269103</td>\n",
       "    </tr>\n",
       "    <tr>\n",
       "      <td>3</td>\n",
       "      <td>-0.534918</td>\n",
       "      <td>-0.489630</td>\n",
       "      <td>-0.565368</td>\n",
       "      <td>-0.509865</td>\n",
       "      <td>0.902081</td>\n",
       "      <td>0.544619</td>\n",
       "      <td>-0.497615</td>\n",
       "      <td>0.079870</td>\n",
       "      <td>-0.28943</td>\n",
       "      <td>-0.312460</td>\n",
       "      <td>...</td>\n",
       "      <td>-0.837669</td>\n",
       "      <td>-0.481772</td>\n",
       "      <td>-0.307390</td>\n",
       "      <td>0.615493</td>\n",
       "      <td>0.811467</td>\n",
       "      <td>-0.216681</td>\n",
       "      <td>-0.413081</td>\n",
       "      <td>-0.509865</td>\n",
       "      <td>-1.289351</td>\n",
       "      <td>-1.214341</td>\n",
       "    </tr>\n",
       "    <tr>\n",
       "      <td>4</td>\n",
       "      <td>0.565802</td>\n",
       "      <td>0.820461</td>\n",
       "      <td>-0.565368</td>\n",
       "      <td>-0.509865</td>\n",
       "      <td>0.902081</td>\n",
       "      <td>0.544619</td>\n",
       "      <td>-0.497615</td>\n",
       "      <td>-0.236628</td>\n",
       "      <td>-0.28943</td>\n",
       "      <td>-0.312460</td>\n",
       "      <td>...</td>\n",
       "      <td>-0.462063</td>\n",
       "      <td>-0.481772</td>\n",
       "      <td>-0.307390</td>\n",
       "      <td>0.615493</td>\n",
       "      <td>-1.230954</td>\n",
       "      <td>-0.216681</td>\n",
       "      <td>2.418114</td>\n",
       "      <td>-0.509865</td>\n",
       "      <td>0.559843</td>\n",
       "      <td>0.021863</td>\n",
       "    </tr>\n",
       "  </tbody>\n",
       "</table>\n",
       "<p>5 rows × 21 columns</p>\n",
       "</div>"
      ],
      "text/plain": [
       "      SibSp     Parch  Pclass_1  Pclass_2  Pclass_3   NoCabin     NoAge  \\\n",
       "0 -0.534918 -0.489630 -0.565368 -0.509865  0.902081  0.544619 -0.497615   \n",
       "1  0.565802 -0.489630 -0.565368 -0.509865  0.902081  0.544619 -0.497615   \n",
       "2 -0.534918 -0.489630 -0.565368  1.959102 -1.107304  0.544619 -0.497615   \n",
       "3 -0.534918 -0.489630 -0.565368 -0.509865  0.902081  0.544619 -0.497615   \n",
       "4  0.565802  0.820461 -0.565368 -0.509865  0.902081  0.544619 -0.497615   \n",
       "\n",
       "    Age_log  Age_young   Age_old  ...  Fare_log  Embark_C  Embark_Q  Embark_S  \\\n",
       "0  0.461720   -0.28943 -0.312460  ... -0.946342 -0.481772  3.249548 -1.622891   \n",
       "1  0.947090   -0.28943  0.577595  ... -1.066627 -0.481772 -0.307390  0.615493   \n",
       "2  1.384619   -0.28943  3.976926  ... -0.717510 -0.481772  3.249548 -1.622891   \n",
       "3  0.079870   -0.28943 -0.312460  ... -0.837669 -0.481772 -0.307390  0.615493   \n",
       "4 -0.236628   -0.28943 -0.312460  ... -0.462063 -0.481772 -0.307390  0.615493   \n",
       "\n",
       "     Sex_Mr  Sex_Master   Sex_Mrs  Sex_Miss  LN_Length  LN_Vfrac  \n",
       "0  0.811467   -0.216681 -0.413081 -0.509865  -0.827052  0.269103  \n",
       "1 -1.230954   -0.216681  2.418114 -0.509865  -0.364754 -0.390205  \n",
       "2  0.811467   -0.216681 -0.413081 -0.509865  -0.827052  0.269103  \n",
       "3  0.811467   -0.216681 -0.413081 -0.509865  -1.289351 -1.214341  \n",
       "4 -1.230954   -0.216681  2.418114 -0.509865   0.559843  0.021863  \n",
       "\n",
       "[5 rows x 21 columns]"
      ]
     },
     "execution_count": 248,
     "metadata": {},
     "output_type": "execute_result"
    }
   ],
   "source": [
    "# Offset, Scale all features so that Train features have mean 0.0 and standard deviation 1.0:\n",
    "for col in X.columns:\n",
    "    col_mean = X[col].mean()\n",
    "    col_std = X[col].std()\n",
    "    ##print(col_mean, col_std)\n",
    "    # X\n",
    "    X[col] = (X[col] - col_mean)/col_std\n",
    "    # Xkag\n",
    "    Xkag[col] = (Xkag[col] - col_mean)/col_std\n",
    "    \n",
    "X.head()\n",
    "Xkag.head()"
   ]
  },
  {
   "cell_type": "code",
   "execution_count": 249,
   "metadata": {},
   "outputs": [
    {
     "data": {
      "text/html": [
       "<div>\n",
       "<style scoped>\n",
       "    .dataframe tbody tr th:only-of-type {\n",
       "        vertical-align: middle;\n",
       "    }\n",
       "\n",
       "    .dataframe tbody tr th {\n",
       "        vertical-align: top;\n",
       "    }\n",
       "\n",
       "    .dataframe thead th {\n",
       "        text-align: right;\n",
       "    }\n",
       "</style>\n",
       "<table border=\"1\" class=\"dataframe\">\n",
       "  <thead>\n",
       "    <tr style=\"text-align: right;\">\n",
       "      <th></th>\n",
       "      <th>Feature_Name</th>\n",
       "      <th>Notnull</th>\n",
       "      <th>Null</th>\n",
       "      <th>Unique</th>\n",
       "      <th>Types</th>\n",
       "    </tr>\n",
       "  </thead>\n",
       "  <tbody>\n",
       "    <tr>\n",
       "      <td>0</td>\n",
       "      <td>SibSp</td>\n",
       "      <td>891</td>\n",
       "      <td>0</td>\n",
       "      <td>5</td>\n",
       "      <td>float64</td>\n",
       "    </tr>\n",
       "    <tr>\n",
       "      <td>11</td>\n",
       "      <td>Fare_log</td>\n",
       "      <td>891</td>\n",
       "      <td>0</td>\n",
       "      <td>248</td>\n",
       "      <td>float64</td>\n",
       "    </tr>\n",
       "    <tr>\n",
       "      <td>19</td>\n",
       "      <td>LN_Length</td>\n",
       "      <td>891</td>\n",
       "      <td>0</td>\n",
       "      <td>15</td>\n",
       "      <td>float64</td>\n",
       "    </tr>\n",
       "    <tr>\n",
       "      <td>18</td>\n",
       "      <td>Sex_Miss</td>\n",
       "      <td>891</td>\n",
       "      <td>0</td>\n",
       "      <td>2</td>\n",
       "      <td>float64</td>\n",
       "    </tr>\n",
       "    <tr>\n",
       "      <td>17</td>\n",
       "      <td>Sex_Mrs</td>\n",
       "      <td>891</td>\n",
       "      <td>0</td>\n",
       "      <td>2</td>\n",
       "      <td>float64</td>\n",
       "    </tr>\n",
       "    <tr>\n",
       "      <td>16</td>\n",
       "      <td>Sex_Master</td>\n",
       "      <td>891</td>\n",
       "      <td>0</td>\n",
       "      <td>2</td>\n",
       "      <td>float64</td>\n",
       "    </tr>\n",
       "    <tr>\n",
       "      <td>15</td>\n",
       "      <td>Sex_Mr</td>\n",
       "      <td>891</td>\n",
       "      <td>0</td>\n",
       "      <td>2</td>\n",
       "      <td>float64</td>\n",
       "    </tr>\n",
       "    <tr>\n",
       "      <td>14</td>\n",
       "      <td>Embark_S</td>\n",
       "      <td>891</td>\n",
       "      <td>0</td>\n",
       "      <td>2</td>\n",
       "      <td>float64</td>\n",
       "    </tr>\n",
       "    <tr>\n",
       "      <td>13</td>\n",
       "      <td>Embark_Q</td>\n",
       "      <td>891</td>\n",
       "      <td>0</td>\n",
       "      <td>2</td>\n",
       "      <td>float64</td>\n",
       "    </tr>\n",
       "    <tr>\n",
       "      <td>12</td>\n",
       "      <td>Embark_C</td>\n",
       "      <td>891</td>\n",
       "      <td>0</td>\n",
       "      <td>2</td>\n",
       "      <td>float64</td>\n",
       "    </tr>\n",
       "    <tr>\n",
       "      <td>10</td>\n",
       "      <td>Fare_0</td>\n",
       "      <td>891</td>\n",
       "      <td>0</td>\n",
       "      <td>2</td>\n",
       "      <td>float64</td>\n",
       "    </tr>\n",
       "    <tr>\n",
       "      <td>1</td>\n",
       "      <td>Parch</td>\n",
       "      <td>891</td>\n",
       "      <td>0</td>\n",
       "      <td>5</td>\n",
       "      <td>float64</td>\n",
       "    </tr>\n",
       "    <tr>\n",
       "      <td>9</td>\n",
       "      <td>Age_old</td>\n",
       "      <td>891</td>\n",
       "      <td>0</td>\n",
       "      <td>31</td>\n",
       "      <td>float64</td>\n",
       "    </tr>\n",
       "    <tr>\n",
       "      <td>8</td>\n",
       "      <td>Age_young</td>\n",
       "      <td>891</td>\n",
       "      <td>0</td>\n",
       "      <td>26</td>\n",
       "      <td>float64</td>\n",
       "    </tr>\n",
       "    <tr>\n",
       "      <td>7</td>\n",
       "      <td>Age_log</td>\n",
       "      <td>891</td>\n",
       "      <td>0</td>\n",
       "      <td>88</td>\n",
       "      <td>float64</td>\n",
       "    </tr>\n",
       "    <tr>\n",
       "      <td>6</td>\n",
       "      <td>NoAge</td>\n",
       "      <td>891</td>\n",
       "      <td>0</td>\n",
       "      <td>2</td>\n",
       "      <td>float64</td>\n",
       "    </tr>\n",
       "    <tr>\n",
       "      <td>5</td>\n",
       "      <td>NoCabin</td>\n",
       "      <td>891</td>\n",
       "      <td>0</td>\n",
       "      <td>2</td>\n",
       "      <td>float64</td>\n",
       "    </tr>\n",
       "    <tr>\n",
       "      <td>4</td>\n",
       "      <td>Pclass_3</td>\n",
       "      <td>891</td>\n",
       "      <td>0</td>\n",
       "      <td>2</td>\n",
       "      <td>float64</td>\n",
       "    </tr>\n",
       "    <tr>\n",
       "      <td>3</td>\n",
       "      <td>Pclass_2</td>\n",
       "      <td>891</td>\n",
       "      <td>0</td>\n",
       "      <td>2</td>\n",
       "      <td>float64</td>\n",
       "    </tr>\n",
       "    <tr>\n",
       "      <td>2</td>\n",
       "      <td>Pclass_1</td>\n",
       "      <td>891</td>\n",
       "      <td>0</td>\n",
       "      <td>2</td>\n",
       "      <td>float64</td>\n",
       "    </tr>\n",
       "    <tr>\n",
       "      <td>20</td>\n",
       "      <td>LN_Vfrac</td>\n",
       "      <td>891</td>\n",
       "      <td>0</td>\n",
       "      <td>28</td>\n",
       "      <td>float64</td>\n",
       "    </tr>\n",
       "  </tbody>\n",
       "</table>\n",
       "</div>"
      ],
      "text/plain": [
       "   Feature_Name Notnull Null Unique    Types\n",
       "0         SibSp     891    0      5  float64\n",
       "11     Fare_log     891    0    248  float64\n",
       "19    LN_Length     891    0     15  float64\n",
       "18     Sex_Miss     891    0      2  float64\n",
       "17      Sex_Mrs     891    0      2  float64\n",
       "16   Sex_Master     891    0      2  float64\n",
       "15       Sex_Mr     891    0      2  float64\n",
       "14     Embark_S     891    0      2  float64\n",
       "13     Embark_Q     891    0      2  float64\n",
       "12     Embark_C     891    0      2  float64\n",
       "10       Fare_0     891    0      2  float64\n",
       "1         Parch     891    0      5  float64\n",
       "9       Age_old     891    0     31  float64\n",
       "8     Age_young     891    0     26  float64\n",
       "7       Age_log     891    0     88  float64\n",
       "6         NoAge     891    0      2  float64\n",
       "5       NoCabin     891    0      2  float64\n",
       "4      Pclass_3     891    0      2  float64\n",
       "3      Pclass_2     891    0      2  float64\n",
       "2      Pclass_1     891    0      2  float64\n",
       "20     LN_Vfrac     891    0     28  float64"
      ]
     },
     "execution_count": 249,
     "metadata": {},
     "output_type": "execute_result"
    },
    {
     "data": {
      "text/html": [
       "<div>\n",
       "<style scoped>\n",
       "    .dataframe tbody tr th:only-of-type {\n",
       "        vertical-align: middle;\n",
       "    }\n",
       "\n",
       "    .dataframe tbody tr th {\n",
       "        vertical-align: top;\n",
       "    }\n",
       "\n",
       "    .dataframe thead th {\n",
       "        text-align: right;\n",
       "    }\n",
       "</style>\n",
       "<table border=\"1\" class=\"dataframe\">\n",
       "  <thead>\n",
       "    <tr style=\"text-align: right;\">\n",
       "      <th></th>\n",
       "      <th>Feature_Name</th>\n",
       "      <th>Notnull</th>\n",
       "      <th>Null</th>\n",
       "      <th>Unique</th>\n",
       "      <th>Types</th>\n",
       "    </tr>\n",
       "  </thead>\n",
       "  <tbody>\n",
       "    <tr>\n",
       "      <td>0</td>\n",
       "      <td>SibSp</td>\n",
       "      <td>418</td>\n",
       "      <td>0</td>\n",
       "      <td>7</td>\n",
       "      <td>float64</td>\n",
       "    </tr>\n",
       "    <tr>\n",
       "      <td>11</td>\n",
       "      <td>Fare_log</td>\n",
       "      <td>418</td>\n",
       "      <td>0</td>\n",
       "      <td>169</td>\n",
       "      <td>float64</td>\n",
       "    </tr>\n",
       "    <tr>\n",
       "      <td>19</td>\n",
       "      <td>LN_Length</td>\n",
       "      <td>418</td>\n",
       "      <td>0</td>\n",
       "      <td>13</td>\n",
       "      <td>float64</td>\n",
       "    </tr>\n",
       "    <tr>\n",
       "      <td>18</td>\n",
       "      <td>Sex_Miss</td>\n",
       "      <td>418</td>\n",
       "      <td>0</td>\n",
       "      <td>2</td>\n",
       "      <td>float64</td>\n",
       "    </tr>\n",
       "    <tr>\n",
       "      <td>17</td>\n",
       "      <td>Sex_Mrs</td>\n",
       "      <td>418</td>\n",
       "      <td>0</td>\n",
       "      <td>2</td>\n",
       "      <td>float64</td>\n",
       "    </tr>\n",
       "    <tr>\n",
       "      <td>16</td>\n",
       "      <td>Sex_Master</td>\n",
       "      <td>418</td>\n",
       "      <td>0</td>\n",
       "      <td>2</td>\n",
       "      <td>float64</td>\n",
       "    </tr>\n",
       "    <tr>\n",
       "      <td>15</td>\n",
       "      <td>Sex_Mr</td>\n",
       "      <td>418</td>\n",
       "      <td>0</td>\n",
       "      <td>2</td>\n",
       "      <td>float64</td>\n",
       "    </tr>\n",
       "    <tr>\n",
       "      <td>14</td>\n",
       "      <td>Embark_S</td>\n",
       "      <td>418</td>\n",
       "      <td>0</td>\n",
       "      <td>2</td>\n",
       "      <td>float64</td>\n",
       "    </tr>\n",
       "    <tr>\n",
       "      <td>13</td>\n",
       "      <td>Embark_Q</td>\n",
       "      <td>418</td>\n",
       "      <td>0</td>\n",
       "      <td>2</td>\n",
       "      <td>float64</td>\n",
       "    </tr>\n",
       "    <tr>\n",
       "      <td>12</td>\n",
       "      <td>Embark_C</td>\n",
       "      <td>418</td>\n",
       "      <td>0</td>\n",
       "      <td>2</td>\n",
       "      <td>float64</td>\n",
       "    </tr>\n",
       "    <tr>\n",
       "      <td>10</td>\n",
       "      <td>Fare_0</td>\n",
       "      <td>418</td>\n",
       "      <td>0</td>\n",
       "      <td>2</td>\n",
       "      <td>float64</td>\n",
       "    </tr>\n",
       "    <tr>\n",
       "      <td>1</td>\n",
       "      <td>Parch</td>\n",
       "      <td>418</td>\n",
       "      <td>0</td>\n",
       "      <td>8</td>\n",
       "      <td>float64</td>\n",
       "    </tr>\n",
       "    <tr>\n",
       "      <td>9</td>\n",
       "      <td>Age_old</td>\n",
       "      <td>418</td>\n",
       "      <td>0</td>\n",
       "      <td>23</td>\n",
       "      <td>float64</td>\n",
       "    </tr>\n",
       "    <tr>\n",
       "      <td>8</td>\n",
       "      <td>Age_young</td>\n",
       "      <td>418</td>\n",
       "      <td>0</td>\n",
       "      <td>26</td>\n",
       "      <td>float64</td>\n",
       "    </tr>\n",
       "    <tr>\n",
       "      <td>7</td>\n",
       "      <td>Age_log</td>\n",
       "      <td>418</td>\n",
       "      <td>0</td>\n",
       "      <td>79</td>\n",
       "      <td>float64</td>\n",
       "    </tr>\n",
       "    <tr>\n",
       "      <td>6</td>\n",
       "      <td>NoAge</td>\n",
       "      <td>418</td>\n",
       "      <td>0</td>\n",
       "      <td>2</td>\n",
       "      <td>float64</td>\n",
       "    </tr>\n",
       "    <tr>\n",
       "      <td>5</td>\n",
       "      <td>NoCabin</td>\n",
       "      <td>418</td>\n",
       "      <td>0</td>\n",
       "      <td>2</td>\n",
       "      <td>float64</td>\n",
       "    </tr>\n",
       "    <tr>\n",
       "      <td>4</td>\n",
       "      <td>Pclass_3</td>\n",
       "      <td>418</td>\n",
       "      <td>0</td>\n",
       "      <td>2</td>\n",
       "      <td>float64</td>\n",
       "    </tr>\n",
       "    <tr>\n",
       "      <td>3</td>\n",
       "      <td>Pclass_2</td>\n",
       "      <td>418</td>\n",
       "      <td>0</td>\n",
       "      <td>2</td>\n",
       "      <td>float64</td>\n",
       "    </tr>\n",
       "    <tr>\n",
       "      <td>2</td>\n",
       "      <td>Pclass_1</td>\n",
       "      <td>418</td>\n",
       "      <td>0</td>\n",
       "      <td>2</td>\n",
       "      <td>float64</td>\n",
       "    </tr>\n",
       "    <tr>\n",
       "      <td>20</td>\n",
       "      <td>LN_Vfrac</td>\n",
       "      <td>418</td>\n",
       "      <td>0</td>\n",
       "      <td>25</td>\n",
       "      <td>float64</td>\n",
       "    </tr>\n",
       "  </tbody>\n",
       "</table>\n",
       "</div>"
      ],
      "text/plain": [
       "   Feature_Name Notnull Null Unique    Types\n",
       "0         SibSp     418    0      7  float64\n",
       "11     Fare_log     418    0    169  float64\n",
       "19    LN_Length     418    0     13  float64\n",
       "18     Sex_Miss     418    0      2  float64\n",
       "17      Sex_Mrs     418    0      2  float64\n",
       "16   Sex_Master     418    0      2  float64\n",
       "15       Sex_Mr     418    0      2  float64\n",
       "14     Embark_S     418    0      2  float64\n",
       "13     Embark_Q     418    0      2  float64\n",
       "12     Embark_C     418    0      2  float64\n",
       "10       Fare_0     418    0      2  float64\n",
       "1         Parch     418    0      8  float64\n",
       "9       Age_old     418    0     23  float64\n",
       "8     Age_young     418    0     26  float64\n",
       "7       Age_log     418    0     79  float64\n",
       "6         NoAge     418    0      2  float64\n",
       "5       NoCabin     418    0      2  float64\n",
       "4      Pclass_3     418    0      2  float64\n",
       "3      Pclass_2     418    0      2  float64\n",
       "2      Pclass_1     418    0      2  float64\n",
       "20     LN_Vfrac     418    0     25  float64"
      ]
     },
     "execution_count": 249,
     "metadata": {},
     "output_type": "execute_result"
    }
   ],
   "source": [
    "Notnull_null_unique_types(X)\n",
    "Notnull_null_unique_types(Xkag)"
   ]
  },
  {
   "cell_type": "markdown",
   "metadata": {},
   "source": [
    "## <a id=\"DefineModels\">Define the Models and Parameters</a>\n",
    "Back to <a href=\"#Index\">Index</a>\n",
    "\n",
    "Define the different models available and their parameters and GSCV parameters."
   ]
  },
  {
   "cell_type": "code",
   "execution_count": 189,
   "metadata": {},
   "outputs": [],
   "source": [
    "# Select model to use:  lgr, dtc, rfc, gbc, svc, mlp, xgb\n",
    "\n",
    "model_name = \"xgb\"\n"
   ]
  },
  {
   "cell_type": "code",
   "execution_count": 190,
   "metadata": {},
   "outputs": [],
   "source": [
    "# LogisticRegression(\n",
    "#  penalty=’l2’, dual=False, tol=0.0001, C=1.0,\n",
    "# fit_intercept=True, intercept_scaling=1, class_weight=None,\n",
    "# random_state=None, solver=’warn’, max_iter=100, multi_class=’warn’,\n",
    "# verbose=0, warm_start=False, n_jobs=None)\n",
    "\n",
    "lgr_params = {'tol': 0.00001,\n",
    "              'C': 0.04,\n",
    "              'solver': 'sag',\n",
    "              'max_iter': 10000,\n",
    "              'multi_class': 'ovr',\n",
    "              'verbose': 1}\n",
    "# Do each value once since the fitting is not very random\n",
    "lgr_param_grid = {'tol': [0.00001],\n",
    "                  'C': [0.005, 0.008, 0.01, 0.012, 0.015, 0.02, 0.025, 0.03, 0.035, 0.04, \\\n",
    "                        0.045, 0.05, 0.06, 0.07, 0.10]}\n"
   ]
  },
  {
   "cell_type": "code",
   "execution_count": 191,
   "metadata": {},
   "outputs": [],
   "source": [
    "# Decision Tree Classifier\n",
    "\n",
    "# https://scikit-learn.org/stable/modules/generated/sklearn.tree.DecisionTreeClassifier.html\n",
    "\n",
    "# DecisionTreeClassifier(\n",
    "# criterion=’gini’, splitter=’best’, max_depth=None, min_samples_split=2, min_samples_leaf=1,\n",
    "# min_weight_fraction_leaf=0.0, max_features=None, random_state=None, max_leaf_nodes=None,\n",
    "# min_impurity_decrease=0.0, min_impurity_split=None, class_weight=None, presort=False)\n",
    "\n",
    "dtc_params = {'max_depth': 3,\n",
    "                'min_samples_leaf': 2,\n",
    "                'min_impurity_decrease': 0.001\n",
    "             }\n",
    "\n",
    "##dtc_param_grid = {'max_depth': [2, 3, 4, 5, 6, 7, 8, 9],\n",
    "##                'min_samples_leaf': [2, 3, 4, 5, 7, 9],\n",
    "##                'min_impurity_decrease': [0.001]\n",
    "##             }\n",
    "\n",
    "dtc_param_grid = {'max_depth': [2, 3, 4, 5, 6, 7, 8, 9, 10, 11, 12],\n",
    "                'min_samples_leaf': [2, 3, 4, 5, 6, 7, 8, 9, 10],\n",
    "                'min_impurity_decrease': [0.001]\n",
    "             }"
   ]
  },
  {
   "cell_type": "code",
   "execution_count": 192,
   "metadata": {},
   "outputs": [],
   "source": [
    "# Random Forest Classifier\n",
    "\n",
    "# https://scikit-learn.org/stable/modules/generated/sklearn.ensemble.RandomForestClassifier.html\n",
    "\n",
    "# RandomForestClassifier(\n",
    "# n_estimators=’warn’, criterion=’gini’, max_depth=None, min_samples_split=2, min_samples_leaf=1,\n",
    "# min_weight_fraction_leaf=0.0, max_features=’auto’, max_leaf_nodes=None, min_impurity_decrease=0.0,\n",
    "# min_impurity_split=None, bootstrap=True, oob_score=False, n_jobs=None, random_state=None, verbose=0,\n",
    "# warm_start=False, class_weight=None)\n",
    "\n",
    "\n",
    "rfc_params = {'n_estimators': 200,\n",
    "              'max_depth': 5,\n",
    "              'min_samples_leaf': 2,\n",
    "              'min_impurity_decrease': 0.001\n",
    "             }\n",
    "\n",
    "##rfc_param_grid = {'max_depth': [4, 5, 6, 7, 8, 9, 10, 11, 12],\n",
    "##                  'min_samples_leaf': [2, 3, 4, 5, 6, 7, 8],\n",
    "##                  'min_impurity_decrease': [0.001]\n",
    "##                 }\n",
    "\n",
    "# Use max_depth = 5 and min_samples_leaf = 2;\n",
    "# Run these same parameters many times to see spread\n",
    "rfc_param_grid = [\n",
    "    {'max_depth': [5, 5],\n",
    "                  'min_samples_leaf': [2, 2],\n",
    "                  'min_impurity_decrease': [0.001]\n",
    "                 },\n",
    "    {'max_depth': [5, 5],\n",
    "                  'min_samples_leaf': [2, 2],\n",
    "                  'min_impurity_decrease': [0.001]\n",
    "                 },\n",
    "    {'max_depth': [5, 5],\n",
    "                  'min_samples_leaf': [2, 2],\n",
    "                  'min_impurity_decrease': [0.001]\n",
    "                 },\n",
    "    {'max_depth': [5, 5],\n",
    "                  'min_samples_leaf': [2, 2],\n",
    "                  'min_impurity_decrease': [0.001]\n",
    "                 }\n",
    "]\n"
   ]
  },
  {
   "cell_type": "code",
   "execution_count": 193,
   "metadata": {},
   "outputs": [],
   "source": [
    "# Gradient Boosting Classifier\n",
    "\n",
    "# https://scikit-learn.org/stable/modules/generated/sklearn.ensemble.GradientBoostingClassifier.html\n",
    "\n",
    "# GradientBoostingClassifier(\n",
    "#      loss=’deviance’,\n",
    "#      learning_rate=0.1,\n",
    "#      n_estimators=100,\n",
    "#      max_depth=3,\n",
    "#\n",
    "#      max_features=None,\n",
    "#      min_impurity_decrease=0.0,\n",
    "#      min_samples_leaf=1,\n",
    "#      min_samples_split=2,\n",
    "#      subsample=1.0,\n",
    "#\n",
    "#      n_iter_no_change=None,\n",
    "#      validation_fraction=0.1, tol=0.0001,\n",
    "#      verbose=0,\n",
    "#\n",
    "#      criterion=’friedman_mse’, \n",
    "#      min_weight_fraction_leaf=0.0,\n",
    "#      min_impurity_split=None, init=None, random_state=None,  \n",
    "#      max_leaf_nodes=None, warm_start=False, presort=’auto’, \n",
    "#      )\n",
    "\n",
    "# Parameters for this model\n",
    "#\n",
    "# possible loss functions:\n",
    "# ‘deviance’ refers to deviance (= logistic regression) for classification with probabilistic outputs. \n",
    "#\n",
    "# Other parameters for this model.   #***** are ones to focus on tuning...\n",
    "# Values here are updated to be the current 'best' ones.\n",
    "gbc_params = {\n",
    "          'learning_rate': 0.013, # Smaller better but n_estimators grows\n",
    "          'n_estimators': 400,   # Early stopping will limit this, so just set a large value.\n",
    "          #\n",
    "          'max_depth': 4,      #***** Keep small to reduce overfitting\n",
    "          #\n",
    "          'max_features': None,      #***** <1.0 reduces variance and increases bias\n",
    "          'min_impurity_decrease': 0.003,   #*****\n",
    "          'min_samples_leaf': 20,         # *****\n",
    "          'min_samples_split': 85,      #*****\n",
    "          'subsample': 0.80,            #***** less than 1.0 to reduce variance, increase bias\n",
    "          # early stopping:      \n",
    "          # allows not tuning the n_estimators parameter\n",
    "          'n_iter_no_change': 30,\n",
    "          'tol': 0.00003,\n",
    "          'validation_fraction': 0.15, 'tol': 0.0005,\n",
    "          'verbose': 0\n",
    "          }\n",
    "\n",
    "# Setup hyper-parameter grid for the model:\n",
    "gbc_param_grid = [\n",
    "    {\n",
    "              'min_impurity_decrease': [0.003],\n",
    "              'min_samples_leaf': [20, 20],\n",
    "              'min_samples_split': [85, 85],\n",
    "              'subsample': [0.80]},\n",
    "    {\n",
    "              'min_impurity_decrease': [0.003],\n",
    "              'min_samples_leaf': [20, 20],\n",
    "              'min_samples_split': [85, 85],\n",
    "              'subsample': [0.80]}\n",
    "]"
   ]
  },
  {
   "cell_type": "code",
   "execution_count": 194,
   "metadata": {},
   "outputs": [],
   "source": [
    "# Support Vector Classification - SVC\n",
    "\n",
    "# https://scikit-learn.org/stable/modules/generated/sklearn.svm.SVC.html\n",
    "\n",
    "# SVC(\n",
    "# C=1.0, kernel=’rbf’, degree=3, gamma=’auto_deprecated’, coef0=0.0,\n",
    "# shrinking=True, probability=False, tol=0.001, cache_size=200,\n",
    "# class_weight=None, verbose=False, max_iter=-1, decision_function_shape=’ovr’, random_state=None)\n",
    "    \n",
    "svc_params = {'kernel': 'rbf',  # one of ‘linear’, ‘poly’, ‘rbf’, ‘sigmoid’, ‘precomputed’ \n",
    "              'degree': 3,       # for 'poly' only\n",
    "              'coef0': 0.0,      # poly, sigmoid\n",
    "              'tol': 0.0003,      # stopping critereon\n",
    "              #\n",
    "              'C': 2.5,           # Penalty parameter C of the error term\n",
    "              'gamma': 0.060,     # auto gives 1/n_features\n",
    "              #\n",
    "              'shrinking': True,  # use the shrinking heuristic\n",
    "              'probability': True, # allows proba values\n",
    "              'cache_size': 200,   # kernel cache (in MB)\n",
    "              'class_weight': 'balanced',  # the values of y to automatically adjust weights \n",
    "              'verbose': True,\n",
    "              'max_iter': 100000,\n",
    "              'decision_function_shape': 'ovr'  # same as other classifiers\n",
    "             }\n",
    "\n",
    "# Scan some values... \n",
    "# poly degree 3: C=2.5, gamma=0.030\n",
    "svc_param_grid = {'C': [2.4, 2.5, 2.6],\n",
    "    'gamma': [0.029, 0.030, 0.031]\n",
    "    }\n",
    "# rbf            C=3.5, gamma=0.025\n",
    "##svc_param_grid = {'C': [3.4, 3.5, 3.6],\n",
    "##    'gamma': [0.024, 0.025, 0.026]\n",
    "##    }"
   ]
  },
  {
   "cell_type": "code",
   "execution_count": 195,
   "metadata": {},
   "outputs": [],
   "source": [
    "# Neural Network Classifier\n",
    "\n",
    "# https://scikit-learn.org/stable/modules/generated/sklearn.neural_network.MLPClassifier.html\n",
    "\n",
    "# MLPClassifier(\n",
    "# hidden_layer_sizes=(100, ), activation=’relu’, solver=’adam’, alpha=0.0001,\n",
    "# batch_size=’auto’, learning_rate=’constant’, learning_rate_init=0.001, power_t=0.5,\n",
    "# max_iter=200, shuffle=True, random_state=None, tol=0.0001,\n",
    "# verbose=False, warm_start=False, momentum=0.9, nesterovs_momentum=True,\n",
    "# early_stopping=False, validation_fraction=0.1,\n",
    "# beta_1=0.9, beta_2=0.999, epsilon=1e-08, n_iter_no_change=10\n",
    "              \n",
    "valid_fraction = 0.15\n",
    "    \n",
    "mlp_params = {'hidden_layer_sizes': (14,10,8),\n",
    "              'alpha': 0.60,   # L2 regularization param\n",
    "              'learning_rate_init': 0.09,\n",
    "              # less often changed parameters:\n",
    "              'batch_size': 35,  # bit better than auto=200\n",
    "              'momentum': 0.50,  # for sgd; 0.95 more erratic\n",
    "              #\n",
    "              'activation': 'relu',\n",
    "              'solver': 'sgd',\n",
    "              'learning_rate': 'constant',\n",
    "              'max_iter': 500, # number of epochs, uses < 100 for (12,4)\n",
    "              'tol': 0.00003,\n",
    "              'n_iter_no_change': 30,  # number of epochs\n",
    "              'early_stopping': True,\n",
    "              'validation_fraction': valid_fraction,\n",
    "              #\n",
    "              'verbose': False\n",
    "             }\n",
    "\n",
    "# Scan some values:\n",
    "# ~ 0.6, 0.09, 0.5 best for (14,10,8)\n",
    "mlp_param_grid = [\n",
    "    {'alpha': [0.60, 0.61],  # L2 regularization param\n",
    "     'learning_rate_init': [0.090, 0.091],\n",
    "     'momentum': [0.50, 0.51],\n",
    "    }\n",
    "]"
   ]
  },
  {
   "cell_type": "code",
   "execution_count": 196,
   "metadata": {},
   "outputs": [],
   "source": [
    "# eXtreme Gradient Boost classifier\n",
    "\n",
    "from xgboost import XGBClassifier\n",
    "\n",
    "# Thefollowing is from 40% of the way down on the page:\n",
    "#   https://xgboost.readthedocs.io/en/latest/python/python_api.html\n",
    "\n",
    "# XGBClassifier(\n",
    "# max_depth=3, learning_rate=0.1, n_estimators=100,\n",
    "# verbosity=1, objective='binary:logistic', booster='gbtree',\n",
    "# tree_method='auto', n_jobs=1, gpu_id=-1,\n",
    "# gamma=0, min_child_weight=1, max_delta_step=0,\n",
    "# subsample=1, colsample_bytree=1, colsample_bylevel=1, colsample_bynode=1,\n",
    "# reg_alpha=0, reg_lambda=1, scale_pos_weight=1, base_score=0.5,\n",
    "# random_state=0, missing=None)\n",
    "\n",
    "# get_params output, in alpha order:\n",
    "\n",
    "#{      'base_score': 0.50,\n",
    "# 'booster': 'gbtree',\n",
    "# 'colsample_bylevel': 1,\n",
    "# 'colsample_bynode': 1,\n",
    "# 'colsample_bytree': 1,\n",
    "#                           'gamma': 0,\n",
    "#                           'learning_rate': 0.1,    # xgb's eta\n",
    "# 'max_delta_step': 0,\n",
    "#                           'max_depth': 1,\n",
    "# 'min_child_weight': 1,\n",
    "# 'missing': None,\n",
    "#                           'n_estimators': 100,\n",
    "# 'n_jobs': 1,\n",
    "# 'nthread': None,\n",
    "#       'objective': 'binary:logistic',\n",
    "# 'random_state': 0,\n",
    "# 'reg_alpha': 0,    # xgb's alpha\n",
    "#       'reg_lambda': 1,   # xgb's lambda\n",
    "# 'scale_pos_weight': 1,\n",
    "# 'seed': None,\n",
    "# 'silent': None,\n",
    "#       'subsample': 1,\n",
    "#       'verbosity': 1}\n",
    "    \n",
    "xgb_params = {\n",
    "        \"max_depth\"        : 4,\n",
    "        \"learning_rate\"    : 0.08,\n",
    "        \"n_estimators\"     : 75,\n",
    "        \"min_child_weight\" : 4,\n",
    "        \"gamma\"            : 1.5,\n",
    "        \"colsample_bytree\" : 0.40,\n",
    "        \"subsample\"        : 1.0,\n",
    "        \"reg_lambda\"       : 1.0,\n",
    "    #\n",
    "        \"objective\": \"binary:logistic\",\n",
    "        \"base_score\" : 0.50,\n",
    "        \"verbosity\" : 1\n",
    "     }\n",
    "\n",
    "# Setup hyper-parameter grid for the model:\n",
    "xgb_param_grid = [\n",
    "    {\n",
    "        ##\"max_depth\"        : [5, 7, 9],  # fix at 8 or 4\n",
    "        \"learning_rate\"    : [0.01, 0.03, 0.08],   # <-- try different rates; v34 used 0.08\n",
    "        \"n_estimators\"     : np.array(range(5,300,10))  # <-- scan values; v34 used 75\n",
    "        ##\"min_child_weight\" : [2, 4, 6],   #\n",
    "        ##\"gamma\"            : [0.5, 1.5, 3.0, 4.5],  #\n",
    "        ##\"colsample_bytree\" : [0.14, 0.20, 0.28, 0.40] #\n",
    "        ##\"subsample\"        : [0.8, 1.0],      # keep value of 1\n",
    "        ##\"reg_lambda\"       : [0.1, 1.0, 10.0] # keep at 1\n",
    "     }\n",
    "]"
   ]
  },
  {
   "cell_type": "code",
   "execution_count": 258,
   "metadata": {},
   "outputs": [],
   "source": [
    "# Select model to use:  lgr, dtc, rfc, gbc, svc, mlp, xgb\n",
    "\n",
    "model_name = \"lgr\"\n"
   ]
  },
  {
   "cell_type": "code",
   "execution_count": 259,
   "metadata": {},
   "outputs": [],
   "source": [
    "# Choose the selected model\n",
    "\n",
    "if model_name == 'lgr':\n",
    "    model_base = LogisticRegression(**lgr_params)\n",
    "    param_grid = lgr_param_grid\n",
    "\n",
    "if model_name == 'dtc':\n",
    "    model_base = DecisionTreeClassifier(**dtc_params)\n",
    "    param_grid = dtc_param_grid\n",
    "    \n",
    "if model_name == 'rfc':\n",
    "    model_base = RandomForestClassifier(**rfc_params)\n",
    "    param_grid = rfc_param_grid\n",
    "    \n",
    "if model_name == 'gbc':\n",
    "    model_base = GradientBoostingClassifier(**gbc_params)\n",
    "    param_grid = gbc_param_grid\n",
    "    \n",
    "if model_name == 'svc':\n",
    "    model_base = SVC(**svc_params)\n",
    "    param_grid = svc_param_grid\n",
    "    \n",
    "if model_name == 'mlp':\n",
    "    model_base = MLPClassifier(**mlp_params)\n",
    "    param_grid = mlp_param_grid\n",
    "    \n",
    "if model_name == 'xgb':\n",
    "    model_base = XGBClassifier(**xgb_params)\n",
    "    param_grid = xgb_param_grid"
   ]
  },
  {
   "cell_type": "markdown",
   "metadata": {},
   "source": [
    "### Fit the Model with Nominal Hyper-Parameters"
   ]
  },
  {
   "cell_type": "code",
   "execution_count": 257,
   "metadata": {},
   "outputs": [
    {
     "name": "stdout",
     "output_type": "stream",
     "text": [
      "{'base_score': 0.5, 'booster': 'gbtree', 'colsample_bylevel': 1, 'colsample_bynode': 1, 'colsample_bytree': 0.4, 'gamma': 1.5, 'learning_rate': 0.08, 'max_delta_step': 0, 'max_depth': 4, 'min_child_weight': 4, 'missing': None, 'n_estimators': 75, 'n_jobs': 1, 'nthread': None, 'objective': 'binary:logistic', 'random_state': 0, 'reg_alpha': 0, 'reg_lambda': 1.0, 'scale_pos_weight': 1, 'seed': None, 'silent': None, 'subsample': 1.0, 'verbosity': 1}\n"
     ]
    }
   ],
   "source": [
    "# Doing this fit here lets us skip over the Hyper-Parameter Search and continue\n",
    "if True:\n",
    "    best_fit_model = model_base.fit(X,y)\n",
    "    # Show these parameters\n",
    "    print(best_fit_model.get_params())\n",
    "    # Also define cv_folds, gscv_stats incase the following is skipped:\n",
    "    cv_folds = 10\n",
    "    gscv_stats = []"
   ]
  },
  {
   "cell_type": "markdown",
   "metadata": {},
   "source": [
    "# - - - - - - - - - - - - - - - - - - - - - - - - - - - - - - - -\n",
    "### Continue with the Hyper-Parameter Search that follows\n",
    "#### Or skip the whole Hyper-Parameter section, go to <a href=\"#FeatureImportance\">Feature Importance</a> <br>\n",
    "# - - - - - - - - - - - - - - - - - - - - - - - - - - - - - - - -"
   ]
  },
  {
   "cell_type": "markdown",
   "metadata": {},
   "source": [
    "## <a id=\"HyperSearch\">Do the Hyper-Parameter Search</a>\n",
    "Back to <a href=\"#Index\">Index</a> <br>\n",
    "\n",
    "Scan various combinations, or <br>\n",
    "Just do single/small numbers of values of the parameters."
   ]
  },
  {
   "cell_type": "code",
   "execution_count": 264,
   "metadata": {},
   "outputs": [],
   "source": [
    "# Define scoring function(s)\n",
    "\n",
    "# Demo of make_scorer with simple example:\n",
    "acc_scorer = make_scorer(accuracy_score, greater_is_better=True)\n",
    "\n",
    "gscv_scorer = acc_scorer\n",
    "scorer_name = 'ACC'"
   ]
  },
  {
   "cell_type": "code",
   "execution_count": 265,
   "metadata": {},
   "outputs": [],
   "source": [
    "# Set the CV parameter or method:\n",
    "#\n",
    "# Use KFold with chosen number of folds: \n",
    "cv_folds = 10\n",
    "cv_param = cv_folds"
   ]
  },
  {
   "cell_type": "code",
   "execution_count": 266,
   "metadata": {},
   "outputs": [
    {
     "name": "stdout",
     "output_type": "stream",
     "text": [
      "\n",
      "Doing Grid Search on model: lgr.\n",
      "\n",
      "Fitting 10 folds for each of 15 candidates, totalling 150 fits\n"
     ]
    },
    {
     "name": "stderr",
     "output_type": "stream",
     "text": [
      "[Parallel(n_jobs=-1)]: Using backend LokyBackend with 12 concurrent workers.\n",
      "[Parallel(n_jobs=-1)]: Done  26 tasks      | elapsed:    2.8s\n",
      "[Parallel(n_jobs=-1)]: Done 150 out of 150 | elapsed:    2.9s finished\n"
     ]
    },
    {
     "name": "stdout",
     "output_type": "stream",
     "text": [
      "convergence after 26 epochs took 0 seconds\n"
     ]
    },
    {
     "name": "stderr",
     "output_type": "stream",
     "text": [
      "[Parallel(n_jobs=1)]: Using backend SequentialBackend with 1 concurrent workers.\n",
      "[Parallel(n_jobs=1)]: Done   1 out of   1 | elapsed:    0.0s finished\n"
     ]
    }
   ],
   "source": [
    "# Do the Grid Search\n",
    "\n",
    "print(\"\\nDoing Grid Search on model: \"+model_name+\".\\n\")\n",
    "\n",
    "# Select number of CPUs for GSCV depending if on Kaggle or not:\n",
    "if LOCATION_KAGGLE:\n",
    "    number_cpus = -1\n",
    "else:\n",
    "    number_cpus = -2\n",
    "\n",
    "#GridSearchCV(estimator, param_grid, scoring=None,\n",
    "#             fit_params=None,\n",
    "#             n_jobs=None, iid=’warn’, refit=True, cv=’warn’,\n",
    "#             verbose=0,\n",
    "#             pre_dispatch=‘2*n_jobs’, error_score=’raise-deprecating’,\n",
    "#             return_train_score=’warn’)\n",
    "\n",
    "# param_grid is:\n",
    "# Dictionary with parameters names (string) as keys and lists of parameter settings to try as values,\n",
    "# or a list of such dictionaries.\n",
    "    \n",
    "gscv = GridSearchCV(model_base, param_grid,\n",
    "            scoring=gscv_scorer,      #\n",
    "            n_jobs=number_cpus, #  -2: all CPUs but one are used\n",
    "            iid=False,  # independent identical distrib., \"agrees with standard defn of CV\"\n",
    "            cv=cv_param,\n",
    "            refit=True,\n",
    "            verbose=min(verbose_max,2),\n",
    "            return_train_score=True)\n",
    "\n",
    "t0 = time()\n",
    "\n",
    "_dummy = gscv.fit(X, y)\n"
   ]
  },
  {
   "cell_type": "markdown",
   "metadata": {},
   "source": [
    "### Best model found by GS CV"
   ]
  },
  {
   "cell_type": "code",
   "execution_count": 268,
   "metadata": {},
   "outputs": [
    {
     "data": {
      "text/plain": [
       "'lgr'"
      ]
     },
     "execution_count": 268,
     "metadata": {},
     "output_type": "execute_result"
    }
   ],
   "source": [
    "model_name"
   ]
  },
  {
   "cell_type": "code",
   "execution_count": 267,
   "metadata": {},
   "outputs": [
    {
     "name": "stdout",
     "output_type": "stream",
     "text": [
      "\n",
      "GSCV Fitting took 0.6 minutes.\n",
      "\n"
     ]
    }
   ],
   "source": [
    "# Get the best model\n",
    "best_fit_model = gscv.best_estimator_\n",
    "\n",
    "# Fit it to all the training data - This was already done by the refit=True\n",
    "##best_fit_model.fit(X, y)\n",
    "\n",
    "if (model_name == 'gbc'):\n",
    "    print(\"\\nGSCV Fitting took {:.1f} minutes. (Final fit took {} iterations.)\\n\".format(\n",
    "                                    (time()-t0)/60.0, len(best_fit_model.train_score_)))\n",
    "elif (model_name == 'mlp'):\n",
    "    print(\"\\nGSCV Fitting took {:.1f} minutes. (Final fit took {} iterations.)\\n\".format(\n",
    "                                    (time()-t0)/60.0, best_fit_model.n_iter_))\n",
    "else:\n",
    "    print(\"\\nGSCV Fitting took {:.1f} minutes.\\n\".format((time()-t0)/60.0))\n"
   ]
  },
  {
   "cell_type": "markdown",
   "metadata": {},
   "source": [
    "## <a id=\"CVResults\">Grid Search CV Results</a>\n",
    "Back to <a href=\"#Index\">Index</a>"
   ]
  },
  {
   "cell_type": "code",
   "execution_count": 203,
   "metadata": {},
   "outputs": [],
   "source": [
    "# The GSCV results are given by the python dictionary:\n",
    "##gscv.cv_results_\n",
    "\n",
    "# Here the TEST refers to the out-of-fold/validation data in the CV process.\n"
   ]
  },
  {
   "cell_type": "code",
   "execution_count": 269,
   "metadata": {},
   "outputs": [],
   "source": [
    "# Put the grid search results in a pandas dataframe\n",
    "# Sort by a value, e.g, the test score which is -1*MSE\n",
    "df_gscv = pd.DataFrame.from_dict(gscv.cv_results_).sort_values(by='mean_test_score',ascending=False)\n",
    "\n",
    "# Put the original order in an \"index\" column:\n",
    "df_gscv = df_gscv.reset_index()\n",
    "\n",
    "# form the statistics of the columns\n",
    "gscv_stats = df_gscv.describe()"
   ]
  },
  {
   "cell_type": "code",
   "execution_count": 272,
   "metadata": {},
   "outputs": [
    {
     "name": "stdout",
     "output_type": "stream",
     "text": [
      "The average standard deviation of test-split scores is 0.0156\n",
      "Hence, the expected sterr of the test scores is 0.0049\n"
     ]
    }
   ],
   "source": [
    "# Look into the std values given by the GSCV output...\n",
    "if False:\n",
    "    # The average std of the test scores is given as:\n",
    "    print(\"\\nAverage std_test_score = {:.4f}\".format(gscv_stats.loc['mean','std_test_score']))\n",
    "    print(\"This is much larger than the range of the mean_test_score s (further below.)\")\n",
    "\n",
    "    # The error bars are dominated by the differences in score from split-to-split:\n",
    "    print(\"\\nThere is large (but consistent) variation between the splits:\")\n",
    "    for itest in range(3):   # len(df_gscv)):\n",
    "        for isplit in range(cv_folds):\n",
    "            print(\"split {}: score = {:.4f}\".format(isplit, df_gscv.loc[itest,'split'+str(isplit)+'_test_score']))\n",
    "        print(\"mean test score = {:.4f}\".format(df_gscv.loc[itest,'mean_test_score']))\n",
    "        print(\" - - -\")\n",
    "    print(\" etc\")\n",
    "\n",
    "    # This is much larger than the variation of the same split due to fitting/parameter changes:\n",
    "    print(\"\\nIn contrast the variation within a single split is smaller:\")\n",
    "    for itest in range(6):   # len(df_gscv)):\n",
    "        for isplit in [0]:\n",
    "            print(\"split {}: score = {:.4f}\".format(isplit, df_gscv.loc[itest,'split'+str(isplit)+'_test_score']))\n",
    "    print(\" etc\\n\")\n",
    "    for itest in range(6):   # len(df_gscv)):\n",
    "        for isplit in [4]:\n",
    "            print(\"split {}: score = {:.4f}\".format(isplit, df_gscv.loc[itest,'split'+str(isplit)+'_test_score']))\n",
    "    print(\" etc\\n\")\n",
    "\n",
    "# Calculate the std of the each-split's scores,\n",
    "# and the average std of a split score.\n",
    "##print(\"\\nScore random variation is estimated from the std of each split:\")\n",
    "std_split = 0.0\n",
    "for isplit in range(cv_folds):\n",
    "    ##print(\"std split{} = {:.4f}\".format(isplit,gscv_stats.loc['std','split'+str(isplit)+'_test_score']))\n",
    "    std_split += (gscv_stats.loc['std','split'+str(isplit)+'_test_score'])**2\n",
    "std_split = np.sqrt(std_split/cv_folds)\n",
    "\n",
    "print(\"The average standard deviation of test-split scores is {:.4f}\".format(std_split))\n",
    "# The sterr expected from the split std is then:\n",
    "sterr_splits = std_split/np.sqrt(cv_folds)\n",
    "print(\"Hence, the expected sterr of the test scores is {:.4f}\".format(sterr_splits))\n",
    "\n",
    "\n",
    "# Add a sterr_test_score column\n",
    "# not using this:\n",
    "##df_gscv['sterr_test_score'] = df_gscv['std_test_score']/np.sqrt(cv_folds)\n",
    "# but using the sterr_splits instead:\n",
    "df_gscv['sterr_test_score'] = sterr_splits"
   ]
  },
  {
   "cell_type": "code",
   "execution_count": 273,
   "metadata": {},
   "outputs": [
    {
     "data": {
      "text/html": [
       "<div>\n",
       "<style scoped>\n",
       "    .dataframe tbody tr th:only-of-type {\n",
       "        vertical-align: middle;\n",
       "    }\n",
       "\n",
       "    .dataframe tbody tr th {\n",
       "        vertical-align: top;\n",
       "    }\n",
       "\n",
       "    .dataframe thead th {\n",
       "        text-align: right;\n",
       "    }\n",
       "</style>\n",
       "<table border=\"1\" class=\"dataframe\">\n",
       "  <thead>\n",
       "    <tr style=\"text-align: right;\">\n",
       "      <th></th>\n",
       "      <th>index</th>\n",
       "      <th>mean_fit_time</th>\n",
       "      <th>std_fit_time</th>\n",
       "      <th>mean_score_time</th>\n",
       "      <th>std_score_time</th>\n",
       "      <th>param_C</th>\n",
       "      <th>param_tol</th>\n",
       "      <th>params</th>\n",
       "      <th>split0_test_score</th>\n",
       "      <th>split1_test_score</th>\n",
       "      <th>...</th>\n",
       "      <th>split3_train_score</th>\n",
       "      <th>split4_train_score</th>\n",
       "      <th>split5_train_score</th>\n",
       "      <th>split6_train_score</th>\n",
       "      <th>split7_train_score</th>\n",
       "      <th>split8_train_score</th>\n",
       "      <th>split9_train_score</th>\n",
       "      <th>mean_train_score</th>\n",
       "      <th>std_train_score</th>\n",
       "      <th>sterr_test_score</th>\n",
       "    </tr>\n",
       "  </thead>\n",
       "  <tbody>\n",
       "    <tr>\n",
       "      <td>0</td>\n",
       "      <td>9</td>\n",
       "      <td>0.007580</td>\n",
       "      <td>0.001197</td>\n",
       "      <td>0.000898</td>\n",
       "      <td>0.000299</td>\n",
       "      <td>0.04</td>\n",
       "      <td>1e-05</td>\n",
       "      <td>{'C': 0.04, 'tol': 1e-05}</td>\n",
       "      <td>0.8</td>\n",
       "      <td>0.855556</td>\n",
       "      <td>...</td>\n",
       "      <td>0.842893</td>\n",
       "      <td>0.836658</td>\n",
       "      <td>0.841646</td>\n",
       "      <td>0.837905</td>\n",
       "      <td>0.836658</td>\n",
       "      <td>0.830424</td>\n",
       "      <td>0.828144</td>\n",
       "      <td>0.838635</td>\n",
       "      <td>0.006242</td>\n",
       "      <td>0.004935</td>\n",
       "    </tr>\n",
       "    <tr>\n",
       "      <td>1</td>\n",
       "      <td>10</td>\n",
       "      <td>0.007978</td>\n",
       "      <td>0.001180</td>\n",
       "      <td>0.000898</td>\n",
       "      <td>0.000299</td>\n",
       "      <td>0.045</td>\n",
       "      <td>1e-05</td>\n",
       "      <td>{'C': 0.045, 'tol': 1e-05}</td>\n",
       "      <td>0.8</td>\n",
       "      <td>0.855556</td>\n",
       "      <td>...</td>\n",
       "      <td>0.842893</td>\n",
       "      <td>0.836658</td>\n",
       "      <td>0.839152</td>\n",
       "      <td>0.840399</td>\n",
       "      <td>0.836658</td>\n",
       "      <td>0.831671</td>\n",
       "      <td>0.829390</td>\n",
       "      <td>0.838385</td>\n",
       "      <td>0.005254</td>\n",
       "      <td>0.004935</td>\n",
       "    </tr>\n",
       "    <tr>\n",
       "      <td>2</td>\n",
       "      <td>12</td>\n",
       "      <td>0.005685</td>\n",
       "      <td>0.000898</td>\n",
       "      <td>0.000599</td>\n",
       "      <td>0.000489</td>\n",
       "      <td>0.06</td>\n",
       "      <td>1e-05</td>\n",
       "      <td>{'C': 0.06, 'tol': 1e-05}</td>\n",
       "      <td>0.8</td>\n",
       "      <td>0.855556</td>\n",
       "      <td>...</td>\n",
       "      <td>0.842893</td>\n",
       "      <td>0.836658</td>\n",
       "      <td>0.839152</td>\n",
       "      <td>0.836658</td>\n",
       "      <td>0.837905</td>\n",
       "      <td>0.830424</td>\n",
       "      <td>0.829390</td>\n",
       "      <td>0.838510</td>\n",
       "      <td>0.005638</td>\n",
       "      <td>0.004935</td>\n",
       "    </tr>\n",
       "    <tr>\n",
       "      <td>3</td>\n",
       "      <td>13</td>\n",
       "      <td>0.005685</td>\n",
       "      <td>0.000639</td>\n",
       "      <td>0.000798</td>\n",
       "      <td>0.000399</td>\n",
       "      <td>0.07</td>\n",
       "      <td>1e-05</td>\n",
       "      <td>{'C': 0.07, 'tol': 1e-05}</td>\n",
       "      <td>0.8</td>\n",
       "      <td>0.855556</td>\n",
       "      <td>...</td>\n",
       "      <td>0.842893</td>\n",
       "      <td>0.836658</td>\n",
       "      <td>0.839152</td>\n",
       "      <td>0.835411</td>\n",
       "      <td>0.835411</td>\n",
       "      <td>0.830424</td>\n",
       "      <td>0.828144</td>\n",
       "      <td>0.838261</td>\n",
       "      <td>0.006226</td>\n",
       "      <td>0.004935</td>\n",
       "    </tr>\n",
       "    <tr>\n",
       "      <td>4</td>\n",
       "      <td>11</td>\n",
       "      <td>0.005485</td>\n",
       "      <td>0.000919</td>\n",
       "      <td>0.000698</td>\n",
       "      <td>0.000457</td>\n",
       "      <td>0.05</td>\n",
       "      <td>1e-05</td>\n",
       "      <td>{'C': 0.05, 'tol': 1e-05}</td>\n",
       "      <td>0.8</td>\n",
       "      <td>0.855556</td>\n",
       "      <td>...</td>\n",
       "      <td>0.841646</td>\n",
       "      <td>0.836658</td>\n",
       "      <td>0.839152</td>\n",
       "      <td>0.839152</td>\n",
       "      <td>0.837905</td>\n",
       "      <td>0.830424</td>\n",
       "      <td>0.830635</td>\n",
       "      <td>0.838510</td>\n",
       "      <td>0.005132</td>\n",
       "      <td>0.004935</td>\n",
       "    </tr>\n",
       "    <tr>\n",
       "      <td>5</td>\n",
       "      <td>14</td>\n",
       "      <td>0.005884</td>\n",
       "      <td>0.000537</td>\n",
       "      <td>0.000701</td>\n",
       "      <td>0.000459</td>\n",
       "      <td>0.1</td>\n",
       "      <td>1e-05</td>\n",
       "      <td>{'C': 0.1, 'tol': 1e-05}</td>\n",
       "      <td>0.8</td>\n",
       "      <td>0.855556</td>\n",
       "      <td>...</td>\n",
       "      <td>0.842893</td>\n",
       "      <td>0.836658</td>\n",
       "      <td>0.839152</td>\n",
       "      <td>0.836658</td>\n",
       "      <td>0.836658</td>\n",
       "      <td>0.831671</td>\n",
       "      <td>0.828144</td>\n",
       "      <td>0.838261</td>\n",
       "      <td>0.005401</td>\n",
       "      <td>0.004935</td>\n",
       "    </tr>\n",
       "  </tbody>\n",
       "</table>\n",
       "<p>6 rows × 34 columns</p>\n",
       "</div>"
      ],
      "text/plain": [
       "   index  mean_fit_time  std_fit_time  mean_score_time  std_score_time  \\\n",
       "0      9       0.007580      0.001197         0.000898        0.000299   \n",
       "1     10       0.007978      0.001180         0.000898        0.000299   \n",
       "2     12       0.005685      0.000898         0.000599        0.000489   \n",
       "3     13       0.005685      0.000639         0.000798        0.000399   \n",
       "4     11       0.005485      0.000919         0.000698        0.000457   \n",
       "5     14       0.005884      0.000537         0.000701        0.000459   \n",
       "\n",
       "  param_C param_tol                      params  split0_test_score  \\\n",
       "0    0.04     1e-05   {'C': 0.04, 'tol': 1e-05}                0.8   \n",
       "1   0.045     1e-05  {'C': 0.045, 'tol': 1e-05}                0.8   \n",
       "2    0.06     1e-05   {'C': 0.06, 'tol': 1e-05}                0.8   \n",
       "3    0.07     1e-05   {'C': 0.07, 'tol': 1e-05}                0.8   \n",
       "4    0.05     1e-05   {'C': 0.05, 'tol': 1e-05}                0.8   \n",
       "5     0.1     1e-05    {'C': 0.1, 'tol': 1e-05}                0.8   \n",
       "\n",
       "   split1_test_score  ...  split3_train_score  split4_train_score  \\\n",
       "0           0.855556  ...            0.842893            0.836658   \n",
       "1           0.855556  ...            0.842893            0.836658   \n",
       "2           0.855556  ...            0.842893            0.836658   \n",
       "3           0.855556  ...            0.842893            0.836658   \n",
       "4           0.855556  ...            0.841646            0.836658   \n",
       "5           0.855556  ...            0.842893            0.836658   \n",
       "\n",
       "   split5_train_score  split6_train_score  split7_train_score  \\\n",
       "0            0.841646            0.837905            0.836658   \n",
       "1            0.839152            0.840399            0.836658   \n",
       "2            0.839152            0.836658            0.837905   \n",
       "3            0.839152            0.835411            0.835411   \n",
       "4            0.839152            0.839152            0.837905   \n",
       "5            0.839152            0.836658            0.836658   \n",
       "\n",
       "   split8_train_score  split9_train_score  mean_train_score  std_train_score  \\\n",
       "0            0.830424            0.828144          0.838635         0.006242   \n",
       "1            0.831671            0.829390          0.838385         0.005254   \n",
       "2            0.830424            0.829390          0.838510         0.005638   \n",
       "3            0.830424            0.828144          0.838261         0.006226   \n",
       "4            0.830424            0.830635          0.838510         0.005132   \n",
       "5            0.831671            0.828144          0.838261         0.005401   \n",
       "\n",
       "   sterr_test_score  \n",
       "0          0.004935  \n",
       "1          0.004935  \n",
       "2          0.004935  \n",
       "3          0.004935  \n",
       "4          0.004935  \n",
       "5          0.004935  \n",
       "\n",
       "[6 rows x 34 columns]"
      ]
     },
     "execution_count": 273,
     "metadata": {},
     "output_type": "execute_result"
    }
   ],
   "source": [
    "# Save the dataframe to a file (in out_dir) - or not:\n",
    "##timestr = strftime(\"%m-%d-%y_%H-%M\")\n",
    "# include the model name too\n",
    "##df_gscv.to_csv(out_dir+\"/GSCV_\" + model_name +\n",
    "##               \"_{}_{}.csv\".format(timestr, version_str), header=True, index=True)\n",
    "\n",
    "# Show all the rows\n",
    "##df_gscv\n",
    "# Show the first some number of rows\n",
    "df_gscv[0:min([6,len(df_gscv)])]"
   ]
  },
  {
   "cell_type": "code",
   "execution_count": 274,
   "metadata": {},
   "outputs": [
    {
     "name": "stdout",
     "output_type": "stream",
     "text": [
      "\n",
      "Mean test score Min/50%/75%/Max: 0.8105, 0.8272, 0.8300, 0.8306\n",
      "\n",
      "Range of mean_test_score = 0.0201, sterr_test_score = 0.0049\n"
     ]
    }
   ],
   "source": [
    "# Update the gscv_stats variable with the new sterr column\n",
    "gscv_stats = df_gscv.describe()\n",
    "\n",
    "print(\"\\nMean test score Min/50%/75%/Max: {:.4f}, {:.4f}, {:.4f}, {:.4f}\".format(\n",
    "                gscv_stats.loc['min','mean_test_score'],\n",
    "                gscv_stats.loc['50%','mean_test_score'], gscv_stats.loc['75%','mean_test_score'],\n",
    "                gscv_stats.loc['max','mean_test_score']))\n",
    "print(\"\\nRange of mean_test_score = {:.4f}, sterr_test_score = {:.4f}\".format(\n",
    "                gscv_stats.loc['max','mean_test_score'] - gscv_stats.loc['min','mean_test_score'],\n",
    "                gscv_stats.loc['50%','sterr_test_score']))\n",
    "##gscv_stats"
   ]
  },
  {
   "cell_type": "code",
   "execution_count": 275,
   "metadata": {},
   "outputs": [
    {
     "name": "stdout",
     "output_type": "stream",
     "text": [
      "['C', 'tol']\n"
     ]
    }
   ],
   "source": [
    "# Get a list of all the parameters that were scanned, the keys from the dicts(s):\n",
    "if type(param_grid) ==  type({1:2}):\n",
    "    # it's a dictionary\n",
    "    param_keys = list(param_grid.keys())\n",
    "else:\n",
    "    # it's a list of dictionaries\n",
    "    param_keys = []\n",
    "    for pdict in param_grid:\n",
    "        for key in pdict.keys():\n",
    "            param_keys.append(key)\n",
    "# make it a sorted, unique list\n",
    "param_keys = list(set(param_keys))\n",
    "param_keys.sort()\n",
    "print(param_keys)"
   ]
  },
  {
   "cell_type": "code",
   "execution_count": 276,
   "metadata": {},
   "outputs": [
    {
     "data": {
      "text/plain": [
       "<matplotlib.axes._subplots.AxesSubplot at 0x1afcc864608>"
      ]
     },
     "execution_count": 276,
     "metadata": {},
     "output_type": "execute_result"
    },
    {
     "data": {
      "image/png": "[encoded data removed]",
      "text/plain": [
       "<Figure size 1080x288 with 2 Axes>"
      ]
     },
     "metadata": {
      "needs_background": "light"
     },
     "output_type": "display_data"
    }
   ],
   "source": [
    "# Show test score with error bars vs the GS original order (index)\n",
    "# Can color-code points by one of the parameters (or not.)\n",
    "# Pic a param\n",
    "this_param = param_keys[0]\n",
    "df_gscv.plot.scatter('index', 'mean_test_score', yerr='sterr_test_score', figsize=(15,4),\n",
    "                        title='Test Score ('+scorer_name+') vs Grid Search index',\n",
    "                        c=\"param_\"+this_param, colormap='plasma')\n",
    "plt.show()"
   ]
  },
  {
   "cell_type": "code",
   "execution_count": 210,
   "metadata": {},
   "outputs": [
    {
     "data": {
      "text/plain": [
       "<matplotlib.axes._subplots.AxesSubplot at 0x1afcad90488>"
      ]
     },
     "execution_count": 210,
     "metadata": {},
     "output_type": "execute_result"
    },
    {
     "data": {
      "text/plain": [
       "<matplotlib.axes._subplots.AxesSubplot at 0x1afcad3e088>"
      ]
     },
     "execution_count": 210,
     "metadata": {},
     "output_type": "execute_result"
    },
    {
     "data": {
      "image/png": "[encoded data removed]",
      "text/plain": [
       "<Figure size 1080x360 with 2 Axes>"
      ]
     },
     "metadata": {
      "needs_background": "light"
     },
     "output_type": "display_data"
    }
   ],
   "source": [
    "# Make plots of the test values vs param values for the params\n",
    "num_param_keys = len(param_keys)\n",
    "fig, axes = plt.subplots(1,num_param_keys,sharey=True,figsize=(15,5))\n",
    "for iparam, this_param in enumerate(param_keys):\n",
    "    # Why is this needed to get scatter to work?!?\n",
    "    df_gscv[\"param_\"+this_param] = df_gscv[\"param_\"+this_param].astype(float)\n",
    "    if num_param_keys > 1:\n",
    "        ax = axes[iparam]\n",
    "    else:\n",
    "        ax = axes\n",
    "    # without or with the error bars\n",
    "    ##df_gscv.plot.scatter(\"param_\"+this_param,'mean_test_score',ax=ax)\n",
    "    df_gscv.plot.scatter(\"param_\"+this_param,'mean_test_score',ax=ax, yerr='sterr_test_score',\n",
    "                         # include this to get better scaling for small values...\n",
    "                         xlim=(0.000,1.1*max(df_gscv[\"param_\"+this_param])))\n",
    "    \n",
    "plt.show()"
   ]
  },
  {
   "cell_type": "code",
   "execution_count": 277,
   "metadata": {},
   "outputs": [
    {
     "data": {
      "text/plain": [
       "['C', 'tol']"
      ]
     },
     "execution_count": 277,
     "metadata": {},
     "output_type": "execute_result"
    }
   ],
   "source": [
    "param_keys"
   ]
  },
  {
   "cell_type": "code",
   "execution_count": 278,
   "metadata": {},
   "outputs": [
    {
     "data": {
      "text/plain": [
       "<matplotlib.axes._subplots.AxesSubplot at 0x1afcc899388>"
      ]
     },
     "execution_count": 278,
     "metadata": {},
     "output_type": "execute_result"
    },
    {
     "data": {
      "text/plain": [
       "<matplotlib.axes._subplots.AxesSubplot at 0x1afcc912208>"
      ]
     },
     "execution_count": 278,
     "metadata": {},
     "output_type": "execute_result"
    },
    {
     "data": {
      "image/png": "[encoded data removed]",
      "text/plain": [
       "<Figure size 1080x288 with 2 Axes>"
      ]
     },
     "metadata": {
      "needs_background": "light"
     },
     "output_type": "display_data"
    },
    {
     "data": {
      "image/png": "[encoded data removed]",
      "text/plain": [
       "<Figure size 1080x288 with 2 Axes>"
      ]
     },
     "metadata": {
      "needs_background": "light"
     },
     "output_type": "display_data"
    }
   ],
   "source": [
    "# Show the test score vs train score with color-code by parameter values (if useful)\n",
    "if True:\n",
    "    for this_param in param_keys:\n",
    "        df_gscv.plot.scatter('mean_train_score','mean_test_score',\n",
    "                         c=\"param_\"+this_param, colormap='plasma',\n",
    "                         sharex=True, figsize=(15,4), yerr='sterr_test_score')\n",
    "\n",
    "    plt.show()"
   ]
  },
  {
   "cell_type": "markdown",
   "metadata": {},
   "source": [
    "# - - - - - - - - - - - - - - - - - - - - - - - - - - - - - - - -\n",
    "###  Done with <a href=\"#HyperSearch\">Hyper-parameters</a> above\n",
    "# - - - - - - - - - - - - - - - - - - - - - - - - - - - - - - - -"
   ]
  },
  {
   "cell_type": "markdown",
   "metadata": {},
   "source": [
    "## <a id=\"FeatureImportance\">Feature Importance</a>\n",
    "Back to <a href=\"#Index\">Index</a>"
   ]
  },
  {
   "cell_type": "code",
   "execution_count": 212,
   "metadata": {},
   "outputs": [
    {
     "data": {
      "text/plain": [
       "<Figure size 576x1080 with 0 Axes>"
      ]
     },
     "execution_count": 212,
     "metadata": {},
     "output_type": "execute_result"
    },
    {
     "data": {
      "text/plain": [
       "<BarContainer object of 21 artists>"
      ]
     },
     "execution_count": 212,
     "metadata": {},
     "output_type": "execute_result"
    },
    {
     "data": {
      "text/plain": [
       "([<matplotlib.axis.YTick at 0x1afc655d7c8>,\n",
       "  <matplotlib.axis.YTick at 0x1afc6514fc8>,\n",
       "  <matplotlib.axis.YTick at 0x1afc65e2608>,\n",
       "  <matplotlib.axis.YTick at 0x1afc6523648>,\n",
       "  <matplotlib.axis.YTick at 0x1afc653bdc8>,\n",
       "  <matplotlib.axis.YTick at 0x1afc64f8648>,\n",
       "  <matplotlib.axis.YTick at 0x1afc64fb748>,\n",
       "  <matplotlib.axis.YTick at 0x1afc53ec8c8>,\n",
       "  <matplotlib.axis.YTick at 0x1afc54df808>,\n",
       "  <matplotlib.axis.YTick at 0x1afc5388388>,\n",
       "  <matplotlib.axis.YTick at 0x1afc53f40c8>,\n",
       "  <matplotlib.axis.YTick at 0x1afc53c9988>,\n",
       "  <matplotlib.axis.YTick at 0x1afc54dfc88>,\n",
       "  <matplotlib.axis.YTick at 0x1afc6520508>,\n",
       "  <matplotlib.axis.YTick at 0x1afc537fc88>,\n",
       "  <matplotlib.axis.YTick at 0x1afc5418f48>,\n",
       "  <matplotlib.axis.YTick at 0x1afc54183c8>,\n",
       "  <matplotlib.axis.YTick at 0x1afc542f608>,\n",
       "  <matplotlib.axis.YTick at 0x1afc5438a88>,\n",
       "  <matplotlib.axis.YTick at 0x1afc5438788>,\n",
       "  <matplotlib.axis.YTick at 0x1afc544c348>],\n",
       " <a list of 21 Text yticklabel objects>)"
      ]
     },
     "execution_count": 212,
     "metadata": {},
     "output_type": "execute_result"
    },
    {
     "data": {
      "text/plain": [
       "Text(0.5, 0, 'XGB -- Relative Importance')"
      ]
     },
     "execution_count": 212,
     "metadata": {},
     "output_type": "execute_result"
    },
    {
     "data": {
      "text/plain": [
       "Text(0.5, 1.0, '           XGB -- Variable Importance                  max --> 0.260 ')"
      ]
     },
     "execution_count": 212,
     "metadata": {},
     "output_type": "execute_result"
    },
    {
     "data": {
      "image/png": "[encoded data removed]",
      "text/plain": [
       "<Figure size 576x1080 with 1 Axes>"
      ]
     },
     "metadata": {
      "needs_background": "light"
     },
     "output_type": "display_data"
    }
   ],
   "source": [
    "if model_name in ['lgr','dtc','rfc','gbc','mlp','xgb']:\n",
    "    # Plot feature importance\n",
    "    # Get feature importance\n",
    "    if model_name == 'mlp':\n",
    "        # For mlp regressor create a quasi-importance from the weights.\n",
    "        # \"The ith element in the list represents the weight matrix corresponding to layer i.\"\n",
    "        # Input layer weights\n",
    "        ##len(best_regressor.coefs_[0])\n",
    "        # sum of abs() of input weights for each feature\n",
    "        feature_importance = np.array([sum(np.abs(wgts)) for wgts in best_fit_model.coefs_[0] ])\n",
    "    elif model_name == 'lgr':\n",
    "        # For Logisitic Regression use the coeff.s to approximate an importance\n",
    "        coeffs = best_fit_model.coef_[0]\n",
    "        feature_importance = 0.0 * coeffs\n",
    "        print(\" Feature        Import.      coeff.    max from mean\")\n",
    "        for icol, col in enumerate(X.columns):\n",
    "            col_mean = X[col].mean()\n",
    "            col_max_from_mean = np.max(np.abs(X[col] - col_mean))\n",
    "            feature_importance[icol] = abs(coeffs[icol]/col_max_from_mean)\n",
    "            print(\"{:10}: {:10.3f}, {:10.3f}, {:10.2f}\".format(col, feature_importance[icol], coeffs[icol], col_max_from_mean))\n",
    "    else:\n",
    "        # tree models have feature importance directly available:\n",
    "        feature_importance = best_fit_model.feature_importances_\n",
    "        \n",
    "    # make importances relative to max importance\n",
    "    max_import = feature_importance.max()\n",
    "    feature_importance = 100.0 * (feature_importance / max_import)\n",
    "    sorted_idx = np.argsort(feature_importance)\n",
    "    pos = np.arange(sorted_idx.shape[0]) + 0.5\n",
    "\n",
    "    plt.figure(figsize=(8, 15))\n",
    "    ##plt.subplot(1, 2, 2)\n",
    "    plt.barh(pos, feature_importance[sorted_idx], align='center')\n",
    "    plt.yticks(pos, X.columns[sorted_idx])\n",
    "    plt.xlabel(model_name.upper()+' -- Relative Importance')\n",
    "    plt.title('           '+model_name.upper()+\n",
    "              ' -- Variable Importance                  max --> {:.3f} '.format(max_import))\n",
    "\n",
    "    plt.savefig(model_name.upper()+\"_importance_\"+version_str+\".png\")\n",
    "    plt.show()\n",
    "    "
   ]
  },
  {
   "cell_type": "markdown",
   "metadata": {},
   "source": [
    "## <a id=\"EvaluateBest\">Evaluate Best Model</a>\n",
    "Back to <a href=\"#Index\">Index</a>"
   ]
  },
  {
   "cell_type": "code",
   "execution_count": 279,
   "metadata": {},
   "outputs": [
    {
     "data": {
      "text/plain": [
       "{'C': 0.04,\n",
       " 'class_weight': None,\n",
       " 'dual': False,\n",
       " 'fit_intercept': True,\n",
       " 'intercept_scaling': 1,\n",
       " 'l1_ratio': None,\n",
       " 'max_iter': 10000,\n",
       " 'multi_class': 'ovr',\n",
       " 'n_jobs': None,\n",
       " 'penalty': 'l2',\n",
       " 'random_state': None,\n",
       " 'solver': 'sag',\n",
       " 'tol': 1e-05,\n",
       " 'verbose': 1,\n",
       " 'warm_start': False}"
      ]
     },
     "execution_count": 279,
     "metadata": {},
     "output_type": "execute_result"
    }
   ],
   "source": [
    "best_fit_model.get_params()"
   ]
  },
  {
   "cell_type": "code",
   "execution_count": 214,
   "metadata": {
    "scrolled": false
   },
   "outputs": [
    {
     "data": {
      "text/plain": [
       "XGBClassifier(base_score=0.5, booster='gbtree', colsample_bylevel=1,\n",
       "              colsample_bynode=1, colsample_bytree=0.4, gamma=1.5,\n",
       "              learning_rate=0.08, max_delta_step=0, max_depth=4,\n",
       "              min_child_weight=4, missing=None, n_estimators=235, n_jobs=1,\n",
       "              nthread=None, objective='binary:logistic', random_state=0,\n",
       "              reg_alpha=0, reg_lambda=1.0, scale_pos_weight=1, seed=None,\n",
       "              silent=None, subsample=1.0, verbosity=1)"
      ]
     },
     "execution_count": 214,
     "metadata": {},
     "output_type": "execute_result"
    },
    {
     "name": "stdout",
     "output_type": "stream",
     "text": [
      "\n",
      "Nominal best-fit All-Train accuracy: 89.56 %\n",
      "\n",
      "Doing (k-1)/k fits:\n"
     ]
    },
    {
     "data": {
      "text/plain": [
       "XGBClassifier(base_score=0.5, booster='gbtree', colsample_bylevel=1,\n",
       "              colsample_bynode=1, colsample_bytree=0.4, gamma=1.5,\n",
       "              learning_rate=0.08, max_delta_step=0, max_depth=4,\n",
       "              min_child_weight=4, missing=None, n_estimators=235, n_jobs=1,\n",
       "              nthread=None, objective='binary:logistic', random_state=0,\n",
       "              reg_alpha=0, reg_lambda=1.0, scale_pos_weight=1, seed=None,\n",
       "              silent=None, subsample=1.0, verbosity=1)"
      ]
     },
     "execution_count": 214,
     "metadata": {},
     "output_type": "execute_result"
    },
    {
     "name": "stdout",
     "output_type": "stream",
     "text": [
      "   split --> 0.8866442199775533\n"
     ]
    },
    {
     "data": {
      "text/plain": [
       "XGBClassifier(base_score=0.5, booster='gbtree', colsample_bylevel=1,\n",
       "              colsample_bynode=1, colsample_bytree=0.4, gamma=1.5,\n",
       "              learning_rate=0.08, max_delta_step=0, max_depth=4,\n",
       "              min_child_weight=4, missing=None, n_estimators=235, n_jobs=1,\n",
       "              nthread=None, objective='binary:logistic', random_state=0,\n",
       "              reg_alpha=0, reg_lambda=1.0, scale_pos_weight=1, seed=None,\n",
       "              silent=None, subsample=1.0, verbosity=1)"
      ]
     },
     "execution_count": 214,
     "metadata": {},
     "output_type": "execute_result"
    },
    {
     "name": "stdout",
     "output_type": "stream",
     "text": [
      "   split --> 0.8821548821548821\n"
     ]
    },
    {
     "data": {
      "text/plain": [
       "XGBClassifier(base_score=0.5, booster='gbtree', colsample_bylevel=1,\n",
       "              colsample_bynode=1, colsample_bytree=0.4, gamma=1.5,\n",
       "              learning_rate=0.08, max_delta_step=0, max_depth=4,\n",
       "              min_child_weight=4, missing=None, n_estimators=235, n_jobs=1,\n",
       "              nthread=None, objective='binary:logistic', random_state=0,\n",
       "              reg_alpha=0, reg_lambda=1.0, scale_pos_weight=1, seed=None,\n",
       "              silent=None, subsample=1.0, verbosity=1)"
      ]
     },
     "execution_count": 214,
     "metadata": {},
     "output_type": "execute_result"
    },
    {
     "name": "stdout",
     "output_type": "stream",
     "text": [
      "   split --> 0.8888888888888888\n"
     ]
    },
    {
     "data": {
      "text/plain": [
       "XGBClassifier(base_score=0.5, booster='gbtree', colsample_bylevel=1,\n",
       "              colsample_bynode=1, colsample_bytree=0.4, gamma=1.5,\n",
       "              learning_rate=0.08, max_delta_step=0, max_depth=4,\n",
       "              min_child_weight=4, missing=None, n_estimators=235, n_jobs=1,\n",
       "              nthread=None, objective='binary:logistic', random_state=0,\n",
       "              reg_alpha=0, reg_lambda=1.0, scale_pos_weight=1, seed=None,\n",
       "              silent=None, subsample=1.0, verbosity=1)"
      ]
     },
     "execution_count": 214,
     "metadata": {},
     "output_type": "execute_result"
    },
    {
     "name": "stdout",
     "output_type": "stream",
     "text": [
      "   split --> 0.877665544332211\n"
     ]
    },
    {
     "data": {
      "text/plain": [
       "XGBClassifier(base_score=0.5, booster='gbtree', colsample_bylevel=1,\n",
       "              colsample_bynode=1, colsample_bytree=0.4, gamma=1.5,\n",
       "              learning_rate=0.08, max_delta_step=0, max_depth=4,\n",
       "              min_child_weight=4, missing=None, n_estimators=235, n_jobs=1,\n",
       "              nthread=None, objective='binary:logistic', random_state=0,\n",
       "              reg_alpha=0, reg_lambda=1.0, scale_pos_weight=1, seed=None,\n",
       "              silent=None, subsample=1.0, verbosity=1)"
      ]
     },
     "execution_count": 214,
     "metadata": {},
     "output_type": "execute_result"
    },
    {
     "name": "stdout",
     "output_type": "stream",
     "text": [
      "   split --> 0.8754208754208754\n"
     ]
    },
    {
     "data": {
      "text/plain": [
       "XGBClassifier(base_score=0.5, booster='gbtree', colsample_bylevel=1,\n",
       "              colsample_bynode=1, colsample_bytree=0.4, gamma=1.5,\n",
       "              learning_rate=0.08, max_delta_step=0, max_depth=4,\n",
       "              min_child_weight=4, missing=None, n_estimators=235, n_jobs=1,\n",
       "              nthread=None, objective='binary:logistic', random_state=0,\n",
       "              reg_alpha=0, reg_lambda=1.0, scale_pos_weight=1, seed=None,\n",
       "              silent=None, subsample=1.0, verbosity=1)"
      ]
     },
     "execution_count": 214,
     "metadata": {},
     "output_type": "execute_result"
    },
    {
     "name": "stdout",
     "output_type": "stream",
     "text": [
      "   split --> 0.8821548821548821\n"
     ]
    },
    {
     "data": {
      "text/plain": [
       "XGBClassifier(base_score=0.5, booster='gbtree', colsample_bylevel=1,\n",
       "              colsample_bynode=1, colsample_bytree=0.4, gamma=1.5,\n",
       "              learning_rate=0.08, max_delta_step=0, max_depth=4,\n",
       "              min_child_weight=4, missing=None, n_estimators=235, n_jobs=1,\n",
       "              nthread=None, objective='binary:logistic', random_state=0,\n",
       "              reg_alpha=0, reg_lambda=1.0, scale_pos_weight=1, seed=None,\n",
       "              silent=None, subsample=1.0, verbosity=1)"
      ]
     },
     "execution_count": 214,
     "metadata": {},
     "output_type": "execute_result"
    },
    {
     "name": "stdout",
     "output_type": "stream",
     "text": [
      "   split --> 0.8787878787878788\n"
     ]
    },
    {
     "data": {
      "text/plain": [
       "XGBClassifier(base_score=0.5, booster='gbtree', colsample_bylevel=1,\n",
       "              colsample_bynode=1, colsample_bytree=0.4, gamma=1.5,\n",
       "              learning_rate=0.08, max_delta_step=0, max_depth=4,\n",
       "              min_child_weight=4, missing=None, n_estimators=235, n_jobs=1,\n",
       "              nthread=None, objective='binary:logistic', random_state=0,\n",
       "              reg_alpha=0, reg_lambda=1.0, scale_pos_weight=1, seed=None,\n",
       "              silent=None, subsample=1.0, verbosity=1)"
      ]
     },
     "execution_count": 214,
     "metadata": {},
     "output_type": "execute_result"
    },
    {
     "name": "stdout",
     "output_type": "stream",
     "text": [
      "   split --> 0.8888888888888888\n"
     ]
    },
    {
     "data": {
      "text/plain": [
       "XGBClassifier(base_score=0.5, booster='gbtree', colsample_bylevel=1,\n",
       "              colsample_bynode=1, colsample_bytree=0.4, gamma=1.5,\n",
       "              learning_rate=0.08, max_delta_step=0, max_depth=4,\n",
       "              min_child_weight=4, missing=None, n_estimators=235, n_jobs=1,\n",
       "              nthread=None, objective='binary:logistic', random_state=0,\n",
       "              reg_alpha=0, reg_lambda=1.0, scale_pos_weight=1, seed=None,\n",
       "              silent=None, subsample=1.0, verbosity=1)"
      ]
     },
     "execution_count": 214,
     "metadata": {},
     "output_type": "execute_result"
    },
    {
     "name": "stdout",
     "output_type": "stream",
     "text": [
      "   split --> 0.8832772166105499\n"
     ]
    },
    {
     "data": {
      "text/plain": [
       "XGBClassifier(base_score=0.5, booster='gbtree', colsample_bylevel=1,\n",
       "              colsample_bynode=1, colsample_bytree=0.4, gamma=1.5,\n",
       "              learning_rate=0.08, max_delta_step=0, max_depth=4,\n",
       "              min_child_weight=4, missing=None, n_estimators=235, n_jobs=1,\n",
       "              nthread=None, objective='binary:logistic', random_state=0,\n",
       "              reg_alpha=0, reg_lambda=1.0, scale_pos_weight=1, seed=None,\n",
       "              silent=None, subsample=1.0, verbosity=1)"
      ]
     },
     "execution_count": 214,
     "metadata": {},
     "output_type": "execute_result"
    },
    {
     "name": "stdout",
     "output_type": "stream",
     "text": [
      "   split --> 0.8866442199775533\n",
      "\n",
      "Split-Train accuracy: 87.65 %\n",
      "\n"
     ]
    }
   ],
   "source": [
    "# Make the model probability predictions on the Training and Test (Kaggle) data\n",
    "\n",
    "# Just use the final best-fit model fit on all training data\n",
    "best_fit_model.fit(X,y)\n",
    "\n",
    "# Fit the model on all the Training data\n",
    "print(\"\")\n",
    "all_train_score = accuracy_score(y, best_fit_model.predict(X))\n",
    "print(\"Nominal best-fit All-Train accuracy: {:.2f} %\\n\".format(100.0*all_train_score))\n",
    "\n",
    "# The probabilty values, 0 to 1\n",
    "yh = best_fit_model.predict_proba(X)\n",
    "yh = yh[:,1]\n",
    "\n",
    "# Make the Kaggle set predictions too\n",
    "yh_kag = best_fit_model.predict_proba(Xkag)\n",
    "yh_kag = yh_kag[:,1]\n",
    "\n",
    "# Or ...\n",
    "if USE_SPLIT_AVE:\n",
    "    # The CV fitting above was done on (k-1)/k of the data,\n",
    "    # do that to evaluate the final model as well.\n",
    "    # Use the average of the split-predicted proba values.\n",
    "    # (Or use median? any/much difference?)\n",
    "    print(\"Doing (k-1)/k fits:\")\n",
    "    yh = 0.0 * yh\n",
    "    yh_kag = 0.0 * yh_kag\n",
    "    skf = StratifiedKFold(n_splits=cv_folds, shuffle=False)\n",
    "    for train_index, test_index in skf.split(X, y):\n",
    "        X_split, X_dummy = X.loc[train_index], X.loc[test_index]\n",
    "        y_split, y_dummy = y[train_index], y[test_index]\n",
    "        # fit the model on the (k-1)/k of the data\n",
    "        best_fit_model.fit(X_split, y_split)\n",
    "        # FYI, accuracy of this model applied to whole dataset\n",
    "        print(\"   split --> {}\".format(accuracy_score(y, best_fit_model.predict(X))))\n",
    "        # accumulate and average the probabilty values:\n",
    "        yh_split = best_fit_model.predict_proba(X)\n",
    "        yh += (yh_split[:,1])/cv_folds\n",
    "        yh_kag_split = best_fit_model.predict_proba(Xkag)\n",
    "        yh_kag += (yh_kag_split[:,1])/cv_folds\n",
    "\n",
    "\n",
    "# yh and yh_kag are the model probability predictions.\n",
    "# Convert to discrete 0,1 using a threshold:\n",
    "#\n",
    "yh_threshold = 0.45\n",
    "#\n",
    "# Training:\n",
    "yp = 1.0*(yh > yh_threshold)\n",
    "# Test (Kaggle):\n",
    "yp_kag = 1.0*(yh_kag > yh_threshold)\n",
    "\n",
    "\n",
    "print(\"\")\n",
    "ave_train_score = accuracy_score(y, yp)\n",
    "print(\"Split-Train accuracy: {:.2f} %\\n\".format(100.0*ave_train_score))"
   ]
  },
  {
   "cell_type": "code",
   "execution_count": 215,
   "metadata": {},
   "outputs": [
    {
     "data": {
      "text/plain": [
       "array([<matplotlib.axes._subplots.AxesSubplot object at 0x000001AFC65CB8C8>,\n",
       "       <matplotlib.axes._subplots.AxesSubplot object at 0x000001AFC542ABC8>,\n",
       "       <matplotlib.axes._subplots.AxesSubplot object at 0x000001AFC65CE348>,\n",
       "       <matplotlib.axes._subplots.AxesSubplot object at 0x000001AFC66A91C8>,\n",
       "       <matplotlib.axes._subplots.AxesSubplot object at 0x000001AFCBE3BD48>],\n",
       "      dtype=object)"
      ]
     },
     "execution_count": 215,
     "metadata": {},
     "output_type": "execute_result"
    },
    {
     "data": {
      "image/png": "[encoded data removed]",
      "text/plain": [
       "<Figure size 1008x648 with 5 Axes>"
      ]
     },
     "metadata": {
      "needs_background": "light"
     },
     "output_type": "display_data"
    }
   ],
   "source": [
    "# Show the yh distribution by known Survival\n",
    "\n",
    "# Temporarily ... Put the model speed and ys in the X dataframe:\n",
    "X['preds'] = yh\n",
    "X['Survived'] = y\n",
    "\n",
    "X.hist('preds', by='Survived', bins=100, sharex=True, sharey=True, layout=(5,1), figsize=(14,9))\n",
    "plt.show()\n",
    "\n",
    "# Remove the added columns:\n",
    "X = X.drop(['Survived','preds'],axis=1)"
   ]
  },
  {
   "cell_type": "markdown",
   "metadata": {},
   "source": [
    "## <a id=\"ConfusionDots\">Confusion Dots and ROC plots</a>\n",
    "Back to <a href=\"#Index\">Index</a>\n",
    "\n",
    "Use the y_yhat_plots() routine to shown how the prediction is doing with a Confusion Dots plot (a visual confusion matrix) and an ROC plot.<br>\n",
    "This routine was taken from the file chirp_roc_lib.py in the github repo at: \n",
    "https://github.com/dan3dewey/chirp-to-ROC <br>\n",
    "and is included in this notebook at the beginning of the <a href=\"#MachineLearning\">Machine Learning</a> section."
   ]
  },
  {
   "cell_type": "code",
   "execution_count": 284,
   "metadata": {},
   "outputs": [],
   "source": [
    "yh_threshold = 0.8"
   ]
  },
  {
   "cell_type": "code",
   "execution_count": 285,
   "metadata": {},
   "outputs": [
    {
     "name": "stdout",
     "output_type": "stream",
     "text": [
      "\n",
      "Confusion matrix (y_thresh=0.800):\n",
      "\n",
      "   Predicted  0.0  1.0\n",
      "Actual               \n",
      "0            542    7\n",
      "1            148  194\n",
      "\n",
      "Results:\n",
      "\n",
      " False Pos =  1.2750455373406193 %\n",
      " False Neg =  43.27485380116959 %\n",
      "    Recall =  56.72514619883041 %\n",
      " Precision =  96.51741293532339 %\n",
      "\n",
      "    Accuracy =  82.60381593714928 %\n",
      " Pos. fract. =  38.38383838383838 %\n"
     ]
    },
    {
     "data": {
      "image/png": "[encoded data removed]",
      "text/plain": [
       "<Figure size 864x360 with 1 Axes>"
      ]
     },
     "metadata": {
      "needs_background": "light"
     },
     "output_type": "display_data"
    },
    {
     "data": {
      "image/png": "[encoded data removed]",
      "text/plain": [
       "<Figure size 576x576 with 1 Axes>"
      ]
     },
     "metadata": {
      "needs_background": "light"
     },
     "output_type": "display_data"
    }
   ],
   "source": [
    "# See how the prediction, yh, compares with the known y values:\n",
    "roc_area = y_yhat_plots(y, yh, title=\"y and y_score\", y_thresh=yh_threshold,\n",
    "                       plots_prefix=model_name.upper()+\"_\"+version_str)"
   ]
  },
  {
   "cell_type": "code",
   "execution_count": 217,
   "metadata": {},
   "outputs": [
    {
     "name": "stdout",
     "output_type": "stream",
     "text": [
      "\n",
      "XGB: 44 FPs and 66 FNs\n",
      "\n"
     ]
    }
   ],
   "source": [
    "# Look at the errors made\n",
    "\n",
    "# FP: Predicted Survival but did not survive:\n",
    "FP_indices = (yh > yh_threshold) & (y < 0.5)\n",
    "df_FPs = df_train[FP_indices]\n",
    "\n",
    "# FN: Predicted not to Survive but did survive:\n",
    "FN_indices = (yh < yh_threshold) & (y > 0.5)\n",
    "df_FNs = df_train[FN_indices]\n",
    "\n",
    "print(\"\\n{}: {} FPs and {} FNs\\n\".format(model_name.upper(),len(df_FPs),len(df_FNs)))"
   ]
  },
  {
   "cell_type": "code",
   "execution_count": 218,
   "metadata": {
    "scrolled": true
   },
   "outputs": [
    {
     "data": {
      "text/html": [
       "<div>\n",
       "<style scoped>\n",
       "    .dataframe tbody tr th:only-of-type {\n",
       "        vertical-align: middle;\n",
       "    }\n",
       "\n",
       "    .dataframe tbody tr th {\n",
       "        vertical-align: top;\n",
       "    }\n",
       "\n",
       "    .dataframe thead th {\n",
       "        text-align: right;\n",
       "    }\n",
       "</style>\n",
       "<table border=\"1\" class=\"dataframe\">\n",
       "  <thead>\n",
       "    <tr style=\"text-align: right;\">\n",
       "      <th></th>\n",
       "      <th>PassengerId</th>\n",
       "      <th>Survived</th>\n",
       "      <th>Pclass</th>\n",
       "      <th>Name</th>\n",
       "      <th>Sex</th>\n",
       "      <th>Age</th>\n",
       "      <th>SibSp</th>\n",
       "      <th>Parch</th>\n",
       "      <th>Ticket</th>\n",
       "      <th>Fare</th>\n",
       "      <th>Cabin</th>\n",
       "      <th>Embarked</th>\n",
       "    </tr>\n",
       "  </thead>\n",
       "  <tbody>\n",
       "    <tr>\n",
       "      <td>14</td>\n",
       "      <td>15</td>\n",
       "      <td>0</td>\n",
       "      <td>3</td>\n",
       "      <td>Vestrom, Miss. Hulda Amanda Adolfina</td>\n",
       "      <td>female</td>\n",
       "      <td>14.0</td>\n",
       "      <td>0</td>\n",
       "      <td>0</td>\n",
       "      <td>350406</td>\n",
       "      <td>7.8542</td>\n",
       "      <td>ooo</td>\n",
       "      <td>S</td>\n",
       "    </tr>\n",
       "    <tr>\n",
       "      <td>18</td>\n",
       "      <td>19</td>\n",
       "      <td>0</td>\n",
       "      <td>3</td>\n",
       "      <td>Vander Planke, Mrs. Julius (Emelia Maria Vande...</td>\n",
       "      <td>female</td>\n",
       "      <td>31.0</td>\n",
       "      <td>1</td>\n",
       "      <td>0</td>\n",
       "      <td>345763</td>\n",
       "      <td>18.0000</td>\n",
       "      <td>ooo</td>\n",
       "      <td>S</td>\n",
       "    </tr>\n",
       "    <tr>\n",
       "      <td>41</td>\n",
       "      <td>42</td>\n",
       "      <td>0</td>\n",
       "      <td>2</td>\n",
       "      <td>Turpin, Mrs. William John Robert (Dorothy Ann ...</td>\n",
       "      <td>female</td>\n",
       "      <td>27.0</td>\n",
       "      <td>1</td>\n",
       "      <td>0</td>\n",
       "      <td>11668</td>\n",
       "      <td>21.0000</td>\n",
       "      <td>ooo</td>\n",
       "      <td>S</td>\n",
       "    </tr>\n",
       "    <tr>\n",
       "      <td>49</td>\n",
       "      <td>50</td>\n",
       "      <td>0</td>\n",
       "      <td>3</td>\n",
       "      <td>Arnold-Franchi, Mrs. Josef (Josefine Franchi)</td>\n",
       "      <td>female</td>\n",
       "      <td>18.0</td>\n",
       "      <td>1</td>\n",
       "      <td>0</td>\n",
       "      <td>349237</td>\n",
       "      <td>17.8000</td>\n",
       "      <td>ooo</td>\n",
       "      <td>S</td>\n",
       "    </tr>\n",
       "    <tr>\n",
       "      <td>100</td>\n",
       "      <td>101</td>\n",
       "      <td>0</td>\n",
       "      <td>3</td>\n",
       "      <td>Petranec, Miss. Matilda</td>\n",
       "      <td>female</td>\n",
       "      <td>28.0</td>\n",
       "      <td>0</td>\n",
       "      <td>0</td>\n",
       "      <td>349245</td>\n",
       "      <td>7.8958</td>\n",
       "      <td>ooo</td>\n",
       "      <td>S</td>\n",
       "    </tr>\n",
       "    <tr>\n",
       "      <td>114</td>\n",
       "      <td>115</td>\n",
       "      <td>0</td>\n",
       "      <td>3</td>\n",
       "      <td>Attalah, Miss. Malake</td>\n",
       "      <td>female</td>\n",
       "      <td>17.0</td>\n",
       "      <td>0</td>\n",
       "      <td>0</td>\n",
       "      <td>2627</td>\n",
       "      <td>14.4583</td>\n",
       "      <td>ooo</td>\n",
       "      <td>C</td>\n",
       "    </tr>\n",
       "    <tr>\n",
       "      <td>118</td>\n",
       "      <td>119</td>\n",
       "      <td>0</td>\n",
       "      <td>1</td>\n",
       "      <td>Baxter, Mr. Quigg Edmond</td>\n",
       "      <td>male</td>\n",
       "      <td>24.0</td>\n",
       "      <td>0</td>\n",
       "      <td>1</td>\n",
       "      <td>PC 17558</td>\n",
       "      <td>247.5208</td>\n",
       "      <td>B58 B60</td>\n",
       "      <td>C</td>\n",
       "    </tr>\n",
       "    <tr>\n",
       "      <td>137</td>\n",
       "      <td>138</td>\n",
       "      <td>0</td>\n",
       "      <td>1</td>\n",
       "      <td>Futrelle, Mr. Jacques Heath</td>\n",
       "      <td>male</td>\n",
       "      <td>37.0</td>\n",
       "      <td>1</td>\n",
       "      <td>0</td>\n",
       "      <td>113803</td>\n",
       "      <td>53.1000</td>\n",
       "      <td>C123</td>\n",
       "      <td>S</td>\n",
       "    </tr>\n",
       "    <tr>\n",
       "      <td>177</td>\n",
       "      <td>178</td>\n",
       "      <td>0</td>\n",
       "      <td>1</td>\n",
       "      <td>Isham, Miss. Ann Elizabeth</td>\n",
       "      <td>female</td>\n",
       "      <td>50.0</td>\n",
       "      <td>0</td>\n",
       "      <td>0</td>\n",
       "      <td>PC 17595</td>\n",
       "      <td>28.7125</td>\n",
       "      <td>C49</td>\n",
       "      <td>C</td>\n",
       "    </tr>\n",
       "    <tr>\n",
       "      <td>199</td>\n",
       "      <td>200</td>\n",
       "      <td>0</td>\n",
       "      <td>2</td>\n",
       "      <td>Yrois, Miss. Henriette (\"Mrs Harbeck\")</td>\n",
       "      <td>female</td>\n",
       "      <td>24.0</td>\n",
       "      <td>0</td>\n",
       "      <td>0</td>\n",
       "      <td>248747</td>\n",
       "      <td>13.0000</td>\n",
       "      <td>ooo</td>\n",
       "      <td>S</td>\n",
       "    </tr>\n",
       "    <tr>\n",
       "      <td>205</td>\n",
       "      <td>206</td>\n",
       "      <td>0</td>\n",
       "      <td>3</td>\n",
       "      <td>Strom, Miss. Telma Matilda</td>\n",
       "      <td>female</td>\n",
       "      <td>2.0</td>\n",
       "      <td>0</td>\n",
       "      <td>1</td>\n",
       "      <td>347054</td>\n",
       "      <td>10.4625</td>\n",
       "      <td>G6</td>\n",
       "      <td>S</td>\n",
       "    </tr>\n",
       "    <tr>\n",
       "      <td>235</td>\n",
       "      <td>236</td>\n",
       "      <td>0</td>\n",
       "      <td>3</td>\n",
       "      <td>Harknett, Miss. Alice Phoebe</td>\n",
       "      <td>female</td>\n",
       "      <td>26.0</td>\n",
       "      <td>0</td>\n",
       "      <td>0</td>\n",
       "      <td>W./C. 6609</td>\n",
       "      <td>7.5500</td>\n",
       "      <td>ooo</td>\n",
       "      <td>S</td>\n",
       "    </tr>\n",
       "    <tr>\n",
       "      <td>246</td>\n",
       "      <td>247</td>\n",
       "      <td>0</td>\n",
       "      <td>3</td>\n",
       "      <td>Lindahl, Miss. Agda Thorilda Viktoria</td>\n",
       "      <td>female</td>\n",
       "      <td>25.0</td>\n",
       "      <td>0</td>\n",
       "      <td>0</td>\n",
       "      <td>347071</td>\n",
       "      <td>7.7750</td>\n",
       "      <td>ooo</td>\n",
       "      <td>S</td>\n",
       "    </tr>\n",
       "    <tr>\n",
       "      <td>251</td>\n",
       "      <td>252</td>\n",
       "      <td>0</td>\n",
       "      <td>3</td>\n",
       "      <td>Strom, Mrs. Wilhelm (Elna Matilda Persson)</td>\n",
       "      <td>female</td>\n",
       "      <td>29.0</td>\n",
       "      <td>1</td>\n",
       "      <td>1</td>\n",
       "      <td>347054</td>\n",
       "      <td>10.4625</td>\n",
       "      <td>G6</td>\n",
       "      <td>S</td>\n",
       "    </tr>\n",
       "    <tr>\n",
       "      <td>254</td>\n",
       "      <td>255</td>\n",
       "      <td>0</td>\n",
       "      <td>3</td>\n",
       "      <td>Rosblom, Mrs. Viktor (Helena Wilhelmina)</td>\n",
       "      <td>female</td>\n",
       "      <td>41.0</td>\n",
       "      <td>0</td>\n",
       "      <td>2</td>\n",
       "      <td>370129</td>\n",
       "      <td>20.2125</td>\n",
       "      <td>ooo</td>\n",
       "      <td>S</td>\n",
       "    </tr>\n",
       "    <tr>\n",
       "      <td>264</td>\n",
       "      <td>265</td>\n",
       "      <td>0</td>\n",
       "      <td>3</td>\n",
       "      <td>Henry, Miss. Delia</td>\n",
       "      <td>female</td>\n",
       "      <td>36.0</td>\n",
       "      <td>0</td>\n",
       "      <td>0</td>\n",
       "      <td>382649</td>\n",
       "      <td>7.7500</td>\n",
       "      <td>ooo</td>\n",
       "      <td>Q</td>\n",
       "    </tr>\n",
       "    <tr>\n",
       "      <td>297</td>\n",
       "      <td>298</td>\n",
       "      <td>0</td>\n",
       "      <td>1</td>\n",
       "      <td>Allison, Miss. Helen Loraine</td>\n",
       "      <td>female</td>\n",
       "      <td>2.0</td>\n",
       "      <td>1</td>\n",
       "      <td>2</td>\n",
       "      <td>113781</td>\n",
       "      <td>151.5500</td>\n",
       "      <td>C22 C26</td>\n",
       "      <td>S</td>\n",
       "    </tr>\n",
       "    <tr>\n",
       "      <td>312</td>\n",
       "      <td>313</td>\n",
       "      <td>0</td>\n",
       "      <td>2</td>\n",
       "      <td>Lahtinen, Mrs. William (Anna Sylfven)</td>\n",
       "      <td>female</td>\n",
       "      <td>26.0</td>\n",
       "      <td>1</td>\n",
       "      <td>1</td>\n",
       "      <td>250651</td>\n",
       "      <td>26.0000</td>\n",
       "      <td>ooo</td>\n",
       "      <td>S</td>\n",
       "    </tr>\n",
       "    <tr>\n",
       "      <td>351</td>\n",
       "      <td>352</td>\n",
       "      <td>0</td>\n",
       "      <td>1</td>\n",
       "      <td>Williams-Lambert, Mr. Fletcher Fellows</td>\n",
       "      <td>male</td>\n",
       "      <td>28.0</td>\n",
       "      <td>0</td>\n",
       "      <td>0</td>\n",
       "      <td>113510</td>\n",
       "      <td>35.0000</td>\n",
       "      <td>C128</td>\n",
       "      <td>S</td>\n",
       "    </tr>\n",
       "    <tr>\n",
       "      <td>357</td>\n",
       "      <td>358</td>\n",
       "      <td>0</td>\n",
       "      <td>2</td>\n",
       "      <td>Funk, Miss. Annie Clemmer</td>\n",
       "      <td>female</td>\n",
       "      <td>38.0</td>\n",
       "      <td>0</td>\n",
       "      <td>0</td>\n",
       "      <td>237671</td>\n",
       "      <td>13.0000</td>\n",
       "      <td>ooo</td>\n",
       "      <td>S</td>\n",
       "    </tr>\n",
       "    <tr>\n",
       "      <td>396</td>\n",
       "      <td>397</td>\n",
       "      <td>0</td>\n",
       "      <td>3</td>\n",
       "      <td>Olsson, Miss. Elina</td>\n",
       "      <td>female</td>\n",
       "      <td>31.0</td>\n",
       "      <td>0</td>\n",
       "      <td>0</td>\n",
       "      <td>350407</td>\n",
       "      <td>7.8542</td>\n",
       "      <td>ooo</td>\n",
       "      <td>S</td>\n",
       "    </tr>\n",
       "    <tr>\n",
       "      <td>452</td>\n",
       "      <td>453</td>\n",
       "      <td>0</td>\n",
       "      <td>1</td>\n",
       "      <td>Foreman, Mr. Benjamin Laventall</td>\n",
       "      <td>male</td>\n",
       "      <td>30.0</td>\n",
       "      <td>0</td>\n",
       "      <td>0</td>\n",
       "      <td>113051</td>\n",
       "      <td>27.7500</td>\n",
       "      <td>C111</td>\n",
       "      <td>C</td>\n",
       "    </tr>\n",
       "    <tr>\n",
       "      <td>498</td>\n",
       "      <td>499</td>\n",
       "      <td>0</td>\n",
       "      <td>1</td>\n",
       "      <td>Allison, Mrs. Hudson J C (Bessie Waldo Daniels)</td>\n",
       "      <td>female</td>\n",
       "      <td>25.0</td>\n",
       "      <td>1</td>\n",
       "      <td>2</td>\n",
       "      <td>113781</td>\n",
       "      <td>151.5500</td>\n",
       "      <td>C22 C26</td>\n",
       "      <td>S</td>\n",
       "    </tr>\n",
       "    <tr>\n",
       "      <td>501</td>\n",
       "      <td>502</td>\n",
       "      <td>0</td>\n",
       "      <td>3</td>\n",
       "      <td>Canavan, Miss. Mary</td>\n",
       "      <td>female</td>\n",
       "      <td>21.0</td>\n",
       "      <td>0</td>\n",
       "      <td>0</td>\n",
       "      <td>364846</td>\n",
       "      <td>7.7500</td>\n",
       "      <td>ooo</td>\n",
       "      <td>Q</td>\n",
       "    </tr>\n",
       "    <tr>\n",
       "      <td>502</td>\n",
       "      <td>503</td>\n",
       "      <td>0</td>\n",
       "      <td>3</td>\n",
       "      <td>O'Sullivan, Miss. Bridget Mary</td>\n",
       "      <td>female</td>\n",
       "      <td>36.0</td>\n",
       "      <td>0</td>\n",
       "      <td>0</td>\n",
       "      <td>330909</td>\n",
       "      <td>7.6292</td>\n",
       "      <td>ooo</td>\n",
       "      <td>Q</td>\n",
       "    </tr>\n",
       "    <tr>\n",
       "      <td>505</td>\n",
       "      <td>506</td>\n",
       "      <td>0</td>\n",
       "      <td>1</td>\n",
       "      <td>Penasco y Castellana, Mr. Victor de Satode</td>\n",
       "      <td>male</td>\n",
       "      <td>18.0</td>\n",
       "      <td>1</td>\n",
       "      <td>0</td>\n",
       "      <td>PC 17758</td>\n",
       "      <td>108.9000</td>\n",
       "      <td>C65</td>\n",
       "      <td>C</td>\n",
       "    </tr>\n",
       "    <tr>\n",
       "      <td>564</td>\n",
       "      <td>565</td>\n",
       "      <td>0</td>\n",
       "      <td>3</td>\n",
       "      <td>Meanwell, Miss. (Marion Ogden)</td>\n",
       "      <td>female</td>\n",
       "      <td>20.0</td>\n",
       "      <td>0</td>\n",
       "      <td>0</td>\n",
       "      <td>SOTON/O.Q. 392087</td>\n",
       "      <td>8.0500</td>\n",
       "      <td>ooo</td>\n",
       "      <td>S</td>\n",
       "    </tr>\n",
       "    <tr>\n",
       "      <td>567</td>\n",
       "      <td>568</td>\n",
       "      <td>0</td>\n",
       "      <td>3</td>\n",
       "      <td>Palsson, Mrs. Nils (Alma Cornelia Berglund)</td>\n",
       "      <td>female</td>\n",
       "      <td>29.0</td>\n",
       "      <td>0</td>\n",
       "      <td>4</td>\n",
       "      <td>349909</td>\n",
       "      <td>21.0750</td>\n",
       "      <td>ooo</td>\n",
       "      <td>S</td>\n",
       "    </tr>\n",
       "    <tr>\n",
       "      <td>578</td>\n",
       "      <td>579</td>\n",
       "      <td>0</td>\n",
       "      <td>3</td>\n",
       "      <td>Caram, Mrs. Joseph (Maria Elias)</td>\n",
       "      <td>female</td>\n",
       "      <td>36.0</td>\n",
       "      <td>1</td>\n",
       "      <td>0</td>\n",
       "      <td>2689</td>\n",
       "      <td>14.4583</td>\n",
       "      <td>ooo</td>\n",
       "      <td>C</td>\n",
       "    </tr>\n",
       "    <tr>\n",
       "      <td>593</td>\n",
       "      <td>594</td>\n",
       "      <td>0</td>\n",
       "      <td>3</td>\n",
       "      <td>Bourke, Miss. Mary</td>\n",
       "      <td>female</td>\n",
       "      <td>31.0</td>\n",
       "      <td>0</td>\n",
       "      <td>2</td>\n",
       "      <td>364848</td>\n",
       "      <td>7.7500</td>\n",
       "      <td>ooo</td>\n",
       "      <td>Q</td>\n",
       "    </tr>\n",
       "    <tr>\n",
       "      <td>617</td>\n",
       "      <td>618</td>\n",
       "      <td>0</td>\n",
       "      <td>3</td>\n",
       "      <td>Lobb, Mrs. William Arthur (Cordelia K Stanlick)</td>\n",
       "      <td>female</td>\n",
       "      <td>26.0</td>\n",
       "      <td>1</td>\n",
       "      <td>0</td>\n",
       "      <td>A/5. 3336</td>\n",
       "      <td>16.1000</td>\n",
       "      <td>ooo</td>\n",
       "      <td>S</td>\n",
       "    </tr>\n",
       "    <tr>\n",
       "      <td>654</td>\n",
       "      <td>655</td>\n",
       "      <td>0</td>\n",
       "      <td>3</td>\n",
       "      <td>Hegarty, Miss. Hanora \"Nora\"</td>\n",
       "      <td>female</td>\n",
       "      <td>18.0</td>\n",
       "      <td>0</td>\n",
       "      <td>0</td>\n",
       "      <td>365226</td>\n",
       "      <td>6.7500</td>\n",
       "      <td>ooo</td>\n",
       "      <td>Q</td>\n",
       "    </tr>\n",
       "    <tr>\n",
       "      <td>657</td>\n",
       "      <td>658</td>\n",
       "      <td>0</td>\n",
       "      <td>3</td>\n",
       "      <td>Bourke, Mrs. John (Catherine)</td>\n",
       "      <td>female</td>\n",
       "      <td>32.0</td>\n",
       "      <td>1</td>\n",
       "      <td>1</td>\n",
       "      <td>364849</td>\n",
       "      <td>15.5000</td>\n",
       "      <td>ooo</td>\n",
       "      <td>Q</td>\n",
       "    </tr>\n",
       "    <tr>\n",
       "      <td>680</td>\n",
       "      <td>681</td>\n",
       "      <td>0</td>\n",
       "      <td>3</td>\n",
       "      <td>Peters, Miss. Katie</td>\n",
       "      <td>female</td>\n",
       "      <td>33.0</td>\n",
       "      <td>0</td>\n",
       "      <td>0</td>\n",
       "      <td>330935</td>\n",
       "      <td>8.1375</td>\n",
       "      <td>ooo</td>\n",
       "      <td>Q</td>\n",
       "    </tr>\n",
       "    <tr>\n",
       "      <td>702</td>\n",
       "      <td>703</td>\n",
       "      <td>0</td>\n",
       "      <td>3</td>\n",
       "      <td>Barbara, Miss. Saiide</td>\n",
       "      <td>female</td>\n",
       "      <td>18.0</td>\n",
       "      <td>0</td>\n",
       "      <td>1</td>\n",
       "      <td>2691</td>\n",
       "      <td>14.4542</td>\n",
       "      <td>ooo</td>\n",
       "      <td>C</td>\n",
       "    </tr>\n",
       "    <tr>\n",
       "      <td>729</td>\n",
       "      <td>730</td>\n",
       "      <td>0</td>\n",
       "      <td>3</td>\n",
       "      <td>Ilmakangas, Miss. Pieta Sofia</td>\n",
       "      <td>female</td>\n",
       "      <td>25.0</td>\n",
       "      <td>1</td>\n",
       "      <td>0</td>\n",
       "      <td>STON/O2. 3101271</td>\n",
       "      <td>7.9250</td>\n",
       "      <td>ooo</td>\n",
       "      <td>S</td>\n",
       "    </tr>\n",
       "    <tr>\n",
       "      <td>741</td>\n",
       "      <td>742</td>\n",
       "      <td>0</td>\n",
       "      <td>1</td>\n",
       "      <td>Cavendish, Mr. Tyrell William</td>\n",
       "      <td>male</td>\n",
       "      <td>36.0</td>\n",
       "      <td>1</td>\n",
       "      <td>0</td>\n",
       "      <td>19877</td>\n",
       "      <td>78.8500</td>\n",
       "      <td>C46</td>\n",
       "      <td>S</td>\n",
       "    </tr>\n",
       "    <tr>\n",
       "      <td>748</td>\n",
       "      <td>749</td>\n",
       "      <td>0</td>\n",
       "      <td>1</td>\n",
       "      <td>Marvin, Mr. Daniel Warner</td>\n",
       "      <td>male</td>\n",
       "      <td>19.0</td>\n",
       "      <td>1</td>\n",
       "      <td>0</td>\n",
       "      <td>113773</td>\n",
       "      <td>53.1000</td>\n",
       "      <td>D30</td>\n",
       "      <td>S</td>\n",
       "    </tr>\n",
       "    <tr>\n",
       "      <td>767</td>\n",
       "      <td>768</td>\n",
       "      <td>0</td>\n",
       "      <td>3</td>\n",
       "      <td>Mangan, Miss. Mary</td>\n",
       "      <td>female</td>\n",
       "      <td>30.5</td>\n",
       "      <td>0</td>\n",
       "      <td>0</td>\n",
       "      <td>364850</td>\n",
       "      <td>7.7500</td>\n",
       "      <td>ooo</td>\n",
       "      <td>Q</td>\n",
       "    </tr>\n",
       "    <tr>\n",
       "      <td>772</td>\n",
       "      <td>773</td>\n",
       "      <td>0</td>\n",
       "      <td>2</td>\n",
       "      <td>Mack, Mrs. (Mary)</td>\n",
       "      <td>female</td>\n",
       "      <td>57.0</td>\n",
       "      <td>0</td>\n",
       "      <td>0</td>\n",
       "      <td>S.O./P.P. 3</td>\n",
       "      <td>10.5000</td>\n",
       "      <td>E77</td>\n",
       "      <td>S</td>\n",
       "    </tr>\n",
       "    <tr>\n",
       "      <td>782</td>\n",
       "      <td>783</td>\n",
       "      <td>0</td>\n",
       "      <td>1</td>\n",
       "      <td>Long, Mr. Milton Clyde</td>\n",
       "      <td>male</td>\n",
       "      <td>29.0</td>\n",
       "      <td>0</td>\n",
       "      <td>0</td>\n",
       "      <td>113501</td>\n",
       "      <td>30.0000</td>\n",
       "      <td>D6</td>\n",
       "      <td>S</td>\n",
       "    </tr>\n",
       "    <tr>\n",
       "      <td>807</td>\n",
       "      <td>808</td>\n",
       "      <td>0</td>\n",
       "      <td>3</td>\n",
       "      <td>Pettersson, Miss. Ellen Natalia</td>\n",
       "      <td>female</td>\n",
       "      <td>18.0</td>\n",
       "      <td>0</td>\n",
       "      <td>0</td>\n",
       "      <td>347087</td>\n",
       "      <td>7.7750</td>\n",
       "      <td>ooo</td>\n",
       "      <td>S</td>\n",
       "    </tr>\n",
       "    <tr>\n",
       "      <td>852</td>\n",
       "      <td>853</td>\n",
       "      <td>0</td>\n",
       "      <td>3</td>\n",
       "      <td>Boulos, Miss. Nourelain</td>\n",
       "      <td>female</td>\n",
       "      <td>9.0</td>\n",
       "      <td>1</td>\n",
       "      <td>1</td>\n",
       "      <td>2678</td>\n",
       "      <td>15.2458</td>\n",
       "      <td>ooo</td>\n",
       "      <td>C</td>\n",
       "    </tr>\n",
       "    <tr>\n",
       "      <td>854</td>\n",
       "      <td>855</td>\n",
       "      <td>0</td>\n",
       "      <td>2</td>\n",
       "      <td>Carter, Mrs. Ernest Courtenay (Lilian Hughes)</td>\n",
       "      <td>female</td>\n",
       "      <td>44.0</td>\n",
       "      <td>1</td>\n",
       "      <td>0</td>\n",
       "      <td>244252</td>\n",
       "      <td>26.0000</td>\n",
       "      <td>ooo</td>\n",
       "      <td>S</td>\n",
       "    </tr>\n",
       "  </tbody>\n",
       "</table>\n",
       "</div>"
      ],
      "text/plain": [
       "     PassengerId  Survived  Pclass  \\\n",
       "14            15         0       3   \n",
       "18            19         0       3   \n",
       "41            42         0       2   \n",
       "49            50         0       3   \n",
       "100          101         0       3   \n",
       "114          115         0       3   \n",
       "118          119         0       1   \n",
       "137          138         0       1   \n",
       "177          178         0       1   \n",
       "199          200         0       2   \n",
       "205          206         0       3   \n",
       "235          236         0       3   \n",
       "246          247         0       3   \n",
       "251          252         0       3   \n",
       "254          255         0       3   \n",
       "264          265         0       3   \n",
       "297          298         0       1   \n",
       "312          313         0       2   \n",
       "351          352         0       1   \n",
       "357          358         0       2   \n",
       "396          397         0       3   \n",
       "452          453         0       1   \n",
       "498          499         0       1   \n",
       "501          502         0       3   \n",
       "502          503         0       3   \n",
       "505          506         0       1   \n",
       "564          565         0       3   \n",
       "567          568         0       3   \n",
       "578          579         0       3   \n",
       "593          594         0       3   \n",
       "617          618         0       3   \n",
       "654          655         0       3   \n",
       "657          658         0       3   \n",
       "680          681         0       3   \n",
       "702          703         0       3   \n",
       "729          730         0       3   \n",
       "741          742         0       1   \n",
       "748          749         0       1   \n",
       "767          768         0       3   \n",
       "772          773         0       2   \n",
       "782          783         0       1   \n",
       "807          808         0       3   \n",
       "852          853         0       3   \n",
       "854          855         0       2   \n",
       "\n",
       "                                                  Name     Sex   Age  SibSp  \\\n",
       "14                Vestrom, Miss. Hulda Amanda Adolfina  female  14.0      0   \n",
       "18   Vander Planke, Mrs. Julius (Emelia Maria Vande...  female  31.0      1   \n",
       "41   Turpin, Mrs. William John Robert (Dorothy Ann ...  female  27.0      1   \n",
       "49       Arnold-Franchi, Mrs. Josef (Josefine Franchi)  female  18.0      1   \n",
       "100                            Petranec, Miss. Matilda  female  28.0      0   \n",
       "114                              Attalah, Miss. Malake  female  17.0      0   \n",
       "118                           Baxter, Mr. Quigg Edmond    male  24.0      0   \n",
       "137                        Futrelle, Mr. Jacques Heath    male  37.0      1   \n",
       "177                         Isham, Miss. Ann Elizabeth  female  50.0      0   \n",
       "199             Yrois, Miss. Henriette (\"Mrs Harbeck\")  female  24.0      0   \n",
       "205                         Strom, Miss. Telma Matilda  female   2.0      0   \n",
       "235                       Harknett, Miss. Alice Phoebe  female  26.0      0   \n",
       "246              Lindahl, Miss. Agda Thorilda Viktoria  female  25.0      0   \n",
       "251         Strom, Mrs. Wilhelm (Elna Matilda Persson)  female  29.0      1   \n",
       "254           Rosblom, Mrs. Viktor (Helena Wilhelmina)  female  41.0      0   \n",
       "264                                 Henry, Miss. Delia  female  36.0      0   \n",
       "297                       Allison, Miss. Helen Loraine  female   2.0      1   \n",
       "312              Lahtinen, Mrs. William (Anna Sylfven)  female  26.0      1   \n",
       "351             Williams-Lambert, Mr. Fletcher Fellows    male  28.0      0   \n",
       "357                          Funk, Miss. Annie Clemmer  female  38.0      0   \n",
       "396                                Olsson, Miss. Elina  female  31.0      0   \n",
       "452                    Foreman, Mr. Benjamin Laventall    male  30.0      0   \n",
       "498    Allison, Mrs. Hudson J C (Bessie Waldo Daniels)  female  25.0      1   \n",
       "501                                Canavan, Miss. Mary  female  21.0      0   \n",
       "502                     O'Sullivan, Miss. Bridget Mary  female  36.0      0   \n",
       "505         Penasco y Castellana, Mr. Victor de Satode    male  18.0      1   \n",
       "564                     Meanwell, Miss. (Marion Ogden)  female  20.0      0   \n",
       "567        Palsson, Mrs. Nils (Alma Cornelia Berglund)  female  29.0      0   \n",
       "578                   Caram, Mrs. Joseph (Maria Elias)  female  36.0      1   \n",
       "593                                 Bourke, Miss. Mary  female  31.0      0   \n",
       "617    Lobb, Mrs. William Arthur (Cordelia K Stanlick)  female  26.0      1   \n",
       "654                       Hegarty, Miss. Hanora \"Nora\"  female  18.0      0   \n",
       "657                      Bourke, Mrs. John (Catherine)  female  32.0      1   \n",
       "680                                Peters, Miss. Katie  female  33.0      0   \n",
       "702                              Barbara, Miss. Saiide  female  18.0      0   \n",
       "729                      Ilmakangas, Miss. Pieta Sofia  female  25.0      1   \n",
       "741                      Cavendish, Mr. Tyrell William    male  36.0      1   \n",
       "748                          Marvin, Mr. Daniel Warner    male  19.0      1   \n",
       "767                                 Mangan, Miss. Mary  female  30.5      0   \n",
       "772                                  Mack, Mrs. (Mary)  female  57.0      0   \n",
       "782                             Long, Mr. Milton Clyde    male  29.0      0   \n",
       "807                    Pettersson, Miss. Ellen Natalia  female  18.0      0   \n",
       "852                            Boulos, Miss. Nourelain  female   9.0      1   \n",
       "854      Carter, Mrs. Ernest Courtenay (Lilian Hughes)  female  44.0      1   \n",
       "\n",
       "     Parch             Ticket      Fare    Cabin Embarked  \n",
       "14       0             350406    7.8542      ooo        S  \n",
       "18       0             345763   18.0000      ooo        S  \n",
       "41       0              11668   21.0000      ooo        S  \n",
       "49       0             349237   17.8000      ooo        S  \n",
       "100      0             349245    7.8958      ooo        S  \n",
       "114      0               2627   14.4583      ooo        C  \n",
       "118      1           PC 17558  247.5208  B58 B60        C  \n",
       "137      0             113803   53.1000     C123        S  \n",
       "177      0           PC 17595   28.7125      C49        C  \n",
       "199      0             248747   13.0000      ooo        S  \n",
       "205      1             347054   10.4625       G6        S  \n",
       "235      0         W./C. 6609    7.5500      ooo        S  \n",
       "246      0             347071    7.7750      ooo        S  \n",
       "251      1             347054   10.4625       G6        S  \n",
       "254      2             370129   20.2125      ooo        S  \n",
       "264      0             382649    7.7500      ooo        Q  \n",
       "297      2             113781  151.5500  C22 C26        S  \n",
       "312      1             250651   26.0000      ooo        S  \n",
       "351      0             113510   35.0000     C128        S  \n",
       "357      0             237671   13.0000      ooo        S  \n",
       "396      0             350407    7.8542      ooo        S  \n",
       "452      0             113051   27.7500     C111        C  \n",
       "498      2             113781  151.5500  C22 C26        S  \n",
       "501      0             364846    7.7500      ooo        Q  \n",
       "502      0             330909    7.6292      ooo        Q  \n",
       "505      0           PC 17758  108.9000      C65        C  \n",
       "564      0  SOTON/O.Q. 392087    8.0500      ooo        S  \n",
       "567      4             349909   21.0750      ooo        S  \n",
       "578      0               2689   14.4583      ooo        C  \n",
       "593      2             364848    7.7500      ooo        Q  \n",
       "617      0          A/5. 3336   16.1000      ooo        S  \n",
       "654      0             365226    6.7500      ooo        Q  \n",
       "657      1             364849   15.5000      ooo        Q  \n",
       "680      0             330935    8.1375      ooo        Q  \n",
       "702      1               2691   14.4542      ooo        C  \n",
       "729      0   STON/O2. 3101271    7.9250      ooo        S  \n",
       "741      0              19877   78.8500      C46        S  \n",
       "748      0             113773   53.1000      D30        S  \n",
       "767      0             364850    7.7500      ooo        Q  \n",
       "772      0        S.O./P.P. 3   10.5000      E77        S  \n",
       "782      0             113501   30.0000       D6        S  \n",
       "807      0             347087    7.7750      ooo        S  \n",
       "852      1               2678   15.2458      ooo        C  \n",
       "854      0             244252   26.0000      ooo        S  "
      ]
     },
     "execution_count": 218,
     "metadata": {},
     "output_type": "execute_result"
    }
   ],
   "source": [
    "# List FPs: predicted to Survive, but Perished:    mostly females\n",
    "#\n",
    "orig_cols = df_FPs.columns\n",
    "df_FPs[orig_cols[0:12]]"
   ]
  },
  {
   "cell_type": "code",
   "execution_count": 219,
   "metadata": {
    "scrolled": true
   },
   "outputs": [
    {
     "data": {
      "text/html": [
       "<div>\n",
       "<style scoped>\n",
       "    .dataframe tbody tr th:only-of-type {\n",
       "        vertical-align: middle;\n",
       "    }\n",
       "\n",
       "    .dataframe tbody tr th {\n",
       "        vertical-align: top;\n",
       "    }\n",
       "\n",
       "    .dataframe thead th {\n",
       "        text-align: right;\n",
       "    }\n",
       "</style>\n",
       "<table border=\"1\" class=\"dataframe\">\n",
       "  <thead>\n",
       "    <tr style=\"text-align: right;\">\n",
       "      <th></th>\n",
       "      <th>PassengerId</th>\n",
       "      <th>Survived</th>\n",
       "      <th>Pclass</th>\n",
       "      <th>Name</th>\n",
       "      <th>Sex</th>\n",
       "      <th>Age</th>\n",
       "      <th>SibSp</th>\n",
       "      <th>Parch</th>\n",
       "      <th>Ticket</th>\n",
       "      <th>Fare</th>\n",
       "      <th>Cabin</th>\n",
       "      <th>Embarked</th>\n",
       "    </tr>\n",
       "  </thead>\n",
       "  <tbody>\n",
       "    <tr>\n",
       "      <td>17</td>\n",
       "      <td>18</td>\n",
       "      <td>1</td>\n",
       "      <td>2</td>\n",
       "      <td>Williams, Mr. Charles Eugene</td>\n",
       "      <td>male</td>\n",
       "      <td>29.0</td>\n",
       "      <td>0</td>\n",
       "      <td>0</td>\n",
       "      <td>244373</td>\n",
       "      <td>13.0000</td>\n",
       "      <td>ooo</td>\n",
       "      <td>S</td>\n",
       "    </tr>\n",
       "    <tr>\n",
       "      <td>21</td>\n",
       "      <td>22</td>\n",
       "      <td>1</td>\n",
       "      <td>2</td>\n",
       "      <td>Beesley, Mr. Lawrence</td>\n",
       "      <td>male</td>\n",
       "      <td>34.0</td>\n",
       "      <td>0</td>\n",
       "      <td>0</td>\n",
       "      <td>248698</td>\n",
       "      <td>13.0000</td>\n",
       "      <td>D56</td>\n",
       "      <td>S</td>\n",
       "    </tr>\n",
       "    <tr>\n",
       "      <td>23</td>\n",
       "      <td>24</td>\n",
       "      <td>1</td>\n",
       "      <td>1</td>\n",
       "      <td>Sloper, Mr. William Thompson</td>\n",
       "      <td>male</td>\n",
       "      <td>28.0</td>\n",
       "      <td>0</td>\n",
       "      <td>0</td>\n",
       "      <td>113788</td>\n",
       "      <td>35.5000</td>\n",
       "      <td>A6</td>\n",
       "      <td>S</td>\n",
       "    </tr>\n",
       "    <tr>\n",
       "      <td>25</td>\n",
       "      <td>26</td>\n",
       "      <td>1</td>\n",
       "      <td>3</td>\n",
       "      <td>Asplund, Mrs. Carl Oscar (Selma Augusta Emilia...</td>\n",
       "      <td>female</td>\n",
       "      <td>38.0</td>\n",
       "      <td>1</td>\n",
       "      <td>4</td>\n",
       "      <td>347077</td>\n",
       "      <td>31.3875</td>\n",
       "      <td>ooo</td>\n",
       "      <td>S</td>\n",
       "    </tr>\n",
       "    <tr>\n",
       "      <td>36</td>\n",
       "      <td>37</td>\n",
       "      <td>1</td>\n",
       "      <td>3</td>\n",
       "      <td>Mamee, Mr. Hanna</td>\n",
       "      <td>male</td>\n",
       "      <td>27.0</td>\n",
       "      <td>0</td>\n",
       "      <td>0</td>\n",
       "      <td>2677</td>\n",
       "      <td>7.2292</td>\n",
       "      <td>ooo</td>\n",
       "      <td>C</td>\n",
       "    </tr>\n",
       "    <tr>\n",
       "      <td>...</td>\n",
       "      <td>...</td>\n",
       "      <td>...</td>\n",
       "      <td>...</td>\n",
       "      <td>...</td>\n",
       "      <td>...</td>\n",
       "      <td>...</td>\n",
       "      <td>...</td>\n",
       "      <td>...</td>\n",
       "      <td>...</td>\n",
       "      <td>...</td>\n",
       "      <td>...</td>\n",
       "      <td>...</td>\n",
       "    </tr>\n",
       "    <tr>\n",
       "      <td>762</td>\n",
       "      <td>763</td>\n",
       "      <td>1</td>\n",
       "      <td>3</td>\n",
       "      <td>Barah, Mr. Hanna Assi</td>\n",
       "      <td>male</td>\n",
       "      <td>20.0</td>\n",
       "      <td>0</td>\n",
       "      <td>0</td>\n",
       "      <td>2663</td>\n",
       "      <td>7.2292</td>\n",
       "      <td>ooo</td>\n",
       "      <td>C</td>\n",
       "    </tr>\n",
       "    <tr>\n",
       "      <td>804</td>\n",
       "      <td>805</td>\n",
       "      <td>1</td>\n",
       "      <td>3</td>\n",
       "      <td>Hedman, Mr. Oskar Arvid</td>\n",
       "      <td>male</td>\n",
       "      <td>27.0</td>\n",
       "      <td>0</td>\n",
       "      <td>0</td>\n",
       "      <td>347089</td>\n",
       "      <td>6.9750</td>\n",
       "      <td>ooo</td>\n",
       "      <td>S</td>\n",
       "    </tr>\n",
       "    <tr>\n",
       "      <td>821</td>\n",
       "      <td>822</td>\n",
       "      <td>1</td>\n",
       "      <td>3</td>\n",
       "      <td>Lulic, Mr. Nikola</td>\n",
       "      <td>male</td>\n",
       "      <td>27.0</td>\n",
       "      <td>0</td>\n",
       "      <td>0</td>\n",
       "      <td>315098</td>\n",
       "      <td>8.6625</td>\n",
       "      <td>ooo</td>\n",
       "      <td>S</td>\n",
       "    </tr>\n",
       "    <tr>\n",
       "      <td>828</td>\n",
       "      <td>829</td>\n",
       "      <td>1</td>\n",
       "      <td>3</td>\n",
       "      <td>McCormack, Mr. Thomas Joseph</td>\n",
       "      <td>male</td>\n",
       "      <td>33.0</td>\n",
       "      <td>0</td>\n",
       "      <td>0</td>\n",
       "      <td>367228</td>\n",
       "      <td>7.7500</td>\n",
       "      <td>ooo</td>\n",
       "      <td>Q</td>\n",
       "    </tr>\n",
       "    <tr>\n",
       "      <td>857</td>\n",
       "      <td>858</td>\n",
       "      <td>1</td>\n",
       "      <td>1</td>\n",
       "      <td>Daly, Mr. Peter Denis</td>\n",
       "      <td>male</td>\n",
       "      <td>51.0</td>\n",
       "      <td>0</td>\n",
       "      <td>0</td>\n",
       "      <td>113055</td>\n",
       "      <td>26.5500</td>\n",
       "      <td>E17</td>\n",
       "      <td>S</td>\n",
       "    </tr>\n",
       "  </tbody>\n",
       "</table>\n",
       "<p>66 rows × 12 columns</p>\n",
       "</div>"
      ],
      "text/plain": [
       "     PassengerId  Survived  Pclass  \\\n",
       "17            18         1       2   \n",
       "21            22         1       2   \n",
       "23            24         1       1   \n",
       "25            26         1       3   \n",
       "36            37         1       3   \n",
       "..           ...       ...     ...   \n",
       "762          763         1       3   \n",
       "804          805         1       3   \n",
       "821          822         1       3   \n",
       "828          829         1       3   \n",
       "857          858         1       1   \n",
       "\n",
       "                                                  Name     Sex   Age  SibSp  \\\n",
       "17                        Williams, Mr. Charles Eugene    male  29.0      0   \n",
       "21                               Beesley, Mr. Lawrence    male  34.0      0   \n",
       "23                        Sloper, Mr. William Thompson    male  28.0      0   \n",
       "25   Asplund, Mrs. Carl Oscar (Selma Augusta Emilia...  female  38.0      1   \n",
       "36                                    Mamee, Mr. Hanna    male  27.0      0   \n",
       "..                                                 ...     ...   ...    ...   \n",
       "762                              Barah, Mr. Hanna Assi    male  20.0      0   \n",
       "804                            Hedman, Mr. Oskar Arvid    male  27.0      0   \n",
       "821                                  Lulic, Mr. Nikola    male  27.0      0   \n",
       "828                       McCormack, Mr. Thomas Joseph    male  33.0      0   \n",
       "857                             Daly, Mr. Peter Denis     male  51.0      0   \n",
       "\n",
       "     Parch  Ticket     Fare Cabin Embarked  \n",
       "17       0  244373  13.0000   ooo        S  \n",
       "21       0  248698  13.0000   D56        S  \n",
       "23       0  113788  35.5000    A6        S  \n",
       "25       4  347077  31.3875   ooo        S  \n",
       "36       0    2677   7.2292   ooo        C  \n",
       "..     ...     ...      ...   ...      ...  \n",
       "762      0    2663   7.2292   ooo        C  \n",
       "804      0  347089   6.9750   ooo        S  \n",
       "821      0  315098   8.6625   ooo        S  \n",
       "828      0  367228   7.7500   ooo        Q  \n",
       "857      0  113055  26.5500   E17        S  \n",
       "\n",
       "[66 rows x 12 columns]"
      ]
     },
     "execution_count": 219,
     "metadata": {},
     "output_type": "execute_result"
    }
   ],
   "source": [
    "# List FNs: predicted to Perish, but Survived:    mostly males\n",
    "#\n",
    "orig_cols = df_FNs.columns\n",
    "df_FNs[orig_cols[0:12]]"
   ]
  },
  {
   "cell_type": "code",
   "execution_count": 220,
   "metadata": {},
   "outputs": [
    {
     "data": {
      "text/plain": [
       "<Figure size 1080x432 with 0 Axes>"
      ]
     },
     "execution_count": 220,
     "metadata": {},
     "output_type": "execute_result"
    },
    {
     "data": {
      "text/plain": [
       "<matplotlib.axes._subplots.AxesSubplot at 0x1afcc32ed08>"
      ]
     },
     "execution_count": 220,
     "metadata": {},
     "output_type": "execute_result"
    },
    {
     "data": {
      "text/plain": [
       "([array([ 2., 13., 70., 83., 76., 57., 48., 41., 39., 17., 19., 10., 11.,\n",
       "         12., 10.,  8.,  7.,  9.,  9., 11.,  5.,  7., 12.,  7.,  9.,  6.,\n",
       "         12.,  5.,  3., 10.,  7.,  6.,  5.,  7., 10.,  4.,  3.,  7.,  5.,\n",
       "          8., 10., 12., 15.,  8., 11., 26., 25., 37., 46., 11.]),\n",
       "  array([0., 0., 0., 0., 0., 0., 0., 0., 0., 0., 0., 0., 0., 0., 0., 0., 0.,\n",
       "         0., 0., 0., 0., 0., 0., 0., 0., 0., 0., 0., 0., 0., 0., 0., 0., 0.,\n",
       "         0., 0., 0., 0., 0., 0., 0., 0., 0., 0., 0., 0., 0., 0., 0., 0.]),\n",
       "  array([0., 0., 0., 0., 0., 0., 0., 0., 0., 0., 0., 0., 0., 0., 0., 0., 0.,\n",
       "         0., 0., 0., 0., 0., 0., 0., 0., 0., 0., 0., 0., 0., 0., 0., 0., 0.,\n",
       "         0., 0., 0., 0., 0., 0., 0., 0., 0., 0., 0., 0., 0., 0., 0., 0.])],\n",
       " array([0.  , 0.02, 0.04, 0.06, 0.08, 0.1 , 0.12, 0.14, 0.16, 0.18, 0.2 ,\n",
       "        0.22, 0.24, 0.26, 0.28, 0.3 , 0.32, 0.34, 0.36, 0.38, 0.4 , 0.42,\n",
       "        0.44, 0.46, 0.48, 0.5 , 0.52, 0.54, 0.56, 0.58, 0.6 , 0.62, 0.64,\n",
       "        0.66, 0.68, 0.7 , 0.72, 0.74, 0.76, 0.78, 0.8 , 0.82, 0.84, 0.86,\n",
       "        0.88, 0.9 , 0.92, 0.94, 0.96, 0.98, 1.  ]),\n",
       " <a list of 3 Lists of Patches objects>)"
      ]
     },
     "execution_count": 220,
     "metadata": {},
     "output_type": "execute_result"
    },
    {
     "data": {
      "text/plain": [
       "Text(0.5, 1.0, 'Train: Prediction Values')"
      ]
     },
     "execution_count": 220,
     "metadata": {},
     "output_type": "execute_result"
    },
    {
     "data": {
      "image/png": "[encoded data removed]",
      "text/plain": [
       "<Figure size 1080x432 with 1 Axes>"
      ]
     },
     "metadata": {
      "needs_background": "light"
     },
     "output_type": "display_data"
    }
   ],
   "source": [
    "# Histogram of the model's predicted values\n",
    "\n",
    "fixed_bins = 0.0 + np.array(range(50+1))/(5*10.0)\n",
    "\n",
    "plt.figure(figsize=(15, 6))\n",
    "plt.subplot(2, 1, 1)\n",
    "plt.hist([yh]+[-1.0]+[5.0], bins=fixed_bins, histtype='stepfilled')\n",
    "plt.title(\"Train: Prediction Values\")\n",
    "plt.show()"
   ]
  },
  {
   "cell_type": "code",
   "execution_count": 221,
   "metadata": {},
   "outputs": [
    {
     "name": "stdout",
     "output_type": "stream",
     "text": [
      "\n",
      "XGB:  Train = 0.877, 44 FPs, 66 FNs, AUC=0.942   GSCV: Test = 0.832, Train = 0.892\n",
      "\n"
     ]
    }
   ],
   "source": [
    "# Summarize the fitting results\n",
    "if len(gscv_stats) > 0:\n",
    "    print(\"\\n\"+model_name.upper()+\n",
    "              \":  Train = {:.3f}, {} FPs, {} FNs, AUC={:.3f}   GSCV: Test = {:.3f}, Train = {:.3f}\\n\".format(\n",
    "            accuracy_score(y, yp), len(df_FPs), len(df_FNs), roc_area,\n",
    "            gscv_stats.loc['max','mean_test_score'],\n",
    "            gscv_stats.loc['max','mean_train_score']))\n",
    "else:\n",
    "    print(\"\\n\"+model_name.upper()+\n",
    "              \":  Train = {:.3f}, {} FPs, {} FNs, AUC={:.3f}\\n\".format(\n",
    "            accuracy_score(y, yp), len(df_FPs), len(df_FNs), roc_area))\n",
    "\n",
    "\n",
    "# with Sex_M,F:\n",
    "#   LGR: Train = 0.827, 54 FPs, 100 FNs, AUC=0.866   GSCV:Test = 0.818, Train = 0.825\n",
    "#   MLP: Train = 0.842, 44 FPs,  97 FNs, AUC=0.885   GSCV:Test = 0.818, Train = 0.837\n",
    "#   GBC: Train = 0.862, 38 FPs,  85 FNs, AUC=0.908   GSCV:Test = 0.834, Train = 0.860\n",
    "# with Sex_Mr,etc:\n",
    "#   LGR: Train = 0.837, 59 FPs, 86 FNs, AUC=0.879   GSCV:Test = 0.828, Train = 0.838\n",
    "#   SVC: Train = 0.843, 77 FPs, 63 FNs, AUC=0.903   GSCV:Test = 0.819, Train = 0.839\n",
    "#   MLP: Train = 0.848, 37 FPs, 98 FNs, AUC=0.896   GSCV:Test = 0.830, Train = 0.849\n",
    "#        Train = 0.846, 38 FPs, 99 FNs, AUC=0.899   GSCV:Test = 0.828, Train = 0.847\n",
    "#   GBC: Train = 0.862, 42 FPs, 81 FNs, AUC=0.917   GSCV:Test = 0.835, Train = 0.862\n",
    "#        Train = 0.865, 42 FPs, 78 FNs, AUC=0.918   GSCV:Test = 0.841, Train = 0.865\n",
    "#        Train = 0.865, 40 FPs, 80 FNs, AUC=0.919   GSCV:Test = 0.844, Train = 0.865\n",
    "#\n",
    "# with LN_Length,LN_Vfrac (not LN_Vowels):\n",
    "#   LGR:  Train = 0.835, 67 FPs, 80 FNs, AUC=0.881   GSCV:Test = 0.832, Train = 0.841\n",
    "#   SVC:  Train = 0.851, 72 FPs, 61 FNs, AUC=0.920   GSCV:Test = 0.819, Train = 0.851\n",
    "#   MLP:  Train = 0.860, 37 FPs, 88 FNs, AUC=0.901   GSCV:Test = 0.837, Train = 0.855\n",
    "#   MLP:  Train = 0.852, 33 FPs, 99 FNs, AUC=0.904   GSCV:Test = 0.836, Train = 0.855\n",
    "#   GBC:  Train = 0.870, 39 FPs, 77 FNs, AUC=0.926   GSCV:Test = 0.834, Train = 0.864\n",
    "#   GBC:  Train = 0.870, 39 FPs, 77 FNs, AUC=0.926   GSCV:Test = 0.836, Train = 0.866\n",
    "#   GBC:  Train = 0.860, 43 FPs, 82 FNs, AUC=0.923   GSCV:Test = 0.840, Train = 0.867\n",
    "\n",
    "# but no Fare_log:\n",
    "#   GBC:  Train = 0.861, 35 FPs, 89 FNs, AUC=0.915   GSCV:Test = 0.827, Train = 0.860\n",
    "\n",
    "# Using XGB\n",
    "# (v32)  XGB:  Train = 0.909, 34 FPs, 47 FNs, AUC=0.958   GSCV: Test = 0.844, Train = 0.966\n",
    "# (v34)  XGB:  Train = 0.866, 46 FPs, 73 FNs, AUC=0.921   GSCV: Test = 0.828, Train = 0.872  "
   ]
  },
  {
   "cell_type": "markdown",
   "metadata": {},
   "source": [
    "## <a id=\"OutputKaggle\">Output Kaggle Predictions</a>\n",
    "Back to <a href=\"#Index\">Index</a>"
   ]
  },
  {
   "cell_type": "code",
   "execution_count": 222,
   "metadata": {},
   "outputs": [],
   "source": [
    "# yh_kag, yp_kag were calculated above when yh,yp were evaluated."
   ]
  },
  {
   "cell_type": "code",
   "execution_count": 223,
   "metadata": {},
   "outputs": [
    {
     "data": {
      "text/plain": [
       "<Figure size 1080x432 with 0 Axes>"
      ]
     },
     "execution_count": 223,
     "metadata": {},
     "output_type": "execute_result"
    },
    {
     "data": {
      "text/plain": [
       "<matplotlib.axes._subplots.AxesSubplot at 0x1afcc5ac348>"
      ]
     },
     "execution_count": 223,
     "metadata": {},
     "output_type": "execute_result"
    },
    {
     "data": {
      "text/plain": [
       "([array([ 0.,  9., 21., 33., 32., 30., 23., 21., 17.,  6.,  7.,  8.,  8.,\n",
       "          3.,  3.,  8.,  1.,  7.,  3.,  3.,  3.,  4.,  5.,  3.,  8.,  6.,\n",
       "          9.,  3.,  3.,  7.,  4.,  3.,  2.,  0.,  2.,  8.,  5.,  3.,  3.,\n",
       "          7.,  1.,  4.,  7.,  1.,  9., 10., 16., 19., 13.,  7.]),\n",
       "  array([0., 0., 0., 0., 0., 0., 0., 0., 0., 0., 0., 0., 0., 0., 0., 0., 0.,\n",
       "         0., 0., 0., 0., 0., 0., 0., 0., 0., 0., 0., 0., 0., 0., 0., 0., 0.,\n",
       "         0., 0., 0., 0., 0., 0., 0., 0., 0., 0., 0., 0., 0., 0., 0., 0.]),\n",
       "  array([0., 0., 0., 0., 0., 0., 0., 0., 0., 0., 0., 0., 0., 0., 0., 0., 0.,\n",
       "         0., 0., 0., 0., 0., 0., 0., 0., 0., 0., 0., 0., 0., 0., 0., 0., 0.,\n",
       "         0., 0., 0., 0., 0., 0., 0., 0., 0., 0., 0., 0., 0., 0., 0., 0.])],\n",
       " array([0.  , 0.02, 0.04, 0.06, 0.08, 0.1 , 0.12, 0.14, 0.16, 0.18, 0.2 ,\n",
       "        0.22, 0.24, 0.26, 0.28, 0.3 , 0.32, 0.34, 0.36, 0.38, 0.4 , 0.42,\n",
       "        0.44, 0.46, 0.48, 0.5 , 0.52, 0.54, 0.56, 0.58, 0.6 , 0.62, 0.64,\n",
       "        0.66, 0.68, 0.7 , 0.72, 0.74, 0.76, 0.78, 0.8 , 0.82, 0.84, 0.86,\n",
       "        0.88, 0.9 , 0.92, 0.94, 0.96, 0.98, 1.  ]),\n",
       " <a list of 3 Lists of Patches objects>)"
      ]
     },
     "execution_count": 223,
     "metadata": {},
     "output_type": "execute_result"
    },
    {
     "data": {
      "text/plain": [
       "Text(0.5, 1.0, 'Kaggle: Prediction Values')"
      ]
     },
     "execution_count": 223,
     "metadata": {},
     "output_type": "execute_result"
    },
    {
     "data": {
      "image/png": "[encoded data removed]",
      "text/plain": [
       "<Figure size 1080x432 with 1 Axes>"
      ]
     },
     "metadata": {
      "needs_background": "light"
     },
     "output_type": "display_data"
    }
   ],
   "source": [
    "# Kaggle prediction probs\n",
    "plt.figure(figsize=(15, 6))\n",
    "plt.subplot(2, 1, 1)\n",
    "plt.hist([yh_kag]+[-1.0]+[5.0], bins=fixed_bins, histtype='stepfilled')\n",
    "plt.title(\"Kaggle: Prediction Values\")\n",
    "plt.show()"
   ]
  },
  {
   "cell_type": "code",
   "execution_count": 224,
   "metadata": {},
   "outputs": [],
   "source": [
    "# Put the 0,1 predictions into the original df_test which is the Kaggle test data\n",
    "df_test['Survived'] = yp_kag.astype(int)"
   ]
  },
  {
   "cell_type": "code",
   "execution_count": 225,
   "metadata": {},
   "outputs": [
    {
     "name": "stdout",
     "output_type": "stream",
     "text": [
      "All predictions made?  True\n"
     ]
    }
   ],
   "source": [
    "# Any -1 s remaining for answers?\n",
    "all_answered = (df_test.Survived.min() >= 0)\n",
    "print(\"All predictions made?  {}\".format(all_answered))"
   ]
  },
  {
   "cell_type": "code",
   "execution_count": 226,
   "metadata": {},
   "outputs": [],
   "source": [
    "# Save the result as the submission\n",
    "df_test[['PassengerId','Survived']].to_csv(\"submission.csv\",index=False)"
   ]
  },
  {
   "cell_type": "code",
   "execution_count": 227,
   "metadata": {},
   "outputs": [
    {
     "name": "stderr",
     "output_type": "stream",
     "text": [
      "'head'은(는) 내부 또는 외부 명령, 실행할 수 있는 프로그램, 또는\n",
      "배치 파일이 아닙니다.\n"
     ]
    }
   ],
   "source": [
    "# that's all.\n",
    "!head -10 submission.csv"
   ]
  },
  {
   "cell_type": "code",
   "execution_count": 228,
   "metadata": {},
   "outputs": [
    {
     "name": "stderr",
     "output_type": "stream",
     "text": [
      "'tail'은(는) 내부 또는 외부 명령, 실행할 수 있는 프로그램, 또는\n",
      "배치 파일이 아닙니다.\n"
     ]
    }
   ],
   "source": [
    "!tail -10 submission.csv"
   ]
  },
  {
   "cell_type": "code",
   "execution_count": null,
   "metadata": {},
   "outputs": [],
   "source": []
  },
  {
   "cell_type": "markdown",
   "metadata": {},
   "source": [
    "## <a id=\"TheEnd\">The End</a>\n",
    "Back to <a href=\"#Index\">Index</a>"
   ]
  },
  {
   "cell_type": "code",
   "execution_count": null,
   "metadata": {},
   "outputs": [],
   "source": []
  },
  {
   "cell_type": "code",
   "execution_count": null,
   "metadata": {},
   "outputs": [],
   "source": []
  }
 ],
 "metadata": {
  "kernelspec": {
   "display_name": "Python 3",
   "language": "python",
   "name": "python3"
  },
  "language_info": {
   "codemirror_mode": {
    "name": "ipython",
    "version": 3
   },
   "file_extension": ".py",
   "mimetype": "text/x-python",
   "name": "python",
   "nbconvert_exporter": "python",
   "pygments_lexer": "ipython3",
   "version": "3.7.4"
  }
 },
 "nbformat": 4,
 "nbformat_minor": 1
}
