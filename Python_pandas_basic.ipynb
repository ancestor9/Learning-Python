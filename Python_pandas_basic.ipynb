{
 "cells": [
  {
   "cell_type": "markdown",
   "metadata": {},
   "source": [
    "# Python 프로그래밍 Pandas\n",
    "## 데이터프레임 Dataframe"
   ]
  },
  {
   "cell_type": "code",
   "execution_count": 235,
   "metadata": {},
   "outputs": [],
   "source": [
    "from IPython.core.interactiveshell import InteractiveShell\n",
    "InteractiveShell.ast_node_interactivity = 'all'"
   ]
  },
  {
   "cell_type": "markdown",
   "metadata": {},
   "source": [
    "## Pandas\n",
    "- DataFrame이 무엇인지 이해한다.\n",
    "- csv파일, 엑셀파일, DB의데이터를 가져오고 다시 저장해본다\n",
    "- 탐색적분석을 수행해 본다\n",
    "- 필요한 데이터를 선택해 가져온다\n",
    "- 변수를 만들어 Dataframe에 추가하고 삭제한다\n",
    "- DataFrame을 서로 연결한다"
   ]
  },
  {
   "cell_type": "markdown",
   "metadata": {},
   "source": [
    "## Pandas 란\n",
    "- 다른 Dataframe이나 고차원 객체로부터 컬럼을 추가 삭제\n",
    "- group by함수\n",
    "- 라벨 등을 이용한 데이터 부분 집합 추출\n",
    "- 데이터 세로 가로 합치기\n",
    "- 외부 데이터 연동의 견고함(CSV, Excel, databases, HDF5지원)\n",
    "- missing data(NaN) 처리\n",
    "\n",
    "https://pandas.pydata.org/pandas-docs/stable/"
   ]
  },
  {
   "cell_type": "code",
   "execution_count": 241,
   "metadata": {},
   "outputs": [
    {
     "data": {
      "text/plain": [
       "'D:\\\\my\\\\script'"
      ]
     },
     "execution_count": 241,
     "metadata": {},
     "output_type": "execute_result"
    },
    {
     "data": {
      "text/plain": [
       "'.ipynb_checkpoints**Faker.ipynb**JPype1-0.7.0-cp37-cp37m-win_amd64.whl**JPype1-0.7.0-cp38-cp38-win_amd64.whl**K-Stratified.ipynb**konlpy_test.ipynb**main.py**mod1.py**mod2.py**October.ipynb**PDP_SHAP_visualization.ipynb**plot_label_propagation_versus_svm_iris.ipynb**Python_basic.ipynb**Python_numpy.ipynb**Python_pandas.ipynb**submission_knn.csv**submission_rbf.csv**text-preprocessing-using-python.ipynb**text_1101.ipynb**Untitled.ipynb**Untitled1.ipynb**__pycache__'"
      ]
     },
     "execution_count": 241,
     "metadata": {},
     "output_type": "execute_result"
    }
   ],
   "source": [
    "import os\n",
    "import numpy as np\n",
    "import pandas as pd\n",
    "#os.chdir('d:/')\n",
    "os.getcwd()\n",
    "'**'.join(os.listdir('.'))"
   ]
  },
  {
   "cell_type": "markdown",
   "metadata": {},
   "source": [
    "# 파일 불러오기"
   ]
  },
  {
   "cell_type": "code",
   "execution_count": 244,
   "metadata": {},
   "outputs": [
    {
     "data": {
      "text/html": [
       "<div>\n",
       "<style scoped>\n",
       "    .dataframe tbody tr th:only-of-type {\n",
       "        vertical-align: middle;\n",
       "    }\n",
       "\n",
       "    .dataframe tbody tr th {\n",
       "        vertical-align: top;\n",
       "    }\n",
       "\n",
       "    .dataframe thead th {\n",
       "        text-align: right;\n",
       "    }\n",
       "</style>\n",
       "<table border=\"1\" class=\"dataframe\">\n",
       "  <thead>\n",
       "    <tr style=\"text-align: right;\">\n",
       "      <th></th>\n",
       "      <th>a</th>\n",
       "      <th>b</th>\n",
       "      <th>c</th>\n",
       "    </tr>\n",
       "  </thead>\n",
       "  <tbody>\n",
       "    <tr>\n",
       "      <th>10</th>\n",
       "      <td>1</td>\n",
       "      <td>4</td>\n",
       "      <td>7</td>\n",
       "    </tr>\n",
       "    <tr>\n",
       "      <th>11</th>\n",
       "      <td>2</td>\n",
       "      <td>5</td>\n",
       "      <td>8</td>\n",
       "    </tr>\n",
       "    <tr>\n",
       "      <th>12</th>\n",
       "      <td>3</td>\n",
       "      <td>6</td>\n",
       "      <td>9</td>\n",
       "    </tr>\n",
       "  </tbody>\n",
       "</table>\n",
       "</div>"
      ],
      "text/plain": [
       "    a  b  c\n",
       "10  1  4  7\n",
       "11  2  5  8\n",
       "12  3  6  9"
      ]
     },
     "execution_count": 244,
     "metadata": {},
     "output_type": "execute_result"
    },
    {
     "data": {
      "text/html": [
       "<div>\n",
       "<style scoped>\n",
       "    .dataframe tbody tr th:only-of-type {\n",
       "        vertical-align: middle;\n",
       "    }\n",
       "\n",
       "    .dataframe tbody tr th {\n",
       "        vertical-align: top;\n",
       "    }\n",
       "\n",
       "    .dataframe thead th {\n",
       "        text-align: right;\n",
       "    }\n",
       "</style>\n",
       "<table border=\"1\" class=\"dataframe\">\n",
       "  <thead>\n",
       "    <tr style=\"text-align: right;\">\n",
       "      <th></th>\n",
       "      <th>a</th>\n",
       "      <th>b</th>\n",
       "      <th>c</th>\n",
       "    </tr>\n",
       "  </thead>\n",
       "  <tbody>\n",
       "    <tr>\n",
       "      <th>10</th>\n",
       "      <td>1</td>\n",
       "      <td>4</td>\n",
       "      <td>7</td>\n",
       "    </tr>\n",
       "    <tr>\n",
       "      <th>11</th>\n",
       "      <td>2</td>\n",
       "      <td>5</td>\n",
       "      <td>8</td>\n",
       "    </tr>\n",
       "    <tr>\n",
       "      <th>12</th>\n",
       "      <td>3</td>\n",
       "      <td>6</td>\n",
       "      <td>9</td>\n",
       "    </tr>\n",
       "  </tbody>\n",
       "</table>\n",
       "</div>"
      ],
      "text/plain": [
       "    a  b  c\n",
       "10  1  4  7\n",
       "11  2  5  8\n",
       "12  3  6  9"
      ]
     },
     "execution_count": 244,
     "metadata": {},
     "output_type": "execute_result"
    }
   ],
   "source": [
    "dt = pd.DataFrame({'a':[1,2,3], 'b':[4,5,6], 'c':[7,8,9]}, index=[10,11,12])\n",
    "df = pd.DataFrame([[1,4,7], [2,5,8], [3,6,9]], columns=['a', 'b', 'c'], index=[10,11,12])\n",
    "dt\n",
    "df"
   ]
  },
  {
   "cell_type": "code",
   "execution_count": 249,
   "metadata": {},
   "outputs": [
    {
     "data": {
      "text/plain": [
       "array([[1, 2, 3],\n",
       "       [4, 5, 6],\n",
       "       [7, 8, 9]])"
      ]
     },
     "execution_count": 249,
     "metadata": {},
     "output_type": "execute_result"
    },
    {
     "data": {
      "text/plain": [
       "array([[1, 4, 7],\n",
       "       [2, 5, 8],\n",
       "       [3, 6, 9]])"
      ]
     },
     "execution_count": 249,
     "metadata": {},
     "output_type": "execute_result"
    },
    {
     "data": {
      "text/html": [
       "<div>\n",
       "<style scoped>\n",
       "    .dataframe tbody tr th:only-of-type {\n",
       "        vertical-align: middle;\n",
       "    }\n",
       "\n",
       "    .dataframe tbody tr th {\n",
       "        vertical-align: top;\n",
       "    }\n",
       "\n",
       "    .dataframe thead th {\n",
       "        text-align: right;\n",
       "    }\n",
       "</style>\n",
       "<table border=\"1\" class=\"dataframe\">\n",
       "  <thead>\n",
       "    <tr style=\"text-align: right;\">\n",
       "      <th></th>\n",
       "      <th>a</th>\n",
       "      <th>b</th>\n",
       "      <th>c</th>\n",
       "    </tr>\n",
       "  </thead>\n",
       "  <tbody>\n",
       "    <tr>\n",
       "      <th>10</th>\n",
       "      <td>1</td>\n",
       "      <td>4</td>\n",
       "      <td>7</td>\n",
       "    </tr>\n",
       "    <tr>\n",
       "      <th>11</th>\n",
       "      <td>2</td>\n",
       "      <td>5</td>\n",
       "      <td>8</td>\n",
       "    </tr>\n",
       "    <tr>\n",
       "      <th>12</th>\n",
       "      <td>3</td>\n",
       "      <td>6</td>\n",
       "      <td>9</td>\n",
       "    </tr>\n",
       "  </tbody>\n",
       "</table>\n",
       "</div>"
      ],
      "text/plain": [
       "    a  b  c\n",
       "10  1  4  7\n",
       "11  2  5  8\n",
       "12  3  6  9"
      ]
     },
     "execution_count": 249,
     "metadata": {},
     "output_type": "execute_result"
    }
   ],
   "source": [
    "arr = np.arange(1,10).reshape(3,3)\n",
    "arr\n",
    "arr = arr.T\n",
    "arr\n",
    "\n",
    "df = pd.DataFrame(arr, columns=list('abc'), index=[10,11,12])\n",
    "df"
   ]
  },
  {
   "cell_type": "code",
   "execution_count": 254,
   "metadata": {},
   "outputs": [
    {
     "data": {
      "text/html": [
       "<div>\n",
       "<style scoped>\n",
       "    .dataframe tbody tr th:only-of-type {\n",
       "        vertical-align: middle;\n",
       "    }\n",
       "\n",
       "    .dataframe tbody tr th {\n",
       "        vertical-align: top;\n",
       "    }\n",
       "\n",
       "    .dataframe thead th {\n",
       "        text-align: right;\n",
       "    }\n",
       "</style>\n",
       "<table border=\"1\" class=\"dataframe\">\n",
       "  <thead>\n",
       "    <tr style=\"text-align: right;\">\n",
       "      <th></th>\n",
       "      <th>a</th>\n",
       "      <th>b</th>\n",
       "      <th>c</th>\n",
       "    </tr>\n",
       "  </thead>\n",
       "  <tbody>\n",
       "    <tr>\n",
       "      <th>0</th>\n",
       "      <td>1</td>\n",
       "      <td>4</td>\n",
       "      <td>7</td>\n",
       "    </tr>\n",
       "    <tr>\n",
       "      <th>1</th>\n",
       "      <td>2</td>\n",
       "      <td>5</td>\n",
       "      <td>8</td>\n",
       "    </tr>\n",
       "    <tr>\n",
       "      <th>2</th>\n",
       "      <td>3</td>\n",
       "      <td>6</td>\n",
       "      <td>9</td>\n",
       "    </tr>\n",
       "  </tbody>\n",
       "</table>\n",
       "</div>"
      ],
      "text/plain": [
       "   a  b  c\n",
       "0  1  4  7\n",
       "1  2  5  8\n",
       "2  3  6  9"
      ]
     },
     "execution_count": 254,
     "metadata": {},
     "output_type": "execute_result"
    },
    {
     "data": {
      "text/html": [
       "<div>\n",
       "<style scoped>\n",
       "    .dataframe tbody tr th:only-of-type {\n",
       "        vertical-align: middle;\n",
       "    }\n",
       "\n",
       "    .dataframe tbody tr th {\n",
       "        vertical-align: top;\n",
       "    }\n",
       "\n",
       "    .dataframe thead th {\n",
       "        text-align: right;\n",
       "    }\n",
       "</style>\n",
       "<table border=\"1\" class=\"dataframe\">\n",
       "  <thead>\n",
       "    <tr style=\"text-align: right;\">\n",
       "      <th></th>\n",
       "      <th>a</th>\n",
       "      <th>b</th>\n",
       "      <th>c</th>\n",
       "    </tr>\n",
       "  </thead>\n",
       "  <tbody>\n",
       "    <tr>\n",
       "      <th>10</th>\n",
       "      <td>1</td>\n",
       "      <td>4</td>\n",
       "      <td>7</td>\n",
       "    </tr>\n",
       "    <tr>\n",
       "      <th>11</th>\n",
       "      <td>2</td>\n",
       "      <td>5</td>\n",
       "      <td>8</td>\n",
       "    </tr>\n",
       "    <tr>\n",
       "      <th>12</th>\n",
       "      <td>3</td>\n",
       "      <td>6</td>\n",
       "      <td>9</td>\n",
       "    </tr>\n",
       "  </tbody>\n",
       "</table>\n",
       "</div>"
      ],
      "text/plain": [
       "    a  b  c\n",
       "10  1  4  7\n",
       "11  2  5  8\n",
       "12  3  6  9"
      ]
     },
     "execution_count": 254,
     "metadata": {},
     "output_type": "execute_result"
    },
    {
     "data": {
      "text/html": [
       "<div>\n",
       "<style scoped>\n",
       "    .dataframe tbody tr th:only-of-type {\n",
       "        vertical-align: middle;\n",
       "    }\n",
       "\n",
       "    .dataframe tbody tr th {\n",
       "        vertical-align: top;\n",
       "    }\n",
       "\n",
       "    .dataframe thead th {\n",
       "        text-align: right;\n",
       "    }\n",
       "</style>\n",
       "<table border=\"1\" class=\"dataframe\">\n",
       "  <thead>\n",
       "    <tr style=\"text-align: right;\">\n",
       "      <th></th>\n",
       "      <th>10</th>\n",
       "      <th>11</th>\n",
       "      <th>12</th>\n",
       "    </tr>\n",
       "  </thead>\n",
       "  <tbody>\n",
       "  </tbody>\n",
       "</table>\n",
       "</div>"
      ],
      "text/plain": [
       "Empty DataFrame\n",
       "Columns: [10, 11, 12]\n",
       "Index: []"
      ]
     },
     "execution_count": 254,
     "metadata": {},
     "output_type": "execute_result"
    },
    {
     "data": {
      "text/html": [
       "<div>\n",
       "<style scoped>\n",
       "    .dataframe tbody tr th:only-of-type {\n",
       "        vertical-align: middle;\n",
       "    }\n",
       "\n",
       "    .dataframe tbody tr th {\n",
       "        vertical-align: top;\n",
       "    }\n",
       "\n",
       "    .dataframe thead th {\n",
       "        text-align: right;\n",
       "    }\n",
       "</style>\n",
       "<table border=\"1\" class=\"dataframe\">\n",
       "  <thead>\n",
       "    <tr style=\"text-align: right;\">\n",
       "      <th></th>\n",
       "      <th>c</th>\n",
       "      <th>b</th>\n",
       "      <th>a</th>\n",
       "    </tr>\n",
       "  </thead>\n",
       "  <tbody>\n",
       "    <tr>\n",
       "      <th>0</th>\n",
       "      <td>7</td>\n",
       "      <td>4</td>\n",
       "      <td>1</td>\n",
       "    </tr>\n",
       "    <tr>\n",
       "      <th>1</th>\n",
       "      <td>8</td>\n",
       "      <td>5</td>\n",
       "      <td>2</td>\n",
       "    </tr>\n",
       "    <tr>\n",
       "      <th>2</th>\n",
       "      <td>9</td>\n",
       "      <td>6</td>\n",
       "      <td>3</td>\n",
       "    </tr>\n",
       "  </tbody>\n",
       "</table>\n",
       "</div>"
      ],
      "text/plain": [
       "   c  b  a\n",
       "0  7  4  1\n",
       "1  8  5  2\n",
       "2  9  6  3"
      ]
     },
     "execution_count": 254,
     "metadata": {},
     "output_type": "execute_result"
    },
    {
     "data": {
      "text/html": [
       "<div>\n",
       "<style scoped>\n",
       "    .dataframe tbody tr th:only-of-type {\n",
       "        vertical-align: middle;\n",
       "    }\n",
       "\n",
       "    .dataframe tbody tr th {\n",
       "        vertical-align: top;\n",
       "    }\n",
       "\n",
       "    .dataframe thead th {\n",
       "        text-align: right;\n",
       "    }\n",
       "</style>\n",
       "<table border=\"1\" class=\"dataframe\">\n",
       "  <thead>\n",
       "    <tr style=\"text-align: right;\">\n",
       "      <th></th>\n",
       "      <th>13</th>\n",
       "      <th>14</th>\n",
       "      <th>15</th>\n",
       "    </tr>\n",
       "  </thead>\n",
       "  <tbody>\n",
       "    <tr>\n",
       "      <th>10</th>\n",
       "      <td>NaN</td>\n",
       "      <td>NaN</td>\n",
       "      <td>NaN</td>\n",
       "    </tr>\n",
       "    <tr>\n",
       "      <th>11</th>\n",
       "      <td>NaN</td>\n",
       "      <td>NaN</td>\n",
       "      <td>NaN</td>\n",
       "    </tr>\n",
       "    <tr>\n",
       "      <th>12</th>\n",
       "      <td>NaN</td>\n",
       "      <td>NaN</td>\n",
       "      <td>NaN</td>\n",
       "    </tr>\n",
       "  </tbody>\n",
       "</table>\n",
       "</div>"
      ],
      "text/plain": [
       "     13   14   15\n",
       "10  NaN  NaN  NaN\n",
       "11  NaN  NaN  NaN\n",
       "12  NaN  NaN  NaN"
      ]
     },
     "execution_count": 254,
     "metadata": {},
     "output_type": "execute_result"
    }
   ],
   "source": [
    "pd.DataFrame({'a':[1,2,3], 'b':[4,5,6], 'c':[7,8,9]})\n",
    "pd.DataFrame({'a':[1,2,3], 'b':[4,5,6], 'c':[7,8,9]}, index=[10,11,12])\n",
    "pd.DataFrame({'a':[1,2,3], 'b':[4,5,6], 'c':[7,8,9]}, columns=[10,11,12])\n",
    "pd.DataFrame({'a':[1,2,3], 'b':[4,5,6], 'c':[7,8,9]}, columns=['c', 'b', 'a'])\n",
    "pd.DataFrame({'a':[1,2,3], 'b':[4,5,6], 'c':[7,8,9]},index=[10,11,12], columns=[13,14,15])"
   ]
  },
  {
   "cell_type": "markdown",
   "metadata": {},
   "source": [
    "### https://www.data.go.kr/dataset/15003493/fileData.do"
   ]
  },
  {
   "cell_type": "code",
   "execution_count": 255,
   "metadata": {},
   "outputs": [
    {
     "data": {
      "text/plain": [
       "'D:\\\\my\\\\script'"
      ]
     },
     "execution_count": 255,
     "metadata": {},
     "output_type": "execute_result"
    }
   ],
   "source": [
    "%pwd"
   ]
  },
  {
   "cell_type": "code",
   "execution_count": 256,
   "metadata": {},
   "outputs": [
    {
     "ename": "UnicodeDecodeError",
     "evalue": "'utf-8' codec can't decode byte 0xbb in position 0: invalid start byte",
     "output_type": "error",
     "traceback": [
      "\u001b[1;31m---------------------------------------------------------------------------\u001b[0m",
      "\u001b[1;31mUnicodeDecodeError\u001b[0m                        Traceback (most recent call last)",
      "\u001b[1;32m<ipython-input-256-b8deb0636771>\u001b[0m in \u001b[0;36m<module>\u001b[1;34m\u001b[0m\n\u001b[1;32m----> 1\u001b[1;33m \u001b[0mdata\u001b[0m \u001b[1;33m=\u001b[0m \u001b[0mpd\u001b[0m\u001b[1;33m.\u001b[0m\u001b[0mread_csv\u001b[0m\u001b[1;33m(\u001b[0m\u001b[1;34m'../data/도로교통공단_교통사고다발지역_20191010.csv'\u001b[0m\u001b[1;33m)\u001b[0m\u001b[1;33m\u001b[0m\u001b[1;33m\u001b[0m\u001b[0m\n\u001b[0m",
      "\u001b[1;32m~\\Anaconda3\\lib\\site-packages\\pandas\\io\\parsers.py\u001b[0m in \u001b[0;36mparser_f\u001b[1;34m(filepath_or_buffer, sep, delimiter, header, names, index_col, usecols, squeeze, prefix, mangle_dupe_cols, dtype, engine, converters, true_values, false_values, skipinitialspace, skiprows, skipfooter, nrows, na_values, keep_default_na, na_filter, verbose, skip_blank_lines, parse_dates, infer_datetime_format, keep_date_col, date_parser, dayfirst, iterator, chunksize, compression, thousands, decimal, lineterminator, quotechar, quoting, doublequote, escapechar, comment, encoding, dialect, tupleize_cols, error_bad_lines, warn_bad_lines, delim_whitespace, low_memory, memory_map, float_precision)\u001b[0m\n\u001b[0;32m    700\u001b[0m                     skip_blank_lines=skip_blank_lines)\n\u001b[0;32m    701\u001b[0m \u001b[1;33m\u001b[0m\u001b[0m\n\u001b[1;32m--> 702\u001b[1;33m         \u001b[1;32mreturn\u001b[0m \u001b[0m_read\u001b[0m\u001b[1;33m(\u001b[0m\u001b[0mfilepath_or_buffer\u001b[0m\u001b[1;33m,\u001b[0m \u001b[0mkwds\u001b[0m\u001b[1;33m)\u001b[0m\u001b[1;33m\u001b[0m\u001b[1;33m\u001b[0m\u001b[0m\n\u001b[0m\u001b[0;32m    703\u001b[0m \u001b[1;33m\u001b[0m\u001b[0m\n\u001b[0;32m    704\u001b[0m     \u001b[0mparser_f\u001b[0m\u001b[1;33m.\u001b[0m\u001b[0m__name__\u001b[0m \u001b[1;33m=\u001b[0m \u001b[0mname\u001b[0m\u001b[1;33m\u001b[0m\u001b[1;33m\u001b[0m\u001b[0m\n",
      "\u001b[1;32m~\\Anaconda3\\lib\\site-packages\\pandas\\io\\parsers.py\u001b[0m in \u001b[0;36m_read\u001b[1;34m(filepath_or_buffer, kwds)\u001b[0m\n\u001b[0;32m    427\u001b[0m \u001b[1;33m\u001b[0m\u001b[0m\n\u001b[0;32m    428\u001b[0m     \u001b[1;31m# Create the parser.\u001b[0m\u001b[1;33m\u001b[0m\u001b[1;33m\u001b[0m\u001b[1;33m\u001b[0m\u001b[0m\n\u001b[1;32m--> 429\u001b[1;33m     \u001b[0mparser\u001b[0m \u001b[1;33m=\u001b[0m \u001b[0mTextFileReader\u001b[0m\u001b[1;33m(\u001b[0m\u001b[0mfilepath_or_buffer\u001b[0m\u001b[1;33m,\u001b[0m \u001b[1;33m**\u001b[0m\u001b[0mkwds\u001b[0m\u001b[1;33m)\u001b[0m\u001b[1;33m\u001b[0m\u001b[1;33m\u001b[0m\u001b[0m\n\u001b[0m\u001b[0;32m    430\u001b[0m \u001b[1;33m\u001b[0m\u001b[0m\n\u001b[0;32m    431\u001b[0m     \u001b[1;32mif\u001b[0m \u001b[0mchunksize\u001b[0m \u001b[1;32mor\u001b[0m \u001b[0miterator\u001b[0m\u001b[1;33m:\u001b[0m\u001b[1;33m\u001b[0m\u001b[1;33m\u001b[0m\u001b[0m\n",
      "\u001b[1;32m~\\Anaconda3\\lib\\site-packages\\pandas\\io\\parsers.py\u001b[0m in \u001b[0;36m__init__\u001b[1;34m(self, f, engine, **kwds)\u001b[0m\n\u001b[0;32m    893\u001b[0m             \u001b[0mself\u001b[0m\u001b[1;33m.\u001b[0m\u001b[0moptions\u001b[0m\u001b[1;33m[\u001b[0m\u001b[1;34m'has_index_names'\u001b[0m\u001b[1;33m]\u001b[0m \u001b[1;33m=\u001b[0m \u001b[0mkwds\u001b[0m\u001b[1;33m[\u001b[0m\u001b[1;34m'has_index_names'\u001b[0m\u001b[1;33m]\u001b[0m\u001b[1;33m\u001b[0m\u001b[1;33m\u001b[0m\u001b[0m\n\u001b[0;32m    894\u001b[0m \u001b[1;33m\u001b[0m\u001b[0m\n\u001b[1;32m--> 895\u001b[1;33m         \u001b[0mself\u001b[0m\u001b[1;33m.\u001b[0m\u001b[0m_make_engine\u001b[0m\u001b[1;33m(\u001b[0m\u001b[0mself\u001b[0m\u001b[1;33m.\u001b[0m\u001b[0mengine\u001b[0m\u001b[1;33m)\u001b[0m\u001b[1;33m\u001b[0m\u001b[1;33m\u001b[0m\u001b[0m\n\u001b[0m\u001b[0;32m    896\u001b[0m \u001b[1;33m\u001b[0m\u001b[0m\n\u001b[0;32m    897\u001b[0m     \u001b[1;32mdef\u001b[0m \u001b[0mclose\u001b[0m\u001b[1;33m(\u001b[0m\u001b[0mself\u001b[0m\u001b[1;33m)\u001b[0m\u001b[1;33m:\u001b[0m\u001b[1;33m\u001b[0m\u001b[1;33m\u001b[0m\u001b[0m\n",
      "\u001b[1;32m~\\Anaconda3\\lib\\site-packages\\pandas\\io\\parsers.py\u001b[0m in \u001b[0;36m_make_engine\u001b[1;34m(self, engine)\u001b[0m\n\u001b[0;32m   1120\u001b[0m     \u001b[1;32mdef\u001b[0m \u001b[0m_make_engine\u001b[0m\u001b[1;33m(\u001b[0m\u001b[0mself\u001b[0m\u001b[1;33m,\u001b[0m \u001b[0mengine\u001b[0m\u001b[1;33m=\u001b[0m\u001b[1;34m'c'\u001b[0m\u001b[1;33m)\u001b[0m\u001b[1;33m:\u001b[0m\u001b[1;33m\u001b[0m\u001b[1;33m\u001b[0m\u001b[0m\n\u001b[0;32m   1121\u001b[0m         \u001b[1;32mif\u001b[0m \u001b[0mengine\u001b[0m \u001b[1;33m==\u001b[0m \u001b[1;34m'c'\u001b[0m\u001b[1;33m:\u001b[0m\u001b[1;33m\u001b[0m\u001b[1;33m\u001b[0m\u001b[0m\n\u001b[1;32m-> 1122\u001b[1;33m             \u001b[0mself\u001b[0m\u001b[1;33m.\u001b[0m\u001b[0m_engine\u001b[0m \u001b[1;33m=\u001b[0m \u001b[0mCParserWrapper\u001b[0m\u001b[1;33m(\u001b[0m\u001b[0mself\u001b[0m\u001b[1;33m.\u001b[0m\u001b[0mf\u001b[0m\u001b[1;33m,\u001b[0m \u001b[1;33m**\u001b[0m\u001b[0mself\u001b[0m\u001b[1;33m.\u001b[0m\u001b[0moptions\u001b[0m\u001b[1;33m)\u001b[0m\u001b[1;33m\u001b[0m\u001b[1;33m\u001b[0m\u001b[0m\n\u001b[0m\u001b[0;32m   1123\u001b[0m         \u001b[1;32melse\u001b[0m\u001b[1;33m:\u001b[0m\u001b[1;33m\u001b[0m\u001b[1;33m\u001b[0m\u001b[0m\n\u001b[0;32m   1124\u001b[0m             \u001b[1;32mif\u001b[0m \u001b[0mengine\u001b[0m \u001b[1;33m==\u001b[0m \u001b[1;34m'python'\u001b[0m\u001b[1;33m:\u001b[0m\u001b[1;33m\u001b[0m\u001b[1;33m\u001b[0m\u001b[0m\n",
      "\u001b[1;32m~\\Anaconda3\\lib\\site-packages\\pandas\\io\\parsers.py\u001b[0m in \u001b[0;36m__init__\u001b[1;34m(self, src, **kwds)\u001b[0m\n\u001b[0;32m   1851\u001b[0m         \u001b[0mkwds\u001b[0m\u001b[1;33m[\u001b[0m\u001b[1;34m'usecols'\u001b[0m\u001b[1;33m]\u001b[0m \u001b[1;33m=\u001b[0m \u001b[0mself\u001b[0m\u001b[1;33m.\u001b[0m\u001b[0musecols\u001b[0m\u001b[1;33m\u001b[0m\u001b[1;33m\u001b[0m\u001b[0m\n\u001b[0;32m   1852\u001b[0m \u001b[1;33m\u001b[0m\u001b[0m\n\u001b[1;32m-> 1853\u001b[1;33m         \u001b[0mself\u001b[0m\u001b[1;33m.\u001b[0m\u001b[0m_reader\u001b[0m \u001b[1;33m=\u001b[0m \u001b[0mparsers\u001b[0m\u001b[1;33m.\u001b[0m\u001b[0mTextReader\u001b[0m\u001b[1;33m(\u001b[0m\u001b[0msrc\u001b[0m\u001b[1;33m,\u001b[0m \u001b[1;33m**\u001b[0m\u001b[0mkwds\u001b[0m\u001b[1;33m)\u001b[0m\u001b[1;33m\u001b[0m\u001b[1;33m\u001b[0m\u001b[0m\n\u001b[0m\u001b[0;32m   1854\u001b[0m         \u001b[0mself\u001b[0m\u001b[1;33m.\u001b[0m\u001b[0munnamed_cols\u001b[0m \u001b[1;33m=\u001b[0m \u001b[0mself\u001b[0m\u001b[1;33m.\u001b[0m\u001b[0m_reader\u001b[0m\u001b[1;33m.\u001b[0m\u001b[0munnamed_cols\u001b[0m\u001b[1;33m\u001b[0m\u001b[1;33m\u001b[0m\u001b[0m\n\u001b[0;32m   1855\u001b[0m \u001b[1;33m\u001b[0m\u001b[0m\n",
      "\u001b[1;32mpandas/_libs/parsers.pyx\u001b[0m in \u001b[0;36mpandas._libs.parsers.TextReader.__cinit__\u001b[1;34m()\u001b[0m\n",
      "\u001b[1;32mpandas/_libs/parsers.pyx\u001b[0m in \u001b[0;36mpandas._libs.parsers.TextReader._get_header\u001b[1;34m()\u001b[0m\n",
      "\u001b[1;31mUnicodeDecodeError\u001b[0m: 'utf-8' codec can't decode byte 0xbb in position 0: invalid start byte"
     ]
    }
   ],
   "source": [
    "data = pd.read_csv('../data/도로교통공단_교통사고다발지역_20191010.csv') # 한글명 파일이 잘 안읽힘"
   ]
  },
  {
   "cell_type": "code",
   "execution_count": 273,
   "metadata": {},
   "outputs": [],
   "source": [
    "data = pd.read_csv(open('../data/도로교통공단_교통사고다발지역_20191010.csv', 'r'))\n",
    "\n",
    "data = pd.read_csv('../data/도로교통공단_교통사고다발지역_20191010.csv', encoding='euc-kr')\n",
    "\n",
    "data = pd.read_csv('../data/도로교통공단_교통사고다발지역_20191010.csv', sep=',', encoding='euc-kr')"
   ]
  },
  {
   "cell_type": "code",
   "execution_count": 269,
   "metadata": {},
   "outputs": [],
   "source": [
    "data.to_csv('../working/도로교통공단_교통사고다발지역_20191010.csv', encoding='euc-kr')"
   ]
  },
  {
   "cell_type": "markdown",
   "metadata": {},
   "source": [
    "## 기본정보"
   ]
  },
  {
   "cell_type": "code",
   "execution_count": 274,
   "metadata": {},
   "outputs": [
    {
     "data": {
      "text/html": [
       "<div>\n",
       "<style scoped>\n",
       "    .dataframe tbody tr th:only-of-type {\n",
       "        vertical-align: middle;\n",
       "    }\n",
       "\n",
       "    .dataframe tbody tr th {\n",
       "        vertical-align: top;\n",
       "    }\n",
       "\n",
       "    .dataframe thead th {\n",
       "        text-align: right;\n",
       "    }\n",
       "</style>\n",
       "<table border=\"1\" class=\"dataframe\">\n",
       "  <thead>\n",
       "    <tr style=\"text-align: right;\">\n",
       "      <th></th>\n",
       "      <th>사고지역관리번호</th>\n",
       "      <th>사고년도</th>\n",
       "      <th>사고유형구분</th>\n",
       "      <th>위치코드</th>\n",
       "      <th>시도시군구명</th>\n",
       "      <th>사고지역위치명</th>\n",
       "      <th>발생건수</th>\n",
       "      <th>사상자수</th>\n",
       "      <th>사망자수</th>\n",
       "      <th>중상자수</th>\n",
       "      <th>경상자수</th>\n",
       "      <th>부상자수</th>\n",
       "      <th>위도</th>\n",
       "      <th>경도</th>\n",
       "      <th>사고다발지역폴리곤정보</th>\n",
       "      <th>데이터기준일자</th>\n",
       "    </tr>\n",
       "  </thead>\n",
       "  <tbody>\n",
       "    <tr>\n",
       "      <th>0</th>\n",
       "      <td>2013060</td>\n",
       "      <td>2012</td>\n",
       "      <td>스쿨존어린이</td>\n",
       "      <td>11110001</td>\n",
       "      <td>서울특별시 종로구1</td>\n",
       "      <td>서울특별시 종로구 혜화동(혜화초교 부근)</td>\n",
       "      <td>2</td>\n",
       "      <td>2</td>\n",
       "      <td>0</td>\n",
       "      <td>1</td>\n",
       "      <td>1</td>\n",
       "      <td>0</td>\n",
       "      <td>37.588413</td>\n",
       "      <td>126.999607</td>\n",
       "      <td>{type:Polygon,coordinates:[[[127.002009,37.590...</td>\n",
       "      <td>2019-10-10</td>\n",
       "    </tr>\n",
       "    <tr>\n",
       "      <th>1</th>\n",
       "      <td>2013060</td>\n",
       "      <td>2012</td>\n",
       "      <td>스쿨존어린이</td>\n",
       "      <td>11290001</td>\n",
       "      <td>서울특별시 성북구1</td>\n",
       "      <td>서울특별시 성북구 종암동(숭례초교 부근)</td>\n",
       "      <td>2</td>\n",
       "      <td>2</td>\n",
       "      <td>0</td>\n",
       "      <td>0</td>\n",
       "      <td>1</td>\n",
       "      <td>1</td>\n",
       "      <td>37.595505</td>\n",
       "      <td>127.035733</td>\n",
       "      <td>{type:Polygon,coordinates:[[[127.0381354,37.59...</td>\n",
       "      <td>2019-10-10</td>\n",
       "    </tr>\n",
       "    <tr>\n",
       "      <th>2</th>\n",
       "      <td>2013060</td>\n",
       "      <td>2012</td>\n",
       "      <td>스쿨존어린이</td>\n",
       "      <td>11290002</td>\n",
       "      <td>서울특별시 성북구2</td>\n",
       "      <td>서울특별시 성북구 동소문동7가(정덕초교 부근)</td>\n",
       "      <td>2</td>\n",
       "      <td>2</td>\n",
       "      <td>0</td>\n",
       "      <td>2</td>\n",
       "      <td>0</td>\n",
       "      <td>0</td>\n",
       "      <td>37.597571</td>\n",
       "      <td>127.014564</td>\n",
       "      <td>{type:Polygon,coordinates:[[[127.0169658,37.59...</td>\n",
       "      <td>2019-10-10</td>\n",
       "    </tr>\n",
       "    <tr>\n",
       "      <th>3</th>\n",
       "      <td>2013060</td>\n",
       "      <td>2012</td>\n",
       "      <td>스쿨존어린이</td>\n",
       "      <td>11290003</td>\n",
       "      <td>서울특별시 성북구3</td>\n",
       "      <td>서울특별시 성북구 석관동(석관초교 부근)</td>\n",
       "      <td>3</td>\n",
       "      <td>3</td>\n",
       "      <td>0</td>\n",
       "      <td>2</td>\n",
       "      <td>1</td>\n",
       "      <td>0</td>\n",
       "      <td>37.610429</td>\n",
       "      <td>127.059596</td>\n",
       "      <td>{type:Polygon,coordinates:[[[127.0619982,37.61...</td>\n",
       "      <td>2019-10-10</td>\n",
       "    </tr>\n",
       "    <tr>\n",
       "      <th>4</th>\n",
       "      <td>2013060</td>\n",
       "      <td>2012</td>\n",
       "      <td>스쿨존어린이</td>\n",
       "      <td>11320001</td>\n",
       "      <td>서울특별시 도봉구1</td>\n",
       "      <td>서울특별시 도봉구 쌍문동(쌍문초교 부근)</td>\n",
       "      <td>2</td>\n",
       "      <td>2</td>\n",
       "      <td>0</td>\n",
       "      <td>0</td>\n",
       "      <td>2</td>\n",
       "      <td>0</td>\n",
       "      <td>37.648129</td>\n",
       "      <td>127.024430</td>\n",
       "      <td>{type:Polygon,coordinates:[[[127.0268336,37.65...</td>\n",
       "      <td>2019-10-10</td>\n",
       "    </tr>\n",
       "  </tbody>\n",
       "</table>\n",
       "</div>"
      ],
      "text/plain": [
       "   사고지역관리번호  사고년도  사고유형구분      위치코드      시도시군구명                    사고지역위치명  \\\n",
       "0   2013060  2012  스쿨존어린이  11110001  서울특별시 종로구1     서울특별시 종로구 혜화동(혜화초교 부근)   \n",
       "1   2013060  2012  스쿨존어린이  11290001  서울특별시 성북구1     서울특별시 성북구 종암동(숭례초교 부근)   \n",
       "2   2013060  2012  스쿨존어린이  11290002  서울특별시 성북구2  서울특별시 성북구 동소문동7가(정덕초교 부근)   \n",
       "3   2013060  2012  스쿨존어린이  11290003  서울특별시 성북구3     서울특별시 성북구 석관동(석관초교 부근)   \n",
       "4   2013060  2012  스쿨존어린이  11320001  서울특별시 도봉구1     서울특별시 도봉구 쌍문동(쌍문초교 부근)   \n",
       "\n",
       "   발생건수  사상자수  사망자수  중상자수  경상자수  부상자수         위도          경도  \\\n",
       "0     2     2     0     1     1     0  37.588413  126.999607   \n",
       "1     2     2     0     0     1     1  37.595505  127.035733   \n",
       "2     2     2     0     2     0     0  37.597571  127.014564   \n",
       "3     3     3     0     2     1     0  37.610429  127.059596   \n",
       "4     2     2     0     0     2     0  37.648129  127.024430   \n",
       "\n",
       "                                         사고다발지역폴리곤정보     데이터기준일자  \n",
       "0  {type:Polygon,coordinates:[[[127.002009,37.590...  2019-10-10  \n",
       "1  {type:Polygon,coordinates:[[[127.0381354,37.59...  2019-10-10  \n",
       "2  {type:Polygon,coordinates:[[[127.0169658,37.59...  2019-10-10  \n",
       "3  {type:Polygon,coordinates:[[[127.0619982,37.61...  2019-10-10  \n",
       "4  {type:Polygon,coordinates:[[[127.0268336,37.65...  2019-10-10  "
      ]
     },
     "execution_count": 274,
     "metadata": {},
     "output_type": "execute_result"
    },
    {
     "data": {
      "text/html": [
       "<div>\n",
       "<style scoped>\n",
       "    .dataframe tbody tr th:only-of-type {\n",
       "        vertical-align: middle;\n",
       "    }\n",
       "\n",
       "    .dataframe tbody tr th {\n",
       "        vertical-align: top;\n",
       "    }\n",
       "\n",
       "    .dataframe thead th {\n",
       "        text-align: right;\n",
       "    }\n",
       "</style>\n",
       "<table border=\"1\" class=\"dataframe\">\n",
       "  <thead>\n",
       "    <tr style=\"text-align: right;\">\n",
       "      <th></th>\n",
       "      <th>사고지역관리번호</th>\n",
       "      <th>사고년도</th>\n",
       "      <th>사고유형구분</th>\n",
       "      <th>위치코드</th>\n",
       "      <th>시도시군구명</th>\n",
       "      <th>사고지역위치명</th>\n",
       "      <th>발생건수</th>\n",
       "      <th>사상자수</th>\n",
       "      <th>사망자수</th>\n",
       "      <th>중상자수</th>\n",
       "      <th>경상자수</th>\n",
       "      <th>부상자수</th>\n",
       "      <th>위도</th>\n",
       "      <th>경도</th>\n",
       "      <th>사고다발지역폴리곤정보</th>\n",
       "      <th>데이터기준일자</th>\n",
       "    </tr>\n",
       "  </thead>\n",
       "  <tbody>\n",
       "    <tr>\n",
       "      <th>10360</th>\n",
       "      <td>2019066</td>\n",
       "      <td>2018</td>\n",
       "      <td>무단횡단</td>\n",
       "      <td>280641002</td>\n",
       "      <td>경기 파주2</td>\n",
       "      <td>경기도 파주시 금촌동(우리은행 파주금융센터 부근)</td>\n",
       "      <td>5</td>\n",
       "      <td>7</td>\n",
       "      <td>0</td>\n",
       "      <td>2</td>\n",
       "      <td>5</td>\n",
       "      <td>0</td>\n",
       "      <td>37.757022</td>\n",
       "      <td>126.773592</td>\n",
       "      <td>{type:Polygon,coordinates:[[[126.77628656,37.7...</td>\n",
       "      <td>2019-10-10</td>\n",
       "    </tr>\n",
       "    <tr>\n",
       "      <th>10361</th>\n",
       "      <td>2019066</td>\n",
       "      <td>2018</td>\n",
       "      <td>무단횡단</td>\n",
       "      <td>280641003</td>\n",
       "      <td>경기 파주3</td>\n",
       "      <td>경기도 파주시 조리읍(봉일천우체국 부근)</td>\n",
       "      <td>5</td>\n",
       "      <td>5</td>\n",
       "      <td>0</td>\n",
       "      <td>2</td>\n",
       "      <td>3</td>\n",
       "      <td>0</td>\n",
       "      <td>37.743755</td>\n",
       "      <td>126.806671</td>\n",
       "      <td>{type:Polygon,coordinates:[[[126.80936607,37.7...</td>\n",
       "      <td>2019-10-10</td>\n",
       "    </tr>\n",
       "    <tr>\n",
       "      <th>10362</th>\n",
       "      <td>2019066</td>\n",
       "      <td>2018</td>\n",
       "      <td>무단횡단</td>\n",
       "      <td>280641004</td>\n",
       "      <td>경기 파주4</td>\n",
       "      <td>경기도 파주시 금촌동(금촌사거리 부근)</td>\n",
       "      <td>4</td>\n",
       "      <td>4</td>\n",
       "      <td>0</td>\n",
       "      <td>2</td>\n",
       "      <td>2</td>\n",
       "      <td>0</td>\n",
       "      <td>37.763186</td>\n",
       "      <td>126.773463</td>\n",
       "      <td>{type:Polygon,coordinates:[[[126.77615816,37.7...</td>\n",
       "      <td>2019-10-10</td>\n",
       "    </tr>\n",
       "    <tr>\n",
       "      <th>10363</th>\n",
       "      <td>2019066</td>\n",
       "      <td>2018</td>\n",
       "      <td>무단횡단</td>\n",
       "      <td>280941001</td>\n",
       "      <td>경기 구리1</td>\n",
       "      <td>경기도 구리시 수택동(세븐일레븐 구리으뜸점 부근)</td>\n",
       "      <td>6</td>\n",
       "      <td>6</td>\n",
       "      <td>0</td>\n",
       "      <td>2</td>\n",
       "      <td>4</td>\n",
       "      <td>0</td>\n",
       "      <td>37.598290</td>\n",
       "      <td>127.136542</td>\n",
       "      <td>{type:Polygon,coordinates:[[[127.13923669,37.5...</td>\n",
       "      <td>2019-10-10</td>\n",
       "    </tr>\n",
       "    <tr>\n",
       "      <th>10364</th>\n",
       "      <td>2019066</td>\n",
       "      <td>2018</td>\n",
       "      <td>무단횡단</td>\n",
       "      <td>281041001</td>\n",
       "      <td>경기 포천1</td>\n",
       "      <td>경기도 포천시 소흘읍(송우순복음교회 부근)</td>\n",
       "      <td>4</td>\n",
       "      <td>5</td>\n",
       "      <td>0</td>\n",
       "      <td>1</td>\n",
       "      <td>4</td>\n",
       "      <td>0</td>\n",
       "      <td>37.825582</td>\n",
       "      <td>127.143884</td>\n",
       "      <td>{type:Polygon,coordinates:[[[127.14657884,37.8...</td>\n",
       "      <td>2019-10-10</td>\n",
       "    </tr>\n",
       "  </tbody>\n",
       "</table>\n",
       "</div>"
      ],
      "text/plain": [
       "       사고지역관리번호  사고년도 사고유형구분       위치코드  시도시군구명                      사고지역위치명  \\\n",
       "10360   2019066  2018   무단횡단  280641002  경기 파주2  경기도 파주시 금촌동(우리은행 파주금융센터 부근)   \n",
       "10361   2019066  2018   무단횡단  280641003  경기 파주3       경기도 파주시 조리읍(봉일천우체국 부근)   \n",
       "10362   2019066  2018   무단횡단  280641004  경기 파주4        경기도 파주시 금촌동(금촌사거리 부근)   \n",
       "10363   2019066  2018   무단횡단  280941001  경기 구리1  경기도 구리시 수택동(세븐일레븐 구리으뜸점 부근)   \n",
       "10364   2019066  2018   무단횡단  281041001  경기 포천1      경기도 포천시 소흘읍(송우순복음교회 부근)   \n",
       "\n",
       "       발생건수  사상자수  사망자수  중상자수  경상자수  부상자수         위도          경도  \\\n",
       "10360     5     7     0     2     5     0  37.757022  126.773592   \n",
       "10361     5     5     0     2     3     0  37.743755  126.806671   \n",
       "10362     4     4     0     2     2     0  37.763186  126.773463   \n",
       "10363     6     6     0     2     4     0  37.598290  127.136542   \n",
       "10364     4     5     0     1     4     0  37.825582  127.143884   \n",
       "\n",
       "                                             사고다발지역폴리곤정보     데이터기준일자  \n",
       "10360  {type:Polygon,coordinates:[[[126.77628656,37.7...  2019-10-10  \n",
       "10361  {type:Polygon,coordinates:[[[126.80936607,37.7...  2019-10-10  \n",
       "10362  {type:Polygon,coordinates:[[[126.77615816,37.7...  2019-10-10  \n",
       "10363  {type:Polygon,coordinates:[[[127.13923669,37.5...  2019-10-10  \n",
       "10364  {type:Polygon,coordinates:[[[127.14657884,37.8...  2019-10-10  "
      ]
     },
     "execution_count": 274,
     "metadata": {},
     "output_type": "execute_result"
    }
   ],
   "source": [
    "data.head()\n",
    "data.tail()"
   ]
  },
  {
   "cell_type": "code",
   "execution_count": 283,
   "metadata": {
    "scrolled": false
   },
   "outputs": [
    {
     "data": {
      "text/plain": [
       "(10365, 16)"
      ]
     },
     "execution_count": 283,
     "metadata": {},
     "output_type": "execute_result"
    },
    {
     "data": {
      "text/plain": [
       "RangeIndex(start=0, stop=10365, step=1)"
      ]
     },
     "execution_count": 283,
     "metadata": {},
     "output_type": "execute_result"
    },
    {
     "data": {
      "text/plain": [
       "Index(['사고지역관리번호', '사고년도', '사고유형구분', '위치코드', '시도시군구명', '사고지역위치명', '발생건수',\n",
       "       '사상자수', '사망자수', '중상자수', '경상자수', '부상자수', '위도', '경도', '사고다발지역폴리곤정보',\n",
       "       '데이터기준일자'],\n",
       "      dtype='object')"
      ]
     },
     "execution_count": 283,
     "metadata": {},
     "output_type": "execute_result"
    },
    {
     "data": {
      "text/html": [
       "<div>\n",
       "<style scoped>\n",
       "    .dataframe tbody tr th:only-of-type {\n",
       "        vertical-align: middle;\n",
       "    }\n",
       "\n",
       "    .dataframe tbody tr th {\n",
       "        vertical-align: top;\n",
       "    }\n",
       "\n",
       "    .dataframe thead th {\n",
       "        text-align: right;\n",
       "    }\n",
       "</style>\n",
       "<table border=\"1\" class=\"dataframe\">\n",
       "  <thead>\n",
       "    <tr style=\"text-align: right;\">\n",
       "      <th></th>\n",
       "      <th>사고지역관리번호</th>\n",
       "      <th>사고년도</th>\n",
       "      <th>사고유형구분</th>\n",
       "      <th>위치코드</th>\n",
       "      <th>시도시군구명</th>\n",
       "      <th>사고지역위치명</th>\n",
       "      <th>발생건수</th>\n",
       "      <th>사상자수</th>\n",
       "      <th>사망자수</th>\n",
       "      <th>중상자수</th>\n",
       "      <th>경상자수</th>\n",
       "      <th>부상자수</th>\n",
       "      <th>위도</th>\n",
       "      <th>경도</th>\n",
       "      <th>사고다발지역폴리곤정보</th>\n",
       "      <th>데이터기준일자</th>\n",
       "    </tr>\n",
       "  </thead>\n",
       "  <tbody>\n",
       "    <tr>\n",
       "      <th>1</th>\n",
       "      <td>2013060</td>\n",
       "      <td>2012</td>\n",
       "      <td>스쿨존어린이</td>\n",
       "      <td>11290001</td>\n",
       "      <td>서울특별시 성북구1</td>\n",
       "      <td>서울특별시 성북구 종암동(숭례초교 부근)</td>\n",
       "      <td>2</td>\n",
       "      <td>2</td>\n",
       "      <td>0</td>\n",
       "      <td>0</td>\n",
       "      <td>1</td>\n",
       "      <td>1</td>\n",
       "      <td>37.595505</td>\n",
       "      <td>127.035733</td>\n",
       "      <td>{type:Polygon,coordinates:[[[127.0381354,37.59...</td>\n",
       "      <td>2019-10-10</td>\n",
       "    </tr>\n",
       "    <tr>\n",
       "      <th>2</th>\n",
       "      <td>2013060</td>\n",
       "      <td>2012</td>\n",
       "      <td>스쿨존어린이</td>\n",
       "      <td>11290002</td>\n",
       "      <td>서울특별시 성북구2</td>\n",
       "      <td>서울특별시 성북구 동소문동7가(정덕초교 부근)</td>\n",
       "      <td>2</td>\n",
       "      <td>2</td>\n",
       "      <td>0</td>\n",
       "      <td>2</td>\n",
       "      <td>0</td>\n",
       "      <td>0</td>\n",
       "      <td>37.597571</td>\n",
       "      <td>127.014564</td>\n",
       "      <td>{type:Polygon,coordinates:[[[127.0169658,37.59...</td>\n",
       "      <td>2019-10-10</td>\n",
       "    </tr>\n",
       "  </tbody>\n",
       "</table>\n",
       "</div>"
      ],
      "text/plain": [
       "   사고지역관리번호  사고년도  사고유형구분      위치코드      시도시군구명                    사고지역위치명  \\\n",
       "1   2013060  2012  스쿨존어린이  11290001  서울특별시 성북구1     서울특별시 성북구 종암동(숭례초교 부근)   \n",
       "2   2013060  2012  스쿨존어린이  11290002  서울특별시 성북구2  서울특별시 성북구 동소문동7가(정덕초교 부근)   \n",
       "\n",
       "   발생건수  사상자수  사망자수  중상자수  경상자수  부상자수         위도          경도  \\\n",
       "1     2     2     0     0     1     1  37.595505  127.035733   \n",
       "2     2     2     0     2     0     0  37.597571  127.014564   \n",
       "\n",
       "                                         사고다발지역폴리곤정보     데이터기준일자  \n",
       "1  {type:Polygon,coordinates:[[[127.0381354,37.59...  2019-10-10  \n",
       "2  {type:Polygon,coordinates:[[[127.0169658,37.59...  2019-10-10  "
      ]
     },
     "execution_count": 283,
     "metadata": {},
     "output_type": "execute_result"
    },
    {
     "data": {
      "text/plain": [
       "array([[2013060, 2012, '스쿨존어린이', 11290001, '서울특별시 성북구1',\n",
       "        '서울특별시 성북구 종암동(숭례초교 부근)', 2, 2, 0, 0, 1, 1, 37.59550472,\n",
       "        127.0357332,\n",
       "        '{type:Polygon,coordinates:[[[127.0381354,37.597416],[127.03773,37.5976915],[127.0372755,37.5979131],[127.036783,37.5980754],[127.0362647,37.5981744],[127.0357332,37.5982077],[127.0352018,37.5981744],[127.0346835,37.5980754],[127.034191,37.5979131],[127.0337365,37.5976915],[127.0333311,37.597416],[127.0329849,37.5970935],[127.0327064,37.5967318],[127.0325024,37.5963399],[127.032378,37.5959275],[127.0323362,37.5955047],[127.0323781,37.5950818],[127.0325025,37.5946694],[127.0327065,37.5942776],[127.0329851,37.5939159],[127.0333312,37.5935934],[127.0337366,37.5933179],[127.0341911,37.5930963],[127.0346835,37.592934],[127.0352018,37.592835],[127.0357332,37.5928017],[127.0362646,37.592835],[127.0367829,37.592934],[127.0372754,37.5930963],[127.0377299,37.5933179],[127.0381352,37.5935934],[127.0384814,37.5939159],[127.03876,37.5942776],[127.038964,37.5946694],[127.0390884,37.5950818],[127.0391303,37.5955047],[127.0390885,37.5959275],[127.038964,37.5963399],[127.0387601,37.5967318],[127.0384815,37.5970935],[127.0381354,37.597416]]]}',\n",
       "        '2019-10-10'],\n",
       "       [2013060, 2012, '스쿨존어린이', 11290002, '서울특별시 성북구2',\n",
       "        '서울특별시 성북구 동소문동7가(정덕초교 부근)', 2, 2, 0, 2, 0, 0, 37.59757144,\n",
       "        127.01456359999999,\n",
       "        '{type:Polygon,coordinates:[[[127.0169658,37.5994827],[127.0165604,37.5997582],[127.0161059,37.5999798],[127.0156134,37.6001421],[127.015095,37.6002411],[127.0145636,37.6002744],[127.0140321,37.6002411],[127.0135138,37.6001421],[127.0130213,37.5999798],[127.0125667,37.5997582],[127.0121614,37.5994827],[127.0118152,37.5991602],[127.0115367,37.5987985],[127.0113327,37.5984067],[127.0112083,37.5979942],[127.0111665,37.5975714],[127.0112083,37.5971485],[127.0113328,37.5967361],[127.0115368,37.5963443],[127.0118153,37.5959826],[127.0121615,37.5956601],[127.0125669,37.5953847],[127.0130214,37.5951631],[127.0135138,37.5950007],[127.0140322,37.5949017],[127.0145636,37.5948685],[127.015095,37.5949017],[127.0156133,37.5950007],[127.0161058,37.5951631],[127.0165603,37.5953847],[127.0169656,37.5956601],[127.0173118,37.5959826],[127.0175904,37.5963443],[127.0177944,37.5967361],[127.0179188,37.5971485],[127.0179607,37.5975714],[127.0179189,37.5979942],[127.0177945,37.5984067],[127.0175905,37.5987985],[127.017312,37.5991602],[127.0169658,37.5994827]]]}',\n",
       "        '2019-10-10']], dtype=object)"
      ]
     },
     "execution_count": 283,
     "metadata": {},
     "output_type": "execute_result"
    },
    {
     "data": {
      "text/html": [
       "<div>\n",
       "<style scoped>\n",
       "    .dataframe tbody tr th:only-of-type {\n",
       "        vertical-align: middle;\n",
       "    }\n",
       "\n",
       "    .dataframe tbody tr th {\n",
       "        vertical-align: top;\n",
       "    }\n",
       "\n",
       "    .dataframe thead th {\n",
       "        text-align: right;\n",
       "    }\n",
       "</style>\n",
       "<table border=\"1\" class=\"dataframe\">\n",
       "  <thead>\n",
       "    <tr style=\"text-align: right;\">\n",
       "      <th></th>\n",
       "      <th>사고년도</th>\n",
       "      <th>사고유형구분</th>\n",
       "      <th>위치코드</th>\n",
       "      <th>시도시군구명</th>\n",
       "      <th>사고지역위치명</th>\n",
       "      <th>발생건수</th>\n",
       "      <th>사상자수</th>\n",
       "    </tr>\n",
       "  </thead>\n",
       "  <tbody>\n",
       "    <tr>\n",
       "      <th>1</th>\n",
       "      <td>2012</td>\n",
       "      <td>스쿨존어린이</td>\n",
       "      <td>11290001</td>\n",
       "      <td>서울특별시 성북구1</td>\n",
       "      <td>서울특별시 성북구 종암동(숭례초교 부근)</td>\n",
       "      <td>2</td>\n",
       "      <td>2</td>\n",
       "    </tr>\n",
       "    <tr>\n",
       "      <th>2</th>\n",
       "      <td>2012</td>\n",
       "      <td>스쿨존어린이</td>\n",
       "      <td>11290002</td>\n",
       "      <td>서울특별시 성북구2</td>\n",
       "      <td>서울특별시 성북구 동소문동7가(정덕초교 부근)</td>\n",
       "      <td>2</td>\n",
       "      <td>2</td>\n",
       "    </tr>\n",
       "  </tbody>\n",
       "</table>\n",
       "</div>"
      ],
      "text/plain": [
       "   사고년도  사고유형구분      위치코드      시도시군구명                    사고지역위치명  발생건수  사상자수\n",
       "1  2012  스쿨존어린이  11290001  서울특별시 성북구1     서울특별시 성북구 종암동(숭례초교 부근)     2     2\n",
       "2  2012  스쿨존어린이  11290002  서울특별시 성북구2  서울특별시 성북구 동소문동7가(정덕초교 부근)     2     2"
      ]
     },
     "execution_count": 283,
     "metadata": {},
     "output_type": "execute_result"
    },
    {
     "data": {
      "text/plain": [
       "array([[2012, '스쿨존어린이', 11290001, '서울특별시 성북구1', '서울특별시 성북구 종암동(숭례초교 부근)',\n",
       "        2, 2],\n",
       "       [2012, '스쿨존어린이', 11290002, '서울특별시 성북구2',\n",
       "        '서울특별시 성북구 동소문동7가(정덕초교 부근)', 2, 2]], dtype=object)"
      ]
     },
     "execution_count": 283,
     "metadata": {},
     "output_type": "execute_result"
    }
   ],
   "source": [
    "data.shape\n",
    "data.index\n",
    "data.columns\n",
    "data[1:3].head()\n",
    "data[1:3].values\n",
    "data.iloc[1:3, 1:8]\n",
    "data.iloc[1:3, 1:8].values"
   ]
  },
  {
   "cell_type": "code",
   "execution_count": 286,
   "metadata": {
    "scrolled": true
   },
   "outputs": [
    {
     "data": {
      "text/plain": [
       "10365"
      ]
     },
     "execution_count": 286,
     "metadata": {},
     "output_type": "execute_result"
    },
    {
     "data": {
      "text/plain": [
       "RangeIndex(start=0, stop=10365, step=1)"
      ]
     },
     "execution_count": 286,
     "metadata": {},
     "output_type": "execute_result"
    },
    {
     "data": {
      "text/plain": [
       "10365"
      ]
     },
     "execution_count": 286,
     "metadata": {},
     "output_type": "execute_result"
    },
    {
     "data": {
      "text/plain": [
       "Index(['사고지역관리번호', '사고년도', '사고유형구분', '위치코드', '시도시군구명', '사고지역위치명', '발생건수',\n",
       "       '사상자수', '사망자수', '중상자수', '경상자수', '부상자수', '위도', '경도', '사고다발지역폴리곤정보',\n",
       "       '데이터기준일자'],\n",
       "      dtype='object')"
      ]
     },
     "execution_count": 286,
     "metadata": {},
     "output_type": "execute_result"
    },
    {
     "data": {
      "text/plain": [
       "16"
      ]
     },
     "execution_count": 286,
     "metadata": {},
     "output_type": "execute_result"
    }
   ],
   "source": [
    "len(data)\n",
    "data.index\n",
    "len(data.index)\n",
    "data.columns\n",
    "len(data.columns)"
   ]
  },
  {
   "cell_type": "code",
   "execution_count": 288,
   "metadata": {},
   "outputs": [
    {
     "data": {
      "text/html": [
       "<div>\n",
       "<style scoped>\n",
       "    .dataframe tbody tr th:only-of-type {\n",
       "        vertical-align: middle;\n",
       "    }\n",
       "\n",
       "    .dataframe tbody tr th {\n",
       "        vertical-align: top;\n",
       "    }\n",
       "\n",
       "    .dataframe thead th {\n",
       "        text-align: right;\n",
       "    }\n",
       "</style>\n",
       "<table border=\"1\" class=\"dataframe\">\n",
       "  <thead>\n",
       "    <tr style=\"text-align: right;\">\n",
       "      <th></th>\n",
       "      <th>사고지역관리번호</th>\n",
       "      <th>사고년도</th>\n",
       "      <th>위치코드</th>\n",
       "      <th>발생건수</th>\n",
       "      <th>사상자수</th>\n",
       "      <th>사망자수</th>\n",
       "      <th>중상자수</th>\n",
       "      <th>경상자수</th>\n",
       "      <th>부상자수</th>\n",
       "      <th>위도</th>\n",
       "      <th>경도</th>\n",
       "    </tr>\n",
       "  </thead>\n",
       "  <tbody>\n",
       "    <tr>\n",
       "      <th>count</th>\n",
       "      <td>1.036500e+04</td>\n",
       "      <td>10365.000000</td>\n",
       "      <td>1.036500e+04</td>\n",
       "      <td>10365.000000</td>\n",
       "      <td>10365.000000</td>\n",
       "      <td>10365.000000</td>\n",
       "      <td>10365.000000</td>\n",
       "      <td>10365.000000</td>\n",
       "      <td>10365.000000</td>\n",
       "      <td>10365.000000</td>\n",
       "      <td>10365.000000</td>\n",
       "    </tr>\n",
       "    <tr>\n",
       "      <th>mean</th>\n",
       "      <td>2.015809e+06</td>\n",
       "      <td>2014.731693</td>\n",
       "      <td>6.909470e+07</td>\n",
       "      <td>4.750796</td>\n",
       "      <td>5.018138</td>\n",
       "      <td>0.234250</td>\n",
       "      <td>2.389194</td>\n",
       "      <td>2.046792</td>\n",
       "      <td>0.348288</td>\n",
       "      <td>36.596723</td>\n",
       "      <td>127.540724</td>\n",
       "    </tr>\n",
       "    <tr>\n",
       "      <th>std</th>\n",
       "      <td>1.932015e+03</td>\n",
       "      <td>1.955133</td>\n",
       "      <td>1.018650e+08</td>\n",
       "      <td>2.038119</td>\n",
       "      <td>2.275687</td>\n",
       "      <td>0.508633</td>\n",
       "      <td>1.743488</td>\n",
       "      <td>1.569080</td>\n",
       "      <td>0.706061</td>\n",
       "      <td>1.057973</td>\n",
       "      <td>0.856784</td>\n",
       "    </tr>\n",
       "    <tr>\n",
       "      <th>min</th>\n",
       "      <td>2.013060e+06</td>\n",
       "      <td>2012.000000</td>\n",
       "      <td>1.111000e+07</td>\n",
       "      <td>1.000000</td>\n",
       "      <td>0.000000</td>\n",
       "      <td>0.000000</td>\n",
       "      <td>0.000000</td>\n",
       "      <td>0.000000</td>\n",
       "      <td>0.000000</td>\n",
       "      <td>33.247238</td>\n",
       "      <td>126.257418</td>\n",
       "    </tr>\n",
       "    <tr>\n",
       "      <th>25%</th>\n",
       "      <td>2.014109e+06</td>\n",
       "      <td>2013.000000</td>\n",
       "      <td>2.623000e+07</td>\n",
       "      <td>3.000000</td>\n",
       "      <td>4.000000</td>\n",
       "      <td>0.000000</td>\n",
       "      <td>1.000000</td>\n",
       "      <td>1.000000</td>\n",
       "      <td>0.000000</td>\n",
       "      <td>35.830915</td>\n",
       "      <td>126.913266</td>\n",
       "    </tr>\n",
       "    <tr>\n",
       "      <th>50%</th>\n",
       "      <td>2.016146e+06</td>\n",
       "      <td>2015.000000</td>\n",
       "      <td>4.113500e+07</td>\n",
       "      <td>4.000000</td>\n",
       "      <td>4.000000</td>\n",
       "      <td>0.000000</td>\n",
       "      <td>2.000000</td>\n",
       "      <td>2.000000</td>\n",
       "      <td>0.000000</td>\n",
       "      <td>37.150031</td>\n",
       "      <td>127.086867</td>\n",
       "    </tr>\n",
       "    <tr>\n",
       "      <th>75%</th>\n",
       "      <td>2.017050e+06</td>\n",
       "      <td>2016.000000</td>\n",
       "      <td>4.713000e+07</td>\n",
       "      <td>5.000000</td>\n",
       "      <td>6.000000</td>\n",
       "      <td>0.000000</td>\n",
       "      <td>3.000000</td>\n",
       "      <td>3.000000</td>\n",
       "      <td>1.000000</td>\n",
       "      <td>37.522943</td>\n",
       "      <td>128.531153</td>\n",
       "    </tr>\n",
       "    <tr>\n",
       "      <th>max</th>\n",
       "      <td>2.019066e+06</td>\n",
       "      <td>2018.000000</td>\n",
       "      <td>5.021040e+08</td>\n",
       "      <td>27.000000</td>\n",
       "      <td>31.000000</td>\n",
       "      <td>4.000000</td>\n",
       "      <td>22.000000</td>\n",
       "      <td>15.000000</td>\n",
       "      <td>9.000000</td>\n",
       "      <td>38.210994</td>\n",
       "      <td>129.503616</td>\n",
       "    </tr>\n",
       "  </tbody>\n",
       "</table>\n",
       "</div>"
      ],
      "text/plain": [
       "           사고지역관리번호          사고년도          위치코드          발생건수          사상자수  \\\n",
       "count  1.036500e+04  10365.000000  1.036500e+04  10365.000000  10365.000000   \n",
       "mean   2.015809e+06   2014.731693  6.909470e+07      4.750796      5.018138   \n",
       "std    1.932015e+03      1.955133  1.018650e+08      2.038119      2.275687   \n",
       "min    2.013060e+06   2012.000000  1.111000e+07      1.000000      0.000000   \n",
       "25%    2.014109e+06   2013.000000  2.623000e+07      3.000000      4.000000   \n",
       "50%    2.016146e+06   2015.000000  4.113500e+07      4.000000      4.000000   \n",
       "75%    2.017050e+06   2016.000000  4.713000e+07      5.000000      6.000000   \n",
       "max    2.019066e+06   2018.000000  5.021040e+08     27.000000     31.000000   \n",
       "\n",
       "               사망자수          중상자수          경상자수          부상자수            위도  \\\n",
       "count  10365.000000  10365.000000  10365.000000  10365.000000  10365.000000   \n",
       "mean       0.234250      2.389194      2.046792      0.348288     36.596723   \n",
       "std        0.508633      1.743488      1.569080      0.706061      1.057973   \n",
       "min        0.000000      0.000000      0.000000      0.000000     33.247238   \n",
       "25%        0.000000      1.000000      1.000000      0.000000     35.830915   \n",
       "50%        0.000000      2.000000      2.000000      0.000000     37.150031   \n",
       "75%        0.000000      3.000000      3.000000      1.000000     37.522943   \n",
       "max        4.000000     22.000000     15.000000      9.000000     38.210994   \n",
       "\n",
       "                 경도  \n",
       "count  10365.000000  \n",
       "mean     127.540724  \n",
       "std        0.856784  \n",
       "min      126.257418  \n",
       "25%      126.913266  \n",
       "50%      127.086867  \n",
       "75%      128.531153  \n",
       "max      129.503616  "
      ]
     },
     "execution_count": 288,
     "metadata": {},
     "output_type": "execute_result"
    },
    {
     "data": {
      "text/plain": [
       "사고지역관리번호         int64\n",
       "사고년도             int64\n",
       "사고유형구분          object\n",
       "위치코드             int64\n",
       "시도시군구명          object\n",
       "사고지역위치명         object\n",
       "발생건수             int64\n",
       "사상자수             int64\n",
       "사망자수             int64\n",
       "중상자수             int64\n",
       "경상자수             int64\n",
       "부상자수             int64\n",
       "위도             float64\n",
       "경도             float64\n",
       "사고다발지역폴리곤정보     object\n",
       "데이터기준일자         object\n",
       "dtype: object"
      ]
     },
     "execution_count": 288,
     "metadata": {},
     "output_type": "execute_result"
    },
    {
     "name": "stdout",
     "output_type": "stream",
     "text": [
      "<class 'pandas.core.frame.DataFrame'>\n",
      "RangeIndex: 10365 entries, 0 to 10364\n",
      "Data columns (total 16 columns):\n",
      "사고지역관리번호       10365 non-null int64\n",
      "사고년도           10365 non-null int64\n",
      "사고유형구분         10365 non-null object\n",
      "위치코드           10365 non-null int64\n",
      "시도시군구명         10365 non-null object\n",
      "사고지역위치명        10365 non-null object\n",
      "발생건수           10365 non-null int64\n",
      "사상자수           10365 non-null int64\n",
      "사망자수           10365 non-null int64\n",
      "중상자수           10365 non-null int64\n",
      "경상자수           10365 non-null int64\n",
      "부상자수           10365 non-null int64\n",
      "위도             10365 non-null float64\n",
      "경도             10365 non-null float64\n",
      "사고다발지역폴리곤정보    10365 non-null object\n",
      "데이터기준일자        10365 non-null object\n",
      "dtypes: float64(2), int64(9), object(5)\n",
      "memory usage: 1.3+ MB\n"
     ]
    }
   ],
   "source": [
    "data.describe()\n",
    "data.dtypes\n",
    "data.info()"
   ]
  },
  {
   "cell_type": "code",
   "execution_count": null,
   "metadata": {},
   "outputs": [],
   "source": []
  },
  {
   "cell_type": "code",
   "execution_count": 289,
   "metadata": {},
   "outputs": [
    {
     "data": {
      "text/plain": [
       "사고지역관리번호       10365\n",
       "사고년도           10365\n",
       "사고유형구분         10365\n",
       "위치코드           10365\n",
       "시도시군구명         10365\n",
       "사고지역위치명        10365\n",
       "발생건수           10365\n",
       "사상자수           10365\n",
       "사망자수           10365\n",
       "중상자수           10365\n",
       "경상자수           10365\n",
       "부상자수           10365\n",
       "위도             10365\n",
       "경도             10365\n",
       "사고다발지역폴리곤정보    10365\n",
       "데이터기준일자        10365\n",
       "dtype: int64"
      ]
     },
     "execution_count": 289,
     "metadata": {},
     "output_type": "execute_result"
    },
    {
     "data": {
      "text/plain": [
       "사고지역관리번호          35\n",
       "사고년도               7\n",
       "사고유형구분             5\n",
       "위치코드            2342\n",
       "시도시군구명          2014\n",
       "사고지역위치명         8568\n",
       "발생건수              25\n",
       "사상자수              28\n",
       "사망자수               5\n",
       "중상자수              21\n",
       "경상자수              13\n",
       "부상자수               9\n",
       "위도             10288\n",
       "경도             10286\n",
       "사고다발지역폴리곤정보    10322\n",
       "데이터기준일자            1\n",
       "dtype: int64"
      ]
     },
     "execution_count": 289,
     "metadata": {},
     "output_type": "execute_result"
    },
    {
     "data": {
      "text/plain": [
       "array(['스쿨존어린이', '보행어린이', '보행노인', '자전거', '무단횡단'], dtype=object)"
      ]
     },
     "execution_count": 289,
     "metadata": {},
     "output_type": "execute_result"
    }
   ],
   "source": [
    "data.count()\n",
    "data.nunique()\n",
    "data.사고유형구분.unique()"
   ]
  },
  {
   "cell_type": "code",
   "execution_count": 292,
   "metadata": {},
   "outputs": [
    {
     "data": {
      "text/html": [
       "<div>\n",
       "<style scoped>\n",
       "    .dataframe tbody tr th:only-of-type {\n",
       "        vertical-align: middle;\n",
       "    }\n",
       "\n",
       "    .dataframe tbody tr th {\n",
       "        vertical-align: top;\n",
       "    }\n",
       "\n",
       "    .dataframe thead th {\n",
       "        text-align: right;\n",
       "    }\n",
       "</style>\n",
       "<table border=\"1\" class=\"dataframe\">\n",
       "  <thead>\n",
       "    <tr style=\"text-align: right;\">\n",
       "      <th></th>\n",
       "      <th>사고지역관리번호</th>\n",
       "      <th>사고년도</th>\n",
       "      <th>위치코드</th>\n",
       "      <th>발생건수</th>\n",
       "      <th>사상자수</th>\n",
       "      <th>사망자수</th>\n",
       "      <th>중상자수</th>\n",
       "      <th>경상자수</th>\n",
       "      <th>부상자수</th>\n",
       "      <th>위도</th>\n",
       "      <th>경도</th>\n",
       "    </tr>\n",
       "  </thead>\n",
       "  <tbody>\n",
       "    <tr>\n",
       "      <th>count</th>\n",
       "      <td>1.036500e+04</td>\n",
       "      <td>10365.000000</td>\n",
       "      <td>1.036500e+04</td>\n",
       "      <td>10365.000000</td>\n",
       "      <td>10365.000000</td>\n",
       "      <td>10365.000000</td>\n",
       "      <td>10365.000000</td>\n",
       "      <td>10365.000000</td>\n",
       "      <td>10365.000000</td>\n",
       "      <td>10365.000000</td>\n",
       "      <td>10365.000000</td>\n",
       "    </tr>\n",
       "    <tr>\n",
       "      <th>mean</th>\n",
       "      <td>2.015809e+06</td>\n",
       "      <td>2014.731693</td>\n",
       "      <td>6.909470e+07</td>\n",
       "      <td>4.750796</td>\n",
       "      <td>5.018138</td>\n",
       "      <td>0.234250</td>\n",
       "      <td>2.389194</td>\n",
       "      <td>2.046792</td>\n",
       "      <td>0.348288</td>\n",
       "      <td>36.596723</td>\n",
       "      <td>127.540724</td>\n",
       "    </tr>\n",
       "    <tr>\n",
       "      <th>std</th>\n",
       "      <td>1.932015e+03</td>\n",
       "      <td>1.955133</td>\n",
       "      <td>1.018650e+08</td>\n",
       "      <td>2.038119</td>\n",
       "      <td>2.275687</td>\n",
       "      <td>0.508633</td>\n",
       "      <td>1.743488</td>\n",
       "      <td>1.569080</td>\n",
       "      <td>0.706061</td>\n",
       "      <td>1.057973</td>\n",
       "      <td>0.856784</td>\n",
       "    </tr>\n",
       "    <tr>\n",
       "      <th>min</th>\n",
       "      <td>2.013060e+06</td>\n",
       "      <td>2012.000000</td>\n",
       "      <td>1.111000e+07</td>\n",
       "      <td>1.000000</td>\n",
       "      <td>0.000000</td>\n",
       "      <td>0.000000</td>\n",
       "      <td>0.000000</td>\n",
       "      <td>0.000000</td>\n",
       "      <td>0.000000</td>\n",
       "      <td>33.247238</td>\n",
       "      <td>126.257418</td>\n",
       "    </tr>\n",
       "    <tr>\n",
       "      <th>25%</th>\n",
       "      <td>2.014109e+06</td>\n",
       "      <td>2013.000000</td>\n",
       "      <td>2.623000e+07</td>\n",
       "      <td>3.000000</td>\n",
       "      <td>4.000000</td>\n",
       "      <td>0.000000</td>\n",
       "      <td>1.000000</td>\n",
       "      <td>1.000000</td>\n",
       "      <td>0.000000</td>\n",
       "      <td>35.830915</td>\n",
       "      <td>126.913266</td>\n",
       "    </tr>\n",
       "    <tr>\n",
       "      <th>50%</th>\n",
       "      <td>2.016146e+06</td>\n",
       "      <td>2015.000000</td>\n",
       "      <td>4.113500e+07</td>\n",
       "      <td>4.000000</td>\n",
       "      <td>4.000000</td>\n",
       "      <td>0.000000</td>\n",
       "      <td>2.000000</td>\n",
       "      <td>2.000000</td>\n",
       "      <td>0.000000</td>\n",
       "      <td>37.150031</td>\n",
       "      <td>127.086867</td>\n",
       "    </tr>\n",
       "    <tr>\n",
       "      <th>75%</th>\n",
       "      <td>2.017050e+06</td>\n",
       "      <td>2016.000000</td>\n",
       "      <td>4.713000e+07</td>\n",
       "      <td>5.000000</td>\n",
       "      <td>6.000000</td>\n",
       "      <td>0.000000</td>\n",
       "      <td>3.000000</td>\n",
       "      <td>3.000000</td>\n",
       "      <td>1.000000</td>\n",
       "      <td>37.522943</td>\n",
       "      <td>128.531153</td>\n",
       "    </tr>\n",
       "    <tr>\n",
       "      <th>max</th>\n",
       "      <td>2.019066e+06</td>\n",
       "      <td>2018.000000</td>\n",
       "      <td>5.021040e+08</td>\n",
       "      <td>27.000000</td>\n",
       "      <td>31.000000</td>\n",
       "      <td>4.000000</td>\n",
       "      <td>22.000000</td>\n",
       "      <td>15.000000</td>\n",
       "      <td>9.000000</td>\n",
       "      <td>38.210994</td>\n",
       "      <td>129.503616</td>\n",
       "    </tr>\n",
       "  </tbody>\n",
       "</table>\n",
       "</div>"
      ],
      "text/plain": [
       "           사고지역관리번호          사고년도          위치코드          발생건수          사상자수  \\\n",
       "count  1.036500e+04  10365.000000  1.036500e+04  10365.000000  10365.000000   \n",
       "mean   2.015809e+06   2014.731693  6.909470e+07      4.750796      5.018138   \n",
       "std    1.932015e+03      1.955133  1.018650e+08      2.038119      2.275687   \n",
       "min    2.013060e+06   2012.000000  1.111000e+07      1.000000      0.000000   \n",
       "25%    2.014109e+06   2013.000000  2.623000e+07      3.000000      4.000000   \n",
       "50%    2.016146e+06   2015.000000  4.113500e+07      4.000000      4.000000   \n",
       "75%    2.017050e+06   2016.000000  4.713000e+07      5.000000      6.000000   \n",
       "max    2.019066e+06   2018.000000  5.021040e+08     27.000000     31.000000   \n",
       "\n",
       "               사망자수          중상자수          경상자수          부상자수            위도  \\\n",
       "count  10365.000000  10365.000000  10365.000000  10365.000000  10365.000000   \n",
       "mean       0.234250      2.389194      2.046792      0.348288     36.596723   \n",
       "std        0.508633      1.743488      1.569080      0.706061      1.057973   \n",
       "min        0.000000      0.000000      0.000000      0.000000     33.247238   \n",
       "25%        0.000000      1.000000      1.000000      0.000000     35.830915   \n",
       "50%        0.000000      2.000000      2.000000      0.000000     37.150031   \n",
       "75%        0.000000      3.000000      3.000000      1.000000     37.522943   \n",
       "max        4.000000     22.000000     15.000000      9.000000     38.210994   \n",
       "\n",
       "                 경도  \n",
       "count  10365.000000  \n",
       "mean     127.540724  \n",
       "std        0.856784  \n",
       "min      126.257418  \n",
       "25%      126.913266  \n",
       "50%      127.086867  \n",
       "75%      128.531153  \n",
       "max      129.503616  "
      ]
     },
     "execution_count": 292,
     "metadata": {},
     "output_type": "execute_result"
    },
    {
     "data": {
      "text/plain": [
       "Index(['count', 'mean', 'std', 'min', '25%', '50%', '75%', 'max'], dtype='object')"
      ]
     },
     "execution_count": 292,
     "metadata": {},
     "output_type": "execute_result"
    },
    {
     "data": {
      "text/plain": [
       "Index(['사고지역관리번호', '사고년도', '위치코드', '발생건수', '사상자수', '사망자수', '중상자수', '경상자수',\n",
       "       '부상자수', '위도', '경도'],\n",
       "      dtype='object')"
      ]
     },
     "execution_count": 292,
     "metadata": {},
     "output_type": "execute_result"
    }
   ],
   "source": [
    "data.describe()\n",
    "data.describe().index\n",
    "data.describe().columns"
   ]
  },
  {
   "cell_type": "code",
   "execution_count": 294,
   "metadata": {},
   "outputs": [
    {
     "data": {
      "text/plain": [
       "3.0"
      ]
     },
     "execution_count": 294,
     "metadata": {},
     "output_type": "execute_result"
    }
   ],
   "source": [
    "data.describe().loc['75%', '중상자수']"
   ]
  },
  {
   "cell_type": "code",
   "execution_count": 298,
   "metadata": {},
   "outputs": [
    {
     "data": {
      "text/html": [
       "<div>\n",
       "<style scoped>\n",
       "    .dataframe tbody tr th:only-of-type {\n",
       "        vertical-align: middle;\n",
       "    }\n",
       "\n",
       "    .dataframe tbody tr th {\n",
       "        vertical-align: top;\n",
       "    }\n",
       "\n",
       "    .dataframe thead th {\n",
       "        text-align: right;\n",
       "    }\n",
       "</style>\n",
       "<table border=\"1\" class=\"dataframe\">\n",
       "  <thead>\n",
       "    <tr style=\"text-align: right;\">\n",
       "      <th></th>\n",
       "      <th>사고지역관리번호</th>\n",
       "      <th>사고년도</th>\n",
       "      <th>사고유형구분</th>\n",
       "      <th>위치코드</th>\n",
       "      <th>시도시군구명</th>\n",
       "      <th>사고지역위치명</th>\n",
       "      <th>발생건수</th>\n",
       "      <th>사상자수</th>\n",
       "      <th>사망자수</th>\n",
       "      <th>중상자수</th>\n",
       "      <th>경상자수</th>\n",
       "      <th>부상자수</th>\n",
       "      <th>위도</th>\n",
       "      <th>경도</th>\n",
       "      <th>사고다발지역폴리곤정보</th>\n",
       "      <th>데이터기준일자</th>\n",
       "    </tr>\n",
       "  </thead>\n",
       "  <tbody>\n",
       "    <tr>\n",
       "      <th>0</th>\n",
       "      <td>False</td>\n",
       "      <td>False</td>\n",
       "      <td>False</td>\n",
       "      <td>False</td>\n",
       "      <td>False</td>\n",
       "      <td>False</td>\n",
       "      <td>False</td>\n",
       "      <td>False</td>\n",
       "      <td>False</td>\n",
       "      <td>False</td>\n",
       "      <td>False</td>\n",
       "      <td>False</td>\n",
       "      <td>False</td>\n",
       "      <td>False</td>\n",
       "      <td>False</td>\n",
       "      <td>False</td>\n",
       "    </tr>\n",
       "    <tr>\n",
       "      <th>1</th>\n",
       "      <td>False</td>\n",
       "      <td>False</td>\n",
       "      <td>False</td>\n",
       "      <td>False</td>\n",
       "      <td>False</td>\n",
       "      <td>False</td>\n",
       "      <td>False</td>\n",
       "      <td>False</td>\n",
       "      <td>False</td>\n",
       "      <td>False</td>\n",
       "      <td>False</td>\n",
       "      <td>False</td>\n",
       "      <td>False</td>\n",
       "      <td>False</td>\n",
       "      <td>False</td>\n",
       "      <td>False</td>\n",
       "    </tr>\n",
       "    <tr>\n",
       "      <th>2</th>\n",
       "      <td>False</td>\n",
       "      <td>False</td>\n",
       "      <td>False</td>\n",
       "      <td>False</td>\n",
       "      <td>False</td>\n",
       "      <td>False</td>\n",
       "      <td>False</td>\n",
       "      <td>False</td>\n",
       "      <td>False</td>\n",
       "      <td>False</td>\n",
       "      <td>False</td>\n",
       "      <td>False</td>\n",
       "      <td>False</td>\n",
       "      <td>False</td>\n",
       "      <td>False</td>\n",
       "      <td>False</td>\n",
       "    </tr>\n",
       "    <tr>\n",
       "      <th>3</th>\n",
       "      <td>False</td>\n",
       "      <td>False</td>\n",
       "      <td>False</td>\n",
       "      <td>False</td>\n",
       "      <td>False</td>\n",
       "      <td>False</td>\n",
       "      <td>False</td>\n",
       "      <td>False</td>\n",
       "      <td>False</td>\n",
       "      <td>False</td>\n",
       "      <td>False</td>\n",
       "      <td>False</td>\n",
       "      <td>False</td>\n",
       "      <td>False</td>\n",
       "      <td>False</td>\n",
       "      <td>False</td>\n",
       "    </tr>\n",
       "    <tr>\n",
       "      <th>4</th>\n",
       "      <td>False</td>\n",
       "      <td>False</td>\n",
       "      <td>False</td>\n",
       "      <td>False</td>\n",
       "      <td>False</td>\n",
       "      <td>False</td>\n",
       "      <td>False</td>\n",
       "      <td>False</td>\n",
       "      <td>False</td>\n",
       "      <td>False</td>\n",
       "      <td>False</td>\n",
       "      <td>False</td>\n",
       "      <td>False</td>\n",
       "      <td>False</td>\n",
       "      <td>False</td>\n",
       "      <td>False</td>\n",
       "    </tr>\n",
       "  </tbody>\n",
       "</table>\n",
       "</div>"
      ],
      "text/plain": [
       "   사고지역관리번호   사고년도  사고유형구분   위치코드  시도시군구명  사고지역위치명   발생건수   사상자수   사망자수  \\\n",
       "0     False  False   False  False   False    False  False  False  False   \n",
       "1     False  False   False  False   False    False  False  False  False   \n",
       "2     False  False   False  False   False    False  False  False  False   \n",
       "3     False  False   False  False   False    False  False  False  False   \n",
       "4     False  False   False  False   False    False  False  False  False   \n",
       "\n",
       "    중상자수   경상자수   부상자수     위도     경도  사고다발지역폴리곤정보  데이터기준일자  \n",
       "0  False  False  False  False  False        False    False  \n",
       "1  False  False  False  False  False        False    False  \n",
       "2  False  False  False  False  False        False    False  \n",
       "3  False  False  False  False  False        False    False  \n",
       "4  False  False  False  False  False        False    False  "
      ]
     },
     "execution_count": 298,
     "metadata": {},
     "output_type": "execute_result"
    }
   ],
   "source": [
    "data.isnull().head()"
   ]
  },
  {
   "cell_type": "code",
   "execution_count": 299,
   "metadata": {},
   "outputs": [
    {
     "data": {
      "text/html": [
       "<div>\n",
       "<style scoped>\n",
       "    .dataframe tbody tr th:only-of-type {\n",
       "        vertical-align: middle;\n",
       "    }\n",
       "\n",
       "    .dataframe tbody tr th {\n",
       "        vertical-align: top;\n",
       "    }\n",
       "\n",
       "    .dataframe thead th {\n",
       "        text-align: right;\n",
       "    }\n",
       "</style>\n",
       "<table border=\"1\" class=\"dataframe\">\n",
       "  <thead>\n",
       "    <tr style=\"text-align: right;\">\n",
       "      <th></th>\n",
       "      <th>사고지역관리번호</th>\n",
       "      <th>사고년도</th>\n",
       "      <th>사고유형구분</th>\n",
       "      <th>위치코드</th>\n",
       "      <th>시도시군구명</th>\n",
       "      <th>사고지역위치명</th>\n",
       "      <th>발생건수</th>\n",
       "      <th>사상자수</th>\n",
       "      <th>사망자수</th>\n",
       "      <th>중상자수</th>\n",
       "      <th>경상자수</th>\n",
       "      <th>부상자수</th>\n",
       "      <th>위도</th>\n",
       "      <th>경도</th>\n",
       "      <th>사고다발지역폴리곤정보</th>\n",
       "      <th>데이터기준일자</th>\n",
       "    </tr>\n",
       "  </thead>\n",
       "  <tbody>\n",
       "    <tr>\n",
       "      <th>0</th>\n",
       "      <td>True</td>\n",
       "      <td>True</td>\n",
       "      <td>True</td>\n",
       "      <td>True</td>\n",
       "      <td>True</td>\n",
       "      <td>True</td>\n",
       "      <td>True</td>\n",
       "      <td>True</td>\n",
       "      <td>True</td>\n",
       "      <td>True</td>\n",
       "      <td>True</td>\n",
       "      <td>True</td>\n",
       "      <td>True</td>\n",
       "      <td>True</td>\n",
       "      <td>True</td>\n",
       "      <td>True</td>\n",
       "    </tr>\n",
       "    <tr>\n",
       "      <th>1</th>\n",
       "      <td>True</td>\n",
       "      <td>True</td>\n",
       "      <td>True</td>\n",
       "      <td>True</td>\n",
       "      <td>True</td>\n",
       "      <td>True</td>\n",
       "      <td>True</td>\n",
       "      <td>True</td>\n",
       "      <td>True</td>\n",
       "      <td>True</td>\n",
       "      <td>True</td>\n",
       "      <td>True</td>\n",
       "      <td>True</td>\n",
       "      <td>True</td>\n",
       "      <td>True</td>\n",
       "      <td>True</td>\n",
       "    </tr>\n",
       "    <tr>\n",
       "      <th>2</th>\n",
       "      <td>True</td>\n",
       "      <td>True</td>\n",
       "      <td>True</td>\n",
       "      <td>True</td>\n",
       "      <td>True</td>\n",
       "      <td>True</td>\n",
       "      <td>True</td>\n",
       "      <td>True</td>\n",
       "      <td>True</td>\n",
       "      <td>True</td>\n",
       "      <td>True</td>\n",
       "      <td>True</td>\n",
       "      <td>True</td>\n",
       "      <td>True</td>\n",
       "      <td>True</td>\n",
       "      <td>True</td>\n",
       "    </tr>\n",
       "    <tr>\n",
       "      <th>3</th>\n",
       "      <td>True</td>\n",
       "      <td>True</td>\n",
       "      <td>True</td>\n",
       "      <td>True</td>\n",
       "      <td>True</td>\n",
       "      <td>True</td>\n",
       "      <td>True</td>\n",
       "      <td>True</td>\n",
       "      <td>True</td>\n",
       "      <td>True</td>\n",
       "      <td>True</td>\n",
       "      <td>True</td>\n",
       "      <td>True</td>\n",
       "      <td>True</td>\n",
       "      <td>True</td>\n",
       "      <td>True</td>\n",
       "    </tr>\n",
       "    <tr>\n",
       "      <th>4</th>\n",
       "      <td>True</td>\n",
       "      <td>True</td>\n",
       "      <td>True</td>\n",
       "      <td>True</td>\n",
       "      <td>True</td>\n",
       "      <td>True</td>\n",
       "      <td>True</td>\n",
       "      <td>True</td>\n",
       "      <td>True</td>\n",
       "      <td>True</td>\n",
       "      <td>True</td>\n",
       "      <td>True</td>\n",
       "      <td>True</td>\n",
       "      <td>True</td>\n",
       "      <td>True</td>\n",
       "      <td>True</td>\n",
       "    </tr>\n",
       "  </tbody>\n",
       "</table>\n",
       "</div>"
      ],
      "text/plain": [
       "   사고지역관리번호  사고년도  사고유형구분  위치코드  시도시군구명  사고지역위치명  발생건수  사상자수  사망자수  중상자수  \\\n",
       "0      True  True    True  True    True     True  True  True  True  True   \n",
       "1      True  True    True  True    True     True  True  True  True  True   \n",
       "2      True  True    True  True    True     True  True  True  True  True   \n",
       "3      True  True    True  True    True     True  True  True  True  True   \n",
       "4      True  True    True  True    True     True  True  True  True  True   \n",
       "\n",
       "   경상자수  부상자수    위도    경도  사고다발지역폴리곤정보  데이터기준일자  \n",
       "0  True  True  True  True         True     True  \n",
       "1  True  True  True  True         True     True  \n",
       "2  True  True  True  True         True     True  \n",
       "3  True  True  True  True         True     True  \n",
       "4  True  True  True  True         True     True  "
      ]
     },
     "execution_count": 299,
     "metadata": {},
     "output_type": "execute_result"
    }
   ],
   "source": [
    "data.notnull().head()"
   ]
  },
  {
   "cell_type": "code",
   "execution_count": 301,
   "metadata": {
    "scrolled": false
   },
   "outputs": [
    {
     "data": {
      "text/plain": [
       "사고지역관리번호       0\n",
       "사고년도           0\n",
       "사고유형구분         0\n",
       "위치코드           0\n",
       "시도시군구명         0\n",
       "사고지역위치명        0\n",
       "발생건수           0\n",
       "사상자수           0\n",
       "사망자수           0\n",
       "중상자수           0\n",
       "경상자수           0\n",
       "부상자수           0\n",
       "위도             0\n",
       "경도             0\n",
       "사고다발지역폴리곤정보    0\n",
       "데이터기준일자        0\n",
       "dtype: int64"
      ]
     },
     "execution_count": 301,
     "metadata": {},
     "output_type": "execute_result"
    },
    {
     "data": {
      "text/plain": [
       "사고지역관리번호       10365\n",
       "사고년도           10365\n",
       "사고유형구분         10365\n",
       "위치코드           10365\n",
       "시도시군구명         10365\n",
       "사고지역위치명        10365\n",
       "발생건수           10365\n",
       "사상자수           10365\n",
       "사망자수           10365\n",
       "중상자수           10365\n",
       "경상자수           10365\n",
       "부상자수           10365\n",
       "위도             10365\n",
       "경도             10365\n",
       "사고다발지역폴리곤정보    10365\n",
       "데이터기준일자        10365\n",
       "dtype: int64"
      ]
     },
     "execution_count": 301,
     "metadata": {},
     "output_type": "execute_result"
    },
    {
     "data": {
      "text/plain": [
       "0"
      ]
     },
     "execution_count": 301,
     "metadata": {},
     "output_type": "execute_result"
    },
    {
     "data": {
      "text/plain": [
       "165840"
      ]
     },
     "execution_count": 301,
     "metadata": {},
     "output_type": "execute_result"
    }
   ],
   "source": [
    "data.isnull().sum()\n",
    "data.notnull().sum()\n",
    "data.isnull().sum().sum()\n",
    "data.notnull().sum().sum()"
   ]
  },
  {
   "cell_type": "code",
   "execution_count": 303,
   "metadata": {},
   "outputs": [
    {
     "data": {
      "text/plain": [
       "(10365, 16)"
      ]
     },
     "execution_count": 303,
     "metadata": {},
     "output_type": "execute_result"
    }
   ],
   "source": [
    "data.shape"
   ]
  },
  {
   "cell_type": "code",
   "execution_count": 302,
   "metadata": {},
   "outputs": [
    {
     "data": {
      "text/plain": [
       "사고지역관리번호                                             20893859204\n",
       "사고년도                                                    20882694\n",
       "사고유형구분         스쿨존어린이스쿨존어린이스쿨존어린이스쿨존어린이스쿨존어린이스쿨존어린이스쿨존어린이스쿨존어...\n",
       "위치코드                                                716166558135\n",
       "시도시군구명         서울특별시 종로구1서울특별시 성북구1서울특별시 성북구2서울특별시 성북구3서울특별시 ...\n",
       "사고지역위치명        서울특별시 종로구 혜화동(혜화초교 부근)서울특별시 성북구 종암동(숭례초교 부근)서울...\n",
       "발생건수                                                       49242\n",
       "사상자수                                                       52013\n",
       "사망자수                                                        2428\n",
       "중상자수                                                       24764\n",
       "경상자수                                                       21215\n",
       "부상자수                                                        3610\n",
       "위도                                                        379325\n",
       "경도                                                   1.32196e+06\n",
       "사고다발지역폴리곤정보    {type:Polygon,coordinates:[[[127.002009,37.590...\n",
       "데이터기준일자        2019-10-102019-10-102019-10-102019-10-102019-1...\n",
       "dtype: object"
      ]
     },
     "execution_count": 302,
     "metadata": {},
     "output_type": "execute_result"
    }
   ],
   "source": [
    "data.sum()"
   ]
  },
  {
   "cell_type": "code",
   "execution_count": 304,
   "metadata": {},
   "outputs": [
    {
     "data": {
      "text/plain": [
       "사고지역관리번호       10365\n",
       "사고년도           10365\n",
       "사고유형구분         10365\n",
       "위치코드           10365\n",
       "시도시군구명         10365\n",
       "사고지역위치명        10365\n",
       "발생건수           10365\n",
       "사상자수           10365\n",
       "사망자수           10365\n",
       "중상자수           10365\n",
       "경상자수           10365\n",
       "부상자수           10365\n",
       "위도             10365\n",
       "경도             10365\n",
       "사고다발지역폴리곤정보    10365\n",
       "데이터기준일자        10365\n",
       "dtype: int64"
      ]
     },
     "execution_count": 304,
     "metadata": {},
     "output_type": "execute_result"
    }
   ],
   "source": [
    "data.count()"
   ]
  },
  {
   "cell_type": "code",
   "execution_count": 305,
   "metadata": {},
   "outputs": [
    {
     "data": {
      "text/plain": [
       "사고지역관리번호    2.016146e+06\n",
       "사고년도        2.015000e+03\n",
       "위치코드        4.113500e+07\n",
       "발생건수        4.000000e+00\n",
       "사상자수        4.000000e+00\n",
       "사망자수        0.000000e+00\n",
       "중상자수        2.000000e+00\n",
       "경상자수        2.000000e+00\n",
       "부상자수        0.000000e+00\n",
       "위도          3.715003e+01\n",
       "경도          1.270869e+02\n",
       "dtype: float64"
      ]
     },
     "execution_count": 305,
     "metadata": {},
     "output_type": "execute_result"
    }
   ],
   "source": [
    "data.median()"
   ]
  },
  {
   "cell_type": "code",
   "execution_count": 319,
   "metadata": {},
   "outputs": [
    {
     "data": {
      "text/plain": [
       "array([0.1, 0.2, 0.3, 0.4, 0.5, 0.6, 0.7, 0.8, 0.9])"
      ]
     },
     "execution_count": 319,
     "metadata": {},
     "output_type": "execute_result"
    }
   ],
   "source": [
    "np.arange(0.1,1.0, 0.10)"
   ]
  },
  {
   "cell_type": "code",
   "execution_count": 320,
   "metadata": {},
   "outputs": [
    {
     "data": {
      "text/html": [
       "<div>\n",
       "<style scoped>\n",
       "    .dataframe tbody tr th:only-of-type {\n",
       "        vertical-align: middle;\n",
       "    }\n",
       "\n",
       "    .dataframe tbody tr th {\n",
       "        vertical-align: top;\n",
       "    }\n",
       "\n",
       "    .dataframe thead th {\n",
       "        text-align: right;\n",
       "    }\n",
       "</style>\n",
       "<table border=\"1\" class=\"dataframe\">\n",
       "  <thead>\n",
       "    <tr style=\"text-align: right;\">\n",
       "      <th></th>\n",
       "      <th>사고지역관리번호</th>\n",
       "      <th>사고년도</th>\n",
       "      <th>위치코드</th>\n",
       "      <th>발생건수</th>\n",
       "      <th>사상자수</th>\n",
       "      <th>사망자수</th>\n",
       "      <th>중상자수</th>\n",
       "      <th>경상자수</th>\n",
       "      <th>부상자수</th>\n",
       "      <th>위도</th>\n",
       "      <th>경도</th>\n",
       "    </tr>\n",
       "  </thead>\n",
       "  <tbody>\n",
       "    <tr>\n",
       "      <th>0.1</th>\n",
       "      <td>2013099.0</td>\n",
       "      <td>2012.0</td>\n",
       "      <td>11350007.0</td>\n",
       "      <td>3.0</td>\n",
       "      <td>3.0</td>\n",
       "      <td>0.0</td>\n",
       "      <td>1.0</td>\n",
       "      <td>0.0</td>\n",
       "      <td>0.0</td>\n",
       "      <td>35.151659</td>\n",
       "      <td>126.771503</td>\n",
       "    </tr>\n",
       "    <tr>\n",
       "      <th>0.2</th>\n",
       "      <td>2014105.0</td>\n",
       "      <td>2013.0</td>\n",
       "      <td>11680001.0</td>\n",
       "      <td>3.0</td>\n",
       "      <td>3.0</td>\n",
       "      <td>0.0</td>\n",
       "      <td>1.0</td>\n",
       "      <td>1.0</td>\n",
       "      <td>0.0</td>\n",
       "      <td>35.493661</td>\n",
       "      <td>126.887395</td>\n",
       "    </tr>\n",
       "    <tr>\n",
       "      <th>0.3</th>\n",
       "      <td>2014117.0</td>\n",
       "      <td>2013.0</td>\n",
       "      <td>27110003.0</td>\n",
       "      <td>4.0</td>\n",
       "      <td>4.0</td>\n",
       "      <td>0.0</td>\n",
       "      <td>1.0</td>\n",
       "      <td>1.0</td>\n",
       "      <td>0.0</td>\n",
       "      <td>35.865975</td>\n",
       "      <td>126.942070</td>\n",
       "    </tr>\n",
       "    <tr>\n",
       "      <th>0.4</th>\n",
       "      <td>2015048.0</td>\n",
       "      <td>2014.0</td>\n",
       "      <td>28237004.0</td>\n",
       "      <td>4.0</td>\n",
       "      <td>4.0</td>\n",
       "      <td>0.0</td>\n",
       "      <td>2.0</td>\n",
       "      <td>1.0</td>\n",
       "      <td>0.0</td>\n",
       "      <td>36.324585</td>\n",
       "      <td>127.033793</td>\n",
       "    </tr>\n",
       "    <tr>\n",
       "      <th>0.5</th>\n",
       "      <td>2016146.0</td>\n",
       "      <td>2015.0</td>\n",
       "      <td>41135001.0</td>\n",
       "      <td>4.0</td>\n",
       "      <td>4.0</td>\n",
       "      <td>0.0</td>\n",
       "      <td>2.0</td>\n",
       "      <td>2.0</td>\n",
       "      <td>0.0</td>\n",
       "      <td>37.150031</td>\n",
       "      <td>127.086867</td>\n",
       "    </tr>\n",
       "    <tr>\n",
       "      <th>0.6</th>\n",
       "      <td>2016147.0</td>\n",
       "      <td>2015.0</td>\n",
       "      <td>41480003.0</td>\n",
       "      <td>5.0</td>\n",
       "      <td>5.0</td>\n",
       "      <td>0.0</td>\n",
       "      <td>3.0</td>\n",
       "      <td>2.0</td>\n",
       "      <td>0.0</td>\n",
       "      <td>37.443996</td>\n",
       "      <td>127.249809</td>\n",
       "    </tr>\n",
       "    <tr>\n",
       "      <th>0.7</th>\n",
       "      <td>2017029.0</td>\n",
       "      <td>2016.0</td>\n",
       "      <td>45140002.0</td>\n",
       "      <td>5.0</td>\n",
       "      <td>5.0</td>\n",
       "      <td>0.0</td>\n",
       "      <td>3.0</td>\n",
       "      <td>3.0</td>\n",
       "      <td>0.0</td>\n",
       "      <td>37.501537</td>\n",
       "      <td>127.942147</td>\n",
       "    </tr>\n",
       "    <tr>\n",
       "      <th>0.8</th>\n",
       "      <td>2018029.0</td>\n",
       "      <td>2017.0</td>\n",
       "      <td>48240003.0</td>\n",
       "      <td>6.0</td>\n",
       "      <td>6.0</td>\n",
       "      <td>0.0</td>\n",
       "      <td>3.0</td>\n",
       "      <td>3.0</td>\n",
       "      <td>1.0</td>\n",
       "      <td>37.545095</td>\n",
       "      <td>128.582920</td>\n",
       "    </tr>\n",
       "    <tr>\n",
       "      <th>0.9</th>\n",
       "      <td>2019035.0</td>\n",
       "      <td>2018.0</td>\n",
       "      <td>210310003.0</td>\n",
       "      <td>7.0</td>\n",
       "      <td>8.0</td>\n",
       "      <td>1.0</td>\n",
       "      <td>4.0</td>\n",
       "      <td>4.0</td>\n",
       "      <td>1.0</td>\n",
       "      <td>37.604412</td>\n",
       "      <td>129.022467</td>\n",
       "    </tr>\n",
       "  </tbody>\n",
       "</table>\n",
       "</div>"
      ],
      "text/plain": [
       "      사고지역관리번호    사고년도         위치코드  발생건수  사상자수  사망자수  중상자수  경상자수  부상자수  \\\n",
       "0.1  2013099.0  2012.0   11350007.0   3.0   3.0   0.0   1.0   0.0   0.0   \n",
       "0.2  2014105.0  2013.0   11680001.0   3.0   3.0   0.0   1.0   1.0   0.0   \n",
       "0.3  2014117.0  2013.0   27110003.0   4.0   4.0   0.0   1.0   1.0   0.0   \n",
       "0.4  2015048.0  2014.0   28237004.0   4.0   4.0   0.0   2.0   1.0   0.0   \n",
       "0.5  2016146.0  2015.0   41135001.0   4.0   4.0   0.0   2.0   2.0   0.0   \n",
       "0.6  2016147.0  2015.0   41480003.0   5.0   5.0   0.0   3.0   2.0   0.0   \n",
       "0.7  2017029.0  2016.0   45140002.0   5.0   5.0   0.0   3.0   3.0   0.0   \n",
       "0.8  2018029.0  2017.0   48240003.0   6.0   6.0   0.0   3.0   3.0   1.0   \n",
       "0.9  2019035.0  2018.0  210310003.0   7.0   8.0   1.0   4.0   4.0   1.0   \n",
       "\n",
       "            위도          경도  \n",
       "0.1  35.151659  126.771503  \n",
       "0.2  35.493661  126.887395  \n",
       "0.3  35.865975  126.942070  \n",
       "0.4  36.324585  127.033793  \n",
       "0.5  37.150031  127.086867  \n",
       "0.6  37.443996  127.249809  \n",
       "0.7  37.501537  127.942147  \n",
       "0.8  37.545095  128.582920  \n",
       "0.9  37.604412  129.022467  "
      ]
     },
     "execution_count": 320,
     "metadata": {},
     "output_type": "execute_result"
    }
   ],
   "source": [
    "data.quantile(np.arange(0.1,1.0, 0.10).tolist())"
   ]
  },
  {
   "cell_type": "code",
   "execution_count": 321,
   "metadata": {},
   "outputs": [
    {
     "data": {
      "text/html": [
       "<div>\n",
       "<style scoped>\n",
       "    .dataframe tbody tr th:only-of-type {\n",
       "        vertical-align: middle;\n",
       "    }\n",
       "\n",
       "    .dataframe tbody tr th {\n",
       "        vertical-align: top;\n",
       "    }\n",
       "\n",
       "    .dataframe thead th {\n",
       "        text-align: right;\n",
       "    }\n",
       "</style>\n",
       "<table border=\"1\" class=\"dataframe\">\n",
       "  <thead>\n",
       "    <tr style=\"text-align: right;\">\n",
       "      <th></th>\n",
       "      <th>사고지역관리번호</th>\n",
       "      <th>사고년도</th>\n",
       "      <th>위치코드</th>\n",
       "      <th>발생건수</th>\n",
       "      <th>사상자수</th>\n",
       "      <th>사망자수</th>\n",
       "      <th>중상자수</th>\n",
       "      <th>경상자수</th>\n",
       "      <th>부상자수</th>\n",
       "      <th>위도</th>\n",
       "      <th>경도</th>\n",
       "    </tr>\n",
       "  </thead>\n",
       "  <tbody>\n",
       "    <tr>\n",
       "      <th>count</th>\n",
       "      <td>1.036500e+04</td>\n",
       "      <td>10365.000000</td>\n",
       "      <td>1.036500e+04</td>\n",
       "      <td>10365.000000</td>\n",
       "      <td>10365.000000</td>\n",
       "      <td>10365.000000</td>\n",
       "      <td>10365.000000</td>\n",
       "      <td>10365.000000</td>\n",
       "      <td>10365.000000</td>\n",
       "      <td>10365.000000</td>\n",
       "      <td>10365.000000</td>\n",
       "    </tr>\n",
       "    <tr>\n",
       "      <th>mean</th>\n",
       "      <td>2.015809e+06</td>\n",
       "      <td>2014.731693</td>\n",
       "      <td>6.909470e+07</td>\n",
       "      <td>4.750796</td>\n",
       "      <td>5.018138</td>\n",
       "      <td>0.234250</td>\n",
       "      <td>2.389194</td>\n",
       "      <td>2.046792</td>\n",
       "      <td>0.348288</td>\n",
       "      <td>36.596723</td>\n",
       "      <td>127.540724</td>\n",
       "    </tr>\n",
       "    <tr>\n",
       "      <th>std</th>\n",
       "      <td>1.932015e+03</td>\n",
       "      <td>1.955133</td>\n",
       "      <td>1.018650e+08</td>\n",
       "      <td>2.038119</td>\n",
       "      <td>2.275687</td>\n",
       "      <td>0.508633</td>\n",
       "      <td>1.743488</td>\n",
       "      <td>1.569080</td>\n",
       "      <td>0.706061</td>\n",
       "      <td>1.057973</td>\n",
       "      <td>0.856784</td>\n",
       "    </tr>\n",
       "    <tr>\n",
       "      <th>min</th>\n",
       "      <td>2.013060e+06</td>\n",
       "      <td>2012.000000</td>\n",
       "      <td>1.111000e+07</td>\n",
       "      <td>1.000000</td>\n",
       "      <td>0.000000</td>\n",
       "      <td>0.000000</td>\n",
       "      <td>0.000000</td>\n",
       "      <td>0.000000</td>\n",
       "      <td>0.000000</td>\n",
       "      <td>33.247238</td>\n",
       "      <td>126.257418</td>\n",
       "    </tr>\n",
       "    <tr>\n",
       "      <th>25%</th>\n",
       "      <td>2.014109e+06</td>\n",
       "      <td>2013.000000</td>\n",
       "      <td>2.623000e+07</td>\n",
       "      <td>3.000000</td>\n",
       "      <td>4.000000</td>\n",
       "      <td>0.000000</td>\n",
       "      <td>1.000000</td>\n",
       "      <td>1.000000</td>\n",
       "      <td>0.000000</td>\n",
       "      <td>35.830915</td>\n",
       "      <td>126.913266</td>\n",
       "    </tr>\n",
       "    <tr>\n",
       "      <th>50%</th>\n",
       "      <td>2.016146e+06</td>\n",
       "      <td>2015.000000</td>\n",
       "      <td>4.113500e+07</td>\n",
       "      <td>4.000000</td>\n",
       "      <td>4.000000</td>\n",
       "      <td>0.000000</td>\n",
       "      <td>2.000000</td>\n",
       "      <td>2.000000</td>\n",
       "      <td>0.000000</td>\n",
       "      <td>37.150031</td>\n",
       "      <td>127.086867</td>\n",
       "    </tr>\n",
       "    <tr>\n",
       "      <th>75%</th>\n",
       "      <td>2.017050e+06</td>\n",
       "      <td>2016.000000</td>\n",
       "      <td>4.713000e+07</td>\n",
       "      <td>5.000000</td>\n",
       "      <td>6.000000</td>\n",
       "      <td>0.000000</td>\n",
       "      <td>3.000000</td>\n",
       "      <td>3.000000</td>\n",
       "      <td>1.000000</td>\n",
       "      <td>37.522943</td>\n",
       "      <td>128.531153</td>\n",
       "    </tr>\n",
       "    <tr>\n",
       "      <th>max</th>\n",
       "      <td>2.019066e+06</td>\n",
       "      <td>2018.000000</td>\n",
       "      <td>5.021040e+08</td>\n",
       "      <td>27.000000</td>\n",
       "      <td>31.000000</td>\n",
       "      <td>4.000000</td>\n",
       "      <td>22.000000</td>\n",
       "      <td>15.000000</td>\n",
       "      <td>9.000000</td>\n",
       "      <td>38.210994</td>\n",
       "      <td>129.503616</td>\n",
       "    </tr>\n",
       "  </tbody>\n",
       "</table>\n",
       "</div>"
      ],
      "text/plain": [
       "           사고지역관리번호          사고년도          위치코드          발생건수          사상자수  \\\n",
       "count  1.036500e+04  10365.000000  1.036500e+04  10365.000000  10365.000000   \n",
       "mean   2.015809e+06   2014.731693  6.909470e+07      4.750796      5.018138   \n",
       "std    1.932015e+03      1.955133  1.018650e+08      2.038119      2.275687   \n",
       "min    2.013060e+06   2012.000000  1.111000e+07      1.000000      0.000000   \n",
       "25%    2.014109e+06   2013.000000  2.623000e+07      3.000000      4.000000   \n",
       "50%    2.016146e+06   2015.000000  4.113500e+07      4.000000      4.000000   \n",
       "75%    2.017050e+06   2016.000000  4.713000e+07      5.000000      6.000000   \n",
       "max    2.019066e+06   2018.000000  5.021040e+08     27.000000     31.000000   \n",
       "\n",
       "               사망자수          중상자수          경상자수          부상자수            위도  \\\n",
       "count  10365.000000  10365.000000  10365.000000  10365.000000  10365.000000   \n",
       "mean       0.234250      2.389194      2.046792      0.348288     36.596723   \n",
       "std        0.508633      1.743488      1.569080      0.706061      1.057973   \n",
       "min        0.000000      0.000000      0.000000      0.000000     33.247238   \n",
       "25%        0.000000      1.000000      1.000000      0.000000     35.830915   \n",
       "50%        0.000000      2.000000      2.000000      0.000000     37.150031   \n",
       "75%        0.000000      3.000000      3.000000      1.000000     37.522943   \n",
       "max        4.000000     22.000000     15.000000      9.000000     38.210994   \n",
       "\n",
       "                 경도  \n",
       "count  10365.000000  \n",
       "mean     127.540724  \n",
       "std        0.856784  \n",
       "min      126.257418  \n",
       "25%      126.913266  \n",
       "50%      127.086867  \n",
       "75%      128.531153  \n",
       "max      129.503616  "
      ]
     },
     "execution_count": 321,
     "metadata": {},
     "output_type": "execute_result"
    }
   ],
   "source": [
    "data.describe()"
   ]
  },
  {
   "cell_type": "code",
   "execution_count": 325,
   "metadata": {},
   "outputs": [],
   "source": [
    "from sklearn import datasets\n",
    "iris = datasets.load_iris()"
   ]
  },
  {
   "cell_type": "code",
   "execution_count": 363,
   "metadata": {
    "scrolled": true
   },
   "outputs": [
    {
     "data": {
      "text/plain": [
       "array([0, 0, 0, 0, 0, 0, 0, 0, 0, 0, 0, 0, 0, 0, 0, 0, 0, 0, 0, 0, 0, 0,\n",
       "       0, 0, 0, 0, 0, 0, 0, 0, 0, 0, 0, 0, 0, 0, 0, 0, 0, 0, 0, 0, 0, 0,\n",
       "       0, 0, 0, 0, 0, 0, 1, 1, 1, 1, 1, 1, 1, 1, 1, 1, 1, 1, 1, 1, 1, 1,\n",
       "       1, 1, 1, 1, 1, 1, 1, 1, 1, 1, 1, 1, 1, 1, 1, 1, 1, 1, 1, 1, 1, 1,\n",
       "       1, 1, 1, 1, 1, 1, 1, 1, 1, 1, 1, 1, 2, 2, 2, 2, 2, 2, 2, 2, 2, 2,\n",
       "       2, 2, 2, 2, 2, 2, 2, 2, 2, 2, 2, 2, 2, 2, 2, 2, 2, 2, 2, 2, 2, 2,\n",
       "       2, 2, 2, 2, 2, 2, 2, 2, 2, 2, 2, 2, 2, 2, 2, 2, 2, 2])"
      ]
     },
     "execution_count": 363,
     "metadata": {},
     "output_type": "execute_result"
    },
    {
     "data": {
      "text/html": [
       "<div>\n",
       "<style scoped>\n",
       "    .dataframe tbody tr th:only-of-type {\n",
       "        vertical-align: middle;\n",
       "    }\n",
       "\n",
       "    .dataframe tbody tr th {\n",
       "        vertical-align: top;\n",
       "    }\n",
       "\n",
       "    .dataframe thead th {\n",
       "        text-align: right;\n",
       "    }\n",
       "</style>\n",
       "<table border=\"1\" class=\"dataframe\">\n",
       "  <thead>\n",
       "    <tr style=\"text-align: right;\">\n",
       "      <th></th>\n",
       "      <th>A</th>\n",
       "      <th>B</th>\n",
       "      <th>C</th>\n",
       "      <th>D</th>\n",
       "      <th>iris</th>\n",
       "    </tr>\n",
       "  </thead>\n",
       "  <tbody>\n",
       "    <tr>\n",
       "      <th>0</th>\n",
       "      <td>5.1</td>\n",
       "      <td>3.5</td>\n",
       "      <td>1.4</td>\n",
       "      <td>0.2</td>\n",
       "      <td>0</td>\n",
       "    </tr>\n",
       "    <tr>\n",
       "      <th>1</th>\n",
       "      <td>4.9</td>\n",
       "      <td>3.0</td>\n",
       "      <td>1.4</td>\n",
       "      <td>0.2</td>\n",
       "      <td>0</td>\n",
       "    </tr>\n",
       "    <tr>\n",
       "      <th>2</th>\n",
       "      <td>4.7</td>\n",
       "      <td>3.2</td>\n",
       "      <td>1.3</td>\n",
       "      <td>0.2</td>\n",
       "      <td>0</td>\n",
       "    </tr>\n",
       "    <tr>\n",
       "      <th>3</th>\n",
       "      <td>4.6</td>\n",
       "      <td>3.1</td>\n",
       "      <td>1.5</td>\n",
       "      <td>0.2</td>\n",
       "      <td>0</td>\n",
       "    </tr>\n",
       "    <tr>\n",
       "      <th>4</th>\n",
       "      <td>5.0</td>\n",
       "      <td>3.6</td>\n",
       "      <td>1.4</td>\n",
       "      <td>0.2</td>\n",
       "      <td>0</td>\n",
       "    </tr>\n",
       "  </tbody>\n",
       "</table>\n",
       "</div>"
      ],
      "text/plain": [
       "     A    B    C    D  iris\n",
       "0  5.1  3.5  1.4  0.2     0\n",
       "1  4.9  3.0  1.4  0.2     0\n",
       "2  4.7  3.2  1.3  0.2     0\n",
       "3  4.6  3.1  1.5  0.2     0\n",
       "4  5.0  3.6  1.4  0.2     0"
      ]
     },
     "execution_count": 363,
     "metadata": {},
     "output_type": "execute_result"
    }
   ],
   "source": [
    "data = pd.DataFrame(iris.data, columns = ['A', 'B', 'C', 'D'])\n",
    "iris.target\n",
    "data['iris'] = pd.Series(iris.target)\n",
    "data.head()"
   ]
  },
  {
   "cell_type": "code",
   "execution_count": 364,
   "metadata": {},
   "outputs": [
    {
     "data": {
      "text/plain": [
       "A       5.843333\n",
       "B       3.057333\n",
       "C       3.758000\n",
       "D       1.199333\n",
       "iris    1.000000\n",
       "dtype: float64"
      ]
     },
     "execution_count": 364,
     "metadata": {},
     "output_type": "execute_result"
    },
    {
     "data": {
      "text/plain": [
       "(5,)"
      ]
     },
     "execution_count": 364,
     "metadata": {},
     "output_type": "execute_result"
    },
    {
     "data": {
      "text/plain": [
       "0    2.04\n",
       "1    1.90\n",
       "2    1.88\n",
       "3    1.88\n",
       "4    2.04\n",
       "dtype: float64"
      ]
     },
     "execution_count": 364,
     "metadata": {},
     "output_type": "execute_result"
    },
    {
     "data": {
      "text/plain": [
       "A       5.843333\n",
       "B       3.057333\n",
       "C       3.758000\n",
       "D       1.199333\n",
       "iris    1.000000\n",
       "dtype: float64"
      ]
     },
     "execution_count": 364,
     "metadata": {},
     "output_type": "execute_result"
    },
    {
     "data": {
      "text/plain": [
       "0    2.04\n",
       "1    1.90\n",
       "2    1.88\n",
       "3    1.88\n",
       "4    2.04\n",
       "dtype: float64"
      ]
     },
     "execution_count": 364,
     "metadata": {},
     "output_type": "execute_result"
    }
   ],
   "source": [
    "data.mean()\n",
    "data.mean().shape\n",
    "data.mean(axis=1).head()\n",
    "data.mean(axis='index')\n",
    "data.mean(axis='columns').head()"
   ]
  },
  {
   "cell_type": "markdown",
   "metadata": {},
   "source": [
    "# 상세정보 확인"
   ]
  },
  {
   "cell_type": "code",
   "execution_count": 369,
   "metadata": {},
   "outputs": [
    {
     "data": {
      "text/plain": [
       "(0    5.1\n",
       " 1    4.9\n",
       " 2    4.7\n",
       " 3    4.6\n",
       " 4    5.0\n",
       " Name: A, dtype: float64, 0    5.1\n",
       " 1    4.9\n",
       " 2    4.7\n",
       " 3    4.6\n",
       " 4    5.0\n",
       " Name: A, dtype: float64)"
      ]
     },
     "execution_count": 369,
     "metadata": {},
     "output_type": "execute_result"
    },
    {
     "data": {
      "text/plain": [
       "2    50\n",
       "1    50\n",
       "0    50\n",
       "Name: iris, dtype: int64"
      ]
     },
     "execution_count": 369,
     "metadata": {},
     "output_type": "execute_result"
    }
   ],
   "source": [
    "data['A'].head(), data.A.head()\n",
    "data.iris.value_counts()"
   ]
  },
  {
   "cell_type": "code",
   "execution_count": 371,
   "metadata": {},
   "outputs": [
    {
     "data": {
      "text/plain": [
       "<matplotlib.axes._subplots.AxesSubplot at 0x13f38243470>"
      ]
     },
     "execution_count": 371,
     "metadata": {},
     "output_type": "execute_result"
    },
    {
     "data": {
      "image/png": "[encoded data removed]",
      "text/plain": [
       "<Figure size 432x288 with 1 Axes>"
      ]
     },
     "metadata": {
      "needs_background": "light"
     },
     "output_type": "display_data"
    }
   ],
   "source": [
    "import matplotlib.pyplot as plt\n",
    "data.iris.plot(kind='hist')"
   ]
  },
  {
   "cell_type": "code",
   "execution_count": 374,
   "metadata": {},
   "outputs": [
    {
     "data": {
      "text/plain": [
       "(150, 6)"
      ]
     },
     "execution_count": 374,
     "metadata": {},
     "output_type": "execute_result"
    },
    {
     "data": {
      "text/plain": [
       "<matplotlib.axes._subplots.AxesSubplot at 0x13f382a3d68>"
      ]
     },
     "execution_count": 374,
     "metadata": {},
     "output_type": "execute_result"
    },
    {
     "data": {
      "image/png": "[encoded data removed]",
      "text/plain": [
       "<Figure size 432x288 with 1 Axes>"
      ]
     },
     "metadata": {
      "needs_background": "light"
     },
     "output_type": "display_data"
    }
   ],
   "source": [
    "data.shape\n",
    "data['rand'] = np.random.rand(150)\n",
    "data.rand.plot(kind='hist')"
   ]
  },
  {
   "cell_type": "code",
   "execution_count": 377,
   "metadata": {},
   "outputs": [
    {
     "data": {
      "text/plain": [
       "<matplotlib.axes._subplots.AxesSubplot at 0x13f38325d68>"
      ]
     },
     "execution_count": 377,
     "metadata": {},
     "output_type": "execute_result"
    },
    {
     "data": {
      "image/png": "[encoded data removed]",
      "text/plain": [
       "<Figure size 432x288 with 1 Axes>"
      ]
     },
     "metadata": {
      "needs_background": "light"
     },
     "output_type": "display_data"
    }
   ],
   "source": [
    "data.rand.plot.hist()"
   ]
  },
  {
   "cell_type": "code",
   "execution_count": 379,
   "metadata": {},
   "outputs": [
    {
     "data": {
      "text/plain": [
       "<matplotlib.axes._subplots.AxesSubplot at 0x13f3842b780>"
      ]
     },
     "execution_count": 379,
     "metadata": {},
     "output_type": "execute_result"
    },
    {
     "data": {
      "image/png": "[encoded data removed]",
      "text/plain": [
       "<Figure size 864x216 with 1 Axes>"
      ]
     },
     "metadata": {
      "needs_background": "light"
     },
     "output_type": "display_data"
    }
   ],
   "source": [
    "data.rand.plot(kind='hist', figsize=(12,3))"
   ]
  },
  {
   "cell_type": "code",
   "execution_count": 391,
   "metadata": {},
   "outputs": [
    {
     "data": {
      "text/plain": [
       "Index(['사고지역관리번호', '사고년도', '사고유형구분', '위치코드', '시도시군구명', '사고지역위치명', '발생건수',\n",
       "       '사상자수', '사망자수', '중상자수', '경상자수', '부상자수', '위도', '경도', '사고다발지역폴리곤정보',\n",
       "       '데이터기준일자'],\n",
       "      dtype='object')"
      ]
     },
     "execution_count": 391,
     "metadata": {},
     "output_type": "execute_result"
    }
   ],
   "source": [
    "data = pd.read_csv('../data/도로교통공단_교통사고다발지역_20191010.csv', sep=',', encoding='euc-kr')\n",
    "data.columns"
   ]
  },
  {
   "cell_type": "code",
   "execution_count": 392,
   "metadata": {},
   "outputs": [
    {
     "data": {
      "text/plain": [
       "<matplotlib.axes._subplots.AxesSubplot at 0x13f3848e9b0>"
      ]
     },
     "execution_count": 392,
     "metadata": {},
     "output_type": "execute_result"
    },
    {
     "data": {
      "image/png": "[encoded data removed]",
      "text/plain": [
       "<Figure size 864x216 with 1 Axes>"
      ]
     },
     "metadata": {
      "needs_background": "light"
     },
     "output_type": "display_data"
    }
   ],
   "source": [
    "data.사망자수.plot(kind='hist', figsize=(12,3))"
   ]
  },
  {
   "cell_type": "code",
   "execution_count": 385,
   "metadata": {},
   "outputs": [
    {
     "data": {
      "text/plain": [
       "Index(['사고지역관리번호', '사고년도', '사고유형구분', '위치코드', '시도시군구명', '사고지역위치명', '발생건수',\n",
       "       '사상자수', '사망자수', '중상자수', '경상자수', '부상자수', '위도', '경도', '사고다발지역폴리곤정보',\n",
       "       '데이터기준일자'],\n",
       "      dtype='object')"
      ]
     },
     "execution_count": 385,
     "metadata": {},
     "output_type": "execute_result"
    },
    {
     "data": {
      "text/plain": [
       "<matplotlib.axes._subplots.AxesSubplot at 0x13f38880cf8>"
      ]
     },
     "execution_count": 385,
     "metadata": {},
     "output_type": "execute_result"
    },
    {
     "data": {
      "image/png": "[encoded data removed]",
      "text/plain": [
       "<Figure size 432x288 with 1 Axes>"
      ]
     },
     "metadata": {},
     "output_type": "display_data"
    }
   ],
   "source": [
    "plt.rcParams['font.family'] = 'Malgun Gothic'\n",
    "data.사망자수.value_counts().plot(kind='pie')"
   ]
  },
  {
   "cell_type": "code",
   "execution_count": 393,
   "metadata": {},
   "outputs": [
    {
     "data": {
      "text/plain": [
       "4"
      ]
     },
     "execution_count": 393,
     "metadata": {},
     "output_type": "execute_result"
    },
    {
     "data": {
      "text/plain": [
       "0"
      ]
     },
     "execution_count": 393,
     "metadata": {},
     "output_type": "execute_result"
    },
    {
     "data": {
      "text/plain": [
       "0.2342498794018331"
      ]
     },
     "execution_count": 393,
     "metadata": {},
     "output_type": "execute_result"
    },
    {
     "data": {
      "text/plain": [
       "0.5086326647501088"
      ]
     },
     "execution_count": 393,
     "metadata": {},
     "output_type": "execute_result"
    },
    {
     "data": {
      "text/plain": [
       "0.25    0.0\n",
       "0.50    0.0\n",
       "0.90    1.0\n",
       "Name: 사망자수, dtype: float64"
      ]
     },
     "execution_count": 393,
     "metadata": {},
     "output_type": "execute_result"
    },
    {
     "data": {
      "text/plain": [
       "0    False\n",
       "1    False\n",
       "2    False\n",
       "3    False\n",
       "4    False\n",
       "Name: 사망자수, dtype: bool"
      ]
     },
     "execution_count": 393,
     "metadata": {},
     "output_type": "execute_result"
    },
    {
     "data": {
      "text/plain": [
       "0"
      ]
     },
     "execution_count": 393,
     "metadata": {},
     "output_type": "execute_result"
    }
   ],
   "source": [
    "data.사망자수.max()\n",
    "data.사망자수.min()\n",
    "data.사망자수.mean()\n",
    "data.사망자수.std()\n",
    "data.사망자수.quantile([0.25, 0.5, 0.90])\n",
    "data.사망자수.isnull().head()\n",
    "data.사망자수.isnull().sum()"
   ]
  },
  {
   "cell_type": "code",
   "execution_count": 398,
   "metadata": {},
   "outputs": [
    {
     "data": {
      "text/plain": [
       "Index(['사고지역관리번호', '사고년도', '사고유형구분', '위치코드', '시도시군구명', '사고지역위치명', '발생건수',\n",
       "       '사상자수', '사망자수', '중상자수', '경상자수', '부상자수', '위도', '경도', '사고다발지역폴리곤정보',\n",
       "       '데이터기준일자'],\n",
       "      dtype='object')"
      ]
     },
     "execution_count": 398,
     "metadata": {},
     "output_type": "execute_result"
    },
    {
     "data": {
      "text/plain": [
       "보행노인      3919\n",
       "자전거       3315\n",
       "무단횡단      2006\n",
       "보행어린이      852\n",
       "스쿨존어린이     273\n",
       "Name: 사고유형구분, dtype: int64"
      ]
     },
     "execution_count": 398,
     "metadata": {},
     "output_type": "execute_result"
    },
    {
     "data": {
      "text/plain": [
       "Index(['보행노인', '자전거', '무단횡단', '보행어린이', '스쿨존어린이'], dtype='object')"
      ]
     },
     "execution_count": 398,
     "metadata": {},
     "output_type": "execute_result"
    }
   ],
   "source": [
    "data.columns\n",
    "data.사고유형구분.value_counts()\n",
    "data.사고유형구분.value_counts().index"
   ]
  },
  {
   "cell_type": "code",
   "execution_count": 404,
   "metadata": {},
   "outputs": [
    {
     "data": {
      "text/plain": [
       "pandas.core.series.Series"
      ]
     },
     "execution_count": 404,
     "metadata": {},
     "output_type": "execute_result"
    },
    {
     "data": {
      "text/plain": [
       "2006"
      ]
     },
     "execution_count": 404,
     "metadata": {},
     "output_type": "execute_result"
    },
    {
     "data": {
      "text/plain": [
       "스쿨존어린이     273\n",
       "보행어린이      852\n",
       "무단횡단      2006\n",
       "자전거       3315\n",
       "보행노인      3919\n",
       "Name: 사고유형구분, dtype: int64"
      ]
     },
     "execution_count": 404,
     "metadata": {},
     "output_type": "execute_result"
    },
    {
     "data": {
      "text/plain": [
       "무단횡단      2006\n",
       "보행노인      3919\n",
       "보행어린이      852\n",
       "스쿨존어린이     273\n",
       "자전거       3315\n",
       "Name: 사고유형구분, dtype: int64"
      ]
     },
     "execution_count": 404,
     "metadata": {},
     "output_type": "execute_result"
    }
   ],
   "source": [
    "type(data.사고유형구분.value_counts())\n",
    "data.사고유형구분.value_counts()['무단횡단']\n",
    "data.사고유형구분.value_counts().sort_values()\n",
    "data.사고유형구분.value_counts().sort_index()"
   ]
  },
  {
   "cell_type": "code",
   "execution_count": 407,
   "metadata": {},
   "outputs": [
    {
     "data": {
      "text/plain": [
       "(10365, 17)"
      ]
     },
     "execution_count": 407,
     "metadata": {},
     "output_type": "execute_result"
    }
   ],
   "source": [
    "data.shape"
   ]
  },
  {
   "cell_type": "code",
   "execution_count": 417,
   "metadata": {
    "scrolled": false
   },
   "outputs": [
    {
     "data": {
      "text/plain": [
       "Index(['사고지역관리번호', '사고년도', '사고유형구분', '위치코드', '시도시군구명', '사고지역위치명', '발생건수',\n",
       "       '사상자수', '사망자수', '중상자수', '경상자수', '부상자수', '위도', '경도', '사고다발지역폴리곤정보',\n",
       "       '데이터기준일자', 'A', 'B'],\n",
       "      dtype='object')"
      ]
     },
     "execution_count": 417,
     "metadata": {},
     "output_type": "execute_result"
    },
    {
     "data": {
      "text/html": [
       "<div>\n",
       "<style scoped>\n",
       "    .dataframe tbody tr th:only-of-type {\n",
       "        vertical-align: middle;\n",
       "    }\n",
       "\n",
       "    .dataframe tbody tr th {\n",
       "        vertical-align: top;\n",
       "    }\n",
       "\n",
       "    .dataframe thead th {\n",
       "        text-align: right;\n",
       "    }\n",
       "</style>\n",
       "<table border=\"1\" class=\"dataframe\">\n",
       "  <thead>\n",
       "    <tr style=\"text-align: right;\">\n",
       "      <th></th>\n",
       "      <th>사고년도</th>\n",
       "      <th>사고유형구분</th>\n",
       "    </tr>\n",
       "  </thead>\n",
       "  <tbody>\n",
       "    <tr>\n",
       "      <th>0</th>\n",
       "      <td>2012</td>\n",
       "      <td>스쿨존어린이</td>\n",
       "    </tr>\n",
       "    <tr>\n",
       "      <th>1</th>\n",
       "      <td>2012</td>\n",
       "      <td>스쿨존어린이</td>\n",
       "    </tr>\n",
       "    <tr>\n",
       "      <th>2</th>\n",
       "      <td>2012</td>\n",
       "      <td>스쿨존어린이</td>\n",
       "    </tr>\n",
       "    <tr>\n",
       "      <th>3</th>\n",
       "      <td>2012</td>\n",
       "      <td>스쿨존어린이</td>\n",
       "    </tr>\n",
       "    <tr>\n",
       "      <th>4</th>\n",
       "      <td>2012</td>\n",
       "      <td>스쿨존어린이</td>\n",
       "    </tr>\n",
       "  </tbody>\n",
       "</table>\n",
       "</div>"
      ],
      "text/plain": [
       "   사고년도  사고유형구분\n",
       "0  2012  스쿨존어린이\n",
       "1  2012  스쿨존어린이\n",
       "2  2012  스쿨존어린이\n",
       "3  2012  스쿨존어린이\n",
       "4  2012  스쿨존어린이"
      ]
     },
     "execution_count": 417,
     "metadata": {},
     "output_type": "execute_result"
    },
    {
     "data": {
      "text/plain": [
       "True     9865\n",
       "False     500\n",
       "Name: B, dtype: int64"
      ]
     },
     "execution_count": 417,
     "metadata": {},
     "output_type": "execute_result"
    },
    {
     "data": {
      "text/plain": [
       "True     9865\n",
       "False     500\n",
       "Name: B, dtype: int64"
      ]
     },
     "execution_count": 417,
     "metadata": {},
     "output_type": "execute_result"
    },
    {
     "data": {
      "text/plain": [
       "0      False\n",
       "341    False\n",
       "340    False\n",
       "339    False\n",
       "338    False\n",
       "Name: B, dtype: bool"
      ]
     },
     "execution_count": 417,
     "metadata": {},
     "output_type": "execute_result"
    },
    {
     "data": {
      "text/plain": [
       "3790     True\n",
       "3791     True\n",
       "3792     True\n",
       "3785     True\n",
       "10364    True\n",
       "Name: B, dtype: bool"
      ]
     },
     "execution_count": 417,
     "metadata": {},
     "output_type": "execute_result"
    }
   ],
   "source": [
    "data.columns\n",
    "data['A'] = 0.5\n",
    "data['A'] = np.arange(10365)\n",
    "data[['사고년도', '사고유형구분']].head()\n",
    "data['B'] = data['A'] >= 500\n",
    "data.B.value_counts()\n",
    "data.B.value_counts(dropna = False)\n",
    "data['B'].sort_values().head()\n",
    "data['B'].sort_values().tail()"
   ]
  },
  {
   "cell_type": "code",
   "execution_count": null,
   "metadata": {},
   "outputs": [],
   "source": []
  },
  {
   "cell_type": "markdown",
   "metadata": {},
   "source": [
    "# End "
   ]
  }
 ],
 "metadata": {
  "kernelspec": {
   "display_name": "Python 3",
   "language": "python",
   "name": "python3"
  },
  "language_info": {
   "codemirror_mode": {
    "name": "ipython",
    "version": 3
   },
   "file_extension": ".py",
   "mimetype": "text/x-python",
   "name": "python",
   "nbconvert_exporter": "python",
   "pygments_lexer": "ipython3",
   "version": "3.7.4"
  }
 },
 "nbformat": 4,
 "nbformat_minor": 2
}
